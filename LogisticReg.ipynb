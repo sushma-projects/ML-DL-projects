{
 "cells": [
  {
   "cell_type": "markdown",
   "metadata": {},
   "source": [
    "# Amazon Fine Food Review Analysis-Applying Logistic Regression\n",
    "Objective:Applying Logistic Regression on all four feature generation techniques like Bow,Tfidf,Average Tfidf-Word2vec and Weighted Tfidf-Word2vec for given problem. Used GridsearchCV and RandomsearchCV to find optimal value. L1 and L2 regularier used for each featurization.Showed Sparcity and Multicollinearity for vectorizers.In order to load the data we have used SQLite dataset as it easier to query the data and visualise the data efficiently. "
   ]
  },
  {
   "cell_type": "code",
   "execution_count": 1,
   "metadata": {},
   "outputs": [
    {
     "data": {
      "text/html": [
       "<div>\n",
       "<style scoped>\n",
       "    .dataframe tbody tr th:only-of-type {\n",
       "        vertical-align: middle;\n",
       "    }\n",
       "\n",
       "    .dataframe tbody tr th {\n",
       "        vertical-align: top;\n",
       "    }\n",
       "\n",
       "    .dataframe thead th {\n",
       "        text-align: right;\n",
       "    }\n",
       "</style>\n",
       "<table border=\"1\" class=\"dataframe\">\n",
       "  <thead>\n",
       "    <tr style=\"text-align: right;\">\n",
       "      <th></th>\n",
       "      <th>Id</th>\n",
       "      <th>ProductId</th>\n",
       "      <th>UserId</th>\n",
       "      <th>ProfileName</th>\n",
       "      <th>HelpfulnessNumerator</th>\n",
       "      <th>HelpfulnessDenominator</th>\n",
       "      <th>Score</th>\n",
       "      <th>Time</th>\n",
       "      <th>Summary</th>\n",
       "      <th>Text</th>\n",
       "    </tr>\n",
       "  </thead>\n",
       "  <tbody>\n",
       "    <tr>\n",
       "      <th>0</th>\n",
       "      <td>1</td>\n",
       "      <td>B001E4KFG0</td>\n",
       "      <td>A3SGXH7AUHU8GW</td>\n",
       "      <td>delmartian</td>\n",
       "      <td>1</td>\n",
       "      <td>1</td>\n",
       "      <td>1</td>\n",
       "      <td>1303862400</td>\n",
       "      <td>Good Quality Dog Food</td>\n",
       "      <td>I have bought several of the Vitality canned d...</td>\n",
       "    </tr>\n",
       "    <tr>\n",
       "      <th>1</th>\n",
       "      <td>2</td>\n",
       "      <td>B00813GRG4</td>\n",
       "      <td>A1D87F6ZCVE5NK</td>\n",
       "      <td>dll pa</td>\n",
       "      <td>0</td>\n",
       "      <td>0</td>\n",
       "      <td>0</td>\n",
       "      <td>1346976000</td>\n",
       "      <td>Not as Advertised</td>\n",
       "      <td>Product arrived labeled as Jumbo Salted Peanut...</td>\n",
       "    </tr>\n",
       "    <tr>\n",
       "      <th>2</th>\n",
       "      <td>3</td>\n",
       "      <td>B000LQOCH0</td>\n",
       "      <td>ABXLMWJIXXAIN</td>\n",
       "      <td>Natalia Corres \"Natalia Corres\"</td>\n",
       "      <td>1</td>\n",
       "      <td>1</td>\n",
       "      <td>1</td>\n",
       "      <td>1219017600</td>\n",
       "      <td>\"Delight\" says it all</td>\n",
       "      <td>This is a confection that has been around a fe...</td>\n",
       "    </tr>\n",
       "  </tbody>\n",
       "</table>\n",
       "</div>"
      ],
      "text/plain": [
       "   Id   ProductId          UserId                      ProfileName  \\\n",
       "0   1  B001E4KFG0  A3SGXH7AUHU8GW                       delmartian   \n",
       "1   2  B00813GRG4  A1D87F6ZCVE5NK                           dll pa   \n",
       "2   3  B000LQOCH0   ABXLMWJIXXAIN  Natalia Corres \"Natalia Corres\"   \n",
       "\n",
       "   HelpfulnessNumerator  HelpfulnessDenominator  Score        Time  \\\n",
       "0                     1                       1      1  1303862400   \n",
       "1                     0                       0      0  1346976000   \n",
       "2                     1                       1      1  1219017600   \n",
       "\n",
       "                 Summary                                               Text  \n",
       "0  Good Quality Dog Food  I have bought several of the Vitality canned d...  \n",
       "1      Not as Advertised  Product arrived labeled as Jumbo Salted Peanut...  \n",
       "2  \"Delight\" says it all  This is a confection that has been around a fe...  "
      ]
     },
     "execution_count": 1,
     "metadata": {},
     "output_type": "execute_result"
    }
   ],
   "source": [
    "%matplotlib inline\n",
    "import sqlite3\n",
    "import pandas as pd\n",
    "import numpy as np\n",
    "import nltk\n",
    "import string\n",
    "import matplotlib.pyplot as plt\n",
    "import seaborn as sns\n",
    "\n",
    "import warnings\n",
    "warnings.filterwarnings(\"ignore\")\n",
    "\n",
    "from sklearn.feature_extraction.text import TfidfTransformer\n",
    "from sklearn.feature_extraction.text import TfidfVectorizer\n",
    "from sklearn.feature_extraction.text import CountVectorizer\n",
    "from sklearn.metrics import confusion_matrix,classification_report,accuracy_score\n",
    "from sklearn import metrics\n",
    "from sklearn.metrics import roc_curve,auc\n",
    "from nltk.stem.porter import PorterStemmer\n",
    "\n",
    "from tqdm import tqdm\n",
    "import os\n",
    "\n",
    "#Using SQLite table to read data\n",
    "con = sqlite3.connect('database.sqlite')\n",
    "\n",
    "#filtering only positive and negative reviews and not taking reviews with score=3\n",
    "filtered_data=pd.read_sql_query(\"\"\" Select * from Reviews Where Score!=3\"\"\",con)\n",
    "\n",
    "#give reviews with score>3 as positive rating and score<3 as negative rating\n",
    "def partition(x):\n",
    "    if x<3:\n",
    "        return 0\n",
    "    return 1\n",
    "actualScore = filtered_data['Score']\n",
    "\n",
    "#changing reviews with score as positve and negative ratings \n",
    "positiveNegative= actualScore.map(partition)\n",
    "filtered_data['Score']= positiveNegative\n",
    "filtered_data.head(3)"
   ]
  },
  {
   "cell_type": "code",
   "execution_count": 2,
   "metadata": {},
   "outputs": [
    {
     "data": {
      "text/plain": [
       "(525814, 10)"
      ]
     },
     "execution_count": 2,
     "metadata": {},
     "output_type": "execute_result"
    }
   ],
   "source": [
    "filtered_data.shape"
   ]
  },
  {
   "cell_type": "code",
   "execution_count": 3,
   "metadata": {},
   "outputs": [
    {
     "data": {
      "text/html": [
       "<div>\n",
       "<style scoped>\n",
       "    .dataframe tbody tr th:only-of-type {\n",
       "        vertical-align: middle;\n",
       "    }\n",
       "\n",
       "    .dataframe tbody tr th {\n",
       "        vertical-align: top;\n",
       "    }\n",
       "\n",
       "    .dataframe thead th {\n",
       "        text-align: right;\n",
       "    }\n",
       "</style>\n",
       "<table border=\"1\" class=\"dataframe\">\n",
       "  <thead>\n",
       "    <tr style=\"text-align: right;\">\n",
       "      <th></th>\n",
       "      <th>Id</th>\n",
       "      <th>ProductId</th>\n",
       "      <th>UserId</th>\n",
       "      <th>ProfileName</th>\n",
       "      <th>HelpfulnessNumerator</th>\n",
       "      <th>HelpfulnessDenominator</th>\n",
       "      <th>Score</th>\n",
       "      <th>Time</th>\n",
       "      <th>Summary</th>\n",
       "      <th>Text</th>\n",
       "    </tr>\n",
       "  </thead>\n",
       "  <tbody>\n",
       "    <tr>\n",
       "      <th>0</th>\n",
       "      <td>78445</td>\n",
       "      <td>B000HDL1RQ</td>\n",
       "      <td>AR5J8UI46CURR</td>\n",
       "      <td>Geetha Krishnan</td>\n",
       "      <td>2</td>\n",
       "      <td>2</td>\n",
       "      <td>5</td>\n",
       "      <td>1199577600</td>\n",
       "      <td>LOACKER QUADRATINI VANILLA WAFERS</td>\n",
       "      <td>DELICIOUS WAFERS. I FIND THAT EUROPEAN WAFERS ...</td>\n",
       "    </tr>\n",
       "    <tr>\n",
       "      <th>1</th>\n",
       "      <td>138317</td>\n",
       "      <td>B000HDOPYC</td>\n",
       "      <td>AR5J8UI46CURR</td>\n",
       "      <td>Geetha Krishnan</td>\n",
       "      <td>2</td>\n",
       "      <td>2</td>\n",
       "      <td>5</td>\n",
       "      <td>1199577600</td>\n",
       "      <td>LOACKER QUADRATINI VANILLA WAFERS</td>\n",
       "      <td>DELICIOUS WAFERS. I FIND THAT EUROPEAN WAFERS ...</td>\n",
       "    </tr>\n",
       "    <tr>\n",
       "      <th>2</th>\n",
       "      <td>138277</td>\n",
       "      <td>B000HDOPYM</td>\n",
       "      <td>AR5J8UI46CURR</td>\n",
       "      <td>Geetha Krishnan</td>\n",
       "      <td>2</td>\n",
       "      <td>2</td>\n",
       "      <td>5</td>\n",
       "      <td>1199577600</td>\n",
       "      <td>LOACKER QUADRATINI VANILLA WAFERS</td>\n",
       "      <td>DELICIOUS WAFERS. I FIND THAT EUROPEAN WAFERS ...</td>\n",
       "    </tr>\n",
       "    <tr>\n",
       "      <th>3</th>\n",
       "      <td>73791</td>\n",
       "      <td>B000HDOPZG</td>\n",
       "      <td>AR5J8UI46CURR</td>\n",
       "      <td>Geetha Krishnan</td>\n",
       "      <td>2</td>\n",
       "      <td>2</td>\n",
       "      <td>5</td>\n",
       "      <td>1199577600</td>\n",
       "      <td>LOACKER QUADRATINI VANILLA WAFERS</td>\n",
       "      <td>DELICIOUS WAFERS. I FIND THAT EUROPEAN WAFERS ...</td>\n",
       "    </tr>\n",
       "    <tr>\n",
       "      <th>4</th>\n",
       "      <td>155049</td>\n",
       "      <td>B000PAQ75C</td>\n",
       "      <td>AR5J8UI46CURR</td>\n",
       "      <td>Geetha Krishnan</td>\n",
       "      <td>2</td>\n",
       "      <td>2</td>\n",
       "      <td>5</td>\n",
       "      <td>1199577600</td>\n",
       "      <td>LOACKER QUADRATINI VANILLA WAFERS</td>\n",
       "      <td>DELICIOUS WAFERS. I FIND THAT EUROPEAN WAFERS ...</td>\n",
       "    </tr>\n",
       "  </tbody>\n",
       "</table>\n",
       "</div>"
      ],
      "text/plain": [
       "       Id   ProductId         UserId      ProfileName  HelpfulnessNumerator  \\\n",
       "0   78445  B000HDL1RQ  AR5J8UI46CURR  Geetha Krishnan                     2   \n",
       "1  138317  B000HDOPYC  AR5J8UI46CURR  Geetha Krishnan                     2   \n",
       "2  138277  B000HDOPYM  AR5J8UI46CURR  Geetha Krishnan                     2   \n",
       "3   73791  B000HDOPZG  AR5J8UI46CURR  Geetha Krishnan                     2   \n",
       "4  155049  B000PAQ75C  AR5J8UI46CURR  Geetha Krishnan                     2   \n",
       "\n",
       "   HelpfulnessDenominator  Score        Time  \\\n",
       "0                       2      5  1199577600   \n",
       "1                       2      5  1199577600   \n",
       "2                       2      5  1199577600   \n",
       "3                       2      5  1199577600   \n",
       "4                       2      5  1199577600   \n",
       "\n",
       "                             Summary  \\\n",
       "0  LOACKER QUADRATINI VANILLA WAFERS   \n",
       "1  LOACKER QUADRATINI VANILLA WAFERS   \n",
       "2  LOACKER QUADRATINI VANILLA WAFERS   \n",
       "3  LOACKER QUADRATINI VANILLA WAFERS   \n",
       "4  LOACKER QUADRATINI VANILLA WAFERS   \n",
       "\n",
       "                                                Text  \n",
       "0  DELICIOUS WAFERS. I FIND THAT EUROPEAN WAFERS ...  \n",
       "1  DELICIOUS WAFERS. I FIND THAT EUROPEAN WAFERS ...  \n",
       "2  DELICIOUS WAFERS. I FIND THAT EUROPEAN WAFERS ...  \n",
       "3  DELICIOUS WAFERS. I FIND THAT EUROPEAN WAFERS ...  \n",
       "4  DELICIOUS WAFERS. I FIND THAT EUROPEAN WAFERS ...  "
      ]
     },
     "execution_count": 3,
     "metadata": {},
     "output_type": "execute_result"
    }
   ],
   "source": [
    "display = pd.read_sql_query(\"\"\"select * from Reviews where Score!=3 and Userid=\"AR5J8UI46CURR\" ORDER BY ProductId\"\"\",con)\n",
    "display"
   ]
  },
  {
   "cell_type": "markdown",
   "metadata": {},
   "source": [
    "As observed that same user has multiple reviews with same values for HelpfulnessNumerator, HelpfulnessDenominator, Score, Time, Summary and Text on doing the analysis."
   ]
  },
  {
   "cell_type": "code",
   "execution_count": 4,
   "metadata": {},
   "outputs": [],
   "source": [
    "#Sorting data according to ProductId in ascending order\n",
    "sortedData=filtered_data.sort_values('ProductId',axis=0,kind=\"quicksort\",ascending=True,inplace=False,na_position='last')"
   ]
  },
  {
   "cell_type": "code",
   "execution_count": 5,
   "metadata": {},
   "outputs": [
    {
     "data": {
      "text/plain": [
       "(364173, 10)"
      ]
     },
     "execution_count": 5,
     "metadata": {},
     "output_type": "execute_result"
    }
   ],
   "source": [
    "#Deduplication of entries\n",
    "final=sortedData.drop_duplicates(subset={\"UserId\",\"ProfileName\",\"Time\",\"Text\"},keep='first',inplace=False)\n",
    "final.shape"
   ]
  },
  {
   "cell_type": "code",
   "execution_count": 6,
   "metadata": {},
   "outputs": [
    {
     "data": {
      "text/plain": [
       "1    307063\n",
       "0     57110\n",
       "Name: Score, dtype: int64"
      ]
     },
     "execution_count": 6,
     "metadata": {},
     "output_type": "execute_result"
    }
   ],
   "source": [
    "final['Score'].value_counts()"
   ]
  },
  {
   "cell_type": "code",
   "execution_count": 7,
   "metadata": {},
   "outputs": [],
   "source": [
    "final=final[final.HelpfulnessNumerator <= final.HelpfulnessDenominator]"
   ]
  },
  {
   "cell_type": "code",
   "execution_count": 8,
   "metadata": {},
   "outputs": [
    {
     "data": {
      "text/html": [
       "<div>\n",
       "<style scoped>\n",
       "    .dataframe tbody tr th:only-of-type {\n",
       "        vertical-align: middle;\n",
       "    }\n",
       "\n",
       "    .dataframe tbody tr th {\n",
       "        vertical-align: top;\n",
       "    }\n",
       "\n",
       "    .dataframe thead th {\n",
       "        text-align: right;\n",
       "    }\n",
       "</style>\n",
       "<table border=\"1\" class=\"dataframe\">\n",
       "  <thead>\n",
       "    <tr style=\"text-align: right;\">\n",
       "      <th></th>\n",
       "      <th>index</th>\n",
       "      <th>Id</th>\n",
       "      <th>ProductId</th>\n",
       "      <th>UserId</th>\n",
       "      <th>ProfileName</th>\n",
       "      <th>HelpfulnessNumerator</th>\n",
       "      <th>HelpfulnessDenominator</th>\n",
       "      <th>Score</th>\n",
       "      <th>Time</th>\n",
       "      <th>Summary</th>\n",
       "      <th>Text</th>\n",
       "    </tr>\n",
       "  </thead>\n",
       "  <tbody>\n",
       "    <tr>\n",
       "      <th>0</th>\n",
       "      <td>138706</td>\n",
       "      <td>150524</td>\n",
       "      <td>0006641040</td>\n",
       "      <td>ACITT7DI6IDDL</td>\n",
       "      <td>shari zychinski</td>\n",
       "      <td>0</td>\n",
       "      <td>0</td>\n",
       "      <td>1</td>\n",
       "      <td>939340800</td>\n",
       "      <td>EVERY book is educational</td>\n",
       "      <td>this witty little book makes my son laugh at l...</td>\n",
       "    </tr>\n",
       "    <tr>\n",
       "      <th>1</th>\n",
       "      <td>138683</td>\n",
       "      <td>150501</td>\n",
       "      <td>0006641040</td>\n",
       "      <td>AJ46FKXOVC7NR</td>\n",
       "      <td>Nicholas A Mesiano</td>\n",
       "      <td>2</td>\n",
       "      <td>2</td>\n",
       "      <td>1</td>\n",
       "      <td>940809600</td>\n",
       "      <td>This whole series is great way to spend time w...</td>\n",
       "      <td>I can remember seeing the show when it aired o...</td>\n",
       "    </tr>\n",
       "    <tr>\n",
       "      <th>2</th>\n",
       "      <td>417839</td>\n",
       "      <td>451856</td>\n",
       "      <td>B00004CXX9</td>\n",
       "      <td>AIUWLEQ1ADEG5</td>\n",
       "      <td>Elizabeth Medina</td>\n",
       "      <td>0</td>\n",
       "      <td>0</td>\n",
       "      <td>1</td>\n",
       "      <td>944092800</td>\n",
       "      <td>Entertainingl Funny!</td>\n",
       "      <td>Beetlejuice is a well written movie ..... ever...</td>\n",
       "    </tr>\n",
       "    <tr>\n",
       "      <th>3</th>\n",
       "      <td>346055</td>\n",
       "      <td>374359</td>\n",
       "      <td>B00004CI84</td>\n",
       "      <td>A344SMIA5JECGM</td>\n",
       "      <td>Vincent P. Ross</td>\n",
       "      <td>1</td>\n",
       "      <td>2</td>\n",
       "      <td>1</td>\n",
       "      <td>944438400</td>\n",
       "      <td>A modern day fairy tale</td>\n",
       "      <td>A twist of rumplestiskin captured on film, sta...</td>\n",
       "    </tr>\n",
       "    <tr>\n",
       "      <th>4</th>\n",
       "      <td>417838</td>\n",
       "      <td>451855</td>\n",
       "      <td>B00004CXX9</td>\n",
       "      <td>AJH6LUC1UT1ON</td>\n",
       "      <td>The Phantom of the Opera</td>\n",
       "      <td>0</td>\n",
       "      <td>0</td>\n",
       "      <td>1</td>\n",
       "      <td>946857600</td>\n",
       "      <td>FANTASTIC!</td>\n",
       "      <td>Beetlejuice is an excellent and funny movie. K...</td>\n",
       "    </tr>\n",
       "  </tbody>\n",
       "</table>\n",
       "</div>"
      ],
      "text/plain": [
       "    index      Id   ProductId          UserId               ProfileName  \\\n",
       "0  138706  150524  0006641040   ACITT7DI6IDDL           shari zychinski   \n",
       "1  138683  150501  0006641040   AJ46FKXOVC7NR        Nicholas A Mesiano   \n",
       "2  417839  451856  B00004CXX9   AIUWLEQ1ADEG5          Elizabeth Medina   \n",
       "3  346055  374359  B00004CI84  A344SMIA5JECGM           Vincent P. Ross   \n",
       "4  417838  451855  B00004CXX9   AJH6LUC1UT1ON  The Phantom of the Opera   \n",
       "\n",
       "   HelpfulnessNumerator  HelpfulnessDenominator  Score       Time  \\\n",
       "0                     0                       0      1  939340800   \n",
       "1                     2                       2      1  940809600   \n",
       "2                     0                       0      1  944092800   \n",
       "3                     1                       2      1  944438400   \n",
       "4                     0                       0      1  946857600   \n",
       "\n",
       "                                             Summary  \\\n",
       "0                          EVERY book is educational   \n",
       "1  This whole series is great way to spend time w...   \n",
       "2                               Entertainingl Funny!   \n",
       "3                            A modern day fairy tale   \n",
       "4                                         FANTASTIC!   \n",
       "\n",
       "                                                Text  \n",
       "0  this witty little book makes my son laugh at l...  \n",
       "1  I can remember seeing the show when it aired o...  \n",
       "2  Beetlejuice is a well written movie ..... ever...  \n",
       "3  A twist of rumplestiskin captured on film, sta...  \n",
       "4  Beetlejuice is an excellent and funny movie. K...  "
      ]
     },
     "execution_count": 8,
     "metadata": {},
     "output_type": "execute_result"
    }
   ],
   "source": [
    "#sorting data by timestamp for time based slicing.\n",
    "final = final.sort_values('Time',axis =0, ascending = True, inplace = False, kind=\"quicksort\", na_position = 'last')\n",
    "final = final.reset_index()\n",
    "final.head()"
   ]
  },
  {
   "cell_type": "code",
   "execution_count": 9,
   "metadata": {},
   "outputs": [],
   "source": [
    "final_100k = final.head(100000)"
   ]
  },
  {
   "cell_type": "code",
   "execution_count": 10,
   "metadata": {},
   "outputs": [
    {
     "data": {
      "text/plain": [
       "1    87729\n",
       "0    12271\n",
       "Name: Score, dtype: int64"
      ]
     },
     "execution_count": 10,
     "metadata": {},
     "output_type": "execute_result"
    }
   ],
   "source": [
    "final_100k['Score'].value_counts()"
   ]
  },
  {
   "cell_type": "markdown",
   "metadata": {},
   "source": [
    "# Text Preprocessing:Stemming,Stop-words removal and Lemmatization\n",
    "1.Begin by removing html tags 2.Remove any punctuations or set of any special characters 3.Check if the word is made up of english letters and is not alpha-numeric 4.Convert the word to lowercase 5.Remove Stopwords 6.Finally snowball stemming the word"
   ]
  },
  {
   "cell_type": "code",
   "execution_count": 11,
   "metadata": {},
   "outputs": [
    {
     "name": "stdout",
     "output_type": "stream",
     "text": [
      "{'do', 'but', 'of', 'under', 'an', \"mightn't\", \"you'll\", 'll', 'themselves', 'ours', \"that'll\", 'down', 'ma', 've', 'if', 'shan', \"you've\", 'up', 'own', 'the', \"wouldn't\", 'few', \"mustn't\", \"you'd\", 'yourselves', 'each', 'for', \"you're\", 'who', 'very', \"haven't\", 'herself', 'ourselves', \"don't\", 'being', 'by', 'had', 'our', 'o', 'with', 'these', 'all', 'won', 'myself', 'between', 'only', 'and', \"should've\", 'whom', 'he', 'didn', 'be', 'm', 'during', 'my', 'theirs', 'most', 'any', 'further', 'then', \"it's\", 'does', 'are', 'should', 'too', 'been', 'or', 'wasn', 'can', 'wouldn', 'because', 'once', 'as', 'was', 'its', \"shouldn't\", 'her', 'it', 'having', 'when', 's', \"isn't\", 'itself', 'don', 'doesn', 'him', 'which', 'from', \"didn't\", \"shan't\", 'hasn', 'against', 'a', 'where', 'yourself', 'yours', 'haven', \"weren't\", 'their', 'ain', \"needn't\", 'more', 'just', 'this', 'such', 'will', \"aren't\", 'both', 'on', 'now', 'mightn', 'doing', 'in', 'your', 'hers', 'nor', 'to', 'has', 'other', \"hadn't\", 'his', 'about', 'you', 'there', 'why', 'them', 't', 'into', 'me', 'she', 'd', 'that', 'we', \"hasn't\", 'shouldn', 'were', \"couldn't\", 'they', 'at', 'hadn', 'what', 'over', 'here', 'same', \"she's\", 'y', 'is', \"doesn't\", 'out', 'some', 'above', 'through', 'again', 're', \"won't\", 'did', 'am', 'how', 'have', 'no', 'himself', 'so', 'not', 'until', 'i', 'couldn', 'after', 'needn', 'below', 'those', 'than', 'isn', 'weren', 'aren', \"wasn't\", 'before', 'while', 'mustn', 'off'}\n",
      "*******************************************\n",
      "tasti\n"
     ]
    }
   ],
   "source": [
    "import re as standardre\n",
    "import string\n",
    "from nltk.corpus import stopwords\n",
    "from nltk.stem import PorterStemmer\n",
    "from nltk.stem.wordnet import WordNetLemmatizer\n",
    "stop= set(stopwords.words('english'))#set of stopwords\n",
    "sno=nltk.stem.SnowballStemmer('english')#initializing the snowball stemmer\n",
    "def cleanhtml(sentence):#function to clean the word of any html tag\n",
    "    cleanr=standardre.compile('<.*?>')\n",
    "    cleantext=standardre.sub(cleanr,' ',sentence)\n",
    "    return cleantext\n",
    "def cleanpunc(sentence):#function to clean any punctuation or special characters\n",
    "    cleaned=standardre.sub(r'[?|!|\\'|\"|#]',r'',sentence)\n",
    "    cleaned=standardre.sub(r'[.|,|)|(|\\|/]',r' ',cleaned)\n",
    "    return cleaned\n",
    "print(stop)\n",
    "print('*******************************************')\n",
    "print(sno.stem('tasty'))"
   ]
  },
  {
   "cell_type": "code",
   "execution_count": 12,
   "metadata": {},
   "outputs": [
    {
     "name": "stderr",
     "output_type": "stream",
     "text": [
      "100%|█████████████████████████████████| 100000/100000 [04:03<00:00, 410.58it/s]\n"
     ]
    }
   ],
   "source": [
    "from tqdm import tqdm\n",
    "#code for implementing step-by-step the checks mentioned the pre-processing phase\n",
    "str1=' '\n",
    "final_string=[]\n",
    "all_positive_words=[] # store words from +ve reviews here\\n\",\n",
    "all_negative_words=[] # store words from -ve reviews here.\\n\",\n",
    "s=''\n",
    "for i,sent in enumerate(tqdm(final_100k['Text'].values)):\n",
    "    filtered_sentence=[]\n",
    "    #print(sent);\\n\",\n",
    "    sent=cleanhtml(sent) # remove HTMl tags\\n\",\n",
    "    for w in sent.split():\n",
    "          for cleaned_words in cleanpunc(w).split():\n",
    "                if((cleaned_words.isalpha()) & (len(cleaned_words)>2)):    \n",
    "                    if(cleaned_words.lower() not in stop):\n",
    "                        s=(sno.stem(cleaned_words.lower())).encode('utf8')\n",
    "                        filtered_sentence.append(s)\n",
    "                        if (final['Score'].values)[i] == 1: \n",
    "                            all_positive_words.append(s) #list of all words used to describe positive reviews\\n\",\n",
    "                        if(final['Score'].values)[i] == 0:\n",
    "                            all_negative_words.append(s) #list of all words used to describe negative reviews reviews\\n\",\n",
    "    #print(filtered_sentence)\\n\",\n",
    "    str1 = b\" \".join(filtered_sentence) #final string of cleaned words\n",
    "    #print(\\\"***********************************************************************\\\")\\n\",\n",
    "    final_string.append(str1)\n",
    "    \n",
    "final_100k['CleanedText']=final_string #final string of cleaned words storing in a column of cleanedtext\n",
    "final_100k['CleanedText']=final_100k['CleanedText'].str.decode(\"utf-8\")"
   ]
  },
  {
   "cell_type": "code",
   "execution_count": 13,
   "metadata": {},
   "outputs": [
    {
     "name": "stdout",
     "output_type": "stream",
     "text": [
      "Most common positive words: [(b'like', 36906), (b'tast', 35305), (b'good', 30952), (b'flavor', 29987), (b'tea', 29849), (b'great', 29549), (b'love', 28267), (b'use', 27551), (b'one', 26049), (b'product', 24778), (b'tri', 23351), (b'make', 21455), (b'get', 18747), (b'coffe', 17729), (b'food', 14715), (b'best', 14690), (b'time', 14674), (b'eat', 14533), (b'buy', 14211), (b'amazon', 14071)]\n",
      "Most common negative words: [(b'tast', 7223), (b'like', 6590), (b'product', 5935), (b'one', 4429), (b'flavor', 4081), (b'tri', 3696), (b'would', 3646), (b'good', 3265), (b'use', 3054), (b'tea', 2861), (b'buy', 2778), (b'order', 2760), (b'get', 2728), (b'coffe', 2533), (b'dont', 2414), (b'food', 2339), (b'even', 2235), (b'box', 2208), (b'make', 2146), (b'amazon', 2114)]\n"
     ]
    }
   ],
   "source": [
    "#Finding most frequently occuring Positive and Negative words\n",
    "freq_dist_positive=nltk.FreqDist(all_positive_words)\n",
    "freq_dist_negative=nltk.FreqDist(all_negative_words)\n",
    "print(\"Most common positive words:\",freq_dist_positive.most_common(20))\n",
    "print(\"Most common negative words:\",freq_dist_negative.most_common(20))"
   ]
  },
  {
   "cell_type": "code",
   "execution_count": 14,
   "metadata": {},
   "outputs": [
    {
     "data": {
      "text/plain": [
       "(100000, 12)"
      ]
     },
     "execution_count": 14,
     "metadata": {},
     "output_type": "execute_result"
    }
   ],
   "source": [
    "final_100k.shape"
   ]
  },
  {
   "cell_type": "code",
   "execution_count": 15,
   "metadata": {},
   "outputs": [
    {
     "name": "stdout",
     "output_type": "stream",
     "text": [
      "shape of X: (100000,)\n",
      "shape of y: (100000,)\n"
     ]
    }
   ],
   "source": [
    "from sklearn.cross_validation import train_test_split\n",
    "from sklearn.metrics import accuracy_score\n",
    "from sklearn.cross_validation import cross_val_score\n",
    "from collections import Counter\n",
    "from sklearn import cross_validation\n",
    "from sklearn.model_selection import train_test_split\n",
    "\n",
    "X = final_100k['CleanedText']\n",
    "print(\"shape of X:\",X.shape)\n",
    "y = final_100k['Score']\n",
    "print(\"shape of y:\",y.shape)"
   ]
  },
  {
   "cell_type": "code",
   "execution_count": 16,
   "metadata": {},
   "outputs": [],
   "source": [
    "#splitting data into train and test where 80% data used for train and 20% for test model\n",
    "X_train, X_test, y_train, y_test = train_test_split(X,y,test_size=0.2,random_state=0)"
   ]
  },
  {
   "cell_type": "markdown",
   "metadata": {},
   "source": [
    "# Feature generation techniques to convert text to vector\n",
    "Bag Of Words"
   ]
  },
  {
   "cell_type": "code",
   "execution_count": 17,
   "metadata": {},
   "outputs": [
    {
     "name": "stdout",
     "output_type": "stream",
     "text": [
      "the type of count vectorizer <class 'scipy.sparse.csr.csr_matrix'>\n",
      "the shape of X_train BOW vectorizer (80000, 33490)\n",
      "the number of unique words 33490\n"
     ]
    }
   ],
   "source": [
    "#generating BOW vector matrix for X_train text reviews\n",
    "count_vect=CountVectorizer()\n",
    "X_train_bow = count_vect.fit_transform(X_train)\n",
    "print(\"the type of count vectorizer\",type(X_train_bow))\n",
    "print(\"the shape of X_train BOW vectorizer\",X_train_bow.get_shape())\n",
    "print(\"the number of unique words\",X_train_bow.get_shape()[1])"
   ]
  },
  {
   "cell_type": "code",
   "execution_count": 18,
   "metadata": {},
   "outputs": [
    {
     "name": "stdout",
     "output_type": "stream",
     "text": [
      "the type of count vectorizer <class 'scipy.sparse.csr.csr_matrix'>\n",
      "the shape of X_test BOW vectorizer (20000, 33490)\n",
      "the number of unique words 33490\n"
     ]
    }
   ],
   "source": [
    "X_test_bow = count_vect.transform(X_test)\n",
    "print(\"the type of count vectorizer\",type(X_test_bow))\n",
    "print(\"the shape of X_test BOW vectorizer\",X_test_bow.get_shape())\n",
    "print(\"the number of unique words\",X_test_bow.get_shape()[1])"
   ]
  },
  {
   "cell_type": "code",
   "execution_count": 19,
   "metadata": {},
   "outputs": [
    {
     "data": {
      "text/plain": [
       "<1x33490 sparse matrix of type '<class 'numpy.int64'>'\n",
       "\twith 21 stored elements in Compressed Sparse Row format>"
      ]
     },
     "execution_count": 19,
     "metadata": {},
     "output_type": "execute_result"
    }
   ],
   "source": [
    "X_train_bow[2]"
   ]
  },
  {
   "cell_type": "code",
   "execution_count": 20,
   "metadata": {},
   "outputs": [
    {
     "name": "stdout",
     "output_type": "stream",
     "text": [
      "the shape of standard X_train BOW vectorizer (80000, 33490)\n"
     ]
    }
   ],
   "source": [
    "#Data Preprocessing -> Column Standardization of data\n",
    "from sklearn import preprocessing\n",
    "#stand_data = preprocessing.StandardScaler(with_mean=False)\n",
    "#X_train_bow   = stand_data.fit_transform(X_train_bow)\n",
    "X_train_bow = preprocessing.normalize(X_train_bow)\n",
    "print(\"the shape of standard X_train BOW vectorizer\",X_train_bow.get_shape())"
   ]
  },
  {
   "cell_type": "code",
   "execution_count": 21,
   "metadata": {},
   "outputs": [
    {
     "name": "stdout",
     "output_type": "stream",
     "text": [
      "the shape of standard X_test BOW vectorizer (20000, 33490)\n"
     ]
    }
   ],
   "source": [
    "X_test_bow   = preprocessing.normalize(X_test_bow)\n",
    "#X_test_bow   = stand_data.fit_transform(X_test_bow)\n",
    "print(\"the shape of standard X_test BOW vectorizer\",X_test_bow.get_shape())"
   ]
  },
  {
   "cell_type": "markdown",
   "metadata": {},
   "source": [
    "As Observed that Column Normalization taking less time for processing rather than Column Standardization"
   ]
  },
  {
   "cell_type": "code",
   "execution_count": 22,
   "metadata": {},
   "outputs": [
    {
     "name": "stdout",
     "output_type": "stream",
     "text": [
      "train shape and cv shape (13335, 33490) (13333, 33490)\n",
      "train shape and cv shape (26668, 33490) (13333, 33490)\n",
      "train shape and cv shape (40001, 33490) (13333, 33490)\n",
      "train shape and cv shape (53334, 33490) (13333, 33490)\n",
      "train shape and cv shape (66667, 33490) (13333, 33490)\n"
     ]
    }
   ],
   "source": [
    "#To show how Time series splits the data\n",
    "from sklearn.model_selection import TimeSeriesSplit\n",
    "tscv = TimeSeriesSplit(n_splits=5)\n",
    "for train,cv in tscv.split(X_train_bow):\n",
    "    print(\"train shape and cv shape\",X_train_bow[train].shape,X_train_bow[cv].shape)\n"
   ]
  },
  {
   "cell_type": "markdown",
   "metadata": {},
   "source": [
    "# Finding Optimal lambda using GridSearchCV and RandomSearchCV\n",
    "L1,L2 regularizers using time series CV"
   ]
  },
  {
   "cell_type": "code",
   "execution_count": 23,
   "metadata": {},
   "outputs": [
    {
     "name": "stdout",
     "output_type": "stream",
     "text": [
      "Fitting 5 folds for each of 30 candidates, totalling 150 fits\n"
     ]
    },
    {
     "name": "stderr",
     "output_type": "stream",
     "text": [
      "[Parallel(n_jobs=1)]: Done 150 out of 150 | elapsed:  8.6min finished\n"
     ]
    },
    {
     "name": "stdout",
     "output_type": "stream",
     "text": [
      "Best Hyper parameter: {'C': 50, 'penalty': 'l2'}\n",
      "Best accuracy score: 93.90179359012055\n",
      "Wall time: 8min 51s\n"
     ]
    }
   ],
   "source": [
    "%%time\n",
    "#Importing logistic regression gridsearch and randomsearch\n",
    "from sklearn.model_selection import GridSearchCV, RandomizedSearchCV\n",
    "from sklearn.linear_model import LogisticRegression\n",
    "\n",
    "#logreg1 = LogisticRegression(penalty='l1')\n",
    "#logreg2 = LogisticRegression(penalty='l2')\n",
    "logreg1 = LogisticRegression(class_weight='balanced')\n",
    "#parameters we need to try on classifier\n",
    "param_grid = {'C':[1000,500,100,50,10,5,1,0.5,0.1,0.05,0.01,0.005,0.001,0.0005,0.0001], 'penalty':['l1','l2']}\n",
    "#For time based splitting\n",
    "tscv = TimeSeriesSplit(n_splits=5)\n",
    "#performing grid search with l1 regularizer\n",
    "model1 = GridSearchCV(logreg1,param_grid,cv=tscv,scoring='f1',verbose=1)\n",
    "model1.fit(X_train_bow,y_train)\n",
    "#Using grid search to find optimal C or 1/lambda\n",
    "print(\"Best Hyper parameter:\", model1.best_params_)\n",
    "print(\"Best accuracy score:\" ,(model1.score(X_test_bow,y_test)*100))"
   ]
  },
  {
   "cell_type": "markdown",
   "metadata": {},
   "source": [
    "Best Hyper Parameter C=50 and penalty=L2"
   ]
  },
  {
   "cell_type": "code",
   "execution_count": 24,
   "metadata": {},
   "outputs": [
    {
     "name": "stdout",
     "output_type": "stream",
     "text": [
      "Accuracy on test data: 92.75\n",
      "Precision on test data: 94.76495132127955\n",
      "Recall on test data: 97.09855782933364\n",
      "F1-score on test data: 95.91756292584041\n",
      "Non zero weights: 33490\n",
      "Confusion Matrix of test data:\n",
      "\n"
     ]
    },
    {
     "data": {
      "text/plain": [
       "<matplotlib.axes._subplots.AxesSubplot at 0x8e22570128>"
      ]
     },
     "execution_count": 24,
     "metadata": {},
     "output_type": "execute_result"
    },
    {
     "data": {
      "image/png": "[encoded data removed]",
      "text/plain": [
       "<Figure size 432x288 with 2 Axes>"
      ]
     },
     "metadata": {},
     "output_type": "display_data"
    }
   ],
   "source": [
    "from sklearn.metrics import precision_score\n",
    "from sklearn.metrics import recall_score\n",
    "from sklearn.metrics import f1_score\n",
    "#Testing accuracy on test data\n",
    "logreg =LogisticRegression(C = 50, penalty = 'l2')\n",
    "logreg.fit(X_train_bow,y_train)\n",
    "y_pred = logreg.predict(X_test_bow)\n",
    "print(\"Accuracy on test data:\",(accuracy_score(y_test,y_pred)*100))\n",
    "print(\"Precision on test data:\",(precision_score(y_test,y_pred)*100))\n",
    "print(\"Recall on test data:\",(recall_score(y_test,y_pred)*100))\n",
    "print(\"F1-score on test data:\",(f1_score(y_test,y_pred)*100))\n",
    "print(\"Non zero weights:\" ,np.count_nonzero(logreg.coef_))\n",
    "print(\"Confusion Matrix of test data:\\n\")\n",
    "df_cm = pd.DataFrame(confusion_matrix(y_test,y_pred),range(2),range(2))\n",
    "sns.set(font_scale=1.4)#for label size\n",
    "sns.heatmap(df_cm, annot=True,annot_kws={\"size\":16},fmt='g')"
   ]
  },
  {
   "cell_type": "code",
   "execution_count": 25,
   "metadata": {},
   "outputs": [
    {
     "name": "stdout",
     "output_type": "stream",
     "text": [
      "AUC 0.7939990976529767\n"
     ]
    }
   ],
   "source": [
    "#ROC Score\n",
    "from sklearn.metrics import roc_auc_score\n",
    "y_pred = logreg.predict(X_test_bow)\n",
    "print(\"AUC\" ,roc_auc_score(y_test, y_pred))\n"
   ]
  },
  {
   "cell_type": "markdown",
   "metadata": {},
   "source": [
    "So l1 regularization is often used in LR when we want sparsity.Showing how sparsity increases as we increase lambda or decrease C when L1 regularizer is used"
   ]
  },
  {
   "cell_type": "code",
   "execution_count": 26,
   "metadata": {},
   "outputs": [
    {
     "name": "stdout",
     "output_type": "stream",
     "text": [
      "Accuracy on test data: 89.225\n",
      "Precision on test data: 94.13721890775585\n",
      "Recall on test data: 93.54158353759334\n",
      "F1-score on test data: 93.83845604002859\n",
      "Non zero weights: 14387\n"
     ]
    }
   ],
   "source": [
    "logreg =LogisticRegression(C = 1000 , penalty = 'l1')\n",
    "logreg.fit(X_train_bow,y_train)\n",
    "y_pred = logreg.predict(X_test_bow)\n",
    "print(\"Accuracy on test data:\" ,(accuracy_score(y_test,y_pred)*100))\n",
    "print(\"Precision on test data:\" ,(precision_score(y_test,y_pred)*100))\n",
    "print(\"Recall on test data:\" ,(recall_score(y_test,y_pred)*100))\n",
    "print(\"F1-score on test data:\" ,(f1_score(y_test,y_pred)*100))\n",
    "print(\"Non zero weights:\" ,np.count_nonzero(logreg.coef_))"
   ]
  },
  {
   "cell_type": "code",
   "execution_count": 27,
   "metadata": {},
   "outputs": [
    {
     "name": "stdout",
     "output_type": "stream",
     "text": [
      "Accuracy on test data: 90.975\n",
      "Precision on test data: 94.61390180292551\n",
      "Recall on test data: 95.12626118679816\n",
      "F1-score on test data: 94.86938972740968\n",
      "Non zero weights: 11168\n"
     ]
    }
   ],
   "source": [
    "logreg =LogisticRegression(C = 100 , penalty = 'l1')\n",
    "logreg.fit(X_train_bow,y_train)\n",
    "y_pred = logreg.predict(X_test_bow)\n",
    "print(\"Accuracy on test data:\" ,(accuracy_score(y_test,y_pred)*100))\n",
    "print(\"Precision on test data:\" ,(precision_score(y_test,y_pred)*100))\n",
    "print(\"Recall on test data:\" ,(recall_score(y_test,y_pred)*100))\n",
    "print(\"F1-score on test data:\" ,(f1_score(y_test,y_pred)*100))\n",
    "print(\"Non zero weights:\" ,np.count_nonzero(logreg.coef_))"
   ]
  },
  {
   "cell_type": "code",
   "execution_count": 28,
   "metadata": {},
   "outputs": [
    {
     "name": "stdout",
     "output_type": "stream",
     "text": [
      "Accuracy on test data: 92.86\n",
      "Precision on test data: 94.86108791269973\n",
      "Recall on test data: 97.12135894658839\n",
      "F1-score on test data: 95.97791798107255\n",
      "Non zero weights: 5475\n"
     ]
    }
   ],
   "source": [
    "logreg =LogisticRegression(C = 10 , penalty = 'l1')\n",
    "logreg.fit(X_train_bow,y_train)\n",
    "y_pred = logreg.predict(X_test_bow)\n",
    "print(\"Accuracy on test data:\" ,(accuracy_score(y_test,y_pred)*100))\n",
    "print(\"Precision on test data:\" ,(precision_score(y_test,y_pred)*100))\n",
    "print(\"Recall on test data:\" ,(recall_score(y_test,y_pred)*100))\n",
    "print(\"F1-score on test data:\" ,(f1_score(y_test,y_pred)*100))\n",
    "print(\"Non zero weights:\" ,np.count_nonzero(logreg.coef_))"
   ]
  },
  {
   "cell_type": "code",
   "execution_count": 29,
   "metadata": {},
   "outputs": [
    {
     "name": "stdout",
     "output_type": "stream",
     "text": [
      "Accuracy on test data: 92.67\n",
      "Precision on test data: 94.02968724324916\n",
      "Recall on test data: 97.85669497805392\n",
      "F1-score on test data: 95.90502793296089\n",
      "Non zero weights: 1084\n"
     ]
    }
   ],
   "source": [
    "logreg =LogisticRegression(C = 1 , penalty = 'l1')\n",
    "logreg.fit(X_train_bow,y_train)\n",
    "y_pred = logreg.predict(X_test_bow)\n",
    "print(\"Accuracy on test data:\" ,(accuracy_score(y_test,y_pred)*100))\n",
    "print(\"Precision on test data:\" ,(precision_score(y_test,y_pred)*100))\n",
    "print(\"Recall on test data:\" ,(recall_score(y_test,y_pred)*100))\n",
    "print(\"F1-score on test data:\" ,(f1_score(y_test,y_pred)*100))\n",
    "print(\"Non zero weights:\" ,np.count_nonzero(logreg.coef_))"
   ]
  },
  {
   "cell_type": "code",
   "execution_count": 30,
   "metadata": {},
   "outputs": [
    {
     "name": "stdout",
     "output_type": "stream",
     "text": [
      "Accuracy on test data: 90.685\n",
      "Precision on test data: 91.07722938279366\n",
      "Recall on test data: 99.08795530981018\n",
      "F1-score on test data: 94.91386606240958\n",
      "Non zero weights: 212\n"
     ]
    }
   ],
   "source": [
    "logreg =LogisticRegression(C = 0.1 , penalty = 'l1')\n",
    "logreg.fit(X_train_bow,y_train)\n",
    "y_pred = logreg.predict(X_test_bow)\n",
    "print(\"Accuracy on test data:\" ,(accuracy_score(y_test,y_pred)*100))\n",
    "print(\"Precision on test data:\" ,(precision_score(y_test,y_pred)*100))\n",
    "print(\"Recall on test data:\" ,(recall_score(y_test,y_pred)*100))\n",
    "print(\"F1-score on test data:\" ,(f1_score(y_test,y_pred)*100))\n",
    "print(\"Non zero weights:\" ,np.count_nonzero(logreg.coef_))"
   ]
  },
  {
   "cell_type": "code",
   "execution_count": 31,
   "metadata": {},
   "outputs": [
    {
     "name": "stdout",
     "output_type": "stream",
     "text": [
      "Accuracy on test data: 87.715\n",
      "Precision on test data: 87.715\n",
      "Recall on test data: 100.0\n",
      "F1-score on test data: 93.45550435500627\n",
      "Non zero weights: 13\n"
     ]
    }
   ],
   "source": [
    "logreg =LogisticRegression(C = 0.01 , penalty = 'l1')\n",
    "logreg.fit(X_train_bow,y_train)\n",
    "y_pred = logreg.predict(X_test_bow)\n",
    "print(\"Accuracy on test data:\" ,(accuracy_score(y_test,y_pred)*100))\n",
    "print(\"Precision on test data:\" ,(precision_score(y_test,y_pred)*100))\n",
    "print(\"Recall on test data:\" ,(recall_score(y_test,y_pred)*100))\n",
    "print(\"F1-score on test data:\" ,(f1_score(y_test,y_pred)*100))\n",
    "print(\"Non zero weights:\" ,np.count_nonzero(logreg.coef_))"
   ]
  },
  {
   "cell_type": "markdown",
   "metadata": {},
   "source": [
    "We can see how  drastically the sparsity decreases or the number of non-zero weights increases from 14435(@ C=1000) to  13 non-zero weights(@ C=0.01) when we use L2 Regularization "
   ]
  },
  {
   "cell_type": "markdown",
   "metadata": {},
   "source": [
    "Checking sparsity with differernt values of lambda or C using L1 regularization"
   ]
  },
  {
   "cell_type": "code",
   "execution_count": 32,
   "metadata": {},
   "outputs": [
    {
     "data": {
      "text/plain": [
       "(99,)"
      ]
     },
     "execution_count": 32,
     "metadata": {},
     "output_type": "execute_result"
    }
   ],
   "source": [
    "c_sparse = np.arange(0,50,0.5)\n",
    "c_sparse = c_sparse[1:]\n",
    "c_sparse.shape"
   ]
  },
  {
   "cell_type": "code",
   "execution_count": 33,
   "metadata": {},
   "outputs": [
    {
     "data": {
      "image/png": "[encoded data removed]",
      "text/plain": [
       "<Figure size 432x288 with 1 Axes>"
      ]
     },
     "metadata": {},
     "output_type": "display_data"
    },
    {
     "name": "stdout",
     "output_type": "stream",
     "text": [
      "Wall time: 7min 31s\n"
     ]
    }
   ],
   "source": [
    "%%time\n",
    "spc = []#Number of sparsity counts(Non zero weights for a given C)\n",
    "error = []\n",
    "for c in c_sparse:\n",
    "    lr1 = LogisticRegression(penalty='l1',C=c)\n",
    "    lr1.fit(X_train_bow,y_train)\n",
    "    score = lr1.score(X_test_bow,y_test)\n",
    "    error.append(1-score)\n",
    "    spc.append(np.count_nonzero(lr1.coef_))\n",
    "#Plotting C vs Sparsity\n",
    "plt.title(\"C Vs Sparsity\")\n",
    "plt.xlabel(\"Values of C\")\n",
    "plt.ylabel(\"Number of Non zero weights\")\n",
    "plt.plot(c_sparse,spc)\n",
    "plt.show()"
   ]
  },
  {
   "cell_type": "code",
   "execution_count": 34,
   "metadata": {},
   "outputs": [
    {
     "data": {
      "image/png": "[encoded data removed]",
      "text/plain": [
       "<Figure size 432x288 with 1 Axes>"
      ]
     },
     "metadata": {},
     "output_type": "display_data"
    }
   ],
   "source": [
    "#Plotting C vs Error\n",
    "plt.title(\"C Vs Error\")\n",
    "plt.xlabel(\"Values of C\")\n",
    "plt.ylabel(\"Error\")\n",
    "plt.plot(c_sparse,error)\n",
    "plt.show()"
   ]
  },
  {
   "cell_type": "markdown",
   "metadata": {},
   "source": [
    "Checking sparsity with differernt values of lambda or C using L2 regularization"
   ]
  },
  {
   "cell_type": "code",
   "execution_count": 35,
   "metadata": {},
   "outputs": [
    {
     "data": {
      "image/png": "[encoded data removed]",
      "text/plain": [
       "<Figure size 432x288 with 1 Axes>"
      ]
     },
     "metadata": {},
     "output_type": "display_data"
    },
    {
     "name": "stdout",
     "output_type": "stream",
     "text": [
      "Wall time: 10min 32s\n"
     ]
    }
   ],
   "source": [
    "%%time\n",
    "spc = []#Number of sparsity counts(Non zero weights for a given C)\n",
    "error = []\n",
    "for c in c_sparse:\n",
    "    lr2 = LogisticRegression(penalty='l2',C=c)\n",
    "    lr2.fit(X_train_bow,y_train)\n",
    "    score = lr2.score(X_test_bow,y_test)\n",
    "    error.append(1-score)\n",
    "    spc.append(np.count_nonzero(lr2.coef_))\n",
    "#Plotting C vs Sparsity\n",
    "plt.title(\"C Vs Sparsity\")\n",
    "plt.xlabel(\"Values of C\")\n",
    "plt.ylabel(\"Number of Non zero weights\")\n",
    "plt.plot(c_sparse,spc)\n",
    "plt.show()"
   ]
  },
  {
   "cell_type": "code",
   "execution_count": 36,
   "metadata": {},
   "outputs": [
    {
     "data": {
      "image/png": "[encoded data removed]",
      "text/plain": [
       "<Figure size 432x288 with 1 Axes>"
      ]
     },
     "metadata": {},
     "output_type": "display_data"
    }
   ],
   "source": [
    "#Plotting C vs Error\n",
    "plt.title(\"C Vs Error\")\n",
    "plt.xlabel(\"Values of C\")\n",
    "plt.ylabel(\"Error\")\n",
    "plt.plot(c_sparse,error)\n",
    "plt.show()"
   ]
  },
  {
   "cell_type": "markdown",
   "metadata": {},
   "source": [
    "Using Randomized SearchCV to find best parameters"
   ]
  },
  {
   "cell_type": "code",
   "execution_count": 37,
   "metadata": {},
   "outputs": [
    {
     "name": "stdout",
     "output_type": "stream",
     "text": [
      "Fitting 5 folds for each of 10 candidates, totalling 50 fits\n"
     ]
    },
    {
     "name": "stderr",
     "output_type": "stream",
     "text": [
      "[Parallel(n_jobs=1)]: Done  50 out of  50 | elapsed:  3.8min finished\n"
     ]
    },
    {
     "name": "stdout",
     "output_type": "stream",
     "text": [
      "Best Hyper parameter: {'penalty': 'l2', 'C': 50}\n",
      "Best accuracy score: 92.23430585764643\n",
      "Wall time: 3min 53s\n"
     ]
    }
   ],
   "source": [
    "%%time\n",
    "#Importing logistic regression gridsearch and randomsearch\n",
    "from sklearn.model_selection import GridSearchCV, RandomizedSearchCV\n",
    "from sklearn.linear_model import LogisticRegression\n",
    "\n",
    "#logreg1 = LogisticRegression(penalty='l1')\n",
    "#logreg2 = LogisticRegression(penalty='l2')\n",
    "logreg1 = LogisticRegression()\n",
    "#parameters we need to try on classifier\n",
    "param_grid = {'C':[1000,500,100,50,10,5,1,0.5,0.1,0.05,0.01,0.005,0.001,0.0005,0.0001],'penalty':['l1','l2']}\n",
    "#For time based splitting\n",
    "tscv = TimeSeriesSplit(n_splits=5)\n",
    "#performing grid search with l1 regularizer\n",
    "rs_model1 = RandomizedSearchCV(logreg1,param_grid,cv=tscv,verbose=1)\n",
    "rs_model1.fit(X_train_bow,y_train)\n",
    "#Using grid search to find optimal C or 1/lambda\n",
    "print(\"Best Hyper parameter:\", rs_model1.best_params_)\n",
    "print(\"Best accuracy score:\" ,(rs_model1.best_score_*100))#rs_model1.score(X_test_bow,y_test)*100"
   ]
  },
  {
   "cell_type": "markdown",
   "metadata": {},
   "source": [
    "For a given parameter list RandomizedSearchCV is sampled uniformly, only fixed number of parameters are tried out."
   ]
  },
  {
   "cell_type": "markdown",
   "metadata": {},
   "source": [
    "Best Hyper Parameter C = 50 and penalty = L2"
   ]
  },
  {
   "cell_type": "code",
   "execution_count": 38,
   "metadata": {},
   "outputs": [
    {
     "name": "stdout",
     "output_type": "stream",
     "text": [
      "Accuracy on test data: 92.75\n",
      "Precision on test data: 94.76495132127955\n",
      "Recall on test data: 97.09855782933364\n",
      "F1-score on test data: 95.91756292584041\n",
      "Non zero weights: 33490\n",
      "Confusion Matrix of test data:\n",
      "\n"
     ]
    },
    {
     "data": {
      "text/plain": [
       "<matplotlib.axes._subplots.AxesSubplot at 0x8e2281bbe0>"
      ]
     },
     "execution_count": 38,
     "metadata": {},
     "output_type": "execute_result"
    },
    {
     "data": {
      "image/png": "[encoded data removed]",
      "text/plain": [
       "<Figure size 432x288 with 2 Axes>"
      ]
     },
     "metadata": {},
     "output_type": "display_data"
    }
   ],
   "source": [
    "#Testing accuracy on test data\n",
    "logreg =LogisticRegression(C = 50, penalty = 'l2')\n",
    "logreg.fit(X_train_bow,y_train)\n",
    "y_pred = logreg.predict(X_test_bow)\n",
    "print(\"Accuracy on test data:\" ,(accuracy_score(y_test,y_pred)*100))\n",
    "print(\"Precision on test data:\" ,(precision_score(y_test,y_pred)*100))\n",
    "print(\"Recall on test data:\" ,(recall_score(y_test,y_pred)*100))\n",
    "print(\"F1-score on test data:\" ,(f1_score(y_test,y_pred)*100))\n",
    "print(\"Non zero weights:\" ,np.count_nonzero(logreg.coef_))\n",
    "print(\"Confusion Matrix of test data:\\n\")\n",
    "df_cm = pd.DataFrame(confusion_matrix(y_test,y_pred),range(2),range(2))\n",
    "sns.set(font_scale=1.4)#for label size\n",
    "sns.heatmap(df_cm, annot=True,annot_kws={\"size\":16},fmt='g')"
   ]
  },
  {
   "cell_type": "code",
   "execution_count": 39,
   "metadata": {},
   "outputs": [
    {
     "name": "stdout",
     "output_type": "stream",
     "text": [
      "Accuracy on test data: 92.67\n",
      "Precision on test data: 94.02968724324916\n",
      "Recall on test data: 97.85669497805392\n",
      "F1-score on test data: 95.90502793296089\n",
      "Non zero weights: 1085\n"
     ]
    }
   ],
   "source": [
    "logreg =LogisticRegression(C = 1 , penalty = 'l1')\n",
    "logreg.fit(X_train_bow,y_train)\n",
    "y_pred = logreg.predict(X_test_bow)\n",
    "print(\"Accuracy on test data:\" ,(accuracy_score(y_test,y_pred)*100))\n",
    "print(\"Precision on test data:\" ,(precision_score(y_test,y_pred)*100))\n",
    "print(\"Recall on test data:\" ,(recall_score(y_test,y_pred)*100))\n",
    "print(\"F1-score on test data:\" ,(f1_score(y_test,y_pred)*100))\n",
    "print(\"Non zero weights:\" ,np.count_nonzero(logreg.coef_))"
   ]
  },
  {
   "cell_type": "code",
   "execution_count": null,
   "metadata": {},
   "outputs": [],
   "source": []
  },
  {
   "cell_type": "markdown",
   "metadata": {},
   "source": [
    "# Performing Perturbation Test"
   ]
  },
  {
   "cell_type": "code",
   "execution_count": 40,
   "metadata": {},
   "outputs": [
    {
     "name": "stdout",
     "output_type": "stream",
     "text": [
      "Accuracy on test data 89.63\n",
      "Non zero weights are: 33490\n"
     ]
    }
   ],
   "source": [
    "lr1 = LogisticRegression(penalty='l2',C=50,class_weight='balanced')\n",
    "lr1.fit(X_train_bow,y_train)\n",
    "y_pred = lr1.predict(X_test_bow)\n",
    "print(\"Accuracy on test data\" ,accuracy_score(y_test,y_pred)*100)\n",
    "print(\"Non zero weights are:\", np.count_nonzero(lr1.coef_))"
   ]
  },
  {
   "cell_type": "code",
   "execution_count": 41,
   "metadata": {},
   "outputs": [
    {
     "name": "stdout",
     "output_type": "stream",
     "text": [
      "[-8.64154476e-01  2.19049370e-01  2.53331679e-01  7.78881795e-03\n",
      "  5.82759092e-02  2.91425135e-01  4.05190168e-02 -1.72395286e+00\n",
      "  1.43961729e-01  3.43638392e-03  2.06271628e-03 -3.08442517e+00\n",
      "  1.10774821e+00  1.26061119e+00  2.81335118e-02  1.57306299e-01\n",
      "  3.82583612e-02  2.30942754e+00  2.55964062e+00 -3.68191658e+00\n",
      " -4.81215454e+00  4.27199770e-02  2.09671205e-01  8.92264932e-01\n",
      "  5.00388130e-01  6.55195807e-01 -2.39906881e-01  2.03421287e-01\n",
      "  1.81408204e-01  7.22382629e-02  4.67027580e-02 -1.03598829e-01\n",
      "  4.26766766e+00  2.75907974e-01  2.80559109e-02  7.32603146e-02\n",
      " -6.24920669e-03  7.07724528e-02  4.00919080e+00  8.50809334e-02\n",
      "  5.22370929e+00 -3.94536661e+00  4.08760268e-03  6.45921882e-03\n",
      "  1.16618879e+00 -2.83617299e+00  1.14266503e-01  1.48785224e+00\n",
      "  5.07159030e-02 -1.90648411e+00]\n"
     ]
    }
   ],
   "source": [
    "from scipy.sparse import find\n",
    "#weights before adding random noise\n",
    "weights1 = find(lr1.coef_[0])[2]\n",
    "print(weights1[:50])"
   ]
  },
  {
   "cell_type": "code",
   "execution_count": 42,
   "metadata": {},
   "outputs": [
    {
     "data": {
      "text/plain": [
       "(array([0, 0, 0, ..., 0, 0, 0], dtype=int32),\n",
       " array([    0,     1,     2, ..., 33487, 33488, 33489], dtype=int32),\n",
       " array([-8.64154476e-01,  2.19049370e-01,  2.53331679e-01, ...,\n",
       "        -1.09749285e+00,  4.36012710e-04,  4.90458509e-02]))"
      ]
     },
     "execution_count": 42,
     "metadata": {},
     "output_type": "execute_result"
    }
   ],
   "source": [
    "find(weights1)"
   ]
  },
  {
   "cell_type": "code",
   "execution_count": 43,
   "metadata": {},
   "outputs": [
    {
     "data": {
      "text/plain": [
       "array([[-8.64154476e-01,  2.19049370e-01,  2.53331679e-01, ...,\n",
       "        -1.09749285e+00,  4.36012710e-04,  4.90458509e-02]])"
      ]
     },
     "execution_count": 43,
     "metadata": {},
     "output_type": "execute_result"
    }
   ],
   "source": [
    "lr1.coef_"
   ]
  },
  {
   "cell_type": "code",
   "execution_count": 44,
   "metadata": {},
   "outputs": [],
   "source": [
    "#print(X_train_bow.toarray())\n",
    "X_train_boweps = X_train_bow\n",
    "#getting the positions(row and column) and the value of non-zero elements\n",
    "#a,b,c = find(X_train_eps)"
   ]
  },
  {
   "cell_type": "code",
   "execution_count": 45,
   "metadata": {},
   "outputs": [
    {
     "name": "stdout",
     "output_type": "stream",
     "text": [
      "  (0, 2976)\t0.18569533817705186\n",
      "  (0, 4248)\t0.18569533817705186\n",
      "  (0, 8081)\t0.18569533817705186\n",
      "  (0, 8713)\t0.18569533817705186\n",
      "  (0, 10623)\t0.18569533817705186\n",
      "  (0, 11011)\t0.18569533817705186\n",
      "  (0, 13194)\t0.18569533817705186\n",
      "  (0, 13364)\t0.18569533817705186\n",
      "  (0, 13373)\t0.18569533817705186\n",
      "  (0, 13695)\t0.18569533817705186\n",
      "  (0, 14725)\t0.18569533817705186\n",
      "  (0, 16818)\t0.18569533817705186\n",
      "  (0, 17194)\t0.18569533817705186\n",
      "  (0, 17536)\t0.18569533817705186\n",
      "  (0, 22707)\t0.18569533817705186\n",
      "  (0, 23052)\t0.3713906763541037\n",
      "  (0, 23957)\t0.3713906763541037\n",
      "  (0, 24468)\t0.18569533817705186\n",
      "  (0, 25983)\t0.18569533817705186\n",
      "  (0, 27348)\t0.18569533817705186\n",
      "  (0, 29390)\t0.18569533817705186\n",
      "  (0, 30569)\t0.18569533817705186\n",
      "  (0, 32805)\t0.18569533817705186\n",
      "  (1, 44)\t0.14907119849998599\n",
      "  (1, 1530)\t0.14907119849998599\n",
      "  :\t:\n",
      "  (79997, 19972)\t0.21320071635561041\n",
      "  (79997, 20519)\t0.21320071635561041\n",
      "  (79997, 20584)\t0.21320071635561041\n",
      "  (79997, 23390)\t0.21320071635561041\n",
      "  (79997, 23406)\t0.42640143271122083\n",
      "  (79997, 24102)\t0.21320071635561041\n",
      "  (79997, 27998)\t0.21320071635561041\n",
      "  (79997, 32250)\t0.21320071635561041\n",
      "  (79997, 32302)\t0.21320071635561041\n",
      "  (79997, 32921)\t0.21320071635561041\n",
      "  (79998, 2680)\t0.35355339059327373\n",
      "  (79998, 5564)\t0.35355339059327373\n",
      "  (79998, 9830)\t0.35355339059327373\n",
      "  (79998, 10801)\t0.35355339059327373\n",
      "  (79998, 13713)\t0.35355339059327373\n",
      "  (79998, 27470)\t0.35355339059327373\n",
      "  (79998, 29128)\t0.35355339059327373\n",
      "  (79998, 32805)\t0.35355339059327373\n",
      "  (79999, 856)\t0.3779644730092272\n",
      "  (79999, 2044)\t0.3779644730092272\n",
      "  (79999, 3457)\t0.3779644730092272\n",
      "  (79999, 10623)\t0.3779644730092272\n",
      "  (79999, 12330)\t0.3779644730092272\n",
      "  (79999, 12752)\t0.3779644730092272\n",
      "  (79999, 22097)\t0.3779644730092272\n"
     ]
    }
   ],
   "source": [
    "print(X_train_boweps)"
   ]
  },
  {
   "cell_type": "code",
   "execution_count": 46,
   "metadata": {},
   "outputs": [
    {
     "data": {
      "text/plain": [
       "(80000, 33490)"
      ]
     },
     "execution_count": 46,
     "metadata": {},
     "output_type": "execute_result"
    }
   ],
   "source": [
    "#Adding noise to the train data to get new train data set\n",
    "#X_train_bow = X_train_bow.todense()\n",
    "epsilon = 0.01\n",
    "#X_train_tfidfeps[a,b] = epsilon + X_train_tfidfeps[a,b]\n",
    "X_train_boweps.data += epsilon\n",
    "X_train_boweps.shape"
   ]
  },
  {
   "cell_type": "code",
   "execution_count": 47,
   "metadata": {},
   "outputs": [
    {
     "name": "stdout",
     "output_type": "stream",
     "text": [
      "  (0, 2976)\t0.19569533817705187\n",
      "  (0, 4248)\t0.19569533817705187\n",
      "  (0, 8081)\t0.19569533817705187\n",
      "  (0, 8713)\t0.19569533817705187\n",
      "  (0, 10623)\t0.19569533817705187\n",
      "  (0, 11011)\t0.19569533817705187\n",
      "  (0, 13194)\t0.19569533817705187\n",
      "  (0, 13364)\t0.19569533817705187\n",
      "  (0, 13373)\t0.19569533817705187\n",
      "  (0, 13695)\t0.19569533817705187\n",
      "  (0, 14725)\t0.19569533817705187\n",
      "  (0, 16818)\t0.19569533817705187\n",
      "  (0, 17194)\t0.19569533817705187\n",
      "  (0, 17536)\t0.19569533817705187\n",
      "  (0, 22707)\t0.19569533817705187\n",
      "  (0, 23052)\t0.38139067635410373\n",
      "  (0, 23957)\t0.38139067635410373\n",
      "  (0, 24468)\t0.19569533817705187\n",
      "  (0, 25983)\t0.19569533817705187\n",
      "  (0, 27348)\t0.19569533817705187\n",
      "  (0, 29390)\t0.19569533817705187\n",
      "  (0, 30569)\t0.19569533817705187\n",
      "  (0, 32805)\t0.19569533817705187\n",
      "  (1, 44)\t0.159071198499986\n",
      "  (1, 1530)\t0.159071198499986\n",
      "  :\t:\n",
      "  (79997, 19972)\t0.22320071635561042\n",
      "  (79997, 20519)\t0.22320071635561042\n",
      "  (79997, 20584)\t0.22320071635561042\n",
      "  (79997, 23390)\t0.22320071635561042\n",
      "  (79997, 23406)\t0.43640143271122084\n",
      "  (79997, 24102)\t0.22320071635561042\n",
      "  (79997, 27998)\t0.22320071635561042\n",
      "  (79997, 32250)\t0.22320071635561042\n",
      "  (79997, 32302)\t0.22320071635561042\n",
      "  (79997, 32921)\t0.22320071635561042\n",
      "  (79998, 2680)\t0.36355339059327374\n",
      "  (79998, 5564)\t0.36355339059327374\n",
      "  (79998, 9830)\t0.36355339059327374\n",
      "  (79998, 10801)\t0.36355339059327374\n",
      "  (79998, 13713)\t0.36355339059327374\n",
      "  (79998, 27470)\t0.36355339059327374\n",
      "  (79998, 29128)\t0.36355339059327374\n",
      "  (79998, 32805)\t0.36355339059327374\n",
      "  (79999, 856)\t0.3879644730092272\n",
      "  (79999, 2044)\t0.3879644730092272\n",
      "  (79999, 3457)\t0.3879644730092272\n",
      "  (79999, 10623)\t0.3879644730092272\n",
      "  (79999, 12330)\t0.3879644730092272\n",
      "  (79999, 12752)\t0.3879644730092272\n",
      "  (79999, 22097)\t0.3879644730092272\n"
     ]
    }
   ],
   "source": [
    "print(X_train_boweps)"
   ]
  },
  {
   "cell_type": "code",
   "execution_count": 48,
   "metadata": {},
   "outputs": [
    {
     "name": "stdout",
     "output_type": "stream",
     "text": [
      "Accuracy on test data 89.575\n",
      "Non zero weights are: 33490\n"
     ]
    }
   ],
   "source": [
    "#Training on train data with random noise\n",
    "lr2 = LogisticRegression(penalty='l2',C=50,class_weight='balanced')\n",
    "lr2.fit(X_train_boweps,y_train)\n",
    "y_pred = lr2.predict(X_test_bow)\n",
    "print(\"Accuracy on test data\" ,accuracy_score(y_test,y_pred)*100)\n",
    "print(\"Non zero weights are:\", np.count_nonzero(lr2.coef_))"
   ]
  },
  {
   "cell_type": "code",
   "execution_count": 49,
   "metadata": {},
   "outputs": [
    {
     "name": "stdout",
     "output_type": "stream",
     "text": [
      "[-8.64544561e-01  2.24011115e-01  2.64392752e-01  7.87748359e-03\n",
      "  6.58350884e-02  3.19975998e-01  3.64384386e-02 -1.68914095e+00\n",
      "  1.24971906e-01  3.23201800e-03  1.40664565e-03 -3.41562360e+00\n",
      "  1.25341404e+00  1.28139695e+00  2.90276799e-02  1.71862297e-01\n",
      "  3.47031902e-02  2.40655909e+00  2.54577805e+00 -3.54913354e+00\n",
      " -4.82913064e+00  4.13469402e-02  2.01959982e-01  8.60739944e-01\n",
      "  5.22194991e-01  6.07843742e-01 -2.76749735e-01  1.88438233e-01\n",
      "  3.49181531e-01  6.50597617e-02  4.78868695e-02 -1.26852841e-01\n",
      "  4.26999428e+00  2.44582142e-01  2.64209444e-02  4.74491893e-02\n",
      " -4.23268122e-03  5.65011396e-02  4.20568169e+00  9.32409838e-02\n",
      "  5.05562243e+00 -4.06940470e+00  3.17653526e-03  6.78479296e-03\n",
      "  1.10848527e+00 -2.86875925e+00  1.11618607e-01  1.54449974e+00\n",
      "  4.36935119e-02 -1.85504520e+00]\n"
     ]
    }
   ],
   "source": [
    "from scipy.sparse import find\n",
    "#weights before adding random noise\n",
    "weights2 = find(lr2.coef_[0])[2]\n",
    "print(weights2[:50])"
   ]
  },
  {
   "cell_type": "code",
   "execution_count": 50,
   "metadata": {},
   "outputs": [
    {
     "data": {
      "text/plain": [
       "array([[-8.64544561e-01,  2.24011115e-01,  2.64392752e-01, ...,\n",
       "        -1.14884374e+00,  3.34920837e-04,  5.44306957e-02]])"
      ]
     },
     "execution_count": 50,
     "metadata": {},
     "output_type": "execute_result"
    }
   ],
   "source": [
    "lr2.coef_"
   ]
  },
  {
   "cell_type": "code",
   "execution_count": 51,
   "metadata": {},
   "outputs": [],
   "source": [
    "weights1 = weights1 + 0.000001"
   ]
  },
  {
   "cell_type": "code",
   "execution_count": 52,
   "metadata": {},
   "outputs": [],
   "source": [
    "weights2 = weights2 + 0.000001"
   ]
  },
  {
   "cell_type": "code",
   "execution_count": 53,
   "metadata": {},
   "outputs": [
    {
     "name": "stdout",
     "output_type": "stream",
     "text": [
      "[-0.0451407   2.26511574  4.36622457 ... -4.67893173 23.13247876\n",
      " 10.97898175]\n"
     ]
    }
   ],
   "source": [
    "percentage_change_vector = ((abs(weights1 - weights2)/(weights1))*100)\n",
    "print(percentage_change_vector)"
   ]
  },
  {
   "cell_type": "markdown",
   "metadata": {},
   "source": [
    "Calculating percentiles of percentage_change_vector"
   ]
  },
  {
   "cell_type": "code",
   "execution_count": 54,
   "metadata": {},
   "outputs": [
    {
     "name": "stdout",
     "output_type": "stream",
     "text": [
      "\n",
      " Percentiles:\n",
      "[-3.38501627e+03 -4.98126384e+00 -1.11986599e+00  7.83942841e-01\n",
      "  2.09528205e+00  3.60022106e+00  5.46421858e+00  8.03081784e+00\n",
      "  1.24992116e+01  2.15373552e+01  3.40354612e+04]\n"
     ]
    }
   ],
   "source": [
    "print(\"\\n Percentiles:\")\n",
    "print(np.percentile(percentage_change_vector,np.arange(0,110,10)))"
   ]
  },
  {
   "cell_type": "code",
   "execution_count": 55,
   "metadata": {},
   "outputs": [
    {
     "name": "stdout",
     "output_type": "stream",
     "text": [
      "\n",
      " 99th Percentiles:\n",
      "[   58.6582309     60.83983038    63.75244778    67.85294156\n",
      "    72.48824264    79.7202365    104.2174697    167.87850749\n",
      "   389.56192535 34035.46116983]\n"
     ]
    }
   ],
   "source": [
    "print(\"\\n 99th Percentiles:\")\n",
    "print(np.percentile(percentage_change_vector,np.arange(99.1,100,0.1)))"
   ]
  },
  {
   "cell_type": "markdown",
   "metadata": {},
   "source": [
    "There is a sudden rise from 104 to 167, so the %change between these two is 64.\n",
    "Now finding number of features have weight changes greater than 64% are shown below."
   ]
  },
  {
   "cell_type": "code",
   "execution_count": 56,
   "metadata": {},
   "outputs": [
    {
     "data": {
      "image/png": "[encoded data removed]",
      "text/plain": [
       "<Figure size 432x288 with 1 Axes>"
      ]
     },
     "metadata": {},
     "output_type": "display_data"
    }
   ],
   "source": [
    "from sklearn.metrics import roc_curve, auc\n",
    "\n",
    "def plot_roc_auc(actual, preds):\n",
    "    fpr, tpr, thresholds = roc_curve(actual, preds[:,1])\n",
    "    plt.plot(fpr,tpr,'r')\n",
    "    plt.plot([0,1],[0,1],'b')\n",
    "    plt.title('AUC:{}'.format(auc(fpr,tpr)))\n",
    "    plt.show()\n",
    "\n",
    "plot_roc_auc(y_test,lr1.predict_proba(X_test_bow))"
   ]
  },
  {
   "cell_type": "code",
   "execution_count": 57,
   "metadata": {},
   "outputs": [
    {
     "data": {
      "image/png": "[encoded data removed]",
      "text/plain": [
       "<Figure size 432x288 with 1 Axes>"
      ]
     },
     "metadata": {},
     "output_type": "display_data"
    }
   ],
   "source": [
    "from sklearn.metrics import roc_curve, auc\n",
    "\n",
    "def plot_roc_auc(actual, preds):\n",
    "    fpr, tpr, thresholds = roc_curve(actual, preds[:,1])\n",
    "    plt.plot(fpr,tpr,'r')\n",
    "    plt.plot([0,1],[0,1],'b')\n",
    "    plt.title('AUC:{}'.format(auc(fpr,tpr)))\n",
    "    plt.show()\n",
    "\n",
    "plot_roc_auc(y_test,lr2.predict_proba(X_test_bow))"
   ]
  },
  {
   "cell_type": "code",
   "execution_count": 58,
   "metadata": {},
   "outputs": [
    {
     "name": "stdout",
     "output_type": "stream",
     "text": [
      "234\n"
     ]
    }
   ],
   "source": [
    "print(percentage_change_vector[np.where(percentage_change_vector > 64)].size)"
   ]
  },
  {
   "cell_type": "markdown",
   "metadata": {},
   "source": [
    "234 features have weight changes greater than 64% so features are multicollinear"
   ]
  },
  {
   "cell_type": "markdown",
   "metadata": {},
   "source": [
    "# Feature Importance\n",
    "Multicolinearity"
   ]
  },
  {
   "cell_type": "code",
   "execution_count": 59,
   "metadata": {},
   "outputs": [],
   "source": [
    "#Creating a dataframe with feature weights\n",
    "#df = pd.DataFrame(data = lr2.coef_.reshape(-1,1),index = count_vect.get_feature_names())\n",
    "word = count_vect.get_feature_names()\n",
    "coef = lr2.coef_.tolist()[0]\n",
    "coef_df = pd.DataFrame({'Words':word, 'Coefficient':coef})\n",
    "coef_df = coef_df.sort_values(['Coefficient','Words'], ascending=[0, 1]) "
   ]
  },
  {
   "cell_type": "code",
   "execution_count": 60,
   "metadata": {},
   "outputs": [
    {
     "name": "stdout",
     "output_type": "stream",
     "text": [
      "Top 20 Positive Features\n",
      "Words  Coefficient\n",
      "  skeptic    16.953925\n",
      "     solv    14.416623\n",
      "     beat    13.451675\n",
      "   poster    13.312225\n",
      "    inhal    13.189310\n",
      "     hook    13.039444\n",
      "  landfil    12.787787\n",
      "    uniqu    12.735989\n",
      "  downsid    12.684140\n",
      "    sneak    12.514196\n",
      "   awesom    12.372326\n",
      "  refresh    12.306600\n",
      "   addict    12.196418\n",
      "    divin    12.070184\n",
      "     amaz    11.739322\n",
      "     rack    11.734318\n",
      "   advanc    11.694113\n",
      "primarili    11.585829\n",
      " boullion    11.419685\n",
      "     task    11.418316\n"
     ]
    }
   ],
   "source": [
    "#Most important top 20 Positive feature\n",
    "print(\"Top 20 Positive Features\")\n",
    "print(coef_df.head(20).to_string(index=False))"
   ]
  },
  {
   "cell_type": "code",
   "execution_count": 61,
   "metadata": {},
   "outputs": [
    {
     "name": "stdout",
     "output_type": "stream",
     "text": [
      "Top 20 Negative Features\n",
      "Words  Coefficient\n",
      "   wunderbar   -15.222572\n",
      "     puberti   -15.336574\n",
      "  beautifuli   -15.413575\n",
      "      wanker   -15.526081\n",
      "    saucepan   -15.591552\n",
      "        hime   -15.822068\n",
      "     dorothi   -16.152893\n",
      "     compass   -16.243111\n",
      "         udi   -16.768369\n",
      "yadayadayada   -16.804827\n",
      "        coil   -16.871130\n",
      "       midst   -17.445482\n",
      "   weeknight   -17.551621\n",
      "    simmilar   -17.860548\n",
      "       thamk   -18.120135\n",
      "      cosmos   -18.464001\n",
      "     disastr   -19.047408\n",
      "   sleepless   -21.821972\n",
      "     finnish   -24.410196\n",
      "       worst   -25.999560\n"
     ]
    }
   ],
   "source": [
    "#Most important top 20 Negative feature\n",
    "print(\"Top 20 Negative Features\")\n",
    "print(coef_df.tail(20).to_string(index=False))"
   ]
  },
  {
   "cell_type": "markdown",
   "metadata": {},
   "source": [
    "# Feature generation techniques to convert text to vector\n",
    "TF-IDF"
   ]
  },
  {
   "cell_type": "code",
   "execution_count": 62,
   "metadata": {},
   "outputs": [
    {
     "name": "stdout",
     "output_type": "stream",
     "text": [
      "shape of X: (100000,)\n",
      "shape of y: (100000,)\n"
     ]
    }
   ],
   "source": [
    "X = final_100k['CleanedText']\n",
    "print(\"shape of X:\",X.shape)\n",
    "y = final_100k['Score']\n",
    "print(\"shape of y:\",y.shape)\n",
    "\n",
    "#splitting data into train and test where 80% data used for train and 20% for test model\n",
    "X_train, X_test, y_train, y_test = train_test_split(X,y,test_size=0.2,random_state=0)"
   ]
  },
  {
   "cell_type": "code",
   "execution_count": 63,
   "metadata": {},
   "outputs": [
    {
     "name": "stdout",
     "output_type": "stream",
     "text": [
      "the type of count vectorizer <class 'scipy.sparse.csr.csr_matrix'>\n",
      "the shape of X_train TFIDF vectorizer (80000, 1021721)\n",
      "the number of unique words 1021721\n"
     ]
    }
   ],
   "source": [
    "#generating BOW vector matrix for X_train text reviews\n",
    "tfidf_vect=TfidfVectorizer(ngram_range=(1,2))\n",
    "X_train_tfidf = tfidf_vect.fit_transform(X_train)\n",
    "print(\"the type of count vectorizer\",type(X_train_tfidf))\n",
    "print(\"the shape of X_train TFIDF vectorizer\",X_train_tfidf.get_shape())\n",
    "print(\"the number of unique words\",X_train_tfidf.get_shape()[1])"
   ]
  },
  {
   "cell_type": "code",
   "execution_count": 64,
   "metadata": {},
   "outputs": [
    {
     "name": "stdout",
     "output_type": "stream",
     "text": [
      "the type of count vectorizer <class 'scipy.sparse.csr.csr_matrix'>\n",
      "the shape of X_train TFIDF vectorizer (20000, 1021721)\n",
      "the number of unique words 1021721\n"
     ]
    }
   ],
   "source": [
    "X_test_tfidf = tfidf_vect.transform(X_test)\n",
    "print(\"the type of count vectorizer\",type(X_test_tfidf))\n",
    "print(\"the shape of X_train TFIDF vectorizer\",X_test_tfidf.get_shape())\n",
    "print(\"the number of unique words\",X_test_tfidf.get_shape()[1])"
   ]
  },
  {
   "cell_type": "code",
   "execution_count": 65,
   "metadata": {},
   "outputs": [
    {
     "name": "stdout",
     "output_type": "stream",
     "text": [
      "the shape of standard X_train BOW vectorizer (80000, 1021721)\n"
     ]
    }
   ],
   "source": [
    "#Data Preprocessing -> Column Standardization of data\n",
    "from sklearn import preprocessing\n",
    "#stand_data = preprocessing.StandardScaler(with_mean=False)\n",
    "#X_train_bow   = stand_data.fit_transform(X_train_bow)\n",
    "X_train_tfidf = preprocessing.normalize(X_train_tfidf)\n",
    "print(\"the shape of standard X_train BOW vectorizer\",X_train_tfidf.get_shape())"
   ]
  },
  {
   "cell_type": "code",
   "execution_count": 66,
   "metadata": {},
   "outputs": [
    {
     "name": "stdout",
     "output_type": "stream",
     "text": [
      "the shape of standard X_test TFIDF vectorizer (20000, 1021721)\n"
     ]
    }
   ],
   "source": [
    "#X_test_tfidf   = stand_scaler.fit_transform(X_test_tfidf)\n",
    "X_test_tfidf = preprocessing.normalize(X_test_tfidf)\n",
    "print(\"the shape of standard X_test TFIDF vectorizer\",X_test_tfidf.get_shape())"
   ]
  },
  {
   "cell_type": "code",
   "execution_count": 67,
   "metadata": {},
   "outputs": [
    {
     "name": "stdout",
     "output_type": "stream",
     "text": [
      "train shape and cv shape (13335, 1021721) (13333, 1021721)\n",
      "train shape and cv shape (26668, 1021721) (13333, 1021721)\n",
      "train shape and cv shape (40001, 1021721) (13333, 1021721)\n",
      "train shape and cv shape (53334, 1021721) (13333, 1021721)\n",
      "train shape and cv shape (66667, 1021721) (13333, 1021721)\n"
     ]
    }
   ],
   "source": [
    "#To show how Time series splits the data\n",
    "from sklearn.model_selection import TimeSeriesSplit\n",
    "tscv = TimeSeriesSplit(n_splits=5)\n",
    "for train,cv in tscv.split(X_train_tfidf):\n",
    "    print(\"train shape and cv shape\",X_train_tfidf[train].shape,X_train_tfidf[cv].shape)"
   ]
  },
  {
   "cell_type": "markdown",
   "metadata": {},
   "source": [
    "# Finding Optimal lambda using GridSearchCV and RandomSearchCV\n",
    "L1,L2 regularizers using time series CV"
   ]
  },
  {
   "cell_type": "code",
   "execution_count": 68,
   "metadata": {},
   "outputs": [
    {
     "name": "stdout",
     "output_type": "stream",
     "text": [
      "Fitting 5 folds for each of 30 candidates, totalling 150 fits\n"
     ]
    },
    {
     "name": "stderr",
     "output_type": "stream",
     "text": [
      "[Parallel(n_jobs=1)]: Done 150 out of 150 | elapsed: 17.9min finished\n"
     ]
    },
    {
     "name": "stdout",
     "output_type": "stream",
     "text": [
      "Best Hyper parameter: {'C': 5, 'penalty': 'l1'}\n",
      "Best accuracy score: 96.07739323882214\n",
      "Wall time: 17min 59s\n"
     ]
    }
   ],
   "source": [
    "%%time\n",
    "#Importing logistic regression gridsearch and randomsearch\n",
    "from sklearn.model_selection import GridSearchCV, RandomizedSearchCV\n",
    "from sklearn.linear_model import LogisticRegression\n",
    "\n",
    "#logreg1 = LogisticRegression(penalty='l1')\n",
    "#logreg2 = LogisticRegression(penalty='l2')\n",
    "#parameters we need to try on classifier\n",
    "param_grid = [{'C':[1000,500,100,50,10,5,1,0.5,0.1,0.05,0.01,0.005,0.001,0.0005,0.0001], 'penalty':['l1','l2']}]\n",
    "#For time based splitting\n",
    "tscv = TimeSeriesSplit(n_splits=5)\n",
    "#performing grid search with l1 regularizer\n",
    "model1 = GridSearchCV(logreg1,param_grid,cv=tscv,scoring='f1',verbose=1)\n",
    "model1.fit(X_train_tfidf,y_train)\n",
    "#Using grid search to find optimal C or 1/lambda\n",
    "print(\"Best Hyper parameter:\", model1.best_params_)\n",
    "print(\"Best accuracy score:\" ,(model1.best_score_*100))"
   ]
  },
  {
   "cell_type": "markdown",
   "metadata": {},
   "source": [
    "best hyper parameter C = 5 and penalty=L1"
   ]
  },
  {
   "cell_type": "code",
   "execution_count": 69,
   "metadata": {},
   "outputs": [
    {
     "name": "stdout",
     "output_type": "stream",
     "text": [
      "Accuracy on test data: 93.53\n",
      "Precision on test data: 95.2946423593689\n",
      "Recall on test data: 97.43487430884113\n",
      "F1-score on test data: 96.35287485907553\n",
      "Non zero weights: 6778\n",
      "Confusion Matrix of test data:\n",
      "\n"
     ]
    },
    {
     "data": {
      "text/plain": [
       "<matplotlib.axes._subplots.AxesSubplot at 0x8e2f7ba518>"
      ]
     },
     "execution_count": 69,
     "metadata": {},
     "output_type": "execute_result"
    },
    {
     "data": {
      "image/png": "[encoded data removed]",
      "text/plain": [
       "<Figure size 432x288 with 2 Axes>"
      ]
     },
     "metadata": {},
     "output_type": "display_data"
    }
   ],
   "source": [
    "#Testing accuracy on test data\n",
    "logreg =LogisticRegression(C = 5, penalty = 'l1')\n",
    "logreg.fit(X_train_tfidf,y_train)\n",
    "y_pred = logreg.predict(X_test_tfidf)\n",
    "print(\"Accuracy on test data:\" ,(accuracy_score(y_test,y_pred)*100))\n",
    "print(\"Precision on test data:\" ,(precision_score(y_test,y_pred)*100))\n",
    "print(\"Recall on test data:\" ,(recall_score(y_test,y_pred)*100))\n",
    "print(\"F1-score on test data:\" ,(f1_score(y_test,y_pred)*100))\n",
    "print(\"Non zero weights:\" ,np.count_nonzero(logreg.coef_))\n",
    "print(\"Confusion Matrix of test data:\\n\")\n",
    "df_cm = pd.DataFrame(confusion_matrix(y_test,y_pred),range(2),range(2))\n",
    "sns.set(font_scale=1.4)#for label size\n",
    "sns.heatmap(df_cm, annot=True,annot_kws={\"size\":16},fmt='g')"
   ]
  },
  {
   "cell_type": "code",
   "execution_count": 70,
   "metadata": {},
   "outputs": [
    {
     "name": "stdout",
     "output_type": "stream",
     "text": [
      "Accuracy on test data: 93.39\n",
      "Precision on test data: 94.24954989361122\n",
      "Recall on test data: 98.47232514393205\n",
      "F1-score on test data: 96.31467439785905\n",
      "Non zero weights: 1021721\n"
     ]
    }
   ],
   "source": [
    "logreg =LogisticRegression(C = 5 , penalty = 'l2')\n",
    "logreg.fit(X_train_tfidf,y_train)\n",
    "y_pred = logreg.predict(X_test_tfidf)\n",
    "print(\"Accuracy on test data:\" ,(accuracy_score(y_test,y_pred)*100))\n",
    "print(\"Precision on test data:\" ,(precision_score(y_test,y_pred)*100))\n",
    "print(\"Recall on test data:\" ,(recall_score(y_test,y_pred)*100))\n",
    "print(\"F1-score on test data:\" ,(f1_score(y_test,y_pred)*100))\n",
    "print(\"Non zero weights:\" ,np.count_nonzero(logreg.coef_))"
   ]
  },
  {
   "cell_type": "markdown",
   "metadata": {},
   "source": [
    "Checking sparsity with differernt values of lambda or C"
   ]
  },
  {
   "cell_type": "code",
   "execution_count": 71,
   "metadata": {},
   "outputs": [
    {
     "data": {
      "text/plain": [
       "(99,)"
      ]
     },
     "execution_count": 71,
     "metadata": {},
     "output_type": "execute_result"
    }
   ],
   "source": [
    "c_sparse = np.arange(0,50,0.5)\n",
    "c_sparse = c_sparse[1:]\n",
    "c_sparse.shape"
   ]
  },
  {
   "cell_type": "code",
   "execution_count": 72,
   "metadata": {},
   "outputs": [
    {
     "data": {
      "image/png": "[encoded data removed]",
      "text/plain": [
       "<Figure size 432x288 with 1 Axes>"
      ]
     },
     "metadata": {},
     "output_type": "display_data"
    }
   ],
   "source": [
    "spc = []#Number of sparsity counts(Non zero weights for a given C)\n",
    "error = []\n",
    "for c in c_sparse:\n",
    "    lr = LogisticRegression(penalty='l1',C=c)\n",
    "    lr.fit(X_train_tfidf,y_train)\n",
    "    error.append(1-lr.score(X_test_tfidf,y_test))\n",
    "    spc.append(np.count_nonzero(lr.coef_))\n",
    "#Plotting C vs Sparsity\n",
    "plt.title(\"C Vs Sparsity\")\n",
    "plt.xlabel(\"Values of C\")\n",
    "plt.ylabel(\"Number of Non zero weights\")\n",
    "plt.plot(c_sparse,spc)\n",
    "plt.show()"
   ]
  },
  {
   "cell_type": "code",
   "execution_count": 73,
   "metadata": {},
   "outputs": [
    {
     "data": {
      "image/png": "[encoded data removed]",
      "text/plain": [
       "<Figure size 432x288 with 1 Axes>"
      ]
     },
     "metadata": {},
     "output_type": "display_data"
    }
   ],
   "source": [
    "#Plotting C vs Sparsity\n",
    "plt.title(\"C Vs Error\")\n",
    "plt.xlabel(\"Values of C\")\n",
    "plt.ylabel(\"Error\")\n",
    "plt.plot(c_sparse,error)\n",
    "plt.show()"
   ]
  },
  {
   "cell_type": "code",
   "execution_count": 74,
   "metadata": {},
   "outputs": [
    {
     "data": {
      "image/png": "[encoded data removed]",
      "text/plain": [
       "<Figure size 432x288 with 1 Axes>"
      ]
     },
     "metadata": {},
     "output_type": "display_data"
    }
   ],
   "source": [
    "spc = []#Number of sparsity counts(Non zero weights for a given C)\n",
    "error = []\n",
    "for c in c_sparse:\n",
    "    lr = LogisticRegression(penalty='l2',C=c)\n",
    "    lr.fit(X_train_tfidf,y_train)\n",
    "    error.append(1-lr.score(X_test_tfidf,y_test))\n",
    "    spc.append(np.count_nonzero(lr.coef_))\n",
    "#Plotting C vs Sparsity\n",
    "plt.title(\"C Vs Sparsity\")\n",
    "plt.xlabel(\"Values of C\")\n",
    "plt.ylabel(\"Number of Non zero weights\")\n",
    "plt.plot(c_sparse,spc)\n",
    "plt.show()"
   ]
  },
  {
   "cell_type": "code",
   "execution_count": 75,
   "metadata": {},
   "outputs": [
    {
     "data": {
      "image/png": "[encoded data removed]",
      "text/plain": [
       "<Figure size 432x288 with 1 Axes>"
      ]
     },
     "metadata": {},
     "output_type": "display_data"
    }
   ],
   "source": [
    "#Plotting C vs Sparsity\n",
    "plt.title(\"C Vs Error\")\n",
    "plt.xlabel(\"Values of C\")\n",
    "plt.ylabel(\"Error\")\n",
    "plt.plot(c_sparse,error)\n",
    "plt.show()"
   ]
  },
  {
   "cell_type": "code",
   "execution_count": 141,
   "metadata": {},
   "outputs": [
    {
     "name": "stdout",
     "output_type": "stream",
     "text": [
      "Fitting 5 folds for each of 10 candidates, totalling 50 fits\n"
     ]
    },
    {
     "name": "stderr",
     "output_type": "stream",
     "text": [
      "[Parallel(n_jobs=1)]: Done  50 out of  50 | elapsed:  3.2min finished\n"
     ]
    },
    {
     "name": "stdout",
     "output_type": "stream",
     "text": [
      "Best Hyper parameter: {'penalty': 'l2', 'C': 100}\n",
      "Best accuracy score: 96.01412128425005\n",
      "Wall time: 3min 22s\n"
     ]
    }
   ],
   "source": [
    "%%time\n",
    "#Importing logistic regression gridsearch and randomsearch\n",
    "from sklearn.model_selection import GridSearchCV, RandomizedSearchCV\n",
    "from sklearn.linear_model import LogisticRegression\n",
    "\n",
    "#logreg1 = LogisticRegression(penalty='l1')\n",
    "#logreg2 = LogisticRegression(penalty='l2')\n",
    "#parameters we need to try on classifier\n",
    "param_grid = {'C':[1000,500,100,50,10,5,1,0.5,0.1,0.05,0.01,0.005,0.001,0.0005,0.0001], 'penalty':['l1','l2']}\n",
    "#For time based splitting\n",
    "tscv = TimeSeriesSplit(n_splits=5)\n",
    "#performing random search with l1 regularizer\n",
    "model1 = RandomizedSearchCV(logreg1,param_grid,cv=tscv,scoring='f1',verbose=1)\n",
    "model1.fit(X_train_tfidf,y_train)\n",
    "#Using random search to find optimal C or 1/lambda\n",
    "print(\"Best Hyper parameter:\", model1.best_params_)\n",
    "print(\"Best accuracy score:\" ,(model1.best_score_*100))"
   ]
  },
  {
   "cell_type": "markdown",
   "metadata": {},
   "source": [
    "best hyper parameter C=100 and penalty=L2"
   ]
  },
  {
   "cell_type": "code",
   "execution_count": 142,
   "metadata": {},
   "outputs": [
    {
     "name": "stdout",
     "output_type": "stream",
     "text": [
      "Accuracy on test data: 93.765\n",
      "Precision on test data: 94.74956063268893\n",
      "Recall on test data: 98.34121871971728\n",
      "F1-score on test data: 96.51198567872228\n",
      "Non zero weights: 1021721\n",
      "Confusion Matrix of test data:\n",
      "\n"
     ]
    },
    {
     "data": {
      "text/plain": [
       "<matplotlib.axes._subplots.AxesSubplot at 0x8e40ef7048>"
      ]
     },
     "execution_count": 142,
     "metadata": {},
     "output_type": "execute_result"
    },
    {
     "data": {
      "image/png": "[encoded data removed]",
      "text/plain": [
       "<Figure size 432x288 with 2 Axes>"
      ]
     },
     "metadata": {},
     "output_type": "display_data"
    }
   ],
   "source": [
    "#Testing accuracy on test data\n",
    "logreg =LogisticRegression(C = 100, penalty = 'l2')\n",
    "logreg.fit(X_train_tfidf,y_train)\n",
    "y_pred = logreg.predict(X_test_tfidf)\n",
    "print(\"Accuracy on test data:\" ,(accuracy_score(y_test,y_pred)*100))\n",
    "print(\"Precision on test data:\" ,(precision_score(y_test,y_pred)*100))\n",
    "print(\"Recall on test data:\" ,(recall_score(y_test,y_pred)*100))\n",
    "print(\"F1-score on test data:\" ,(f1_score(y_test,y_pred)*100))\n",
    "print(\"Non zero weights:\" ,np.count_nonzero(logreg.coef_))\n",
    "print(\"Confusion Matrix of test data:\\n\")\n",
    "df_cm = pd.DataFrame(confusion_matrix(y_test,y_pred),range(2),range(2))\n",
    "sns.set(font_scale=1.4)#for label size\n",
    "sns.heatmap(df_cm, annot=True,annot_kws={\"size\":16},fmt='g')"
   ]
  },
  {
   "cell_type": "code",
   "execution_count": 79,
   "metadata": {},
   "outputs": [
    {
     "name": "stdout",
     "output_type": "stream",
     "text": [
      "AUC 0.8179750710104697\n"
     ]
    }
   ],
   "source": [
    "#ROC Score\n",
    "from sklearn.metrics import roc_auc_score\n",
    "y_pred = logreg.predict(X_test_tfidf)\n",
    "print(\"AUC\" ,roc_auc_score(y_test, y_pred))"
   ]
  },
  {
   "cell_type": "code",
   "execution_count": 80,
   "metadata": {},
   "outputs": [
    {
     "name": "stdout",
     "output_type": "stream",
     "text": [
      "Accuracy on test data: 93.53\n",
      "Precision on test data: 95.28959250794358\n",
      "Recall on test data: 97.44057458815482\n",
      "F1-score on test data: 96.35308043515022\n",
      "Non zero weights: 6779\n"
     ]
    }
   ],
   "source": [
    "logreg =LogisticRegression(C = 5 , penalty = 'l2')\n",
    "logreg.fit(X_train_tfidf,y_train)\n",
    "y_pred = logreg.predict(X_test_tfidf)\n",
    "print(\"Accuracy on test data:\" ,(accuracy_score(y_test,y_pred)*100))\n",
    "print(\"Precision on test data:\" ,(precision_score(y_test,y_pred)*100))\n",
    "print(\"Recall on test data:\" ,(recall_score(y_test,y_pred)*100))\n",
    "print(\"F1-score on test data:\" ,(f1_score(y_test,y_pred)*100))\n",
    "print(\"Non zero weights:\" ,np.count_nonzero(logreg.coef_))"
   ]
  },
  {
   "cell_type": "code",
   "execution_count": 81,
   "metadata": {},
   "outputs": [
    {
     "name": "stdout",
     "output_type": "stream",
     "text": [
      "Accuracy on test data: 93.42\n",
      "Precision on test data: 95.36990437845999\n",
      "Recall on test data: 97.21826369492105\n",
      "F1-score on test data: 96.28521424942133\n",
      "Non zero weights: 10739\n"
     ]
    }
   ],
   "source": [
    "logreg =LogisticRegression(C = 10 , penalty = 'l1')\n",
    "logreg.fit(X_train_tfidf,y_train)\n",
    "y_pred = logreg.predict(X_test_tfidf)\n",
    "print(\"Accuracy on test data:\" ,(accuracy_score(y_test,y_pred)*100))\n",
    "print(\"Precision on test data:\" ,(precision_score(y_test,y_pred)*100))\n",
    "print(\"Recall on test data:\" ,(recall_score(y_test,y_pred)*100))\n",
    "print(\"F1-score on test data:\" ,(f1_score(y_test,y_pred)*100))\n",
    "print(\"Non zero weights:\" ,np.count_nonzero(logreg.coef_))"
   ]
  },
  {
   "cell_type": "markdown",
   "metadata": {},
   "source": [
    "# Performing Perturbation Test"
   ]
  },
  {
   "cell_type": "code",
   "execution_count": 82,
   "metadata": {},
   "outputs": [
    {
     "name": "stdout",
     "output_type": "stream",
     "text": [
      "Accuracy on test data 93.39\n",
      "Non zero weights are: 1021721\n"
     ]
    }
   ],
   "source": [
    "lr1 = LogisticRegression(penalty='l2',C=5)\n",
    "lr1.fit(X_train_tfidf,y_train)\n",
    "y_pred = lr1.predict(X_test_tfidf)\n",
    "print(\"Accuracy on test data\" ,accuracy_score(y_test,y_pred)*100)\n",
    "print(\"Non zero weights are:\", np.count_nonzero(lr1.coef_))"
   ]
  },
  {
   "cell_type": "code",
   "execution_count": 83,
   "metadata": {},
   "outputs": [
    {
     "name": "stdout",
     "output_type": "stream",
     "text": [
      "[-0.11065345  0.01043315 -0.13679608  0.00867513  0.01602074  0.0422824\n",
      "  0.01376184  0.03005249  0.01783398  0.01783398  0.00235416  0.00235416\n",
      "  0.03217643  0.01433734  0.0051184   0.01476618  0.00825823  0.00825823\n",
      " -0.14567652 -0.14567652  0.01944693  0.01944693  0.00644061  0.00625251\n",
      "  0.00625251 -0.24307165  0.00187038 -0.07914852  0.00187038 -0.23387557\n",
      "  0.00261024  0.0055114   0.03356086  0.06728871  0.06728871  0.15073324\n",
      "  0.00704908  0.11173333  0.0083589   0.00826848  0.00826848  0.03231783\n",
      "  0.03231783  0.0185706   0.0185706   0.15523245  0.15523245  0.16063523\n",
      "  0.00483284  0.05892017]\n"
     ]
    }
   ],
   "source": [
    "from scipy.sparse import find\n",
    "#weights before adding random noise\n",
    "weights1 = find(lr1.coef_[0])[2]\n",
    "print(weights1[:50])"
   ]
  },
  {
   "cell_type": "code",
   "execution_count": 84,
   "metadata": {},
   "outputs": [
    {
     "data": {
      "text/plain": [
       "array([[-0.11065345,  0.01043315, -0.13679608, ...,  0.00376243,\n",
       "         0.00376243,  0.01367999]])"
      ]
     },
     "execution_count": 84,
     "metadata": {},
     "output_type": "execute_result"
    }
   ],
   "source": [
    "lr1.coef_"
   ]
  },
  {
   "cell_type": "code",
   "execution_count": 85,
   "metadata": {},
   "outputs": [],
   "source": [
    "#print(X_train_tfidf.toarray())\n",
    "X_train_tfidfeps = X_train_tfidf\n",
    "#getting the positions(row and column) and the value of non-zero elements\n",
    "#a,b,c = find(X_train_tfidfeps)"
   ]
  },
  {
   "cell_type": "code",
   "execution_count": 86,
   "metadata": {},
   "outputs": [
    {
     "data": {
      "text/plain": [
       "(80000, 1021721)"
      ]
     },
     "execution_count": 86,
     "metadata": {},
     "output_type": "execute_result"
    }
   ],
   "source": [
    "#Adding noise to the train data to get new train data set\n",
    "#X_train_bow = X_train_bow.todense()\n",
    "epsilon = 0.01\n",
    "#X_train_tfidfeps[a,b] = epsilon + X_train_tfidfeps[a,b]\n",
    "X_train_tfidfeps.data += epsilon\n",
    "X_train_tfidfeps.shape"
   ]
  },
  {
   "cell_type": "code",
   "execution_count": 87,
   "metadata": {},
   "outputs": [
    {
     "name": "stdout",
     "output_type": "stream",
     "text": [
      "Accuracy on test data 93.395\n",
      "Non zero weights are: 1021721\n"
     ]
    }
   ],
   "source": [
    "#Training on train data with random noise\n",
    "lr2 = LogisticRegression(penalty='l2',C=5)\n",
    "lr2.fit(X_train_tfidfeps,y_train)\n",
    "y_pred = lr2.predict(X_test_tfidf)\n",
    "print(\"Accuracy on test data\", accuracy_score(y_test,y_pred)*100)\n",
    "print(\"Non zero weights are:\", np.count_nonzero(lr2.coef_))"
   ]
  },
  {
   "cell_type": "code",
   "execution_count": 88,
   "metadata": {},
   "outputs": [
    {
     "name": "stdout",
     "output_type": "stream",
     "text": [
      "[-0.10971507  0.01011469 -0.13314646  0.00688959  0.01548306  0.04075054\n",
      "  0.01204399  0.03010242  0.01573299  0.01573299  0.00225911  0.00225911\n",
      "  0.0281012   0.01000246  0.00399425  0.01574352  0.00615674  0.00615674\n",
      " -0.13485968 -0.13485968  0.01635303  0.01635303  0.00576506  0.00454967\n",
      "  0.00454967 -0.26596913  0.00094759 -0.10232561  0.00094759 -0.22453037\n",
      "  0.00204479  0.00399237  0.03126285  0.07221614  0.07221614  0.15321823\n",
      "  0.00510568  0.1192846   0.00757239  0.00693267  0.00693267  0.03031101\n",
      "  0.03031101  0.01693349  0.01693349  0.16489724  0.16489724  0.15396372\n",
      "  0.00412932  0.05983627]\n"
     ]
    }
   ],
   "source": [
    "from scipy.sparse import find\n",
    "#weights before adding random noise\n",
    "weights2 = find(lr2.coef_[0])[2]\n",
    "print(weights2[:50])"
   ]
  },
  {
   "cell_type": "code",
   "execution_count": 89,
   "metadata": {},
   "outputs": [
    {
     "data": {
      "text/plain": [
       "array([[-0.10971507,  0.01011469, -0.13314646, ...,  0.00258274,\n",
       "         0.00258274,  0.01232063]])"
      ]
     },
     "execution_count": 89,
     "metadata": {},
     "output_type": "execute_result"
    }
   ],
   "source": [
    "lr2.coef_"
   ]
  },
  {
   "cell_type": "code",
   "execution_count": 90,
   "metadata": {},
   "outputs": [],
   "source": [
    "weights1 = weights1 + 0.000001"
   ]
  },
  {
   "cell_type": "code",
   "execution_count": 91,
   "metadata": {},
   "outputs": [],
   "source": [
    "weights2 = weights2 + 0.000001"
   ]
  },
  {
   "cell_type": "code",
   "execution_count": 92,
   "metadata": {},
   "outputs": [
    {
     "name": "stdout",
     "output_type": "stream",
     "text": [
      "[-0.84804044  3.05208686 -2.66795246 ... 31.34604826 31.34604826\n",
      "  9.93613189]\n"
     ]
    }
   ],
   "source": [
    "weights_diff = ((abs(weights1 - weights2)/(weights1))*100)\n",
    "print(weights_diff)"
   ]
  },
  {
   "cell_type": "code",
   "execution_count": 98,
   "metadata": {},
   "outputs": [
    {
     "data": {
      "image/png": "[encoded data removed]",
      "text/plain": [
       "<Figure size 432x288 with 1 Axes>"
      ]
     },
     "metadata": {},
     "output_type": "display_data"
    }
   ],
   "source": [
    "from sklearn.metrics import roc_curve, auc\n",
    "\n",
    "def plot_roc_auc(actual, preds):\n",
    "    fpr, tpr, thresholds = roc_curve(actual, preds[:,1])\n",
    "    plt.plot(fpr,tpr,'r')\n",
    "    plt.plot([0,1],[0,1],'b')\n",
    "    plt.title('AUC:{}'.format(auc(fpr,tpr)))\n",
    "    plt.show()\n",
    "\n",
    "plot_roc_auc(y_test,lr1.predict_proba(X_test_tfidf))"
   ]
  },
  {
   "cell_type": "code",
   "execution_count": 99,
   "metadata": {},
   "outputs": [
    {
     "data": {
      "image/png": "[encoded data removed]",
      "text/plain": [
       "<Figure size 432x288 with 1 Axes>"
      ]
     },
     "metadata": {},
     "output_type": "display_data"
    }
   ],
   "source": [
    "from sklearn.metrics import roc_curve, auc\n",
    "\n",
    "def plot_roc_auc(actual, preds):\n",
    "    fpr, tpr, thresholds = roc_curve(actual, preds[:,1])\n",
    "    plt.plot(fpr,tpr,'r')\n",
    "    plt.plot([0,1],[0,1],'b')\n",
    "    plt.title('AUC:{}'.format(auc(fpr,tpr)))\n",
    "    plt.show()\n",
    "\n",
    "plot_roc_auc(y_test,lr2.predict_proba(X_test_tfidf))"
   ]
  },
  {
   "cell_type": "code",
   "execution_count": 100,
   "metadata": {},
   "outputs": [
    {
     "name": "stdout",
     "output_type": "stream",
     "text": [
      "2871\n"
     ]
    }
   ],
   "source": [
    "print(weights_diff[np.where(weights_diff > 64)].size)"
   ]
  },
  {
   "cell_type": "markdown",
   "metadata": {},
   "source": [
    "2871 features have weight changes greater than 64%"
   ]
  },
  {
   "cell_type": "markdown",
   "metadata": {},
   "source": [
    "# Feature Importance\n",
    "Multicolinearity"
   ]
  },
  {
   "cell_type": "code",
   "execution_count": 101,
   "metadata": {},
   "outputs": [],
   "source": [
    "#Creating a dataframe with feature weights\n",
    "#df = pd.DataFrame(data = lr2.coef_.reshape(-1,1),index = count_vect.get_feature_names())\n",
    "word = tfidf_vect.get_feature_names()\n",
    "coef = lr2.coef_.tolist()[0]\n",
    "coef_df = pd.DataFrame({'Words':word, 'Coefficient':coef})\n",
    "coef_df = coef_df.sort_values(['Coefficient','Words'], ascending=[0, 1]) "
   ]
  },
  {
   "cell_type": "code",
   "execution_count": 102,
   "metadata": {},
   "outputs": [
    {
     "name": "stdout",
     "output_type": "stream",
     "text": [
      "Top 20 Positive Features\n",
      "Words  Coefficient\n",
      "          great    17.303447\n",
      "           best    14.853951\n",
      "         delici    14.079424\n",
      "           love    13.465455\n",
      "        perfect    12.046486\n",
      "          excel    11.505109\n",
      " high recommend     9.925848\n",
      "           nice     9.505823\n",
      "        favorit     9.179285\n",
      "           good     9.148196\n",
      "           amaz     9.082668\n",
      "         wonder     9.064536\n",
      "          yummi     7.890514\n",
      "          tasti     7.564653\n",
      "         addict     7.456029\n",
      "         awesom     7.324846\n",
      "          alway     6.785832\n",
      "wont disappoint     6.554621\n",
      "           easi     6.527463\n",
      "        satisfi     6.477927\n"
     ]
    }
   ],
   "source": [
    "#Getting 20 most important positive features.\n",
    "print(\"Top 20 Positive Features\")\n",
    "print(coef_df.head(20).to_string(index=False))"
   ]
  },
  {
   "cell_type": "code",
   "execution_count": 103,
   "metadata": {},
   "outputs": [
    {
     "name": "stdout",
     "output_type": "stream",
     "text": [
      "Top 20 Negative Features\n",
      "Words  Coefficient\n",
      "     stuck    -6.567770\n",
      "      mayb    -6.672338\n",
      "      wors    -6.914106\n",
      "     sorri    -6.954016\n",
      "   disgust    -6.992805\n",
      "     money    -7.229492\n",
      "  two star    -7.452123\n",
      "      weak    -7.832975\n",
      " tasteless    -7.904558\n",
      "  wont buy    -8.297113\n",
      "     threw    -8.406436\n",
      "     stale    -8.536266\n",
      "  unfortun    -8.886953\n",
      "     bland    -9.325325\n",
      "    return    -9.897846\n",
      "        aw    -9.939287\n",
      "   horribl    -9.956765\n",
      "   terribl   -11.457522\n",
      "     worst   -14.394850\n",
      "disappoint   -15.600887\n"
     ]
    }
   ],
   "source": [
    "#Getting 20 most important negative features.\n",
    "print(\"Top 20 Negative Features\")\n",
    "print(coef_df.tail(20).to_string(index=False))"
   ]
  },
  {
   "cell_type": "markdown",
   "metadata": {},
   "source": [
    "# Feature generation techniques to convert text to vector\n",
    "TF-IDF Average Word2vec"
   ]
  },
  {
   "cell_type": "code",
   "execution_count": 104,
   "metadata": {},
   "outputs": [
    {
     "name": "stdout",
     "output_type": "stream",
     "text": [
      "shape of X: (100000,)\n",
      "shape of y: (100000,)\n",
      "(80000,) (80000,) (20000,)\n"
     ]
    }
   ],
   "source": [
    "#splitting data into train and test where 70% data used for train model and 30% for test model\n",
    "X = final_100k['CleanedText']\n",
    "print(\"shape of X:\",X.shape)\n",
    "y = final_100k['Score']\n",
    "print(\"shape of y:\",y.shape)\n",
    "\n",
    "#splitting data into train and test where 80% data used for train and 20% for test model\n",
    "\n",
    "X_train_avgw2v, X_test_avgw2v, y_train_avgw2v, y_test_avgw2v = train_test_split(X,y,test_size=0.2,random_state=0)\n",
    "print(X_train_avgw2v.shape, y_train_avgw2v.shape, X_test_avgw2v.shape)"
   ]
  },
  {
   "cell_type": "code",
   "execution_count": 105,
   "metadata": {},
   "outputs": [
    {
     "name": "stdout",
     "output_type": "stream",
     "text": [
      "['two', 'himalayan', 'realli', 'hard', 'find', 'realli', 'healthi', 'food', 'like', 'love', 'spa', 'select', 'dri', 'can', 'health', 'problem', 'digest', 'potti', 'problem', 'bladder', 'infect', 'reoccur', 'wonder', 'thank', 'make']\n",
      "**********************************\n",
      "['order', 'arriv', 'day', 'place', 'pack', 'realli', 'well', 'styrofoam', 'dri', 'ice', 'stuff', 'pretti', 'good', 'liter', 'disappear', 'mouth', 'tri', 'take', 'big', 'bite', 'let', 'bite', 'complet', 'melt', 'mouth', 'dont', 'swallow', 'melt', 'there', 'noth', 'left', 'weird', 'certain', 'satisfact', 'abl', 'sit', 'whole', 'guiltless', 'pint']\n"
     ]
    }
   ],
   "source": [
    "from gensim.models import Word2Vec\n",
    "from gensim.models import KeyedVectors\n",
    "\n",
    "#Train your own word2vec model using your own text corpus of train data\n",
    "import gensim\n",
    "i=0\n",
    "list_of_sent_train=[]\n",
    "for sent in X_train_avgw2v:\n",
    "    list_of_sent_train.append(sent.split())\n",
    "print(list_of_sent_train[0])\n",
    "print('**********************************')\n",
    "print(list_of_sent_train[1])"
   ]
  },
  {
   "cell_type": "code",
   "execution_count": 106,
   "metadata": {},
   "outputs": [
    {
     "name": "stdout",
     "output_type": "stream",
     "text": [
      "number of words that occured 5 times 11372\n"
     ]
    }
   ],
   "source": [
    "#min_count=5 considers only the words occur atleast 5 times\n",
    "w2v_model=Word2Vec(list_of_sent_train,min_count=5,size=50,workers=4)\n",
    "words=list(w2v_model.wv.vocab)\n",
    "print(\"number of words that occured 5 times\",len(words))"
   ]
  },
  {
   "cell_type": "code",
   "execution_count": 107,
   "metadata": {},
   "outputs": [
    {
     "name": "stdout",
     "output_type": "stream",
     "text": [
      "number of words that occured minimum 5 times 11372\n",
      "sample words ['two', 'himalayan', 'realli', 'hard', 'find', 'healthi', 'food', 'like', 'love', 'spa', 'select', 'dri', 'can', 'health', 'problem', 'digest', 'potti', 'bladder', 'infect', 'wonder', 'thank', 'make', 'order', 'arriv', 'day', 'place', 'pack', 'well', 'styrofoam', 'ice', 'stuff', 'pretti', 'good', 'liter', 'disappear', 'mouth', 'tri', 'take', 'big', 'bite', 'let', 'complet', 'melt', 'dont', 'swallow', 'there', 'noth', 'left', 'weird', 'certain']\n"
     ]
    }
   ],
   "source": [
    "w2v_words = list(w2v_model.wv.vocab)\n",
    "print(\"number of words that occured minimum 5 times\",len(w2v_words))\n",
    "print(\"sample words\",w2v_words[0:50])"
   ]
  },
  {
   "cell_type": "code",
   "execution_count": 108,
   "metadata": {},
   "outputs": [
    {
     "name": "stderr",
     "output_type": "stream",
     "text": [
      "100%|███████████████████████████████████| 80000/80000 [02:52<00:00, 464.00it/s]\n"
     ]
    },
    {
     "name": "stdout",
     "output_type": "stream",
     "text": [
      "80000\n",
      "50\n"
     ]
    }
   ],
   "source": [
    "#average word2vec\n",
    "#compute average word2vec for each review\n",
    "sent_vectors_train=[];# the avg-w2v for each sentence/review is stored\n",
    "for sent in tqdm(list_of_sent_train): #for each review/sentence\n",
    "    sent_vec=np.zeros(50) #as word vectors are of zero length\n",
    "    cnt_words=0  #number of words with a valid vector in the review/sentence\n",
    "    for word in sent: #for each word in a review/sentence\n",
    "        if word in w2v_words:\n",
    "            vec=w2v_model.wv[word]\n",
    "            sent_vec += vec\n",
    "            cnt_words += 1\n",
    "        if cnt_words != 0:\n",
    "            sent_vec /= cnt_words\n",
    "    sent_vectors_train.append(sent_vec)\n",
    "print(len(sent_vectors_train))\n",
    "print(len(sent_vectors_train[0]))"
   ]
  },
  {
   "cell_type": "code",
   "execution_count": 109,
   "metadata": {},
   "outputs": [
    {
     "name": "stdout",
     "output_type": "stream",
     "text": [
      "['love', 'product', 'perfect', 'serv', 'size', 'one', 'count', 'carb', 'dieti', 'also', 'good', 'camp', 'vacat', 'run', 'disappoint', 'condit', 'box', 'complet', 'crunch', 'thank', 'content', 'surviv']\n",
      "**********************************\n",
      "['purchas', 'butter', 'chicken', 'curri', 'pack', 'amazon', 'great', 'sale', 'skeptic', 'tast', 'low', 'behold', 'tast', 'way', 'exceed', 'expect', 'meat', 'eater', 'ad', 'tofu', 'cauliflow', 'instead', 'chicken', 'impress', 'authent', 'tast', 'compar', 'restaur', 'weve', 'noth', 'beat', 'fresh', 'unassum', 'packet', 'good', 'could', 'rival', 'indian', 'restaur', 'frequent', 'perfect', 'meal', 'tast', 'price']\n"
     ]
    }
   ],
   "source": [
    "from gensim.models import Word2Vec\n",
    "from gensim.models import KeyedVectors\n",
    "\n",
    "#Train your own word2vec model using your own text corpus of train data\n",
    "import gensim\n",
    "i=0\n",
    "list_of_sent_test=[]\n",
    "for sent in X_test_avgw2v:\n",
    "    list_of_sent_test.append(sent.split())\n",
    "print(list_of_sent_test[0])\n",
    "print('**********************************')\n",
    "print(list_of_sent_test[1])"
   ]
  },
  {
   "cell_type": "code",
   "execution_count": 110,
   "metadata": {},
   "outputs": [
    {
     "name": "stdout",
     "output_type": "stream",
     "text": [
      "number of words that occured 5 times 6228\n"
     ]
    }
   ],
   "source": [
    "#min_count=5 considers only the words occur atleast 5 times\n",
    "w2v_model=Word2Vec(list_of_sent_test,min_count=5,size=50,workers=4)\n",
    "words=list(w2v_model.wv.vocab)\n",
    "print(\"number of words that occured 5 times\",len(words))"
   ]
  },
  {
   "cell_type": "code",
   "execution_count": 111,
   "metadata": {},
   "outputs": [
    {
     "name": "stdout",
     "output_type": "stream",
     "text": [
      "number of words that occured minimum 5 times 6228\n",
      "sample words ['love', 'product', 'perfect', 'serv', 'size', 'one', 'count', 'carb', 'also', 'good', 'camp', 'vacat', 'run', 'disappoint', 'condit', 'box', 'complet', 'crunch', 'thank', 'content', 'surviv', 'purchas', 'butter', 'chicken', 'curri', 'pack', 'amazon', 'great', 'sale', 'skeptic', 'tast', 'low', 'behold', 'way', 'exceed', 'expect', 'meat', 'eater', 'ad', 'tofu', 'cauliflow', 'instead', 'impress', 'authent', 'compar', 'restaur', 'weve', 'noth', 'beat', 'fresh']\n"
     ]
    }
   ],
   "source": [
    "w2v_words = list(w2v_model.wv.vocab)\n",
    "print(\"number of words that occured minimum 5 times\",len(w2v_words))\n",
    "print(\"sample words\",w2v_words[0:50])"
   ]
  },
  {
   "cell_type": "code",
   "execution_count": 112,
   "metadata": {},
   "outputs": [
    {
     "name": "stderr",
     "output_type": "stream",
     "text": [
      "100%|███████████████████████████████████| 20000/20000 [00:38<00:00, 513.69it/s]\n"
     ]
    },
    {
     "name": "stdout",
     "output_type": "stream",
     "text": [
      "20000\n",
      "50\n"
     ]
    }
   ],
   "source": [
    "#average word2vec\n",
    "#compute average word2vec for each review\n",
    "sent_vectors_test=[];# the avg-w2v for each sentence/review is stored\n",
    "for sent in tqdm(list_of_sent_test): #for each review/sentence\n",
    "    sent_vec=np.zeros(50) #as word vectors are of zero length\n",
    "    cnt_words=0  #number of words with a valid vector in the review/sentence\n",
    "    for word in sent: #for each word in a review/sentence\n",
    "        if word in w2v_words:\n",
    "            vec=w2v_model.wv[word]\n",
    "            sent_vec += vec\n",
    "            cnt_words += 1\n",
    "        if cnt_words != 0:\n",
    "            sent_vec /= cnt_words\n",
    "    sent_vectors_test.append(sent_vec)\n",
    "print(len(sent_vectors_test))\n",
    "print(len(sent_vectors_test[0]))"
   ]
  },
  {
   "cell_type": "code",
   "execution_count": 113,
   "metadata": {},
   "outputs": [
    {
     "data": {
      "text/plain": [
       "80000"
      ]
     },
     "execution_count": 113,
     "metadata": {},
     "output_type": "execute_result"
    }
   ],
   "source": [
    "len(sent_vectors_train)"
   ]
  },
  {
   "cell_type": "code",
   "execution_count": 114,
   "metadata": {},
   "outputs": [
    {
     "data": {
      "text/plain": [
       "20000"
      ]
     },
     "execution_count": 114,
     "metadata": {},
     "output_type": "execute_result"
    }
   ],
   "source": [
    "len(sent_vectors_test)"
   ]
  },
  {
   "cell_type": "markdown",
   "metadata": {},
   "source": [
    "# Finding Optimal lambda using GridSearchCV and RandomSearchCV\n",
    "L1,L2 regularizers using time series CV"
   ]
  },
  {
   "cell_type": "code",
   "execution_count": 115,
   "metadata": {},
   "outputs": [
    {
     "name": "stdout",
     "output_type": "stream",
     "text": [
      "Fitting 5 folds for each of 30 candidates, totalling 150 fits\n"
     ]
    },
    {
     "name": "stderr",
     "output_type": "stream",
     "text": [
      "[Parallel(n_jobs=1)]: Done 150 out of 150 | elapsed:  2.2min finished\n"
     ]
    },
    {
     "name": "stdout",
     "output_type": "stream",
     "text": [
      "Best Hyper parameter: {'C': 0.01, 'penalty': 'l2'}\n",
      "Best accuracy score: 93.46659388990791\n",
      "Wall time: 2min 11s\n"
     ]
    }
   ],
   "source": [
    "%%time\n",
    "#Importing logistic regression gridsearch and randomsearch\n",
    "from sklearn.model_selection import GridSearchCV, RandomizedSearchCV\n",
    "from sklearn.linear_model import LogisticRegression\n",
    "\n",
    "#logreg1 = LogisticRegression(penalty='l1')\n",
    "#logreg2 = LogisticRegression(penalty='l2')\n",
    "#parameters we need to try on classifier\n",
    "param_grid = [{'C':[1000,500,100,50,10,5,1,0.5,0.1,0.05,0.01,0.005,0.001,0.0005,0.0001],'penalty':['l1','l2']}]\n",
    "#For time based splitting\n",
    "#tscv = TimeSeriesSplit(n_splits=5)\n",
    "#performing grid search with l1 regularizer\n",
    "model1 = GridSearchCV(logreg1,param_grid,cv=5,scoring='f1',verbose=1)\n",
    "model1.fit(sent_vectors_train,y_train_avgw2v)\n",
    "#Using grid search to find optimal C or 1/lambda\n",
    "print(\"Best Hyper parameter:\", model1.best_params_)\n",
    "print(\"Best accuracy score:\" ,(model1.best_score_*100))"
   ]
  },
  {
   "cell_type": "code",
   "execution_count": 116,
   "metadata": {},
   "outputs": [
    {
     "name": "stdout",
     "output_type": "stream",
     "text": [
      "Accuracy on test data: 87.71\n",
      "Precision on test data: 87.71438571928596\n",
      "Recall on test data: 99.99429972068631\n",
      "F1-score on test data: 93.45266634702466\n",
      "Non zero weights: 50\n",
      "Confusion Matrix of test data:\n",
      "\n"
     ]
    },
    {
     "data": {
      "text/plain": [
       "<matplotlib.axes._subplots.AxesSubplot at 0x8e50a65898>"
      ]
     },
     "execution_count": 116,
     "metadata": {},
     "output_type": "execute_result"
    },
    {
     "data": {
      "image/png": "[encoded data removed]",
      "text/plain": [
       "<Figure size 432x288 with 2 Axes>"
      ]
     },
     "metadata": {},
     "output_type": "display_data"
    }
   ],
   "source": [
    "#Testing accuracy on test data\n",
    "logreg =LogisticRegression(C = 0.01, penalty = 'l2')\n",
    "logreg.fit(sent_vectors_train,y_train_avgw2v)\n",
    "y_pred = logreg.predict(sent_vectors_test)\n",
    "print(\"Accuracy on test data:\" ,(accuracy_score(y_test_avgw2v,y_pred)*100))\n",
    "print(\"Precision on test data:\" ,(precision_score(y_test_avgw2v,y_pred)*100))\n",
    "print(\"Recall on test data:\" ,(recall_score(y_test_avgw2v,y_pred)*100))\n",
    "print(\"F1-score on test data:\" ,(f1_score(y_test_avgw2v,y_pred)*100))\n",
    "print(\"Non zero weights:\" ,np.count_nonzero(logreg.coef_))\n",
    "print(\"Confusion Matrix of test data:\\n\")\n",
    "df_cm = pd.DataFrame(confusion_matrix(y_test_avgw2v,y_pred),range(2),range(2))\n",
    "sns.set(font_scale=1.4)#for label size\n",
    "sns.heatmap(df_cm, annot=True,annot_kws={\"size\":16},fmt='g')"
   ]
  },
  {
   "cell_type": "code",
   "execution_count": 117,
   "metadata": {},
   "outputs": [
    {
     "name": "stdout",
     "output_type": "stream",
     "text": [
      "Accuracy on test data: 87.705\n",
      "Precision on test data: 87.71377137713772\n",
      "Recall on test data: 99.98859944137263\n",
      "F1-score on test data: 93.44982818784796\n",
      "Non zero weights: 49\n"
     ]
    }
   ],
   "source": [
    "logreg =LogisticRegression(C = 10 , penalty = 'l1')\n",
    "logreg.fit(sent_vectors_train,y_train_avgw2v)\n",
    "y_pred = logreg.predict(sent_vectors_test)\n",
    "print(\"Accuracy on test data:\" ,(accuracy_score(y_test_avgw2v,y_pred)*100))\n",
    "print(\"Precision on test data:\" ,(precision_score(y_test_avgw2v,y_pred)*100))\n",
    "print(\"Recall on test data:\" ,(recall_score(y_test_avgw2v,y_pred)*100))\n",
    "print(\"F1-score on test data:\" ,(f1_score(y_test_avgw2v,y_pred)*100))\n",
    "print(\"Non zero weights:\" ,np.count_nonzero(logreg.coef_))"
   ]
  },
  {
   "cell_type": "markdown",
   "metadata": {},
   "source": [
    "Checking sparsity with differernt values of lambda or C"
   ]
  },
  {
   "cell_type": "code",
   "execution_count": 118,
   "metadata": {},
   "outputs": [
    {
     "data": {
      "text/plain": [
       "(99,)"
      ]
     },
     "execution_count": 118,
     "metadata": {},
     "output_type": "execute_result"
    }
   ],
   "source": [
    "c_sparse = np.arange(0,50,0.5)\n",
    "c_sparse = c_sparse[1:]\n",
    "c_sparse.shape"
   ]
  },
  {
   "cell_type": "code",
   "execution_count": 119,
   "metadata": {},
   "outputs": [
    {
     "data": {
      "image/png": "[encoded data removed]",
      "text/plain": [
       "<Figure size 432x288 with 1 Axes>"
      ]
     },
     "metadata": {},
     "output_type": "display_data"
    }
   ],
   "source": [
    "spc = []#Number of sparsity counts(Non zero weights for a given C)\n",
    "error = []\n",
    "for c in c_sparse:\n",
    "    lr = LogisticRegression(penalty='l1',C=c)\n",
    "    lr.fit(sent_vectors_train,y_train_avgw2v)\n",
    "    error.append(1-lr.score(sent_vectors_test,y_test_avgw2v))\n",
    "    spc.append(np.count_nonzero(lr.coef_))\n",
    "#Plotting C vs Sparsity\n",
    "plt.title(\"C Vs Sparsity\")\n",
    "plt.xlabel(\"Values of C\")\n",
    "plt.ylabel(\"Number of Non zero weights\")\n",
    "plt.plot(c_sparse,spc)\n",
    "plt.show()"
   ]
  },
  {
   "cell_type": "code",
   "execution_count": 120,
   "metadata": {},
   "outputs": [
    {
     "data": {
      "image/png": "[encoded data removed]",
      "text/plain": [
       "<Figure size 432x288 with 1 Axes>"
      ]
     },
     "metadata": {},
     "output_type": "display_data"
    }
   ],
   "source": [
    "#Plotting C vs Sparsity\n",
    "plt.title(\"C Vs Error\")\n",
    "plt.xlabel(\"Values of C\")\n",
    "plt.ylabel(\"Error\")\n",
    "plt.plot(c_sparse,error)\n",
    "plt.show()"
   ]
  },
  {
   "cell_type": "code",
   "execution_count": 121,
   "metadata": {},
   "outputs": [
    {
     "data": {
      "image/png": "[encoded data removed]",
      "text/plain": [
       "<Figure size 432x288 with 1 Axes>"
      ]
     },
     "metadata": {},
     "output_type": "display_data"
    }
   ],
   "source": [
    "spc = []#Number of sparsity counts(Non zero weights for a given C)\n",
    "error = []\n",
    "for c in c_sparse:\n",
    "    lr = LogisticRegression(penalty='l2',C=c)\n",
    "    lr.fit(sent_vectors_train,y_train_avgw2v)\n",
    "    error.append(1-lr.score(sent_vectors_test,y_test_avgw2v))\n",
    "    spc.append(np.count_nonzero(lr.coef_))\n",
    "#Plotting C vs Sparsity\n",
    "plt.title(\"C Vs Sparsity\")\n",
    "plt.xlabel(\"Values of C\")\n",
    "plt.ylabel(\"Number of Non zero weights\")\n",
    "plt.plot(c_sparse,spc)\n",
    "plt.show()"
   ]
  },
  {
   "cell_type": "code",
   "execution_count": 122,
   "metadata": {},
   "outputs": [
    {
     "data": {
      "image/png": "[encoded data removed]",
      "text/plain": [
       "<Figure size 432x288 with 1 Axes>"
      ]
     },
     "metadata": {},
     "output_type": "display_data"
    }
   ],
   "source": [
    "#Plotting C vs Sparsity\n",
    "plt.title(\"C Vs Error\")\n",
    "plt.xlabel(\"Values of C\")\n",
    "plt.ylabel(\"Error\")\n",
    "plt.plot(c_sparse,error)\n",
    "plt.show()"
   ]
  },
  {
   "cell_type": "code",
   "execution_count": 123,
   "metadata": {},
   "outputs": [
    {
     "name": "stdout",
     "output_type": "stream",
     "text": [
      "Fitting 5 folds for each of 10 candidates, totalling 50 fits\n"
     ]
    },
    {
     "name": "stderr",
     "output_type": "stream",
     "text": [
      "[Parallel(n_jobs=1)]: Done  50 out of  50 | elapsed:   48.1s finished\n"
     ]
    },
    {
     "name": "stdout",
     "output_type": "stream",
     "text": [
      "Best Hyper parameter: {'penalty': 'l2', 'C': 0.01}\n",
      "Best accuracy score: 93.46659388990791\n",
      "Wall time: 49 s\n"
     ]
    }
   ],
   "source": [
    "%%time\n",
    "#Importing logistic regression gridsearch and randomsearch\n",
    "from sklearn.model_selection import GridSearchCV, RandomizedSearchCV\n",
    "from sklearn.linear_model import LogisticRegression\n",
    "\n",
    "#logreg1 = LogisticRegression(penalty='l1')\n",
    "#logreg2 = LogisticRegression(penalty='l2')\n",
    "#parameters we need to try on classifier\n",
    "param_grid = {'C':[1000,500,100,50,10,5,1,0.5,0.1,0.05,0.01,0.005,0.001,0.0005,0.0001],'penalty':['l1','l2']}\n",
    "#For time based splitting\n",
    "#tscv = TimeSeriesSplit(n_splits=5)\n",
    "#performing grid search with l1 regularizer\n",
    "model1 = RandomizedSearchCV(logreg1,param_grid,cv=5,scoring='f1',verbose=1)\n",
    "model1.fit(sent_vectors_train,y_train_avgw2v)\n",
    "#Using grid search to find optimal C or 1/lambda\n",
    "print(\"Best Hyper parameter:\", model1.best_params_)\n",
    "print(\"Best accuracy score:\" ,(model1.best_score_*100))"
   ]
  },
  {
   "cell_type": "code",
   "execution_count": 124,
   "metadata": {},
   "outputs": [
    {
     "name": "stdout",
     "output_type": "stream",
     "text": [
      "Accuracy on test data: 87.71\n",
      "Precision on test data: 87.71438571928596\n",
      "Recall on test data: 99.99429972068631\n",
      "F1-score on test data: 93.45266634702466\n",
      "Non zero weights: 50\n",
      "Confusion Matrix of test data:\n",
      "\n"
     ]
    },
    {
     "data": {
      "text/plain": [
       "<matplotlib.axes._subplots.AxesSubplot at 0x8e50a62198>"
      ]
     },
     "execution_count": 124,
     "metadata": {},
     "output_type": "execute_result"
    },
    {
     "data": {
      "image/png": "[encoded data removed]",
      "text/plain": [
       "<Figure size 432x288 with 2 Axes>"
      ]
     },
     "metadata": {},
     "output_type": "display_data"
    }
   ],
   "source": [
    "#Testing accuracy on test data\n",
    "logreg =LogisticRegression(C = 0.01, penalty = 'l2')\n",
    "logreg.fit(sent_vectors_train,y_train_avgw2v)\n",
    "y_pred = logreg.predict(sent_vectors_test)\n",
    "print(\"Accuracy on test data:\" ,(accuracy_score(y_test_avgw2v,y_pred)*100))\n",
    "print(\"Precision on test data:\" ,(precision_score(y_test_avgw2v,y_pred)*100))\n",
    "print(\"Recall on test data:\" ,(recall_score(y_test_avgw2v,y_pred)*100))\n",
    "print(\"F1-score on test data:\" ,(f1_score(y_test_avgw2v,y_pred)*100))\n",
    "print(\"Non zero weights:\" ,np.count_nonzero(logreg.coef_))\n",
    "print(\"Confusion Matrix of test data:\\n\")\n",
    "df_cm = pd.DataFrame(confusion_matrix(y_test_avgw2v,y_pred),range(2),range(2))\n",
    "sns.set(font_scale=1.4)#for label size\n",
    "sns.heatmap(df_cm, annot=True,annot_kws={\"size\":16},fmt='g')"
   ]
  },
  {
   "cell_type": "markdown",
   "metadata": {},
   "source": [
    "# Feature generation techniques to convert text to vector\n",
    "TF-IDF Weighted Word2vec"
   ]
  },
  {
   "cell_type": "code",
   "execution_count": 125,
   "metadata": {},
   "outputs": [
    {
     "name": "stdout",
     "output_type": "stream",
     "text": [
      "shape of X: (100000,)\n",
      "shape of y: (100000,)\n",
      "(80000,) (80000,) (20000,)\n"
     ]
    }
   ],
   "source": [
    "#splitting data into train and test where 80% data used for train model and 20% for test model\n",
    "X = final_100k['CleanedText']\n",
    "print(\"shape of X:\",X.shape)\n",
    "y = final_100k['Score']\n",
    "print(\"shape of y:\",y.shape)\n",
    "X_train_wtdw2v, X_test_wtdw2v, y_train_wtdw2v, y_test_wtdw2v = train_test_split(X,y,test_size=0.2,random_state=0)\n",
    "print(X_train_wtdw2v.shape, y_train_wtdw2v.shape, X_test_wtdw2v.shape)"
   ]
  },
  {
   "cell_type": "code",
   "execution_count": 126,
   "metadata": {},
   "outputs": [],
   "source": [
    "model = TfidfVectorizer()\n",
    "X_train_wtdw2v = model.fit_transform(X_train_wtdw2v)\n",
    "#we are converting a dictionary with word as a key, and the idf as a value\n",
    "#dictionary = dict(zip(model.get_feature_names(), list(model.idf_)))"
   ]
  },
  {
   "cell_type": "code",
   "execution_count": 127,
   "metadata": {},
   "outputs": [],
   "source": [
    "X_test_wtdw2v = model.transform(X_test_wtdw2v)\n",
    "#we are converting a dictionary with word as a key, and the idf as a value\n",
    "dictionary = dict(zip(model.get_feature_names(), list(model.idf_)))"
   ]
  },
  {
   "cell_type": "code",
   "execution_count": 128,
   "metadata": {},
   "outputs": [
    {
     "name": "stderr",
     "output_type": "stream",
     "text": [
      "100%|███████████████████████████████████| 80000/80000 [02:53<00:00, 460.60it/s]\n"
     ]
    },
    {
     "name": "stdout",
     "output_type": "stream",
     "text": [
      "80000\n",
      "50\n"
     ]
    }
   ],
   "source": [
    "#TF-IDF weighted word2vec\n",
    "tfidf_feat=model.get_feature_names()\n",
    "#tfidf words/col-names\n",
    "#final_tf_idf is the sparse matrix with row=sentence,col=word and cell_val=tfidf\n",
    "tfidf_sent_vectors_train=[]\n",
    "row=0\n",
    "for sent in tqdm(list_of_sent_train): #for each review/sentence\n",
    "    sent_vec=np.zeros(50) #as word vectors are of zero length\n",
    "    weight_sum=0  #num of words with a valid vector in the sentence/review\n",
    "    for word in sent:   #for each word in a review/sentence\n",
    "        if word in w2v_words:  \n",
    "            vec=w2v_model.wv[word]#to reduce the computation we are\n",
    "            tf_idf=dictionary[word]*(sent.count(word)/len(sent))#dictionary[word] = idf value of word in whole corpus\n",
    "            sent_vec += (vec*tf_idf) #sent.count(word)= tf values of word in this review\n",
    "            weight_sum += tf_idf\n",
    "    if weight_sum !=0:\n",
    "        sent_vec /= weight_sum\n",
    "    tfidf_sent_vectors_train.append(sent_vec)\n",
    "    row +=1\n",
    "print(len(tfidf_sent_vectors_train))\n",
    "print(len(tfidf_sent_vectors_train[0]))"
   ]
  },
  {
   "cell_type": "code",
   "execution_count": 129,
   "metadata": {},
   "outputs": [
    {
     "name": "stderr",
     "output_type": "stream",
     "text": [
      "100%|███████████████████████████████████| 20000/20000 [00:46<00:00, 427.90it/s]\n"
     ]
    },
    {
     "name": "stdout",
     "output_type": "stream",
     "text": [
      "20000\n",
      "50\n"
     ]
    }
   ],
   "source": [
    "#TF-IDF weighted word2vec\n",
    "tfidf_feat=model.get_feature_names()\n",
    "#tfidf words/col-names\n",
    "#final_tf_idf is the sparse matrix with row=sentence,col=word and cell_val=tfidf\n",
    "tfidf_sent_vectors_test=[]\n",
    "row=0\n",
    "for sent in tqdm(list_of_sent_test): #for each review/sentence\n",
    "    sent_vec=np.zeros(50) #as word vectors are of zero length\n",
    "    weight_sum=0  #num of words with a valid vector in the sentence/review\n",
    "    for word in sent:   #for each word in a review/sentence\n",
    "        if word in w2v_words:  \n",
    "            vec=w2v_model.wv[word]#to reduce the computation we are\n",
    "            tf_idf=dictionary[word]*(sent.count(word)/len(sent))#dictionary[word] = idf value of word in whole corpus\n",
    "            sent_vec += (vec*tf_idf) #sent.count(word)= tf values of word in this review\n",
    "            weight_sum += tf_idf\n",
    "    if weight_sum !=0:\n",
    "        sent_vec /= weight_sum\n",
    "    tfidf_sent_vectors_test.append(sent_vec)\n",
    "    row +=1\n",
    "print(len(tfidf_sent_vectors_test))\n",
    "print(len(tfidf_sent_vectors_test[0]))"
   ]
  },
  {
   "cell_type": "code",
   "execution_count": 130,
   "metadata": {},
   "outputs": [],
   "source": [
    "X_train_wtdw2v=tfidf_sent_vectors_train\n",
    "X_test_wtdw2v=tfidf_sent_vectors_test"
   ]
  },
  {
   "cell_type": "markdown",
   "metadata": {},
   "source": [
    "# Finding Optimal lambda using GridSearchCV and RandomSearchCV\n",
    "L1,L2 regularizers using time series CV"
   ]
  },
  {
   "cell_type": "code",
   "execution_count": 131,
   "metadata": {},
   "outputs": [
    {
     "name": "stdout",
     "output_type": "stream",
     "text": [
      "Fitting 5 folds for each of 30 candidates, totalling 150 fits\n"
     ]
    },
    {
     "name": "stderr",
     "output_type": "stream",
     "text": [
      "[Parallel(n_jobs=1)]: Done 150 out of 150 | elapsed: 23.2min finished\n"
     ]
    },
    {
     "name": "stdout",
     "output_type": "stream",
     "text": [
      "Best Hyper parameter: {'C': 10, 'penalty': 'l1'}\n",
      "Best accuracy score: 93.88682449946293\n",
      "Wall time: 23min 48s\n"
     ]
    }
   ],
   "source": [
    "%%time\n",
    "#Importing logistic regression gridsearch and randomsearch\n",
    "from sklearn.model_selection import GridSearchCV, RandomizedSearchCV\n",
    "from sklearn.linear_model import LogisticRegression\n",
    "\n",
    "#logreg1 = LogisticRegression(penalty='l1')\n",
    "#logreg2 = LogisticRegression(penalty='l2')\n",
    "#parameters we need to try on classifier\n",
    "param_grid = [{'C':[1000,500,100,50,10,5,1,0.5,0.1,0.05,0.01,0.005,0.001,0.0005,0.0001],'penalty':['l1','l2']}]\n",
    "#For time based splitting\n",
    "#tscv = TimeSeriesSplit(n_splits=5)\n",
    "#performing grid search with l1 regularizer\n",
    "model1 = GridSearchCV(logreg1,param_grid,cv=5,scoring='f1',verbose=1)\n",
    "model1.fit(X_train_wtdw2v,y_train_wtdw2v)\n",
    "#Using grid search to find optimal C or 1/lambda\n",
    "print(\"Best Hyper parameter:\", model1.best_params_)\n",
    "print(\"Best accuracy score:\" ,(model1.best_score_*100))"
   ]
  },
  {
   "cell_type": "code",
   "execution_count": 132,
   "metadata": {},
   "outputs": [
    {
     "name": "stdout",
     "output_type": "stream",
     "text": [
      "Accuracy on test data: 88.82\n",
      "Precision on test data: 90.04761655591021\n",
      "Recall on test data: 98.09610670922875\n",
      "F1-score on test data: 93.89971080918862\n",
      "Non zero weights: 50\n",
      "Confusion Matrix of test data:\n",
      "\n"
     ]
    },
    {
     "data": {
      "text/plain": [
       "<matplotlib.axes._subplots.AxesSubplot at 0x8e39cf64e0>"
      ]
     },
     "execution_count": 132,
     "metadata": {},
     "output_type": "execute_result"
    },
    {
     "data": {
      "image/png": "[encoded data removed]",
      "text/plain": [
       "<Figure size 432x288 with 2 Axes>"
      ]
     },
     "metadata": {},
     "output_type": "display_data"
    }
   ],
   "source": [
    "#Testing accuracy on test data\n",
    "logreg =LogisticRegression(C = 10, penalty = 'l1')\n",
    "logreg.fit(X_train_wtdw2v,y_train_wtdw2v)\n",
    "y_pred = logreg.predict(X_test_wtdw2v)\n",
    "print(\"Accuracy on test data:\" ,(accuracy_score(y_test_wtdw2v,y_pred)*100))\n",
    "print(\"Precision on test data:\" ,(precision_score(y_test_wtdw2v,y_pred)*100))\n",
    "print(\"Recall on test data:\" ,(recall_score(y_test_wtdw2v,y_pred)*100))\n",
    "print(\"F1-score on test data:\" ,(f1_score(y_test_wtdw2v,y_pred)*100))\n",
    "print(\"Non zero weights:\" ,np.count_nonzero(logreg.coef_))\n",
    "print(\"Confusion Matrix of test data:\\n\")\n",
    "df_cm = pd.DataFrame(confusion_matrix(y_test_wtdw2v,y_pred),range(2),range(2))\n",
    "sns.set(font_scale=1.4)#for label size\n",
    "sns.heatmap(df_cm, annot=True,annot_kws={\"size\":16},fmt='g')"
   ]
  },
  {
   "cell_type": "code",
   "execution_count": 133,
   "metadata": {},
   "outputs": [
    {
     "name": "stdout",
     "output_type": "stream",
     "text": [
      "Accuracy on test data: 88.83\n",
      "Precision on test data: 90.05284914447176\n",
      "Recall on test data: 98.10180698854244\n",
      "F1-score on test data: 93.90516723959186\n",
      "Non zero weights: 50\n"
     ]
    }
   ],
   "source": [
    "logreg =LogisticRegression(C = 5 , penalty = 'l1')\n",
    "logreg.fit(X_train_wtdw2v,y_train_wtdw2v)\n",
    "y_pred = logreg.predict(X_test_wtdw2v)\n",
    "print(\"Accuracy on test data:\" ,(accuracy_score(y_test_wtdw2v,y_pred)*100))\n",
    "print(\"Precision on test data:\" ,(precision_score(y_test_wtdw2v,y_pred)*100))\n",
    "print(\"Recall on test data:\" ,(recall_score(y_test_wtdw2v,y_pred)*100))\n",
    "print(\"F1-score on test data:\" ,(f1_score(y_test_wtdw2v,y_pred)*100))\n",
    "print(\"Non zero weights:\" ,np.count_nonzero(logreg.coef_))"
   ]
  },
  {
   "cell_type": "code",
   "execution_count": 134,
   "metadata": {},
   "outputs": [
    {
     "data": {
      "text/plain": [
       "(99,)"
      ]
     },
     "execution_count": 134,
     "metadata": {},
     "output_type": "execute_result"
    }
   ],
   "source": [
    "c_sparse = np.arange(0,50,0.5)\n",
    "c_sparse = c_sparse[1:]\n",
    "c_sparse.shape"
   ]
  },
  {
   "cell_type": "code",
   "execution_count": 135,
   "metadata": {},
   "outputs": [
    {
     "data": {
      "image/png": "[encoded data removed]",
      "text/plain": [
       "<Figure size 432x288 with 1 Axes>"
      ]
     },
     "metadata": {},
     "output_type": "display_data"
    }
   ],
   "source": [
    "spc = []#Number of sparsity counts(Non zero weights for a given C)\n",
    "error = []\n",
    "for c in c_sparse:\n",
    "    lr = LogisticRegression(penalty='l1',C=c)\n",
    "    lr.fit(X_train_wtdw2v,y_train_wtdw2v)\n",
    "    error.append(1-lr.score(X_test_wtdw2v,y_test_wtdw2v))\n",
    "    spc.append(np.count_nonzero(lr.coef_))\n",
    "#Plotting C vs Sparsity\n",
    "plt.title(\"C Vs Sparsity\")\n",
    "plt.xlabel(\"Values of C\")\n",
    "plt.ylabel(\"Number of Non zero weights\")\n",
    "plt.plot(c_sparse,spc)\n",
    "plt.show()"
   ]
  },
  {
   "cell_type": "code",
   "execution_count": 136,
   "metadata": {},
   "outputs": [
    {
     "data": {
      "image/png": "[encoded data removed]",
      "text/plain": [
       "<Figure size 432x288 with 1 Axes>"
      ]
     },
     "metadata": {},
     "output_type": "display_data"
    }
   ],
   "source": [
    "#Plotting C vs Sparsity\n",
    "plt.title(\"C Vs Error\")\n",
    "plt.xlabel(\"Values of C\")\n",
    "plt.ylabel(\"Error\")\n",
    "plt.plot(c_sparse,error)\n",
    "plt.show()"
   ]
  },
  {
   "cell_type": "code",
   "execution_count": 137,
   "metadata": {},
   "outputs": [
    {
     "data": {
      "image/png": "[encoded data removed]",
      "text/plain": [
       "<Figure size 432x288 with 1 Axes>"
      ]
     },
     "metadata": {},
     "output_type": "display_data"
    }
   ],
   "source": [
    "spc = []#Number of sparsity counts(Non zero weights for a given C)\n",
    "error = []\n",
    "for c in c_sparse:\n",
    "    lr = LogisticRegression(penalty='l2',C=c)\n",
    "    lr.fit(X_train_wtdw2v,y_train_wtdw2v)\n",
    "    error.append(1-lr.score(X_test_wtdw2v,y_test_wtdw2v))\n",
    "    spc.append(np.count_nonzero(lr.coef_))\n",
    "#Plotting C vs Sparsity\n",
    "plt.title(\"C Vs Sparsity\")\n",
    "plt.xlabel(\"Values of C\")\n",
    "plt.ylabel(\"Number of Non zero weights\")\n",
    "plt.plot(c_sparse,spc)\n",
    "plt.show()"
   ]
  },
  {
   "cell_type": "code",
   "execution_count": 138,
   "metadata": {},
   "outputs": [
    {
     "data": {
      "image/png": "[encoded data removed]",
      "text/plain": [
       "<Figure size 432x288 with 1 Axes>"
      ]
     },
     "metadata": {},
     "output_type": "display_data"
    }
   ],
   "source": [
    "#Plotting C vs Sparsity\n",
    "plt.title(\"C Vs Error\")\n",
    "plt.xlabel(\"Values of C\")\n",
    "plt.ylabel(\"Error\")\n",
    "plt.plot(c_sparse,error)\n",
    "plt.show()"
   ]
  },
  {
   "cell_type": "code",
   "execution_count": 139,
   "metadata": {},
   "outputs": [
    {
     "name": "stdout",
     "output_type": "stream",
     "text": [
      "Fitting 5 folds for each of 10 candidates, totalling 50 fits\n"
     ]
    },
    {
     "name": "stderr",
     "output_type": "stream",
     "text": [
      "[Parallel(n_jobs=1)]: Done  50 out of  50 | elapsed: 11.0min finished\n"
     ]
    },
    {
     "name": "stdout",
     "output_type": "stream",
     "text": [
      "Best Hyper parameter: {'penalty': 'l1', 'C': 10}\n",
      "Best accuracy score: 93.88699403110954\n",
      "Wall time: 11min 28s\n"
     ]
    }
   ],
   "source": [
    "%%time\n",
    "#Importing logistic regression gridsearch and randomsearch\n",
    "from sklearn.model_selection import GridSearchCV, RandomizedSearchCV\n",
    "from sklearn.linear_model import LogisticRegression\n",
    "\n",
    "#logreg1 = LogisticRegression(penalty='l1')\n",
    "#logreg2 = LogisticRegression(penalty='l2')\n",
    "#parameters we need to try on classifier\n",
    "param_grid = {'C':[1000,500,100,50,10,5,1,0.5,0.1,0.05,0.01,0.005,0.001,0.0005,0.0001],'penalty':['l1','l2']}\n",
    "#For time based splitting\n",
    "#tscv = TimeSeriesSplit(n_splits=5)\n",
    "#performing grid search with l1 regularizer\n",
    "model1 = RandomizedSearchCV(logreg1,param_grid,cv=5,scoring='f1',verbose=1)\n",
    "model1.fit(X_train_wtdw2v,y_train_wtdw2v)\n",
    "#Using grid search to find optimal C or 1/lambda\n",
    "print(\"Best Hyper parameter:\", model1.best_params_)\n",
    "print(\"Best accuracy score:\" ,(model1.best_score_*100))"
   ]
  },
  {
   "cell_type": "code",
   "execution_count": 140,
   "metadata": {},
   "outputs": [
    {
     "name": "stdout",
     "output_type": "stream",
     "text": [
      "Accuracy on test data: 88.81\n",
      "Precision on test data: 90.04238396734866\n",
      "Recall on test data: 98.09040642991506\n",
      "F1-score on test data: 93.8942543787854\n",
      "Non zero weights: 50\n",
      "Confusion Matrix of test data:\n",
      "\n"
     ]
    },
    {
     "data": {
      "text/plain": [
       "<matplotlib.axes._subplots.AxesSubplot at 0x8e40e824e0>"
      ]
     },
     "execution_count": 140,
     "metadata": {},
     "output_type": "execute_result"
    },
    {
     "data": {
      "image/png": "[encoded data removed]",
      "text/plain": [
       "<Figure size 432x288 with 2 Axes>"
      ]
     },
     "metadata": {},
     "output_type": "display_data"
    }
   ],
   "source": [
    "#Testing accuracy on test data\n",
    "logreg =LogisticRegression(C = 10, penalty = 'l1')\n",
    "logreg.fit(X_train_wtdw2v,y_train_wtdw2v)\n",
    "y_pred = logreg.predict(X_test_wtdw2v)\n",
    "print(\"Accuracy on test data:\" ,(accuracy_score(y_test_wtdw2v,y_pred)*100))\n",
    "print(\"Precision on test data:\" ,(precision_score(y_test_wtdw2v,y_pred)*100))\n",
    "print(\"Recall on test data:\" ,(recall_score(y_test_wtdw2v,y_pred)*100))\n",
    "print(\"F1-score on test data:\" ,(f1_score(y_test_wtdw2v,y_pred)*100))\n",
    "print(\"Non zero weights:\" ,np.count_nonzero(logreg.coef_))\n",
    "print(\"Confusion Matrix of test data:\\n\")\n",
    "df_cm = pd.DataFrame(confusion_matrix(y_test_avgw2v,y_pred),range(2),range(2))\n",
    "sns.set(font_scale=1.4)#for label size\n",
    "sns.heatmap(df_cm, annot=True,annot_kws={\"size\":16},fmt='g')"
   ]
  },
  {
   "cell_type": "markdown",
   "metadata": {},
   "source": [
    "Observation:\n",
    "    Featurization               CV                    Accuracy              F1-Score               C             Penalty\n",
    "    =====================================================================================================================\n",
    "    BOW                    GridSearchCV                 92                     95                  50             L2\n",
    "                           RandomizedSearchCV           92                     95                  50             L2 \n",
    "                           \n",
    "    TFIDF                  GridSearchCV                 93.5                   96                  5              L1             \n",
    "                           RandomizedSearchCV           93.1                   96                  100            L2\n",
    "                           \n",
    "    AVG Word2Vec           GridSearchCV                 87                     93                  0.01           L2\n",
    "                           RandomizedSearchCV           87                     93                  0.01           L2\n",
    "                           \n",
    "    Wtd Word2Vec           GridSearchCV                 88                     93                  10             L1\n",
    "                           RandomizedSearchCV           88                     93                  10             L1"
   ]
  },
  {
   "cell_type": "markdown",
   "metadata": {},
   "source": [
    "Conclusion:\n",
    "    Features are multicollinear for BOW and tfidf ,they are co-related and for BOW and Tfidf weights difference is 234 and 2871.\n",
    "    BOW and Tfidf Featuriation shows best accuracy as 92% and 93% and for F1-score as 95% and 96%.\n",
    "    Sparsity increases as we increase lambda or decrease C when L2 regulariation is used.\n",
    "    For Avg word2vec its showing biased results towards positive for both grid search and randomized search. "
   ]
  }
 ],
 "metadata": {
  "kernelspec": {
   "display_name": "Python 3",
   "language": "python",
   "name": "python3"
  },
  "language_info": {
   "codemirror_mode": {
    "name": "ipython",
    "version": 3
   },
   "file_extension": ".py",
   "mimetype": "text/x-python",
   "name": "python",
   "nbconvert_exporter": "python",
   "pygments_lexer": "ipython3",
   "version": "3.6.5"
  }
 },
 "nbformat": 4,
 "nbformat_minor": 2
}
