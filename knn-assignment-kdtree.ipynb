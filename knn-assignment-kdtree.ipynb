{
 "cells": [
  {
   "cell_type": "markdown",
   "metadata": {},
   "source": [
    "# Amazon Fine Food Review Analysis-Applying KNN with Kd-tree algorithm\n",
    "Objective: Given a review,determine whether the given review is positive or negative by applying KNN algorithm and deciding the best Feature generation technique for given problem. In order to load the data we have used SQLite dataset as it easier to query the data and visualise the data efficiently. Feature generation techniques to convert text to vector are Bow,Tfidf,Average Tfidf-Word2vec and Weighted Tfidf-Word2vec"
   ]
  },
  {
   "cell_type": "code",
   "execution_count": 1,
   "metadata": {},
   "outputs": [
    {
     "data": {
      "text/html": [
       "<div>\n",
       "<style scoped>\n",
       "    .dataframe tbody tr th:only-of-type {\n",
       "        vertical-align: middle;\n",
       "    }\n",
       "\n",
       "    .dataframe tbody tr th {\n",
       "        vertical-align: top;\n",
       "    }\n",
       "\n",
       "    .dataframe thead th {\n",
       "        text-align: right;\n",
       "    }\n",
       "</style>\n",
       "<table border=\"1\" class=\"dataframe\">\n",
       "  <thead>\n",
       "    <tr style=\"text-align: right;\">\n",
       "      <th></th>\n",
       "      <th>Id</th>\n",
       "      <th>ProductId</th>\n",
       "      <th>UserId</th>\n",
       "      <th>ProfileName</th>\n",
       "      <th>HelpfulnessNumerator</th>\n",
       "      <th>HelpfulnessDenominator</th>\n",
       "      <th>Score</th>\n",
       "      <th>Time</th>\n",
       "      <th>Summary</th>\n",
       "      <th>Text</th>\n",
       "    </tr>\n",
       "  </thead>\n",
       "  <tbody>\n",
       "    <tr>\n",
       "      <th>0</th>\n",
       "      <td>1</td>\n",
       "      <td>B001E4KFG0</td>\n",
       "      <td>A3SGXH7AUHU8GW</td>\n",
       "      <td>delmartian</td>\n",
       "      <td>1</td>\n",
       "      <td>1</td>\n",
       "      <td>1</td>\n",
       "      <td>1303862400</td>\n",
       "      <td>Good Quality Dog Food</td>\n",
       "      <td>I have bought several of the Vitality canned d...</td>\n",
       "    </tr>\n",
       "    <tr>\n",
       "      <th>1</th>\n",
       "      <td>2</td>\n",
       "      <td>B00813GRG4</td>\n",
       "      <td>A1D87F6ZCVE5NK</td>\n",
       "      <td>dll pa</td>\n",
       "      <td>0</td>\n",
       "      <td>0</td>\n",
       "      <td>0</td>\n",
       "      <td>1346976000</td>\n",
       "      <td>Not as Advertised</td>\n",
       "      <td>Product arrived labeled as Jumbo Salted Peanut...</td>\n",
       "    </tr>\n",
       "    <tr>\n",
       "      <th>2</th>\n",
       "      <td>3</td>\n",
       "      <td>B000LQOCH0</td>\n",
       "      <td>ABXLMWJIXXAIN</td>\n",
       "      <td>Natalia Corres \"Natalia Corres\"</td>\n",
       "      <td>1</td>\n",
       "      <td>1</td>\n",
       "      <td>1</td>\n",
       "      <td>1219017600</td>\n",
       "      <td>\"Delight\" says it all</td>\n",
       "      <td>This is a confection that has been around a fe...</td>\n",
       "    </tr>\n",
       "  </tbody>\n",
       "</table>\n",
       "</div>"
      ],
      "text/plain": [
       "   Id   ProductId          UserId                      ProfileName  \\\n",
       "0   1  B001E4KFG0  A3SGXH7AUHU8GW                       delmartian   \n",
       "1   2  B00813GRG4  A1D87F6ZCVE5NK                           dll pa   \n",
       "2   3  B000LQOCH0   ABXLMWJIXXAIN  Natalia Corres \"Natalia Corres\"   \n",
       "\n",
       "   HelpfulnessNumerator  HelpfulnessDenominator  Score        Time  \\\n",
       "0                     1                       1      1  1303862400   \n",
       "1                     0                       0      0  1346976000   \n",
       "2                     1                       1      1  1219017600   \n",
       "\n",
       "                 Summary                                               Text  \n",
       "0  Good Quality Dog Food  I have bought several of the Vitality canned d...  \n",
       "1      Not as Advertised  Product arrived labeled as Jumbo Salted Peanut...  \n",
       "2  \"Delight\" says it all  This is a confection that has been around a fe...  "
      ]
     },
     "execution_count": 1,
     "metadata": {},
     "output_type": "execute_result"
    }
   ],
   "source": [
    "%matplotlib inline\n",
    "import sqlite3\n",
    "import pandas as pd\n",
    "import numpy as np\n",
    "import nltk\n",
    "import string\n",
    "import matplotlib.pyplot as plt\n",
    "import seaborn as sns\n",
    "\n",
    "import warnings\n",
    "warnings.filterwarnings(\"ignore\")\n",
    "\n",
    "from sklearn.feature_extraction.text import TfidfTransformer\n",
    "from sklearn.feature_extraction.text import TfidfVectorizer\n",
    "from sklearn.feature_extraction.text import CountVectorizer\n",
    "from sklearn.metrics import confusion_matrix,classification_report,accuracy_score\n",
    "from sklearn import metrics\n",
    "from sklearn.metrics import roc_curve,auc\n",
    "from nltk.stem.porter import PorterStemmer\n",
    "\n",
    "from tqdm import tqdm\n",
    "import os\n",
    "\n",
    "#Using SQLite table to read data\n",
    "con = sqlite3.connect('database.sqlite')\n",
    "\n",
    "#filtering only positive and negative reviews and not taking reviews with score=3\n",
    "filtered_data=pd.read_sql_query(\"\"\" Select * from Reviews Where Score!=3\"\"\",con)\n",
    "\n",
    "#give reviews with score>3 as positive rating and score<3 as negative rating\n",
    "def partition(x):\n",
    "    if x<3:\n",
    "        return 0\n",
    "    return 1\n",
    "actualScore = filtered_data['Score']\n",
    "\n",
    "#changing reviews with score as positve and negative ratings \n",
    "positiveNegative= actualScore.map(partition)\n",
    "filtered_data['Score']= positiveNegative\n",
    "filtered_data.head(3)"
   ]
  },
  {
   "cell_type": "code",
   "execution_count": 2,
   "metadata": {},
   "outputs": [
    {
     "data": {
      "text/plain": [
       "(525814, 10)"
      ]
     },
     "execution_count": 2,
     "metadata": {},
     "output_type": "execute_result"
    }
   ],
   "source": [
    "filtered_data.shape #looking at the number of attributes and size of the data"
   ]
  },
  {
   "cell_type": "markdown",
   "metadata": {},
   "source": [
    "# Exploratory Data Analysis\n",
    "Data Cleaning:Deduplication It is observed that the reviews data had many duplicate entries.Hence it is necessary to remove duplicate entries inorder to unbaised results for the analysis of data."
   ]
  },
  {
   "cell_type": "code",
   "execution_count": 3,
   "metadata": {},
   "outputs": [
    {
     "data": {
      "text/html": [
       "<div>\n",
       "<style scoped>\n",
       "    .dataframe tbody tr th:only-of-type {\n",
       "        vertical-align: middle;\n",
       "    }\n",
       "\n",
       "    .dataframe tbody tr th {\n",
       "        vertical-align: top;\n",
       "    }\n",
       "\n",
       "    .dataframe thead th {\n",
       "        text-align: right;\n",
       "    }\n",
       "</style>\n",
       "<table border=\"1\" class=\"dataframe\">\n",
       "  <thead>\n",
       "    <tr style=\"text-align: right;\">\n",
       "      <th></th>\n",
       "      <th>Id</th>\n",
       "      <th>ProductId</th>\n",
       "      <th>UserId</th>\n",
       "      <th>ProfileName</th>\n",
       "      <th>HelpfulnessNumerator</th>\n",
       "      <th>HelpfulnessDenominator</th>\n",
       "      <th>Score</th>\n",
       "      <th>Time</th>\n",
       "      <th>Summary</th>\n",
       "      <th>Text</th>\n",
       "    </tr>\n",
       "  </thead>\n",
       "  <tbody>\n",
       "    <tr>\n",
       "      <th>0</th>\n",
       "      <td>78445</td>\n",
       "      <td>B000HDL1RQ</td>\n",
       "      <td>AR5J8UI46CURR</td>\n",
       "      <td>Geetha Krishnan</td>\n",
       "      <td>2</td>\n",
       "      <td>2</td>\n",
       "      <td>5</td>\n",
       "      <td>1199577600</td>\n",
       "      <td>LOACKER QUADRATINI VANILLA WAFERS</td>\n",
       "      <td>DELICIOUS WAFERS. I FIND THAT EUROPEAN WAFERS ...</td>\n",
       "    </tr>\n",
       "    <tr>\n",
       "      <th>1</th>\n",
       "      <td>138317</td>\n",
       "      <td>B000HDOPYC</td>\n",
       "      <td>AR5J8UI46CURR</td>\n",
       "      <td>Geetha Krishnan</td>\n",
       "      <td>2</td>\n",
       "      <td>2</td>\n",
       "      <td>5</td>\n",
       "      <td>1199577600</td>\n",
       "      <td>LOACKER QUADRATINI VANILLA WAFERS</td>\n",
       "      <td>DELICIOUS WAFERS. I FIND THAT EUROPEAN WAFERS ...</td>\n",
       "    </tr>\n",
       "    <tr>\n",
       "      <th>2</th>\n",
       "      <td>138277</td>\n",
       "      <td>B000HDOPYM</td>\n",
       "      <td>AR5J8UI46CURR</td>\n",
       "      <td>Geetha Krishnan</td>\n",
       "      <td>2</td>\n",
       "      <td>2</td>\n",
       "      <td>5</td>\n",
       "      <td>1199577600</td>\n",
       "      <td>LOACKER QUADRATINI VANILLA WAFERS</td>\n",
       "      <td>DELICIOUS WAFERS. I FIND THAT EUROPEAN WAFERS ...</td>\n",
       "    </tr>\n",
       "    <tr>\n",
       "      <th>3</th>\n",
       "      <td>73791</td>\n",
       "      <td>B000HDOPZG</td>\n",
       "      <td>AR5J8UI46CURR</td>\n",
       "      <td>Geetha Krishnan</td>\n",
       "      <td>2</td>\n",
       "      <td>2</td>\n",
       "      <td>5</td>\n",
       "      <td>1199577600</td>\n",
       "      <td>LOACKER QUADRATINI VANILLA WAFERS</td>\n",
       "      <td>DELICIOUS WAFERS. I FIND THAT EUROPEAN WAFERS ...</td>\n",
       "    </tr>\n",
       "    <tr>\n",
       "      <th>4</th>\n",
       "      <td>155049</td>\n",
       "      <td>B000PAQ75C</td>\n",
       "      <td>AR5J8UI46CURR</td>\n",
       "      <td>Geetha Krishnan</td>\n",
       "      <td>2</td>\n",
       "      <td>2</td>\n",
       "      <td>5</td>\n",
       "      <td>1199577600</td>\n",
       "      <td>LOACKER QUADRATINI VANILLA WAFERS</td>\n",
       "      <td>DELICIOUS WAFERS. I FIND THAT EUROPEAN WAFERS ...</td>\n",
       "    </tr>\n",
       "  </tbody>\n",
       "</table>\n",
       "</div>"
      ],
      "text/plain": [
       "       Id   ProductId         UserId      ProfileName  HelpfulnessNumerator  \\\n",
       "0   78445  B000HDL1RQ  AR5J8UI46CURR  Geetha Krishnan                     2   \n",
       "1  138317  B000HDOPYC  AR5J8UI46CURR  Geetha Krishnan                     2   \n",
       "2  138277  B000HDOPYM  AR5J8UI46CURR  Geetha Krishnan                     2   \n",
       "3   73791  B000HDOPZG  AR5J8UI46CURR  Geetha Krishnan                     2   \n",
       "4  155049  B000PAQ75C  AR5J8UI46CURR  Geetha Krishnan                     2   \n",
       "\n",
       "   HelpfulnessDenominator  Score        Time  \\\n",
       "0                       2      5  1199577600   \n",
       "1                       2      5  1199577600   \n",
       "2                       2      5  1199577600   \n",
       "3                       2      5  1199577600   \n",
       "4                       2      5  1199577600   \n",
       "\n",
       "                             Summary  \\\n",
       "0  LOACKER QUADRATINI VANILLA WAFERS   \n",
       "1  LOACKER QUADRATINI VANILLA WAFERS   \n",
       "2  LOACKER QUADRATINI VANILLA WAFERS   \n",
       "3  LOACKER QUADRATINI VANILLA WAFERS   \n",
       "4  LOACKER QUADRATINI VANILLA WAFERS   \n",
       "\n",
       "                                                Text  \n",
       "0  DELICIOUS WAFERS. I FIND THAT EUROPEAN WAFERS ...  \n",
       "1  DELICIOUS WAFERS. I FIND THAT EUROPEAN WAFERS ...  \n",
       "2  DELICIOUS WAFERS. I FIND THAT EUROPEAN WAFERS ...  \n",
       "3  DELICIOUS WAFERS. I FIND THAT EUROPEAN WAFERS ...  \n",
       "4  DELICIOUS WAFERS. I FIND THAT EUROPEAN WAFERS ...  "
      ]
     },
     "execution_count": 3,
     "metadata": {},
     "output_type": "execute_result"
    }
   ],
   "source": [
    "display = pd.read_sql_query(\"\"\"select * from Reviews where Score!=3 and Userid=\"AR5J8UI46CURR\" ORDER BY ProductId\"\"\",con)\n",
    "display"
   ]
  },
  {
   "cell_type": "markdown",
   "metadata": {},
   "source": [
    "As observed that same user has multiple reviews with same values for HelpfulnessNumerator, HelpfulnessDenominator, Score, Time, Summary and Text on doing the analysis."
   ]
  },
  {
   "cell_type": "code",
   "execution_count": 4,
   "metadata": {},
   "outputs": [],
   "source": [
    "#Sorting data according to ProductId in ascending order\n",
    "sortedData=filtered_data.sort_values('ProductId',axis=0,kind=\"quicksort\",ascending=True,inplace=False,na_position='last')"
   ]
  },
  {
   "cell_type": "code",
   "execution_count": 5,
   "metadata": {},
   "outputs": [
    {
     "data": {
      "text/plain": [
       "(364173, 10)"
      ]
     },
     "execution_count": 5,
     "metadata": {},
     "output_type": "execute_result"
    }
   ],
   "source": [
    "#Deduplication of entries\n",
    "final=sortedData.drop_duplicates(subset={\"UserId\",\"ProfileName\",\"Time\",\"Text\"},keep='first',inplace=False)\n",
    "final.shape"
   ]
  },
  {
   "cell_type": "code",
   "execution_count": 6,
   "metadata": {},
   "outputs": [
    {
     "data": {
      "text/plain": [
       "1    307063\n",
       "0     57110\n",
       "Name: Score, dtype: int64"
      ]
     },
     "execution_count": 6,
     "metadata": {},
     "output_type": "execute_result"
    }
   ],
   "source": [
    "final['Score'].value_counts()"
   ]
  },
  {
   "cell_type": "code",
   "execution_count": 7,
   "metadata": {},
   "outputs": [],
   "source": [
    "final=final[final.HelpfulnessNumerator <= final.HelpfulnessDenominator]"
   ]
  },
  {
   "cell_type": "markdown",
   "metadata": {},
   "source": [
    "Randomly selecting 50k data points."
   ]
  },
  {
   "cell_type": "code",
   "execution_count": 8,
   "metadata": {},
   "outputs": [
    {
     "data": {
      "text/html": [
       "<div>\n",
       "<style scoped>\n",
       "    .dataframe tbody tr th:only-of-type {\n",
       "        vertical-align: middle;\n",
       "    }\n",
       "\n",
       "    .dataframe tbody tr th {\n",
       "        vertical-align: top;\n",
       "    }\n",
       "\n",
       "    .dataframe thead th {\n",
       "        text-align: right;\n",
       "    }\n",
       "</style>\n",
       "<table border=\"1\" class=\"dataframe\">\n",
       "  <thead>\n",
       "    <tr style=\"text-align: right;\">\n",
       "      <th></th>\n",
       "      <th>Id</th>\n",
       "      <th>ProductId</th>\n",
       "      <th>UserId</th>\n",
       "      <th>ProfileName</th>\n",
       "      <th>HelpfulnessNumerator</th>\n",
       "      <th>HelpfulnessDenominator</th>\n",
       "      <th>Score</th>\n",
       "      <th>Time</th>\n",
       "      <th>Summary</th>\n",
       "      <th>Text</th>\n",
       "    </tr>\n",
       "  </thead>\n",
       "  <tbody>\n",
       "    <tr>\n",
       "      <th>39208</th>\n",
       "      <td>42566</td>\n",
       "      <td>B000VK5SYC</td>\n",
       "      <td>A28E0YWFLRPMRZ</td>\n",
       "      <td>Gerald R. Townsend</td>\n",
       "      <td>0</td>\n",
       "      <td>0</td>\n",
       "      <td>1</td>\n",
       "      <td>1300320000</td>\n",
       "      <td>Arrived as advertised</td>\n",
       "      <td>Pez Candy is Pez candy, but I couldn't find it...</td>\n",
       "    </tr>\n",
       "    <tr>\n",
       "      <th>391175</th>\n",
       "      <td>422956</td>\n",
       "      <td>B005Y10XZ2</td>\n",
       "      <td>AYOJ4CX2CZP7Y</td>\n",
       "      <td>G. Henson</td>\n",
       "      <td>0</td>\n",
       "      <td>0</td>\n",
       "      <td>0</td>\n",
       "      <td>1350950400</td>\n",
       "      <td>Definitely not for me</td>\n",
       "      <td>This cereal bar is definitely not for me. I fo...</td>\n",
       "    </tr>\n",
       "    <tr>\n",
       "      <th>65625</th>\n",
       "      <td>71293</td>\n",
       "      <td>B007RTR9E2</td>\n",
       "      <td>A3HAA7H8PBVM78</td>\n",
       "      <td>Joseph Oppenheim</td>\n",
       "      <td>1</td>\n",
       "      <td>2</td>\n",
       "      <td>1</td>\n",
       "      <td>1343174400</td>\n",
       "      <td>I liked it</td>\n",
       "      <td>This conditioner seemed to work fine for me, l...</td>\n",
       "    </tr>\n",
       "  </tbody>\n",
       "</table>\n",
       "</div>"
      ],
      "text/plain": [
       "            Id   ProductId          UserId         ProfileName  \\\n",
       "39208    42566  B000VK5SYC  A28E0YWFLRPMRZ  Gerald R. Townsend   \n",
       "391175  422956  B005Y10XZ2   AYOJ4CX2CZP7Y           G. Henson   \n",
       "65625    71293  B007RTR9E2  A3HAA7H8PBVM78    Joseph Oppenheim   \n",
       "\n",
       "        HelpfulnessNumerator  HelpfulnessDenominator  Score        Time  \\\n",
       "39208                      0                       0      1  1300320000   \n",
       "391175                     0                       0      0  1350950400   \n",
       "65625                      1                       2      1  1343174400   \n",
       "\n",
       "                      Summary  \\\n",
       "39208   Arrived as advertised   \n",
       "391175  Definitely not for me   \n",
       "65625              I liked it   \n",
       "\n",
       "                                                     Text  \n",
       "39208   Pez Candy is Pez candy, but I couldn't find it...  \n",
       "391175  This cereal bar is definitely not for me. I fo...  \n",
       "65625   This conditioner seemed to work fine for me, l...  "
      ]
     },
     "execution_count": 8,
     "metadata": {},
     "output_type": "execute_result"
    }
   ],
   "source": [
    "final_40k = final.sample(40000)\n",
    "final_40k.shape\n",
    "final_40k.head(3)"
   ]
  },
  {
   "cell_type": "code",
   "execution_count": 9,
   "metadata": {},
   "outputs": [],
   "source": [
    "#sorting data by timestamp for time based slicing.\n",
    "final_40k = final_40k.sort_values('Time',kind=\"quicksort\")"
   ]
  },
  {
   "cell_type": "code",
   "execution_count": 10,
   "metadata": {},
   "outputs": [
    {
     "data": {
      "text/html": [
       "<div>\n",
       "<style scoped>\n",
       "    .dataframe tbody tr th:only-of-type {\n",
       "        vertical-align: middle;\n",
       "    }\n",
       "\n",
       "    .dataframe tbody tr th {\n",
       "        vertical-align: top;\n",
       "    }\n",
       "\n",
       "    .dataframe thead th {\n",
       "        text-align: right;\n",
       "    }\n",
       "</style>\n",
       "<table border=\"1\" class=\"dataframe\">\n",
       "  <thead>\n",
       "    <tr style=\"text-align: right;\">\n",
       "      <th></th>\n",
       "      <th>Id</th>\n",
       "      <th>ProductId</th>\n",
       "      <th>UserId</th>\n",
       "      <th>ProfileName</th>\n",
       "      <th>HelpfulnessNumerator</th>\n",
       "      <th>HelpfulnessDenominator</th>\n",
       "      <th>Score</th>\n",
       "      <th>Time</th>\n",
       "      <th>Summary</th>\n",
       "      <th>Text</th>\n",
       "    </tr>\n",
       "  </thead>\n",
       "  <tbody>\n",
       "    <tr>\n",
       "      <th>346030</th>\n",
       "      <td>374332</td>\n",
       "      <td>B00004CI84</td>\n",
       "      <td>AEPJYN0NAX9N4</td>\n",
       "      <td>Jody L. Schoth</td>\n",
       "      <td>0</td>\n",
       "      <td>0</td>\n",
       "      <td>1</td>\n",
       "      <td>1014163200</td>\n",
       "      <td>Excellent... Hilarious</td>\n",
       "      <td>Just hilarious... my favorite part is the dini...</td>\n",
       "    </tr>\n",
       "    <tr>\n",
       "      <th>137929</th>\n",
       "      <td>149697</td>\n",
       "      <td>B00006L2ZT</td>\n",
       "      <td>A2RSOEBCK1K70S</td>\n",
       "      <td>G. Preston</td>\n",
       "      <td>19</td>\n",
       "      <td>21</td>\n",
       "      <td>1</td>\n",
       "      <td>1036627200</td>\n",
       "      <td>Boxed Evolution</td>\n",
       "      <td>Long live Camper Van Beethoven!! This is a ble...</td>\n",
       "    </tr>\n",
       "    <tr>\n",
       "      <th>346034</th>\n",
       "      <td>374336</td>\n",
       "      <td>B00004CI84</td>\n",
       "      <td>API663PFYRQCP</td>\n",
       "      <td>Donn Hart</td>\n",
       "      <td>66</td>\n",
       "      <td>67</td>\n",
       "      <td>1</td>\n",
       "      <td>1037750400</td>\n",
       "      <td>Say it once, say it twice, third time's the ch...</td>\n",
       "      <td>When this movie first came out about fifteen y...</td>\n",
       "    </tr>\n",
       "  </tbody>\n",
       "</table>\n",
       "</div>"
      ],
      "text/plain": [
       "            Id   ProductId          UserId     ProfileName  \\\n",
       "346030  374332  B00004CI84   AEPJYN0NAX9N4  Jody L. Schoth   \n",
       "137929  149697  B00006L2ZT  A2RSOEBCK1K70S      G. Preston   \n",
       "346034  374336  B00004CI84   API663PFYRQCP       Donn Hart   \n",
       "\n",
       "        HelpfulnessNumerator  HelpfulnessDenominator  Score        Time  \\\n",
       "346030                     0                       0      1  1014163200   \n",
       "137929                    19                      21      1  1036627200   \n",
       "346034                    66                      67      1  1037750400   \n",
       "\n",
       "                                                  Summary  \\\n",
       "346030                             Excellent... Hilarious   \n",
       "137929                                    Boxed Evolution   \n",
       "346034  Say it once, say it twice, third time's the ch...   \n",
       "\n",
       "                                                     Text  \n",
       "346030  Just hilarious... my favorite part is the dini...  \n",
       "137929  Long live Camper Van Beethoven!! This is a ble...  \n",
       "346034  When this movie first came out about fifteen y...  "
      ]
     },
     "execution_count": 10,
     "metadata": {},
     "output_type": "execute_result"
    }
   ],
   "source": [
    "final_40k.head(3)"
   ]
  },
  {
   "cell_type": "code",
   "execution_count": 11,
   "metadata": {},
   "outputs": [
    {
     "data": {
      "text/plain": [
       "1    33795\n",
       "0     6205\n",
       "Name: Score, dtype: int64"
      ]
     },
     "execution_count": 11,
     "metadata": {},
     "output_type": "execute_result"
    }
   ],
   "source": [
    "final_40k['Score'].value_counts()"
   ]
  },
  {
   "cell_type": "markdown",
   "metadata": {},
   "source": [
    "Observation:It is an imbalanced dataset contains 33795 positive reviews and 6205 negative reviews"
   ]
  },
  {
   "cell_type": "markdown",
   "metadata": {},
   "source": [
    "# Text Preprocessing:Stemming,Stop-words removal and Lemmatization\n",
    "1.Begin by removing html tags 2.Remove any punctuations or set of any special characters 3.Check if the word is made up of english letters and is not alpha-numeric 4.Convert the word to lowercase 5.Remove Stopwords 6.Finally snowball stemming the word"
   ]
  },
  {
   "cell_type": "code",
   "execution_count": 12,
   "metadata": {},
   "outputs": [
    {
     "name": "stdout",
     "output_type": "stream",
     "text": [
      "6\n",
      "I set aside at least an hour each day to read to my son (3 y/o). At this point, I consider myself a connoisseur of children's books and this is one of the best. Santa Clause put this under the tree. Since then, we've read it perpetually and he loves it.<br /><br />First, this book taught him the months of the year.<br /><br />Second, it's a pleasure to read. Well suited to 1.5 y/o old to 4+.<br /><br />Very few children's books are worth owning. Most should be borrowed from the library. This book, however, deserves a permanent spot on your shelf. Sendak's best.\n"
     ]
    }
   ],
   "source": [
    "#find sentences containing HTML tags\n",
    "import re\n",
    "i=0;\n",
    "for sent in final['Text'].values:\n",
    "    if(len(re.findall('<.*?>',sent))):\n",
    "        print(i)\n",
    "        print(sent)\n",
    "        break\n",
    "    i += 1"
   ]
  },
  {
   "cell_type": "code",
   "execution_count": 13,
   "metadata": {},
   "outputs": [
    {
     "name": "stdout",
     "output_type": "stream",
     "text": [
      "{'and', 'now', 'yourself', \"needn't\", 'their', 'did', \"wouldn't\", 'mustn', 'further', 'him', \"she's\", 'they', \"shouldn't\", \"should've\", 'my', 'about', 'below', \"you've\", 'hasn', 'these', 'don', 'do', \"doesn't\", 'this', 'am', 'or', 'were', \"won't\", 'by', 'was', 'after', 'both', 'having', 'own', 'yours', 'who', 'herself', 'once', \"aren't\", \"don't\", 'what', 'into', 'all', 'wasn', 'more', 'd', 'isn', 'before', 'she', 'should', \"wasn't\", \"weren't\", 'to', 'myself', 'aren', \"didn't\", 'but', 'the', 'have', 'on', 'because', 'he', 'that', 'm', 'if', 'out', 'are', 'very', 'through', 'been', 'an', 'hers', 'when', 'than', 'only', 'didn', 'ain', 'over', 'wouldn', 'its', 'which', 'does', 'be', 'is', 'each', 'can', 'nor', 'why', 'theirs', 'up', 'hadn', 'will', 'too', 'then', 're', 'ourselves', 'doing', 'any', \"hasn't\", 'itself', 'being', \"you'll\", 'with', 'not', 'o', 'our', \"mightn't\", 'same', 'in', \"shan't\", 'himself', 'until', 'mightn', 'some', 'it', 'yourselves', \"it's\", 'had', 'where', 'ma', 'how', 'his', \"haven't\", 'themselves', 'those', 'as', 'i', 'a', 'during', 'few', \"you'd\", 'shan', \"that'll\", 'from', 'other', 'no', 'doesn', 'your', 'so', 'against', 'weren', \"you're\", 'y', 'ours', 'her', 'there', 'off', 'here', 'most', 'll', 'shouldn', 'while', 'me', 'between', 'under', 'above', 't', 'won', \"mustn't\", 'you', 'of', 've', 'down', \"couldn't\", 'again', 'such', 'them', 's', 'at', 'whom', 'just', 'has', 'needn', 'for', 'we', \"hadn't\", 'couldn', 'haven', \"isn't\"}\n",
      "*******************************************\n",
      "tasti\n"
     ]
    }
   ],
   "source": [
    "from nltk.corpus import stopwords\n",
    "from nltk.stem import PorterStemmer\n",
    "from nltk.stem.wordnet import WordNetLemmatizer\n",
    "stop= set(stopwords.words('english'))#set of stopwords\n",
    "sno=nltk.stem.SnowballStemmer('english')#initializing the snowball stemmer\n",
    "def cleanhtml(sentence):#function to clean the word of any html tag\n",
    "    cleanr=re.compile('<.*?>')\n",
    "    cleantext=re.sub(cleanr,' ',sentence)\n",
    "    return cleantext\n",
    "def cleanpunc(sentence):#function to clean any punctuation or special characters\n",
    "    cleaned=re.sub(r'[?|!|\\'|\"|#]',r'',sentence)\n",
    "    cleaned=re.sub(r'[.|,|)|(|\\|/]',r' ',cleaned)\n",
    "    return cleaned\n",
    "print(stop)\n",
    "print('*******************************************')\n",
    "print(sno.stem('tasty'))"
   ]
  },
  {
   "cell_type": "code",
   "execution_count": 14,
   "metadata": {},
   "outputs": [
    {
     "name": "stderr",
     "output_type": "stream",
     "text": [
      "100%|███████████████████████████████████| 40000/40000 [02:03<00:00, 323.57it/s]\n"
     ]
    }
   ],
   "source": [
    "#code for implementing step-by-step the checks mentioned the pre-processing phase    \n",
    "str1=' '\n",
    "final_string=[]\n",
    "s=''\n",
    "for i,sent in enumerate(tqdm(final_40k['Text'].values)):\n",
    "    filtered_sentence=[]\n",
    "    #print(sent);\\n\",\n",
    "    sent=cleanhtml(sent) # remove HTMl tags\\n\",\n",
    "    for w in sent.split():\n",
    "          for cleaned_words in cleanpunc(w).split():\n",
    "                if((cleaned_words.isalpha()) & (len(cleaned_words)>2)):    \n",
    "                    if(cleaned_words.lower() not in stop):\n",
    "                        s=(sno.stem(cleaned_words.lower())).encode('utf8')\n",
    "                        filtered_sentence.append(s)\n",
    "                    else:\n",
    "                        continue\n",
    "                else:\n",
    "                    continue \n",
    "    #print(filtered_sentence)\\n\",\n",
    "    str1 = b\" \".join(filtered_sentence) #final string of cleaned words\n",
    "    #print(\\\"***********************************************************************\\\")\\n\",\n",
    "    final_string.append(str1)\n",
    "    i+=1\n",
    "final_40k['CleanedText']=final_string #final string of cleaned words storing in a column of cleanedtext\n",
    "final_40k['CleanedText']=final_40k['CleanedText'].str.decode(\"utf-8\")"
   ]
  },
  {
   "cell_type": "code",
   "execution_count": 15,
   "metadata": {},
   "outputs": [
    {
     "data": {
      "text/plain": [
       "(40000, 11)"
      ]
     },
     "execution_count": 15,
     "metadata": {},
     "output_type": "execute_result"
    }
   ],
   "source": [
    "final_40k.shape"
   ]
  },
  {
   "cell_type": "markdown",
   "metadata": {},
   "source": [
    "# Feature generation techniques to convert text to vector\n",
    "Applying KNN with BOW"
   ]
  },
  {
   "cell_type": "code",
   "execution_count": 16,
   "metadata": {},
   "outputs": [
    {
     "name": "stdout",
     "output_type": "stream",
     "text": [
      "shape of X: (40000,)\n",
      "shape of y: (40000,)\n",
      "(28000,) (28000,) (12000,)\n"
     ]
    }
   ],
   "source": [
    "from sklearn.cross_validation import train_test_split\n",
    "from sklearn.neighbors import KNeighborsClassifier\n",
    "from sklearn.metrics import accuracy_score\n",
    "from sklearn.cross_validation import cross_val_score\n",
    "from collections import Counter\n",
    "from sklearn import cross_validation\n",
    "from sklearn.model_selection import train_test_split\n",
    "#splitting data into train and test where 70% data used for train model and 30% for test model\n",
    "X = final_40k['CleanedText']\n",
    "print(\"shape of X:\",X.shape)\n",
    "y = final_40k['Score']\n",
    "print(\"shape of y:\",y.shape)\n",
    "X_train_bow, X_test_bow, y_train_bow, y_test_bow = train_test_split(X,y,test_size=0.3,random_state=42)\n",
    "print(X_train_bow.shape, y_train_bow.shape, X_test_bow.shape)"
   ]
  },
  {
   "cell_type": "code",
   "execution_count": 17,
   "metadata": {},
   "outputs": [
    {
     "name": "stdout",
     "output_type": "stream",
     "text": [
      "the type of count vectorizer <class 'scipy.sparse.csr.csr_matrix'>\n",
      "the shape of BOW vectorizer (28000, 20954)\n",
      "the number of unique words 20954\n"
     ]
    }
   ],
   "source": [
    "#generating BOW vector matrix for X_train text reviews\n",
    "count_vect_bow=CountVectorizer()\n",
    "X_train_bow = count_vect_bow.fit_transform(X_train_bow)\n",
    "print(\"the type of count vectorizer\",type(X_train_bow))\n",
    "print(\"the shape of BOW vectorizer\",X_train_bow.get_shape())\n",
    "print(\"the number of unique words\",X_train_bow.get_shape()[1])"
   ]
  },
  {
   "cell_type": "code",
   "execution_count": 18,
   "metadata": {},
   "outputs": [
    {
     "name": "stdout",
     "output_type": "stream",
     "text": [
      "the type of count vectorizer <class 'scipy.sparse.csr.csr_matrix'>\n",
      "the shape of BOW vectorizer (12000, 20954)\n",
      "the number of unique words 20954\n"
     ]
    }
   ],
   "source": [
    "#generating BOW vector matrix for X_test text reviews\n",
    "#count_vect_bow=CountVectorizer()\n",
    "X_test_bow = count_vect_bow.transform(X_test_bow)\n",
    "print(\"the type of count vectorizer\",type(X_test_bow))\n",
    "print(\"the shape of BOW vectorizer\",X_test_bow.get_shape())\n",
    "print(\"the number of unique words\",X_test_bow.get_shape()[1])"
   ]
  },
  {
   "cell_type": "code",
   "execution_count": 19,
   "metadata": {},
   "outputs": [
    {
     "name": "stdout",
     "output_type": "stream",
     "text": [
      "0.6388053487849646\n",
      "0.6657034398054134\n"
     ]
    }
   ],
   "source": [
    "from sklearn.decomposition import TruncatedSVD\n",
    "\n",
    "svd_model=TruncatedSVD(algorithm='randomized', n_components=300, n_iter=5, random_state=0, tol=0.0)\n",
    "X_train_bow_trun = svd_model.fit_transform(X_train_bow)\n",
    "print(svd_model.explained_variance_ratio_.sum())\n",
    "X_test_bow_trun = svd_model.fit_transform(X_test_bow)\n",
    "print(svd_model.explained_variance_ratio_.sum())"
   ]
  },
  {
   "cell_type": "markdown",
   "metadata": {},
   "source": [
    "# KNN with Kd-tree algorithm"
   ]
  },
  {
   "cell_type": "markdown",
   "metadata": {},
   "source": [
    "As observed that for simple cross validation splitting data into train and test as 70% and 30%.Applying KNN with Kd-tree algorithm(1 to 30 odd values to find optimal k) for train data and tested it using test data, evaluating accuracy with test data."
   ]
  },
  {
   "cell_type": "code",
   "execution_count": 20,
   "metadata": {},
   "outputs": [
    {
     "name": "stdout",
     "output_type": "stream",
     "text": [
      "\n",
      "Test accuracy for k = 1 is 74%\n",
      "\n",
      "Test accuracy for k = 3 is 79%\n",
      "\n",
      "Test accuracy for k = 5 is 81%\n",
      "\n",
      "Test accuracy for k = 7 is 82%\n",
      "\n",
      "Test accuracy for k = 9 is 82%\n",
      "\n",
      "Test accuracy for k = 11 is 83%\n",
      "\n",
      "Test accuracy for k = 13 is 83%\n",
      "\n",
      "Test accuracy for k = 15 is 83%\n",
      "\n",
      "Test accuracy for k = 17 is 83%\n",
      "\n",
      "Test accuracy for k = 19 is 83%\n",
      "\n",
      "Test accuracy for k = 21 is 83%\n",
      "\n",
      "Test accuracy for k = 23 is 84%\n",
      "\n",
      "Test accuracy for k = 25 is 84%\n",
      "\n",
      "Test accuracy for k = 27 is 84%\n",
      "\n",
      "Test accuracy for k = 29 is 84%\n",
      "Wall time: 1h 19min 45s\n"
     ]
    }
   ],
   "source": [
    "%%time\n",
    "#performing simple cross validation method\n",
    "#creating odd list of K for NN\n",
    "for i in range(1,30,2):\n",
    "    #instantiate learning model(k=30)\n",
    "    knn = KNeighborsClassifier(n_neighbors=i, algorithm=\"kd_tree\")\n",
    "    \n",
    "    #fitting the model on cross validation train\n",
    "    knn.fit(X_train_bow_trun, y_train_bow)\n",
    "    \n",
    "    #predict the response on the cross validation train\n",
    "    pred = knn.predict(X_test_bow_trun)\n",
    "    \n",
    "    #evaluate CV accuracy\n",
    "    acc = accuracy_score(y_test_bow, pred, normalize=True)*float(100)\n",
    "    print(\"\\nTest accuracy for k = %d is %d%%\" %(i,acc))\n",
    "    "
   ]
  },
  {
   "cell_type": "code",
   "execution_count": 21,
   "metadata": {},
   "outputs": [
    {
     "name": "stdout",
     "output_type": "stream",
     "text": [
      "Train accuracy 0.8509285714285715\n",
      "Train error  0.14907142857142852\n",
      "Wall time: 12min 2s\n"
     ]
    }
   ],
   "source": [
    "%%time\n",
    "#Accuracy on train data\n",
    "trainbow_acc_score = knn.score(X_train_bow_trun,y_train_bow)\n",
    "print(\"Train accuracy\",trainbow_acc_score)\n",
    "\n",
    "#Error on Train data\n",
    "trainbow_error = 1-(trainbow_acc_score)\n",
    "print(\"Train error \",trainbow_error)"
   ]
  },
  {
   "cell_type": "code",
   "execution_count": 22,
   "metadata": {},
   "outputs": [
    {
     "name": "stdout",
     "output_type": "stream",
     "text": [
      "Accuracy for KNN model with bag of words is 0.841\n"
     ]
    }
   ],
   "source": [
    "#Evaluate accuracy on test data\n",
    "testbow_accuracy = accuracy_score(y_test_bow, pred)\n",
    "print(\"Accuracy for KNN model with bag of words is\", round(testbow_accuracy,3))"
   ]
  },
  {
   "cell_type": "code",
   "execution_count": 23,
   "metadata": {},
   "outputs": [
    {
     "data": {
      "image/png": "[encoded data removed]",
      "text/plain": [
       "<Figure size 432x288 with 2 Axes>"
      ]
     },
     "metadata": {},
     "output_type": "display_data"
    }
   ],
   "source": [
    "#Confusion Matrix\n",
    "cm = confusion_matrix(y_test_bow, pred)\n",
    "\n",
    "#Plotting confusion matrix\n",
    "class_label = [\"negative\",\"positive\"]\n",
    "dataframe_cm = pd.DataFrame(cm, index=class_label, columns=class_label)\n",
    "sns.heatmap(dataframe_cm, annot=True, fmt=\"d\")\n",
    "plt.title(\"Confusion Matrix\")\n",
    "plt.xlabel(\"Predicted values\")\n",
    "plt.ylabel(\"Actual values\")\n",
    "plt.show()"
   ]
  },
  {
   "cell_type": "markdown",
   "metadata": {},
   "source": [
    "In above confusion matrix tn(true negative)=19,tp(true positive)=10078,fn(false negative)=1819,fp(false positive)=84.As it is shown in classification report overall occuracy(correctly classified points)=(tp+tn)/total=(10078+19)/12000 = ~84% overall error rate/misclassification rate=(fn+fp)/total=(1819+84)/12000 = ~15%"
   ]
  },
  {
   "cell_type": "code",
   "execution_count": 24,
   "metadata": {},
   "outputs": [
    {
     "name": "stdout",
     "output_type": "stream",
     "text": [
      "classification report:\n",
      "**********************\n",
      "             precision    recall  f1-score   support\n",
      "\n",
      "          0       0.18      0.01      0.02      1838\n",
      "          1       0.85      0.99      0.91     10162\n",
      "\n",
      "avg / total       0.75      0.84      0.78     12000\n",
      "\n"
     ]
    }
   ],
   "source": [
    "#Classification report\n",
    "print(\"classification report:\")\n",
    "print(\"**********************\")\n",
    "print(classification_report(y_test_bow,pred))"
   ]
  },
  {
   "cell_type": "markdown",
   "metadata": {},
   "source": [
    "Observed that the accuracy for KNN model with bag of words is 84%"
   ]
  },
  {
   "cell_type": "markdown",
   "metadata": {},
   "source": [
    "# Feature generation techniques to convert text to vector\n",
    "Applying KNN with TF-IDF"
   ]
  },
  {
   "cell_type": "code",
   "execution_count": 25,
   "metadata": {},
   "outputs": [
    {
     "name": "stdout",
     "output_type": "stream",
     "text": [
      "shape of X: (40000,)\n",
      "shape of y: (40000,)\n",
      "(28000,) (28000,) (12000,)\n"
     ]
    }
   ],
   "source": [
    "#splitting data into train and test where 70% data used for train model and 30% for test model\n",
    "X = final_40k['CleanedText']\n",
    "print(\"shape of X:\",X.shape)\n",
    "y = final_40k['Score']\n",
    "print(\"shape of y:\",y.shape)\n",
    "X_train_tfidf, X_test_tfidf, y_train_tfidf, y_test_tfidf = train_test_split(X,y,test_size=0.3,random_state=0)\n",
    "print(X_train_tfidf.shape, y_train_tfidf.shape, X_test_tfidf.shape)"
   ]
  },
  {
   "cell_type": "code",
   "execution_count": 26,
   "metadata": {},
   "outputs": [
    {
     "name": "stdout",
     "output_type": "stream",
     "text": [
      "the type of tfidf vectorier <class 'scipy.sparse.csr.csr_matrix'>\n",
      "the shape of tfidf vetorizer (28000, 20953)\n"
     ]
    }
   ],
   "source": [
    "#TF-IDF train data\n",
    "tfidf_vect = TfidfVectorizer()\n",
    "X_train_tfidf=tfidf_vect.fit_transform(X_train_tfidf)\n",
    "print(\"the type of tfidf vectorier\",type(X_train_tfidf))\n",
    "print(\"the shape of tfidf vetorizer\",X_train_tfidf.get_shape()) "
   ]
  },
  {
   "cell_type": "code",
   "execution_count": 27,
   "metadata": {},
   "outputs": [
    {
     "name": "stdout",
     "output_type": "stream",
     "text": [
      "the type of tfidf vectorier <class 'scipy.sparse.csr.csr_matrix'>\n",
      "the shape of tfidf vetorizer (12000, 14326)\n"
     ]
    }
   ],
   "source": [
    "#TF-IDF test data \n",
    "tfidf_vect = TfidfVectorizer()\n",
    "X_test_tfidf=tfidf_vect.fit_transform(X_test_tfidf)\n",
    "print(\"the type of tfidf vectorier\",type(X_test_tfidf))\n",
    "print(\"the shape of tfidf vetorizer\",X_test_tfidf.get_shape()) "
   ]
  },
  {
   "cell_type": "code",
   "execution_count": 28,
   "metadata": {},
   "outputs": [
    {
     "name": "stdout",
     "output_type": "stream",
     "text": [
      "0.39073959501988553\n",
      "0.4059777522513171\n"
     ]
    }
   ],
   "source": [
    "from sklearn.decomposition import TruncatedSVD\n",
    "\n",
    "svd_model=TruncatedSVD(algorithm='randomized', n_components=300, n_iter=5, random_state=0, tol=0.0)\n",
    "X_train_tfidf_trun = svd_model.fit_transform(X_train_tfidf)\n",
    "print(svd_model.explained_variance_ratio_.sum())\n",
    "X_test_tfidf_trun = svd_model.fit_transform(X_test_tfidf)\n",
    "print(svd_model.explained_variance_ratio_.sum())"
   ]
  },
  {
   "cell_type": "code",
   "execution_count": 29,
   "metadata": {},
   "outputs": [
    {
     "name": "stdout",
     "output_type": "stream",
     "text": [
      "\n",
      "CV accuracy for k = 1 is 67%\n",
      "\n",
      "CV accuracy for k = 3 is 74%\n",
      "\n",
      "CV accuracy for k = 5 is 77%\n",
      "\n",
      "CV accuracy for k = 7 is 79%\n",
      "\n",
      "CV accuracy for k = 9 is 80%\n",
      "\n",
      "CV accuracy for k = 11 is 81%\n",
      "\n",
      "CV accuracy for k = 13 is 82%\n",
      "\n",
      "CV accuracy for k = 15 is 82%\n",
      "\n",
      "CV accuracy for k = 17 is 83%\n",
      "\n",
      "CV accuracy for k = 19 is 83%\n",
      "\n",
      "CV accuracy for k = 21 is 83%\n",
      "\n",
      "CV accuracy for k = 23 is 83%\n",
      "\n",
      "CV accuracy for k = 25 is 83%\n",
      "\n",
      "CV accuracy for k = 27 is 83%\n",
      "\n",
      "CV accuracy for k = 29 is 83%\n",
      "Wall time: 1h 17min\n"
     ]
    }
   ],
   "source": [
    "%%time\n",
    "#performing simple cross validation method\n",
    "#creating odd list of K for NN\n",
    "for i in range(1,30,2):\n",
    "    #instantiate learning model(k=30)\n",
    "    knn = KNeighborsClassifier(n_neighbors=i, algorithm=\"kd_tree\")\n",
    "    \n",
    "    #fitting the model on cross validation train\n",
    "    knn.fit(X_train_tfidf_trun, y_train_tfidf)\n",
    "    \n",
    "    #predict the response on the cross validation train\n",
    "    pred = knn.predict(X_test_tfidf_trun)\n",
    "    \n",
    "    #evaluate CV accuracy\n",
    "    acc = accuracy_score(y_test_tfidf, pred, normalize=True)*float(100)\n",
    "    print(\"\\nCV accuracy for k = %d is %d%%\" %(i,acc))\n",
    "    "
   ]
  },
  {
   "cell_type": "code",
   "execution_count": 30,
   "metadata": {},
   "outputs": [
    {
     "name": "stdout",
     "output_type": "stream",
     "text": [
      "Train accuracy 0.858\n",
      "Train error  0.14200000000000002\n",
      "Wall time: 12min 49s\n"
     ]
    }
   ],
   "source": [
    "%%time\n",
    "#Accuracy on train data\n",
    "traintfidf_acc_score = knn.score(X_train_tfidf_trun,y_train_tfidf)\n",
    "print(\"Train accuracy\",traintfidf_acc_score)\n",
    "\n",
    "#Error on Train data\n",
    "traintfidf_error = 1-(traintfidf_acc_score)\n",
    "print(\"Train error \",traintfidf_error)"
   ]
  },
  {
   "cell_type": "code",
   "execution_count": 31,
   "metadata": {},
   "outputs": [
    {
     "name": "stdout",
     "output_type": "stream",
     "text": [
      "Accuracy for KNN model with tfidf is 0.839\n"
     ]
    }
   ],
   "source": [
    "#Evaluate accuracy on test data\n",
    "testtfidf_accuracy = accuracy_score(y_test_tfidf, pred) \n",
    "print(\"Accuracy for KNN model with tfidf is\", round(testtfidf_accuracy,3))"
   ]
  },
  {
   "cell_type": "code",
   "execution_count": 32,
   "metadata": {},
   "outputs": [
    {
     "data": {
      "image/png": "[encoded data removed]",
      "text/plain": [
       "<Figure size 432x288 with 2 Axes>"
      ]
     },
     "metadata": {},
     "output_type": "display_data"
    }
   ],
   "source": [
    "#Confusion Matrix\n",
    "cm = confusion_matrix(y_test_tfidf, pred)\n",
    "\n",
    "#Plotting confusion matrix\n",
    "class_label = [\"negative\",\"positive\"]\n",
    "dataframe_cm = pd.DataFrame(cm, index=class_label, columns=class_label)\n",
    "sns.heatmap(dataframe_cm, annot = True, fmt = \"d\")\n",
    "plt.title(\"Confusion Matrix\")\n",
    "plt.xlabel(\"Predicted values\")\n",
    "plt.ylabel(\"Actual values\")\n",
    "plt.show()"
   ]
  },
  {
   "cell_type": "markdown",
   "metadata": {},
   "source": [
    "In above confusion matrix tn(true negative)=5,tp(true positive)=10067,fn(false negative)=1888,fp(false positive)=40.As it is shown in classification report overall occuracy(correctly classified points)=(tp+tn)/total=(10067+5)/12000 = ~83% overall error rate/misclassification rate=(fn+fp)/total=(1888+40)/12000 = ~16%"
   ]
  },
  {
   "cell_type": "code",
   "execution_count": 33,
   "metadata": {},
   "outputs": [
    {
     "name": "stdout",
     "output_type": "stream",
     "text": [
      "classification report:\n",
      "**********************\n",
      "             precision    recall  f1-score   support\n",
      "\n",
      "          0       0.11      0.00      0.01      1893\n",
      "          1       0.84      1.00      0.91     10107\n",
      "\n",
      "avg / total       0.73      0.84      0.77     12000\n",
      "\n"
     ]
    }
   ],
   "source": [
    "#Classification report\n",
    "print(\"classification report:\")\n",
    "print(\"**********************\")\n",
    "print(classification_report(y_test_tfidf,pred))"
   ]
  },
  {
   "cell_type": "markdown",
   "metadata": {},
   "source": [
    "Observed that the accuracy for KNN model with TF-IDF is 83%"
   ]
  },
  {
   "cell_type": "markdown",
   "metadata": {},
   "source": [
    "# Feature generation techniques to convert text to vector\n",
    "Applying KNN with TF-IDF Average Word2vec"
   ]
  },
  {
   "cell_type": "code",
   "execution_count": 34,
   "metadata": {},
   "outputs": [
    {
     "name": "stdout",
     "output_type": "stream",
     "text": [
      "shape of X: (40000,)\n",
      "shape of y: (40000,)\n",
      "(28000,) (28000,) (12000,)\n"
     ]
    }
   ],
   "source": [
    "#splitting data into train and test where 70% data used for train model and 30% for test model\n",
    "X = final_40k['CleanedText']\n",
    "print(\"shape of X:\",X.shape)\n",
    "y = final_40k['Score']\n",
    "print(\"shape of y:\",y.shape)\n",
    "X_train_avgw2v, X_test_avgw2v, y_train_avgw2v, y_test_avgw2v = train_test_split(X,y,test_size=0.3,random_state=0)\n",
    "print(X_train_avgw2v.shape, y_train_avgw2v.shape, X_test_avgw2v.shape)"
   ]
  },
  {
   "cell_type": "code",
   "execution_count": 35,
   "metadata": {},
   "outputs": [
    {
     "name": "stdout",
     "output_type": "stream",
     "text": [
      "['receiv', 'nifti', 'coffe', 'pod', 'drawer', 'could', 'wait', 'use', 'love', 'black', 'mesh', 'design', 'sturdi', 'chrome', 'carousel', 'nice', 'held', 'drawer', 'hold', 'separ', 'tea', 'flavor', 'coffe', 'coffe', 'also', 'small', 'enough', 'foot', 'print', 'sit', 'next', 'keurig', 'would', 'recommend', 'drawer', 'anyon']\n",
      "**********************************\n",
      "['ive', 'tast', 'brand', 'flax', 'milk', 'brand', 'best', 'far', 'creami', 'brand', 'realli', 'creami', 'slight', 'tast', 'littl', 'nutti', 'guess', 'cant', 'wait', 'order', 'amazon', 'hope', 'ship', 'reason']\n"
     ]
    }
   ],
   "source": [
    "from gensim.models import Word2Vec\n",
    "from gensim.models import KeyedVectors\n",
    "\n",
    "#Train your own word2vec model using your own text corpus of train data\n",
    "import gensim\n",
    "i=0\n",
    "list_of_sent_train=[]\n",
    "for sent in X_train_avgw2v:\n",
    "    list_of_sent_train.append(sent.split())\n",
    "print(list_of_sent_train[0])\n",
    "print('**********************************')\n",
    "print(list_of_sent_train[1])"
   ]
  },
  {
   "cell_type": "code",
   "execution_count": 36,
   "metadata": {},
   "outputs": [
    {
     "name": "stdout",
     "output_type": "stream",
     "text": [
      "number of words that occured 5 times 7248\n"
     ]
    }
   ],
   "source": [
    "#min_count=5 considers only the words occur atleast 5 times\n",
    "w2v_model=Word2Vec(list_of_sent_train,min_count=5,size=50,workers=4)\n",
    "words=list(w2v_model.wv.vocab)\n",
    "print(\"number of words that occured 5 times\",len(words))"
   ]
  },
  {
   "cell_type": "code",
   "execution_count": 37,
   "metadata": {},
   "outputs": [
    {
     "name": "stdout",
     "output_type": "stream",
     "text": [
      "number of words that occured minimum 5 times 7248\n",
      "sample words ['receiv', 'nifti', 'coffe', 'pod', 'drawer', 'could', 'wait', 'use', 'love', 'black', 'mesh', 'design', 'sturdi', 'carousel', 'nice', 'held', 'hold', 'separ', 'tea', 'flavor', 'also', 'small', 'enough', 'foot', 'print', 'sit', 'next', 'keurig', 'would', 'recommend', 'anyon', 'ive', 'tast', 'brand', 'flax', 'milk', 'best', 'far', 'creami', 'realli', 'slight', 'littl', 'nutti', 'guess', 'cant', 'order', 'amazon', 'hope', 'ship', 'reason']\n"
     ]
    }
   ],
   "source": [
    "w2v_words = list(w2v_model.wv.vocab)\n",
    "print(\"number of words that occured minimum 5 times\",len(w2v_words))\n",
    "print(\"sample words\",w2v_words[0:50])"
   ]
  },
  {
   "cell_type": "code",
   "execution_count": 38,
   "metadata": {},
   "outputs": [
    {
     "name": "stderr",
     "output_type": "stream",
     "text": [
      "100%|███████████████████████████████████| 28000/28000 [01:00<00:00, 464.60it/s]\n"
     ]
    },
    {
     "name": "stdout",
     "output_type": "stream",
     "text": [
      "28000\n",
      "50\n"
     ]
    }
   ],
   "source": [
    "#average word2vec\n",
    "#compute average word2vec for each review\n",
    "sent_vectors_train=[];# the avg-w2v for each sentence/review is stored\n",
    "for sent in tqdm(list_of_sent_train): #for each review/sentence\n",
    "    sent_vec=np.zeros(50) #as word vectors are of zero length\n",
    "    cnt_words=0  #number of words with a valid vector in the review/sentence\n",
    "    for word in sent: #for each word in a review/sentence\n",
    "        if word in w2v_words:\n",
    "            vec=w2v_model.wv[word]\n",
    "            sent_vec += vec\n",
    "            cnt_words += 1\n",
    "        if cnt_words != 0:\n",
    "            sent_vec /= cnt_words\n",
    "    sent_vectors_train.append(sent_vec)\n",
    "print(len(sent_vectors_train))\n",
    "print(len(sent_vectors_train[0]))"
   ]
  },
  {
   "cell_type": "code",
   "execution_count": 39,
   "metadata": {},
   "outputs": [
    {
     "name": "stdout",
     "output_type": "stream",
     "text": [
      "['normal', 'dont', 'write', 'review', 'need', 'recours', 'sinc', 'eat', 'bag', 'bitter', 'stuff', 'bitter', 'refus', 'away', 'matter', 'long', 'wash', 'grain', 'quinoa', 'ive', 'eaten', 'past', 'dont', 'even', 'bother', 'wash', 'nutti', 'quinoa', 'flavor', 'love', 'entir', 'miss', 'dont', 'buy']\n",
      "**********************************\n",
      "['base', 'review', 'thought', 'give', 'wisconsin', 'chees', 'flavor', 'tri', 'mayb', 'tast', 'bud', 'get', 'old', 'much', 'tast', 'guess', 'could', 'alway', 'use', 'bait', 'mous', 'trap']\n"
     ]
    }
   ],
   "source": [
    "from gensim.models import Word2Vec\n",
    "from gensim.models import KeyedVectors\n",
    "\n",
    "#Train your own word2vec model using your own text corpus of train data\n",
    "import gensim\n",
    "i=0\n",
    "list_of_sent_test=[]\n",
    "for sent in X_test_avgw2v:\n",
    "    list_of_sent_test.append(sent.split())\n",
    "print(list_of_sent_test[0])\n",
    "print('**********************************')\n",
    "print(list_of_sent_test[1])"
   ]
  },
  {
   "cell_type": "code",
   "execution_count": 40,
   "metadata": {},
   "outputs": [
    {
     "name": "stdout",
     "output_type": "stream",
     "text": [
      "number of words that occured 5 times 4931\n"
     ]
    }
   ],
   "source": [
    "#min_count=5 considers only the words occur atleast 5 times\n",
    "w2v_model=Word2Vec(list_of_sent_test,min_count=5,size=50,workers=4)\n",
    "words=list(w2v_model.wv.vocab)\n",
    "print(\"number of words that occured 5 times\",len(words))"
   ]
  },
  {
   "cell_type": "code",
   "execution_count": 41,
   "metadata": {},
   "outputs": [
    {
     "name": "stdout",
     "output_type": "stream",
     "text": [
      "number of words that occured minimum 5 times 4931\n",
      "sample words ['normal', 'dont', 'write', 'review', 'need', 'sinc', 'eat', 'bag', 'bitter', 'stuff', 'refus', 'away', 'matter', 'long', 'wash', 'grain', 'quinoa', 'ive', 'eaten', 'past', 'even', 'bother', 'nutti', 'flavor', 'love', 'entir', 'miss', 'buy', 'base', 'thought', 'give', 'wisconsin', 'chees', 'tri', 'mayb', 'tast', 'bud', 'get', 'old', 'much', 'guess', 'could', 'alway', 'use', 'trap', 'new', 'name', 'product', 'friski', 'turkey']\n"
     ]
    }
   ],
   "source": [
    "w2v_words = list(w2v_model.wv.vocab)\n",
    "print(\"number of words that occured minimum 5 times\",len(w2v_words))\n",
    "print(\"sample words\",w2v_words[0:50])"
   ]
  },
  {
   "cell_type": "code",
   "execution_count": 42,
   "metadata": {},
   "outputs": [
    {
     "name": "stderr",
     "output_type": "stream",
     "text": [
      "100%|███████████████████████████████████| 12000/12000 [00:22<00:00, 529.10it/s]\n"
     ]
    },
    {
     "name": "stdout",
     "output_type": "stream",
     "text": [
      "12000\n",
      "50\n"
     ]
    }
   ],
   "source": [
    "#average word2vec\n",
    "#compute average word2vec for each review\n",
    "sent_vectors_test=[];# the avg-w2v for each sentence/review is stored\n",
    "for sent in tqdm(list_of_sent_test): #for each review/sentence\n",
    "    sent_vec=np.zeros(50) #as word vectors are of zero length\n",
    "    cnt_words=0  #number of words with a valid vector in the review/sentence\n",
    "    for word in sent: #for each word in a review/sentence\n",
    "        if word in w2v_words:\n",
    "            vec=w2v_model.wv[word]\n",
    "            sent_vec += vec\n",
    "            cnt_words += 1\n",
    "        if cnt_words != 0:\n",
    "            sent_vec /= cnt_words\n",
    "    sent_vectors_test.append(sent_vec)\n",
    "print(len(sent_vectors_test))\n",
    "print(len(sent_vectors_test[0]))"
   ]
  },
  {
   "cell_type": "code",
   "execution_count": 43,
   "metadata": {},
   "outputs": [
    {
     "data": {
      "text/plain": [
       "28000"
      ]
     },
     "execution_count": 43,
     "metadata": {},
     "output_type": "execute_result"
    }
   ],
   "source": [
    "len(sent_vectors_train)"
   ]
  },
  {
   "cell_type": "code",
   "execution_count": 44,
   "metadata": {},
   "outputs": [
    {
     "data": {
      "text/plain": [
       "12000"
      ]
     },
     "execution_count": 44,
     "metadata": {},
     "output_type": "execute_result"
    }
   ],
   "source": [
    "len(sent_vectors_test)"
   ]
  },
  {
   "cell_type": "code",
   "execution_count": 45,
   "metadata": {},
   "outputs": [
    {
     "name": "stdout",
     "output_type": "stream",
     "text": [
      "\n",
      "CV accuracy for k = 1 is 74%\n",
      "\n",
      "CV accuracy for k = 3 is 79%\n",
      "\n",
      "CV accuracy for k = 5 is 81%\n",
      "\n",
      "CV accuracy for k = 7 is 81%\n",
      "\n",
      "CV accuracy for k = 9 is 82%\n",
      "\n",
      "CV accuracy for k = 11 is 82%\n",
      "\n",
      "CV accuracy for k = 13 is 82%\n",
      "\n",
      "CV accuracy for k = 15 is 82%\n",
      "\n",
      "CV accuracy for k = 17 is 83%\n",
      "\n",
      "CV accuracy for k = 19 is 83%\n",
      "\n",
      "CV accuracy for k = 21 is 83%\n",
      "\n",
      "CV accuracy for k = 23 is 83%\n",
      "\n",
      "CV accuracy for k = 25 is 83%\n",
      "\n",
      "CV accuracy for k = 27 is 83%\n",
      "\n",
      "CV accuracy for k = 29 is 83%\n",
      "Wall time: 15min 4s\n"
     ]
    }
   ],
   "source": [
    "%%time\n",
    "X_train_avgw2v=sent_vectors_train\n",
    "X_test_avgw2v=sent_vectors_test\n",
    "\n",
    "#performing simple cross validation method\n",
    "#creating odd list of K for NN\n",
    "for i in range(1,30,2):\n",
    "    #instantiate learning model(k=30)\n",
    "    knn = KNeighborsClassifier(n_neighbors=i, algorithm=\"kd_tree\")\n",
    "    \n",
    "    #fitting the model on cross validation train\n",
    "    knn.fit(X_train_avgw2v, y_train_avgw2v)\n",
    "    \n",
    "    #predict the response on the cross validation train\n",
    "    pred = knn.predict(X_test_avgw2v)\n",
    "    \n",
    "    #evaluate CV accuracy\n",
    "    acc = accuracy_score(y_test_avgw2v, pred, normalize=True)*float(100)\n",
    "    print(\"\\nCV accuracy for k = %d is %d%%\" %(i,acc))\n",
    "    "
   ]
  },
  {
   "cell_type": "code",
   "execution_count": 46,
   "metadata": {},
   "outputs": [
    {
     "name": "stdout",
     "output_type": "stream",
     "text": [
      "Train accuracy 0.8505714285714285\n",
      "Train error  0.14942857142857147\n"
     ]
    }
   ],
   "source": [
    "#Accuracy on train data\n",
    "trainavgw2v_acc_score = knn.score(X_train_avgw2v,y_train_avgw2v)\n",
    "print(\"Train accuracy\",trainavgw2v_acc_score)\n",
    "\n",
    "#Error on Train data\n",
    "trainavgw2v_error = 1-(trainavgw2v_acc_score)\n",
    "print(\"Train error \",trainavgw2v_error)"
   ]
  },
  {
   "cell_type": "code",
   "execution_count": 47,
   "metadata": {},
   "outputs": [
    {
     "name": "stdout",
     "output_type": "stream",
     "text": [
      "Accuracy for KNN model with Tfidf Average Word2vector is 0.836\n"
     ]
    }
   ],
   "source": [
    "#Evaluate accuracy on test data\n",
    "testavgw2v_accuracy = accuracy_score(y_test_avgw2v, pred)\n",
    "print(\"Accuracy for KNN model with Tfidf Average Word2vector is\", round(testavgw2v_accuracy,3))"
   ]
  },
  {
   "cell_type": "code",
   "execution_count": 48,
   "metadata": {},
   "outputs": [
    {
     "data": {
      "image/png": "[encoded data removed]",
      "text/plain": [
       "<Figure size 432x288 with 2 Axes>"
      ]
     },
     "metadata": {},
     "output_type": "display_data"
    }
   ],
   "source": [
    "#Confusion Matrix\n",
    "cm = confusion_matrix(y_test_avgw2v, pred)\n",
    "\n",
    "#Plotting confusion matrix\n",
    "class_label = [\"negative\",\"positive\"]\n",
    "dataframe_cm = pd.DataFrame(cm, index=class_label, columns=class_label)\n",
    "sns.heatmap(dataframe_cm, annot = True, fmt = \"d\")\n",
    "plt.title(\"Confusion Matrix\")\n",
    "plt.xlabel(\"Predicted values\")\n",
    "plt.ylabel(\"Actual values\")\n",
    "plt.show()"
   ]
  },
  {
   "cell_type": "markdown",
   "metadata": {},
   "source": [
    "In above confusion matrix tn(true negative)=41,tp(true positive)=9995,fn(false negative)=1852,fp(false positive)=112.As it is shown in classification report overall occuracy(correctly classified points)=(tp+tn)/total=(41+9995)/12000 = ~83% overall error rate/misclassification rate=(fn+fp)/total=(1852+112)/12000 = ~16%"
   ]
  },
  {
   "cell_type": "code",
   "execution_count": 49,
   "metadata": {},
   "outputs": [
    {
     "name": "stdout",
     "output_type": "stream",
     "text": [
      "classification report\n",
      "*********************\n",
      "             precision    recall  f1-score   support\n",
      "\n",
      "          0       0.27      0.02      0.04      1893\n",
      "          1       0.84      0.99      0.91     10107\n",
      "\n",
      "avg / total       0.75      0.84      0.77     12000\n",
      "\n"
     ]
    }
   ],
   "source": [
    "#Classification report\n",
    "print(\"classification report\")\n",
    "print(\"*********************\")\n",
    "print(classification_report(y_test_avgw2v,pred))"
   ]
  },
  {
   "cell_type": "markdown",
   "metadata": {},
   "source": [
    "Observed that the accuracy for KNN model with TF-IDF Average Word2Vec is 84.4%"
   ]
  },
  {
   "cell_type": "markdown",
   "metadata": {},
   "source": [
    "# Feature generation techniques to convert text to vector\n",
    "Applying KNN with TF-IDF Weighted Word2vec"
   ]
  },
  {
   "cell_type": "code",
   "execution_count": 50,
   "metadata": {},
   "outputs": [
    {
     "name": "stdout",
     "output_type": "stream",
     "text": [
      "shape of X: (40000,)\n",
      "shape of y: (40000,)\n",
      "(28000,) (28000,) (12000,)\n"
     ]
    }
   ],
   "source": [
    "#splitting data into train and test where 70% data used for train model and 30% for test model\n",
    "X = final_40k['CleanedText']\n",
    "print(\"shape of X:\",X.shape)\n",
    "y = final_40k['Score']\n",
    "print(\"shape of y:\",y.shape)\n",
    "X_train_wtdw2v, X_test_wtdw2v, y_train_wtdw2v, y_test_wtdw2v = train_test_split(X,y,test_size=0.3,random_state=0)\n",
    "print(X_train_wtdw2v.shape, y_train_wtdw2v.shape, X_test_wtdw2v.shape)"
   ]
  },
  {
   "cell_type": "code",
   "execution_count": 51,
   "metadata": {},
   "outputs": [],
   "source": [
    "model = TfidfVectorizer()\n",
    "X_train_wtdw2v = model.fit_transform(X_train_wtdw2v)\n",
    "#we are converting a dictionary with word as a key, and the idf as a value\n",
    "dictionary = dict(zip(model.get_feature_names(), list(model.idf_)))"
   ]
  },
  {
   "cell_type": "code",
   "execution_count": 52,
   "metadata": {},
   "outputs": [],
   "source": [
    "model = TfidfVectorizer()\n",
    "X_test_wtdw2v = model.fit_transform(X_test_wtdw2v)\n",
    "#we are converting a dictionary with word as a key, and the idf as a value\n",
    "dictionary = dict(zip(model.get_feature_names(), list(model.idf_)))"
   ]
  },
  {
   "cell_type": "code",
   "execution_count": 53,
   "metadata": {},
   "outputs": [
    {
     "name": "stderr",
     "output_type": "stream",
     "text": [
      "100%|███████████████████████████████████| 28000/28000 [01:00<00:00, 464.16it/s]\n"
     ]
    },
    {
     "name": "stdout",
     "output_type": "stream",
     "text": [
      "28000\n",
      "50\n"
     ]
    }
   ],
   "source": [
    "#TF-IDF weighted word2vec\n",
    "tfidf_feat=model.get_feature_names()\n",
    "#tfidf words/col-names\n",
    "#final_tf_idf is the sparse matrix with row=sentence,col=word and cell_val=tfidf\n",
    "tfidf_sent_vectors_train=[]\n",
    "row=0\n",
    "for sent in tqdm(list_of_sent_train): #for each review/sentence\n",
    "    sent_vec=np.zeros(50) #as word vectors are of zero length\n",
    "    weight_sum=0  #num of words with a valid vector in the sentence/review\n",
    "    for word in sent:   #for each word in a review/sentence\n",
    "        if word in w2v_words:  \n",
    "            vec=w2v_model.wv[word]#to reduce the computation we are\n",
    "            tf_idf=dictionary[word]*(sent.count(word)/len(sent))#dictionary[word] = idf value of word in whole corpus\n",
    "            sent_vec += (vec*tf_idf) #sent.count(word)= tf values of word in this review\n",
    "            weight_sum += tf_idf\n",
    "    if weight_sum !=0:\n",
    "        sent_vec /= weight_sum\n",
    "    tfidf_sent_vectors_train.append(sent_vec)\n",
    "    row +=1\n",
    "print(len(tfidf_sent_vectors_train))\n",
    "print(len(tfidf_sent_vectors_train[0]))"
   ]
  },
  {
   "cell_type": "code",
   "execution_count": 54,
   "metadata": {},
   "outputs": [
    {
     "name": "stderr",
     "output_type": "stream",
     "text": [
      "100%|███████████████████████████████████| 12000/12000 [00:27<00:00, 444.37it/s]\n"
     ]
    },
    {
     "name": "stdout",
     "output_type": "stream",
     "text": [
      "12000\n",
      "50\n"
     ]
    }
   ],
   "source": [
    "#TF-IDF weighted word2vec\n",
    "tfidf_feat=model.get_feature_names()\n",
    "#tfidf words/col-names\n",
    "#final_tf_idf is the sparse matrix with row=sentence,col=word and cell_val=tfidf\n",
    "tfidf_sent_vectors_test=[]\n",
    "row=0\n",
    "for sent in tqdm(list_of_sent_test): #for each review/sentence\n",
    "    sent_vec=np.zeros(50) #as word vectors are of zero length\n",
    "    weight_sum=0  #num of words with a valid vector in the sentence/review\n",
    "    for word in sent:   #for each word in a review/sentence\n",
    "        if word in w2v_words:  \n",
    "            vec=w2v_model.wv[word]#to reduce the computation we are\n",
    "            tf_idf=dictionary[word]*(sent.count(word)/len(sent))#dictionary[word] = idf value of word in whole corpus\n",
    "            sent_vec += (vec*tf_idf) #sent.count(word)= tf values of word in this review\n",
    "            weight_sum += tf_idf\n",
    "    if weight_sum !=0:\n",
    "        sent_vec /= weight_sum\n",
    "    tfidf_sent_vectors_test.append(sent_vec)\n",
    "    row +=1\n",
    "print(len(tfidf_sent_vectors_test))\n",
    "print(len(tfidf_sent_vectors_test[0]))"
   ]
  },
  {
   "cell_type": "code",
   "execution_count": 55,
   "metadata": {},
   "outputs": [
    {
     "name": "stdout",
     "output_type": "stream",
     "text": [
      "\n",
      "CV accuracy for k = 1 is 79%\n",
      "\n",
      "CV accuracy for k = 3 is 82%\n",
      "\n",
      "CV accuracy for k = 5 is 84%\n",
      "\n",
      "CV accuracy for k = 7 is 85%\n",
      "\n",
      "CV accuracy for k = 9 is 85%\n",
      "\n",
      "CV accuracy for k = 11 is 85%\n",
      "\n",
      "CV accuracy for k = 13 is 85%\n",
      "\n",
      "CV accuracy for k = 15 is 85%\n",
      "\n",
      "CV accuracy for k = 17 is 85%\n",
      "\n",
      "CV accuracy for k = 19 is 85%\n",
      "\n",
      "CV accuracy for k = 21 is 85%\n",
      "\n",
      "CV accuracy for k = 23 is 85%\n",
      "\n",
      "CV accuracy for k = 25 is 85%\n",
      "\n",
      "CV accuracy for k = 27 is 85%\n",
      "\n",
      "CV accuracy for k = 29 is 85%\n",
      "Wall time: 10min 5s\n"
     ]
    }
   ],
   "source": [
    "%%time\n",
    "X_train_wtdw2v=tfidf_sent_vectors_train\n",
    "X_test_wtdw2v=tfidf_sent_vectors_test\n",
    "\n",
    "#performing simple cross validation method\n",
    "#creating odd list of K for NN\n",
    "for i in range(1,30,2):\n",
    "    #instantiate learning model(k=30)\n",
    "    knn = KNeighborsClassifier(n_neighbors=i, algorithm=\"kd_tree\")\n",
    "    \n",
    "    #fitting the model on cross validation train\n",
    "    knn.fit(X_train_wtdw2v, y_train_wtdw2v)\n",
    "    \n",
    "    #predict the response on the cross validation train\n",
    "    pred = knn.predict(X_test_wtdw2v)\n",
    "    \n",
    "    #evaluate CV accuracy\n",
    "    acc = accuracy_score(y_test_wtdw2v, pred, normalize=True)*float(100)\n",
    "    print(\"\\nCV accuracy for k = %d is %d%%\" %(i,acc))\n",
    "    "
   ]
  },
  {
   "cell_type": "code",
   "execution_count": 56,
   "metadata": {},
   "outputs": [
    {
     "name": "stdout",
     "output_type": "stream",
     "text": [
      "Train accuracy 0.8586428571428572\n",
      "Train error  0.14135714285714285\n"
     ]
    }
   ],
   "source": [
    "#Accuracy on train data\n",
    "trainwtdw2v_acc_score = knn.score(X_train_wtdw2v,y_train_wtdw2v)\n",
    "print(\"Train accuracy\",trainwtdw2v_acc_score)\n",
    "\n",
    "#Error on Train data\n",
    "trainwtdw2v_error = 1-(trainwtdw2v_acc_score)\n",
    "print(\"Train error \",trainwtdw2v_error)"
   ]
  },
  {
   "cell_type": "code",
   "execution_count": 57,
   "metadata": {},
   "outputs": [
    {
     "name": "stdout",
     "output_type": "stream",
     "text": [
      "Accuracy for KNN model with Tfidf Weighted Word2vector is 0.853\n"
     ]
    }
   ],
   "source": [
    "#Evaluate accuracy on test data\n",
    "testwtdw2v_accuracy = accuracy_score(y_test_wtdw2v, pred)\n",
    "print(\"Accuracy for KNN model with Tfidf Weighted Word2vector is\", round(testwtdw2v_accuracy,3))"
   ]
  },
  {
   "cell_type": "code",
   "execution_count": 58,
   "metadata": {},
   "outputs": [
    {
     "data": {
      "image/png": "[encoded data removed]",
      "text/plain": [
       "<Figure size 432x288 with 2 Axes>"
      ]
     },
     "metadata": {},
     "output_type": "display_data"
    }
   ],
   "source": [
    "#Confusion Matrix\n",
    "cm = confusion_matrix(y_test_wtdw2v, pred)\n",
    "\n",
    "#Plotting confusion matrix\n",
    "class_label = [\"negative\",\"positive\"]\n",
    "dataframe_cm = pd.DataFrame(cm, index=class_label, columns=class_label)\n",
    "sns.heatmap(dataframe_cm, annot = True, fmt = \"d\")\n",
    "plt.title(\"Confusion Matrix\")\n",
    "plt.xlabel(\"Predicted values\")\n",
    "plt.ylabel(\"Actual values\")\n",
    "plt.show()"
   ]
  },
  {
   "cell_type": "markdown",
   "metadata": {},
   "source": [
    "In above confusion matrix tn(true negative)=230,tp(true positive)=10001,fn(false negative)=1663,fp(false positive)=106.As it is shown in classification report overall occuracy(correctly classified points)=(tp+tn)/total=(10001+230)/12000 = ~85% overall error rate/misclassification rate=(fn+fp)/total=(1663+106)/12000 = ~14%"
   ]
  },
  {
   "cell_type": "code",
   "execution_count": 59,
   "metadata": {},
   "outputs": [
    {
     "name": "stdout",
     "output_type": "stream",
     "text": [
      "classification report\n",
      "*********************\n",
      "             precision    recall  f1-score   support\n",
      "\n",
      "          0       0.68      0.12      0.21      1893\n",
      "          1       0.86      0.99      0.92     10107\n",
      "\n",
      "avg / total       0.83      0.85      0.81     12000\n",
      "\n"
     ]
    }
   ],
   "source": [
    "#Classification report\n",
    "print(\"classification report\")\n",
    "print(\"*********************\")\n",
    "print(classification_report(y_test_wtdw2v,pred))"
   ]
  },
  {
   "cell_type": "markdown",
   "metadata": {},
   "source": [
    "Observed that the accuracy for KNN model with TF-IDF Weighted Word2vec is 85%"
   ]
  },
  {
   "cell_type": "code",
   "execution_count": 60,
   "metadata": {},
   "outputs": [
    {
     "name": "stdout",
     "output_type": "stream",
     "text": [
      "+--------------------------+---------+-----------------------+\n",
      "|        Vectorizer        |  Model  | Accuracy on Test Data |\n",
      "+--------------------------+---------+-----------------------+\n",
      "|       Bag Of Words       | Kd-tree |   0.8414166666666667  |\n",
      "|          TF-IDF          | Kd-tree |   0.8393333333333334  |\n",
      "|     Average Word2vec     | Kd-tree |   0.8363333333333334  |\n",
      "| TF-IDF Weighted Word2vec | Kd-tree |   0.8525833333333334  |\n",
      "+--------------------------+---------+-----------------------+\n"
     ]
    }
   ],
   "source": [
    "from prettytable import PrettyTable\n",
    "x = PrettyTable()\n",
    "x.add_column(\"Vectorizer\",[\"Bag Of Words\",\"TF-IDF\",\"Average Word2vec\",\"TF-IDF Weighted Word2vec\"])\n",
    "x.add_column(\"Model\",['Kd-tree','Kd-tree','Kd-tree','Kd-tree'])\n",
    "x.add_column(\"Accuracy on Test Data\",[testbow_accuracy,testtfidf_accuracy,testavgw2v_accuracy,testwtdw2v_accuracy])\n",
    "print(x)"
   ]
  },
  {
   "cell_type": "markdown",
   "metadata": {},
   "source": [
    "Observation: By comparing the accuracy of all the four feature generation techniques KNN model with TF-IDF Weighted Word2vec gives 85% of accuracy, which is the best accuracy to predict the polarity of reviews among all the models."
   ]
  }
 ],
 "metadata": {
  "kernelspec": {
   "display_name": "Python 3",
   "language": "python",
   "name": "python3"
  },
  "language_info": {
   "codemirror_mode": {
    "name": "ipython",
    "version": 3
   },
   "file_extension": ".py",
   "mimetype": "text/x-python",
   "name": "python",
   "nbconvert_exporter": "python",
   "pygments_lexer": "ipython3",
   "version": "3.6.5"
  }
 },
 "nbformat": 4,
 "nbformat_minor": 2
}
