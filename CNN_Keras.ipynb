{
  "nbformat": 4,
  "nbformat_minor": 0,
  "metadata": {
    "colab": {
      "name": "CNN_Keras.ipynb",
      "version": "0.3.2",
      "provenance": []
    },
    "kernelspec": {
      "name": "python3",
      "display_name": "Python 3"
    },
    "accelerator": "GPU"
  },
  "cells": [
    {
      "cell_type": "code",
      "metadata": {
        "id": "KL_EI2WoKBRA",
        "colab_type": "code",
        "colab": {}
      },
      "source": [
        "# Credits: https://github.com/keras-team/keras/blob/master/examples/mnist_cnn.py"
      ],
      "execution_count": 0,
      "outputs": []
    },
    {
      "cell_type": "code",
      "metadata": {
        "id": "47eQwRZBJFz4",
        "colab_type": "code",
        "outputId": "9e438b4f-dc1d-4b17-ad35-68ff083e8e00",
        "colab": {
          "base_uri": "https://localhost:8080/",
          "height": 68
        }
      },
      "source": [
        "from __future__ import print_function\n",
        "import keras\n",
        "from keras.datasets import mnist\n",
        "from keras.models import Sequential\n",
        "from keras.layers import Dense, Dropout, Flatten\n",
        "from keras.layers import Conv2D, MaxPooling2D\n",
        "from keras import backend as K\n",
        "\n",
        "batch_size = 128\n",
        "num_classes = 10\n",
        "epochs = 12\n",
        "\n",
        "#input image dimensions\n",
        "img_rows, img_cols = 28,28\n",
        "\n",
        "#the data, split between train and test sets\n",
        "(x_train, y_train), (x_test, y_test) = mnist.load_data()"
      ],
      "execution_count": 2,
      "outputs": [
        {
          "output_type": "stream",
          "text": [
            "Using TensorFlow backend.\n"
          ],
          "name": "stderr"
        },
        {
          "output_type": "stream",
          "text": [
            "Downloading data from https://s3.amazonaws.com/img-datasets/mnist.npz\n",
            "11493376/11490434 [==============================] - 1s 0us/step\n"
          ],
          "name": "stdout"
        }
      ]
    },
    {
      "cell_type": "code",
      "metadata": {
        "id": "NQhTSxM3Bpd6",
        "colab_type": "code",
        "colab": {
          "base_uri": "https://localhost:8080/",
          "height": 286
        },
        "outputId": "deac78fe-9596-4581-9cc9-051edf839169"
      },
      "source": [
        "import matplotlib.pyplot as plt\n",
        "plt.imshow(x_train[1])"
      ],
      "execution_count": 3,
      "outputs": [
        {
          "output_type": "execute_result",
          "data": {
            "text/plain": [
              "<matplotlib.image.AxesImage at 0x7fa1f71a5898>"
            ]
          },
          "metadata": {
            "tags": []
          },
          "execution_count": 3
        },
        {
          "output_type": "display_data",
          "data": {
            "image/png": "[encoded data removed]",
            "text/plain": [
              "<Figure size 432x288 with 1 Axes>"
            ]
          },
          "metadata": {
            "tags": []
          }
        }
      ]
    },
    {
      "cell_type": "code",
      "metadata": {
        "id": "CVyHvk9BKbup",
        "colab_type": "code",
        "outputId": "4fc1dbfe-bc5e-4035-d557-e600b37a21e7",
        "colab": {
          "base_uri": "https://localhost:8080/",
          "height": 68
        }
      },
      "source": [
        "if K.image_data_format() == 'channels_first':\n",
        "  x_train = x_train.reshape(x_train.shape[0], 1, img_rows, img_cols)\n",
        "  x_test = x_test.reshape(x_test.shape[0], 1, img_rows, img_cols)\n",
        "  input_shape = (1, img_rows, immg_cols)\n",
        "else:\n",
        "  x_train = x_train.reshape(x_train.shape[0], img_rows, img_cols, 1)\n",
        "  x_test = x_test.reshape(x_test.shape[0], img_rows, img_cols, 1)\n",
        "  input_shape = (img_rows, img_cols, 1)\n",
        "x_train = x_train.astype('float32')\n",
        "x_test = x_test.astype('float32')\n",
        "x_train /= 255\n",
        "x_test /= 255\n",
        "print('x train shape:', x_train.shape)\n",
        "print(x_train.shape[0], 'train samples')\n",
        "print(x_test.shape[0], 'test samples')"
      ],
      "execution_count": 4,
      "outputs": [
        {
          "output_type": "stream",
          "text": [
            "x train shape: (60000, 28, 28, 1)\n",
            "60000 train samples\n",
            "10000 test samples\n"
          ],
          "name": "stdout"
        }
      ]
    },
    {
      "cell_type": "markdown",
      "metadata": {
        "id": "QoMi_wceI-Iw",
        "colab_type": "text"
      },
      "source": [
        "**2 Convolution Layers Architecture**"
      ]
    },
    {
      "cell_type": "code",
      "metadata": {
        "id": "KJJZ1N1lNA40",
        "colab_type": "code",
        "colab": {}
      },
      "source": [
        "#convert class vectors to binary class matrices\n",
        "y_train = keras.utils.to_categorical(y_train, num_classes)\n",
        "y_test = keras.utils.to_categorical(y_test, num_classes)"
      ],
      "execution_count": 0,
      "outputs": []
    },
    {
      "cell_type": "code",
      "metadata": {
        "id": "cIay8fLsujer",
        "colab_type": "code",
        "colab": {}
      },
      "source": [
        "def plt_dynamic(x, vy, ty, ax, colors=['b']):\n",
        "    ax.plot(x, vy, 'b', label=\"Validation Loss\")\n",
        "    ax.plot(x, ty, 'r', label=\"Train Loss\")\n",
        "    plt.legend()\n",
        "    plt.grid()\n",
        "    fig.canvas.draw()"
      ],
      "execution_count": 0,
      "outputs": []
    },
    {
      "cell_type": "code",
      "metadata": {
        "id": "84KBc5MBNfFb",
        "colab_type": "code",
        "outputId": "5c898b9b-e602-4d99-abd9-42d7ce49062b",
        "colab": {
          "base_uri": "https://localhost:8080/",
          "height": 1000
        }
      },
      "source": [
        "model = Sequential()\n",
        "model.add(Conv2D(32, kernel_size=(3,3), activation='relu', input_shape=input_shape))\n",
        "model.add(Conv2D(64, (3,3), activation='relu'))\n",
        "model.add(MaxPooling2D(pool_size=(2,2)))\n",
        "model.add(Dropout(0.25))\n",
        "model.add(Flatten())\n",
        "model.add(Dense(128, activation='relu'))\n",
        "model.add(Dropout(0.5))\n",
        "model.add(Dense(num_classes, activation='softmax'))\n",
        "model.summary()\n",
        "model.compile(loss=keras.losses.categorical_crossentropy, optimizer=keras.optimizers.Adadelta(), metrics=['accuracy'])\n",
        "\n",
        "history = model.fit(x_train, y_train, batch_size=batch_size, epochs=epochs, verbose=1, validation_data=(x_test, y_test))\n",
        "score = model.evaluate(x_test, y_test, verbose=0)\n",
        "print('Test loss:', score[0])\n",
        "print('Test Accuracy:', score[1])"
      ],
      "execution_count": 7,
      "outputs": [
        {
          "output_type": "stream",
          "text": [
            "WARNING: Logging before flag parsing goes to stderr.\n",
            "W0718 01:38:56.930343 140334869075840 deprecation_wrapper.py:119] From /usr/local/lib/python3.6/dist-packages/keras/backend/tensorflow_backend.py:74: The name tf.get_default_graph is deprecated. Please use tf.compat.v1.get_default_graph instead.\n",
            "\n",
            "W0718 01:38:56.966439 140334869075840 deprecation_wrapper.py:119] From /usr/local/lib/python3.6/dist-packages/keras/backend/tensorflow_backend.py:517: The name tf.placeholder is deprecated. Please use tf.compat.v1.placeholder instead.\n",
            "\n",
            "W0718 01:38:56.974059 140334869075840 deprecation_wrapper.py:119] From /usr/local/lib/python3.6/dist-packages/keras/backend/tensorflow_backend.py:4138: The name tf.random_uniform is deprecated. Please use tf.random.uniform instead.\n",
            "\n",
            "W0718 01:38:57.017278 140334869075840 deprecation_wrapper.py:119] From /usr/local/lib/python3.6/dist-packages/keras/backend/tensorflow_backend.py:3976: The name tf.nn.max_pool is deprecated. Please use tf.nn.max_pool2d instead.\n",
            "\n",
            "W0718 01:38:57.022192 140334869075840 deprecation_wrapper.py:119] From /usr/local/lib/python3.6/dist-packages/keras/backend/tensorflow_backend.py:133: The name tf.placeholder_with_default is deprecated. Please use tf.compat.v1.placeholder_with_default instead.\n",
            "\n",
            "W0718 01:38:57.030594 140334869075840 deprecation.py:506] From /usr/local/lib/python3.6/dist-packages/keras/backend/tensorflow_backend.py:3445: calling dropout (from tensorflow.python.ops.nn_ops) with keep_prob is deprecated and will be removed in a future version.\n",
            "Instructions for updating:\n",
            "Please use `rate` instead of `keep_prob`. Rate should be set to `rate = 1 - keep_prob`.\n",
            "W0718 01:38:57.107030 140334869075840 deprecation_wrapper.py:119] From /usr/local/lib/python3.6/dist-packages/keras/optimizers.py:790: The name tf.train.Optimizer is deprecated. Please use tf.compat.v1.train.Optimizer instead.\n",
            "\n",
            "W0718 01:38:57.116338 140334869075840 deprecation_wrapper.py:119] From /usr/local/lib/python3.6/dist-packages/keras/backend/tensorflow_backend.py:3295: The name tf.log is deprecated. Please use tf.math.log instead.\n",
            "\n"
          ],
          "name": "stderr"
        },
        {
          "output_type": "stream",
          "text": [
            "_________________________________________________________________\n",
            "Layer (type)                 Output Shape              Param #   \n",
            "=================================================================\n",
            "conv2d_1 (Conv2D)            (None, 26, 26, 32)        320       \n",
            "_________________________________________________________________\n",
            "conv2d_2 (Conv2D)            (None, 24, 24, 64)        18496     \n",
            "_________________________________________________________________\n",
            "max_pooling2d_1 (MaxPooling2 (None, 12, 12, 64)        0         \n",
            "_________________________________________________________________\n",
            "dropout_1 (Dropout)          (None, 12, 12, 64)        0         \n",
            "_________________________________________________________________\n",
            "flatten_1 (Flatten)          (None, 9216)              0         \n",
            "_________________________________________________________________\n",
            "dense_1 (Dense)              (None, 128)               1179776   \n",
            "_________________________________________________________________\n",
            "dropout_2 (Dropout)          (None, 128)               0         \n",
            "_________________________________________________________________\n",
            "dense_2 (Dense)              (None, 10)                1290      \n",
            "=================================================================\n",
            "Total params: 1,199,882\n",
            "Trainable params: 1,199,882\n",
            "Non-trainable params: 0\n",
            "_________________________________________________________________\n"
          ],
          "name": "stdout"
        },
        {
          "output_type": "stream",
          "text": [
            "W0718 01:38:57.333829 140334869075840 deprecation.py:323] From /usr/local/lib/python3.6/dist-packages/tensorflow/python/ops/math_grad.py:1250: add_dispatch_support.<locals>.wrapper (from tensorflow.python.ops.array_ops) is deprecated and will be removed in a future version.\n",
            "Instructions for updating:\n",
            "Use tf.where in 2.0, which has the same broadcast rule as np.where\n"
          ],
          "name": "stderr"
        },
        {
          "output_type": "stream",
          "text": [
            "Train on 60000 samples, validate on 10000 samples\n",
            "Epoch 1/12\n",
            "60000/60000 [==============================] - 12s 197us/step - loss: 0.2533 - acc: 0.9226 - val_loss: 0.0571 - val_acc: 0.9810\n",
            "Epoch 2/12\n",
            "60000/60000 [==============================] - 5s 76us/step - loss: 0.0862 - acc: 0.9742 - val_loss: 0.0387 - val_acc: 0.9876\n",
            "Epoch 3/12\n",
            "60000/60000 [==============================] - 5s 76us/step - loss: 0.0665 - acc: 0.9799 - val_loss: 0.0335 - val_acc: 0.9877\n",
            "Epoch 4/12\n",
            "60000/60000 [==============================] - 5s 76us/step - loss: 0.0532 - acc: 0.9842 - val_loss: 0.0338 - val_acc: 0.9886\n",
            "Epoch 5/12\n",
            "60000/60000 [==============================] - 5s 76us/step - loss: 0.0464 - acc: 0.9858 - val_loss: 0.0328 - val_acc: 0.9888\n",
            "Epoch 6/12\n",
            "60000/60000 [==============================] - 5s 76us/step - loss: 0.0390 - acc: 0.9883 - val_loss: 0.0298 - val_acc: 0.9901\n",
            "Epoch 7/12\n",
            "60000/60000 [==============================] - 5s 76us/step - loss: 0.0348 - acc: 0.9893 - val_loss: 0.0288 - val_acc: 0.9907\n",
            "Epoch 8/12\n",
            "60000/60000 [==============================] - 5s 76us/step - loss: 0.0322 - acc: 0.9903 - val_loss: 0.0273 - val_acc: 0.9912\n",
            "Epoch 9/12\n",
            "60000/60000 [==============================] - 5s 77us/step - loss: 0.0279 - acc: 0.9911 - val_loss: 0.0284 - val_acc: 0.9915\n",
            "Epoch 10/12\n",
            "60000/60000 [==============================] - 5s 76us/step - loss: 0.0275 - acc: 0.9918 - val_loss: 0.0272 - val_acc: 0.9905\n",
            "Epoch 11/12\n",
            "60000/60000 [==============================] - 5s 76us/step - loss: 0.0263 - acc: 0.9919 - val_loss: 0.0263 - val_acc: 0.9914\n",
            "Epoch 12/12\n",
            "60000/60000 [==============================] - 5s 76us/step - loss: 0.0236 - acc: 0.9929 - val_loss: 0.0317 - val_acc: 0.9916\n",
            "Test loss: 0.031714727214710726\n",
            "Test Accuracy: 0.9916\n"
          ],
          "name": "stdout"
        }
      ]
    },
    {
      "cell_type": "code",
      "metadata": {
        "id": "UsLEoL9tus1L",
        "colab_type": "code",
        "colab": {
          "base_uri": "https://localhost:8080/",
          "height": 317
        },
        "outputId": "c3465bce-08e9-4e8b-9079-ecfe6c405a65"
      },
      "source": [
        "\n",
        "score = model.evaluate(x_test, y_test, verbose=0) \n",
        "print('Test score:', score[0]) \n",
        "print('Test accuracy:', score[1])\n",
        "\n",
        "fig,ax = plt.subplots(1,1)\n",
        "ax.set_xlabel('epoch') ; ax.set_ylabel('Binary Crossentropy Loss')\n",
        "\n",
        "# list of epoch numbers\n",
        "x = list(range(1,epochs+1))\n",
        "\n",
        "# for each key in histrory.histrory we will have a list of length equal to number of epochs\n",
        "\n",
        "vy = history.history['val_loss']\n",
        "ty = history.history['loss']\n",
        "plt_dynamic(x, vy, ty, ax)"
      ],
      "execution_count": 9,
      "outputs": [
        {
          "output_type": "stream",
          "text": [
            "Test score: 0.031714727214710726\n",
            "Test accuracy: 0.9916\n"
          ],
          "name": "stdout"
        },
        {
          "output_type": "display_data",
          "data": {
            "image/png": "[encoded data removed]",
            "text/plain": [
              "<Figure size 432x288 with 1 Axes>"
            ]
          },
          "metadata": {
            "tags": []
          }
        }
      ]
    },
    {
      "cell_type": "markdown",
      "metadata": {
        "id": "nZM7W7pRQSpt",
        "colab_type": "text"
      },
      "source": [
        "**3 Convolution Layers Architecture(3x3 kernel size)**"
      ]
    },
    {
      "cell_type": "code",
      "metadata": {
        "id": "Z6rEWMKQQljH",
        "colab_type": "code",
        "outputId": "8abf79cd-88a3-4730-aa39-e69a1496f4ea",
        "colab": {
          "base_uri": "https://localhost:8080/",
          "height": 1000
        }
      },
      "source": [
        "from keras.layers.normalization import BatchNormalization\n",
        "model = Sequential()\n",
        "model.add(Conv2D(64, kernel_size=(3,3), activation='relu', input_shape=input_shape))\n",
        "model.add(BatchNormalization(axis=-1))\n",
        "model.add(Conv2D(32, (3,3), activation='relu'))\n",
        "model.add(BatchNormalization(axis=-1))\n",
        "model.add(Conv2D(24, (3,3), activation='relu'))\n",
        "model.add(MaxPooling2D(pool_size=(2,2)))\n",
        "model.add(Dropout(0.25))\n",
        "model.add(Flatten())\n",
        "model.add(Dense(128, activation='relu'))\n",
        "model.add(Dropout(0.2))\n",
        "model.add(Dense(num_classes, activation='softmax'))\n",
        "model.summary()\n",
        "model.compile(loss=keras.losses.categorical_crossentropy, optimizer=keras.optimizers.Adadelta(), metrics=['accuracy'])\n",
        "\n",
        "history = model.fit(x_train, y_train, batch_size=batch_size, epochs=epochs, verbose=1, validation_data=(x_test, y_test))\n",
        "score = model.evaluate(x_test, y_test, verbose=0)\n",
        "print('Test loss:', score[0])\n",
        "print('Test Accuracy:', score[1])"
      ],
      "execution_count": 10,
      "outputs": [
        {
          "output_type": "stream",
          "text": [
            "W0718 01:41:30.901327 140334869075840 deprecation_wrapper.py:119] From /usr/local/lib/python3.6/dist-packages/keras/backend/tensorflow_backend.py:1834: The name tf.nn.fused_batch_norm is deprecated. Please use tf.compat.v1.nn.fused_batch_norm instead.\n",
            "\n"
          ],
          "name": "stderr"
        },
        {
          "output_type": "stream",
          "text": [
            "_________________________________________________________________\n",
            "Layer (type)                 Output Shape              Param #   \n",
            "=================================================================\n",
            "conv2d_3 (Conv2D)            (None, 26, 26, 64)        640       \n",
            "_________________________________________________________________\n",
            "batch_normalization_1 (Batch (None, 26, 26, 64)        256       \n",
            "_________________________________________________________________\n",
            "conv2d_4 (Conv2D)            (None, 24, 24, 32)        18464     \n",
            "_________________________________________________________________\n",
            "batch_normalization_2 (Batch (None, 24, 24, 32)        128       \n",
            "_________________________________________________________________\n",
            "conv2d_5 (Conv2D)            (None, 22, 22, 24)        6936      \n",
            "_________________________________________________________________\n",
            "max_pooling2d_2 (MaxPooling2 (None, 11, 11, 24)        0         \n",
            "_________________________________________________________________\n",
            "dropout_3 (Dropout)          (None, 11, 11, 24)        0         \n",
            "_________________________________________________________________\n",
            "flatten_2 (Flatten)          (None, 2904)              0         \n",
            "_________________________________________________________________\n",
            "dense_3 (Dense)              (None, 128)               371840    \n",
            "_________________________________________________________________\n",
            "dropout_4 (Dropout)          (None, 128)               0         \n",
            "_________________________________________________________________\n",
            "dense_4 (Dense)              (None, 10)                1290      \n",
            "=================================================================\n",
            "Total params: 399,554\n",
            "Trainable params: 399,362\n",
            "Non-trainable params: 192\n",
            "_________________________________________________________________\n",
            "Train on 60000 samples, validate on 10000 samples\n",
            "Epoch 1/12\n",
            "60000/60000 [==============================] - 7s 119us/step - loss: 0.2096 - acc: 0.9363 - val_loss: 0.0568 - val_acc: 0.9809\n",
            "Epoch 2/12\n",
            "60000/60000 [==============================] - 6s 104us/step - loss: 0.0662 - acc: 0.9798 - val_loss: 0.0382 - val_acc: 0.9883\n",
            "Epoch 3/12\n",
            "60000/60000 [==============================] - 6s 104us/step - loss: 0.0487 - acc: 0.9855 - val_loss: 0.0293 - val_acc: 0.9905\n",
            "Epoch 4/12\n",
            "60000/60000 [==============================] - 6s 104us/step - loss: 0.0371 - acc: 0.9886 - val_loss: 0.0281 - val_acc: 0.9907\n",
            "Epoch 5/12\n",
            "60000/60000 [==============================] - 6s 104us/step - loss: 0.0306 - acc: 0.9902 - val_loss: 0.0317 - val_acc: 0.9903\n",
            "Epoch 6/12\n",
            "60000/60000 [==============================] - 6s 105us/step - loss: 0.0258 - acc: 0.9919 - val_loss: 0.0238 - val_acc: 0.9923\n",
            "Epoch 7/12\n",
            "60000/60000 [==============================] - 6s 104us/step - loss: 0.0205 - acc: 0.9935 - val_loss: 0.0241 - val_acc: 0.9929\n",
            "Epoch 8/12\n",
            "60000/60000 [==============================] - 6s 104us/step - loss: 0.0194 - acc: 0.9939 - val_loss: 0.0221 - val_acc: 0.9936\n",
            "Epoch 9/12\n",
            "60000/60000 [==============================] - 6s 103us/step - loss: 0.0165 - acc: 0.9947 - val_loss: 0.0255 - val_acc: 0.9930\n",
            "Epoch 10/12\n",
            "60000/60000 [==============================] - 6s 103us/step - loss: 0.0150 - acc: 0.9954 - val_loss: 0.0241 - val_acc: 0.9934\n",
            "Epoch 11/12\n",
            "60000/60000 [==============================] - 6s 103us/step - loss: 0.0141 - acc: 0.9953 - val_loss: 0.0222 - val_acc: 0.9933\n",
            "Epoch 12/12\n",
            "60000/60000 [==============================] - 6s 103us/step - loss: 0.0114 - acc: 0.9963 - val_loss: 0.0221 - val_acc: 0.9938\n",
            "Test loss: 0.022093793221520584\n",
            "Test Accuracy: 0.9938\n"
          ],
          "name": "stdout"
        }
      ]
    },
    {
      "cell_type": "markdown",
      "metadata": {
        "id": "Nb2KPtmv7GAD",
        "colab_type": "text"
      },
      "source": [
        "3 (64-32-24)Convolution Layers with 3x3 kernel size  and added batch normalization (which normalizes the matrix) as shown good accuracy of 99.38%"
      ]
    },
    {
      "cell_type": "code",
      "metadata": {
        "id": "u-bL9QmfvfbI",
        "colab_type": "code",
        "colab": {
          "base_uri": "https://localhost:8080/",
          "height": 317
        },
        "outputId": "092158e0-dbec-460f-e537-5c35540351f2"
      },
      "source": [
        "score = model.evaluate(x_test, y_test, verbose=0) \n",
        "print('Test score:', score[0]) \n",
        "print('Test accuracy:', score[1])\n",
        "\n",
        "fig,ax = plt.subplots(1,1)\n",
        "ax.set_xlabel('epoch') ; ax.set_ylabel('Binary Crossentropy Loss')\n",
        "\n",
        "# list of epoch numbers\n",
        "x = list(range(1,epochs+1))\n",
        "\n",
        "# for each key in histrory.histrory we will have a list of length equal to number of epochs\n",
        "\n",
        "vy = history.history['val_loss']\n",
        "ty = history.history['loss']\n",
        "plt_dynamic(x, vy, ty, ax)"
      ],
      "execution_count": 11,
      "outputs": [
        {
          "output_type": "stream",
          "text": [
            "Test score: 0.022093793221520584\n",
            "Test accuracy: 0.9938\n"
          ],
          "name": "stdout"
        },
        {
          "output_type": "display_data",
          "data": {
            "image/png": "[encoded data removed]",
            "text/plain": [
              "<Figure size 432x288 with 1 Axes>"
            ]
          },
          "metadata": {
            "tags": []
          }
        }
      ]
    },
    {
      "cell_type": "markdown",
      "metadata": {
        "id": "AzRy31PD7FYE",
        "colab_type": "text"
      },
      "source": [
        "**3 Convolution Layers Architecture(5x5 kernel size)**"
      ]
    },
    {
      "cell_type": "code",
      "metadata": {
        "id": "N2xfFRBQ8Ffw",
        "colab_type": "code",
        "outputId": "3f421565-6326-4be2-e2a8-5d7df1b7d5f7",
        "colab": {
          "base_uri": "https://localhost:8080/",
          "height": 969
        }
      },
      "source": [
        "from keras.layers.normalization import BatchNormalization\n",
        "model = Sequential()\n",
        "model.add(Conv2D(64, kernel_size=(5,5), activation='relu', input_shape=input_shape))\n",
        "model.add(BatchNormalization(axis=-1))\n",
        "model.add(Conv2D(32, (5,5), activation='relu'))\n",
        "model.add(BatchNormalization(axis=-1))\n",
        "model.add(Conv2D(24, (5,5), activation='relu'))\n",
        "model.add(MaxPooling2D(pool_size=(2,2)))\n",
        "model.add(Dropout(0.25))\n",
        "model.add(Flatten())\n",
        "model.add(Dense(128, activation='relu'))\n",
        "model.add(Dropout(0.5))\n",
        "model.add(Dense(num_classes, activation='softmax'))\n",
        "model.summary()\n",
        "model.compile(loss=keras.losses.categorical_crossentropy, optimizer=keras.optimizers.Adadelta(), metrics=['accuracy'])\n",
        "\n",
        "history = model.fit(x_train, y_train, batch_size=batch_size, epochs=epochs, verbose=1, validation_data=(x_test, y_test))\n",
        "score = model.evaluate(x_test, y_test, verbose=0)\n",
        "print('Test loss:', score[0])\n",
        "print('Test Accuracy:', score[1])"
      ],
      "execution_count": 12,
      "outputs": [
        {
          "output_type": "stream",
          "text": [
            "_________________________________________________________________\n",
            "Layer (type)                 Output Shape              Param #   \n",
            "=================================================================\n",
            "conv2d_6 (Conv2D)            (None, 24, 24, 64)        1664      \n",
            "_________________________________________________________________\n",
            "batch_normalization_3 (Batch (None, 24, 24, 64)        256       \n",
            "_________________________________________________________________\n",
            "conv2d_7 (Conv2D)            (None, 20, 20, 32)        51232     \n",
            "_________________________________________________________________\n",
            "batch_normalization_4 (Batch (None, 20, 20, 32)        128       \n",
            "_________________________________________________________________\n",
            "conv2d_8 (Conv2D)            (None, 16, 16, 24)        19224     \n",
            "_________________________________________________________________\n",
            "max_pooling2d_3 (MaxPooling2 (None, 8, 8, 24)          0         \n",
            "_________________________________________________________________\n",
            "dropout_5 (Dropout)          (None, 8, 8, 24)          0         \n",
            "_________________________________________________________________\n",
            "flatten_3 (Flatten)          (None, 1536)              0         \n",
            "_________________________________________________________________\n",
            "dense_5 (Dense)              (None, 128)               196736    \n",
            "_________________________________________________________________\n",
            "dropout_6 (Dropout)          (None, 128)               0         \n",
            "_________________________________________________________________\n",
            "dense_6 (Dense)              (None, 10)                1290      \n",
            "=================================================================\n",
            "Total params: 270,530\n",
            "Trainable params: 270,338\n",
            "Non-trainable params: 192\n",
            "_________________________________________________________________\n",
            "Train on 60000 samples, validate on 10000 samples\n",
            "Epoch 1/12\n",
            "60000/60000 [==============================] - 7s 123us/step - loss: 0.2695 - acc: 0.9182 - val_loss: 0.0530 - val_acc: 0.9835\n",
            "Epoch 2/12\n",
            "60000/60000 [==============================] - 6s 105us/step - loss: 0.0962 - acc: 0.9723 - val_loss: 0.0432 - val_acc: 0.9870\n",
            "Epoch 3/12\n",
            "60000/60000 [==============================] - 6s 105us/step - loss: 0.0690 - acc: 0.9801 - val_loss: 0.0417 - val_acc: 0.9867\n",
            "Epoch 4/12\n",
            "60000/60000 [==============================] - 6s 105us/step - loss: 0.0563 - acc: 0.9844 - val_loss: 0.0313 - val_acc: 0.9901\n",
            "Epoch 5/12\n",
            "60000/60000 [==============================] - 6s 105us/step - loss: 0.0482 - acc: 0.9860 - val_loss: 0.0236 - val_acc: 0.9928\n",
            "Epoch 6/12\n",
            "60000/60000 [==============================] - 6s 105us/step - loss: 0.0410 - acc: 0.9886 - val_loss: 0.0228 - val_acc: 0.9930\n",
            "Epoch 7/12\n",
            "60000/60000 [==============================] - 6s 105us/step - loss: 0.0397 - acc: 0.9892 - val_loss: 0.0201 - val_acc: 0.9937\n",
            "Epoch 8/12\n",
            "60000/60000 [==============================] - 6s 105us/step - loss: 0.0351 - acc: 0.9900 - val_loss: 0.0216 - val_acc: 0.9933\n",
            "Epoch 9/12\n",
            "60000/60000 [==============================] - 6s 106us/step - loss: 0.0318 - acc: 0.9908 - val_loss: 0.0283 - val_acc: 0.9924\n",
            "Epoch 10/12\n",
            "60000/60000 [==============================] - 6s 104us/step - loss: 0.0282 - acc: 0.9919 - val_loss: 0.0214 - val_acc: 0.9932\n",
            "Epoch 11/12\n",
            "60000/60000 [==============================] - 6s 104us/step - loss: 0.0283 - acc: 0.9923 - val_loss: 0.0188 - val_acc: 0.9940\n",
            "Epoch 12/12\n",
            "60000/60000 [==============================] - 6s 105us/step - loss: 0.0259 - acc: 0.9926 - val_loss: 0.0193 - val_acc: 0.9949\n",
            "Test loss: 0.019258051682255427\n",
            "Test Accuracy: 0.9949\n"
          ],
          "name": "stdout"
        }
      ]
    },
    {
      "cell_type": "markdown",
      "metadata": {
        "id": "5SAqN6o08hf2",
        "colab_type": "text"
      },
      "source": [
        "*3* (64-32-24)Convolution Layers with 5x5 kernel size and added batch normalization (which normalizes the matrix) after flatten the data given dense layer of 256 neurons as shown good accuracy of 99.49%(slightly improved results than previous)"
      ]
    },
    {
      "cell_type": "code",
      "metadata": {
        "id": "wUv5Yeztvmro",
        "colab_type": "code",
        "colab": {
          "base_uri": "https://localhost:8080/",
          "height": 317
        },
        "outputId": "ff8c2d54-212d-4647-f587-f71f032e582d"
      },
      "source": [
        "score = model.evaluate(x_test, y_test, verbose=0) \n",
        "print('Test score:', score[0]) \n",
        "print('Test accuracy:', score[1])\n",
        "\n",
        "fig,ax = plt.subplots(1,1)\n",
        "ax.set_xlabel('epoch') ; ax.set_ylabel('Binary Crossentropy Loss')\n",
        "\n",
        "# list of epoch numbers\n",
        "x = list(range(1,epochs+1))\n",
        "\n",
        "# for each key in histrory.histrory we will have a list of length equal to number of epochs\n",
        "\n",
        "vy = history.history['val_loss']\n",
        "ty = history.history['loss']\n",
        "plt_dynamic(x, vy, ty, ax)"
      ],
      "execution_count": 13,
      "outputs": [
        {
          "output_type": "stream",
          "text": [
            "Test score: 0.019258051682255427\n",
            "Test accuracy: 0.9949\n"
          ],
          "name": "stdout"
        },
        {
          "output_type": "display_data",
          "data": {
            "image/png": "[encoded data removed]",
            "text/plain": [
              "<Figure size 432x288 with 1 Axes>"
            ]
          },
          "metadata": {
            "tags": []
          }
        }
      ]
    },
    {
      "cell_type": "markdown",
      "metadata": {
        "id": "5W_Xbwg49U-V",
        "colab_type": "text"
      },
      "source": [
        "**3 Convolution Layers Architecture(7x7 kernel size)**"
      ]
    },
    {
      "cell_type": "code",
      "metadata": {
        "id": "0ftt_4pD7Kol",
        "colab_type": "code",
        "outputId": "3992b767-ffcc-4826-d3c8-ad936dd73206",
        "colab": {
          "base_uri": "https://localhost:8080/",
          "height": 969
        }
      },
      "source": [
        "from keras.layers.normalization import BatchNormalization\n",
        "model = Sequential()\n",
        "model.add(Conv2D(64, kernel_size=(7,7), activation='relu', input_shape=input_shape))\n",
        "model.add(BatchNormalization(axis=-1))\n",
        "model.add(Conv2D(32, (7,7), activation='relu'))\n",
        "model.add(BatchNormalization(axis=-1))\n",
        "model.add(Conv2D(24, (7,7), activation='relu'))\n",
        "model.add(MaxPooling2D(pool_size=(2,2)))\n",
        "model.add(Dropout(0.25))\n",
        "model.add(Flatten())\n",
        "model.add(Dense(128, activation='relu'))\n",
        "model.add(Dropout(0.5))\n",
        "model.add(Dense(num_classes, activation='softmax'))\n",
        "model.summary()\n",
        "model.compile(loss=keras.losses.categorical_crossentropy, optimizer=keras.optimizers.Adadelta(), metrics=['accuracy'])\n",
        "\n",
        "history = model.fit(x_train, y_train, batch_size=batch_size, epochs=epochs, verbose=1, validation_data=(x_test, y_test))\n",
        "score = model.evaluate(x_test, y_test, verbose=0)\n",
        "print('Test loss:', score[0])\n",
        "print('Test Accuracy:', score[1])"
      ],
      "execution_count": 14,
      "outputs": [
        {
          "output_type": "stream",
          "text": [
            "_________________________________________________________________\n",
            "Layer (type)                 Output Shape              Param #   \n",
            "=================================================================\n",
            "conv2d_9 (Conv2D)            (None, 22, 22, 64)        3200      \n",
            "_________________________________________________________________\n",
            "batch_normalization_5 (Batch (None, 22, 22, 64)        256       \n",
            "_________________________________________________________________\n",
            "conv2d_10 (Conv2D)           (None, 16, 16, 32)        100384    \n",
            "_________________________________________________________________\n",
            "batch_normalization_6 (Batch (None, 16, 16, 32)        128       \n",
            "_________________________________________________________________\n",
            "conv2d_11 (Conv2D)           (None, 10, 10, 24)        37656     \n",
            "_________________________________________________________________\n",
            "max_pooling2d_4 (MaxPooling2 (None, 5, 5, 24)          0         \n",
            "_________________________________________________________________\n",
            "dropout_7 (Dropout)          (None, 5, 5, 24)          0         \n",
            "_________________________________________________________________\n",
            "flatten_4 (Flatten)          (None, 600)               0         \n",
            "_________________________________________________________________\n",
            "dense_7 (Dense)              (None, 128)               76928     \n",
            "_________________________________________________________________\n",
            "dropout_8 (Dropout)          (None, 128)               0         \n",
            "_________________________________________________________________\n",
            "dense_8 (Dense)              (None, 10)                1290      \n",
            "=================================================================\n",
            "Total params: 219,842\n",
            "Trainable params: 219,650\n",
            "Non-trainable params: 192\n",
            "_________________________________________________________________\n",
            "Train on 60000 samples, validate on 10000 samples\n",
            "Epoch 1/12\n",
            "60000/60000 [==============================] - 7s 113us/step - loss: 0.2797 - acc: 0.9169 - val_loss: 0.0778 - val_acc: 0.9793\n",
            "Epoch 2/12\n",
            "60000/60000 [==============================] - 6s 95us/step - loss: 0.0951 - acc: 0.9739 - val_loss: 0.0436 - val_acc: 0.9875\n",
            "Epoch 3/12\n",
            "60000/60000 [==============================] - 6s 95us/step - loss: 0.0671 - acc: 0.9808 - val_loss: 0.0505 - val_acc: 0.9858\n",
            "Epoch 4/12\n",
            "60000/60000 [==============================] - 6s 95us/step - loss: 0.0533 - acc: 0.9852 - val_loss: 0.0461 - val_acc: 0.9881\n",
            "Epoch 5/12\n",
            "60000/60000 [==============================] - 6s 96us/step - loss: 0.0434 - acc: 0.9885 - val_loss: 0.0268 - val_acc: 0.9931\n",
            "Epoch 6/12\n",
            "60000/60000 [==============================] - 6s 97us/step - loss: 0.0426 - acc: 0.9887 - val_loss: 0.0291 - val_acc: 0.9912\n",
            "Epoch 7/12\n",
            "60000/60000 [==============================] - 6s 95us/step - loss: 0.0362 - acc: 0.9900 - val_loss: 0.0468 - val_acc: 0.9865\n",
            "Epoch 8/12\n",
            "60000/60000 [==============================] - 6s 95us/step - loss: 0.0333 - acc: 0.9909 - val_loss: 0.0429 - val_acc: 0.9898\n",
            "Epoch 9/12\n",
            "60000/60000 [==============================] - 6s 95us/step - loss: 0.0307 - acc: 0.9914 - val_loss: 0.0375 - val_acc: 0.9907\n",
            "Epoch 10/12\n",
            "60000/60000 [==============================] - 6s 95us/step - loss: 0.0261 - acc: 0.9929 - val_loss: 0.0404 - val_acc: 0.9909\n",
            "Epoch 11/12\n",
            "60000/60000 [==============================] - 6s 95us/step - loss: 0.0261 - acc: 0.9931 - val_loss: 0.0377 - val_acc: 0.9906\n",
            "Epoch 12/12\n",
            "60000/60000 [==============================] - 6s 94us/step - loss: 0.0234 - acc: 0.9935 - val_loss: 0.0330 - val_acc: 0.9921\n",
            "Test loss: 0.03304482104410649\n",
            "Test Accuracy: 0.9921\n"
          ],
          "name": "stdout"
        }
      ]
    },
    {
      "cell_type": "markdown",
      "metadata": {
        "id": "AG6z_kCh9yhO",
        "colab_type": "text"
      },
      "source": [
        "*3* (64-32-24)Convolution Layers with 7x7 kernel size and added batch normalization (which normalizes the matrix) after flatten the data given dense layer of 256 neurons as shown good accuracy of 99.21%(slightly decreased results than previous)"
      ]
    },
    {
      "cell_type": "code",
      "metadata": {
        "id": "EzkW0WkUvujb",
        "colab_type": "code",
        "colab": {
          "base_uri": "https://localhost:8080/",
          "height": 317
        },
        "outputId": "d689b900-d8ec-441f-f469-bb99ea66f10a"
      },
      "source": [
        "score = model.evaluate(x_test, y_test, verbose=0) \n",
        "print('Test score:', score[0]) \n",
        "print('Test accuracy:', score[1])\n",
        "\n",
        "fig,ax = plt.subplots(1,1)\n",
        "ax.set_xlabel('epoch') ; ax.set_ylabel('Binary Crossentropy Loss')\n",
        "\n",
        "# list of epoch numbers\n",
        "x = list(range(1,epochs+1))\n",
        "\n",
        "# for each key in histrory.histrory we will have a list of length equal to number of epochs\n",
        "\n",
        "vy = history.history['val_loss']\n",
        "ty = history.history['loss']\n",
        "plt_dynamic(x, vy, ty, ax)"
      ],
      "execution_count": 15,
      "outputs": [
        {
          "output_type": "stream",
          "text": [
            "Test score: 0.03304482104410649\n",
            "Test accuracy: 0.9921\n"
          ],
          "name": "stdout"
        },
        {
          "output_type": "display_data",
          "data": {
            "image/png": "[encoded data removed]",
            "text/plain": [
              "<Figure size 432x288 with 1 Axes>"
            ]
          },
          "metadata": {
            "tags": []
          }
        }
      ]
    },
    {
      "cell_type": "markdown",
      "metadata": {
        "id": "bJz9c0ay-DRY",
        "colab_type": "text"
      },
      "source": [
        "**5 Convolution Layers Architecture(3x3 kernel size)**"
      ]
    },
    {
      "cell_type": "code",
      "metadata": {
        "id": "zs9cyH-P9xxw",
        "colab_type": "code",
        "outputId": "4e8b2a75-a10a-4f4a-969d-aed57d944035",
        "colab": {
          "base_uri": "https://localhost:8080/",
          "height": 1000
        }
      },
      "source": [
        "model = Sequential()\n",
        "model.add(Conv2D(32, kernel_size=(3,3), activation='relu', input_shape=input_shape))\n",
        "model.add(BatchNormalization(axis=-1))\n",
        "model.add(Conv2D(64, (3,3), activation='relu'))\n",
        "model.add(BatchNormalization(axis=-1))\n",
        "model.add(Conv2D(128, (3,3), activation='relu'))\n",
        "model.add(BatchNormalization(axis=-1))\n",
        "model.add(MaxPooling2D(pool_size=(2,2), strides=2, padding='valid'))\n",
        "model.add(Conv2D(256, (3,3), activation='relu'))\n",
        "model.add(BatchNormalization(axis=-1))\n",
        "model.add(MaxPooling2D(pool_size=(2,2), strides=2, padding='valid'))\n",
        "model.add(Dropout(0.25))\n",
        "model.add(Conv2D(512, (3,3), activation='relu'))\n",
        "model.add(MaxPooling2D(pool_size=(2,2), strides=2, padding='valid'))\n",
        "model.add(Dropout(0.25))\n",
        "model.add(Flatten())\n",
        "model.add(Dense(624, activation='relu'))\n",
        "model.add(BatchNormalization())\n",
        "model.add(Dropout(0.5))\n",
        "model.add(Dense(num_classes, activation='softmax'))\n",
        "model.summary()\n",
        "model.compile(loss=keras.losses.categorical_crossentropy, optimizer=keras.optimizers.Adadelta(), metrics=['accuracy'])\n",
        "\n",
        "history = model.fit(x_train, y_train, batch_size=batch_size, epochs=epochs, verbose=1, validation_data=(x_test, y_test))\n",
        "score = model.evaluate(x_test, y_test, verbose=0)\n",
        "print('Test loss:', score[0])\n",
        "print('Test Accuracy:', score[1])"
      ],
      "execution_count": 16,
      "outputs": [
        {
          "output_type": "stream",
          "text": [
            "_________________________________________________________________\n",
            "Layer (type)                 Output Shape              Param #   \n",
            "=================================================================\n",
            "conv2d_12 (Conv2D)           (None, 26, 26, 32)        320       \n",
            "_________________________________________________________________\n",
            "batch_normalization_7 (Batch (None, 26, 26, 32)        128       \n",
            "_________________________________________________________________\n",
            "conv2d_13 (Conv2D)           (None, 24, 24, 64)        18496     \n",
            "_________________________________________________________________\n",
            "batch_normalization_8 (Batch (None, 24, 24, 64)        256       \n",
            "_________________________________________________________________\n",
            "conv2d_14 (Conv2D)           (None, 22, 22, 128)       73856     \n",
            "_________________________________________________________________\n",
            "batch_normalization_9 (Batch (None, 22, 22, 128)       512       \n",
            "_________________________________________________________________\n",
            "max_pooling2d_5 (MaxPooling2 (None, 11, 11, 128)       0         \n",
            "_________________________________________________________________\n",
            "conv2d_15 (Conv2D)           (None, 9, 9, 256)         295168    \n",
            "_________________________________________________________________\n",
            "batch_normalization_10 (Batc (None, 9, 9, 256)         1024      \n",
            "_________________________________________________________________\n",
            "max_pooling2d_6 (MaxPooling2 (None, 4, 4, 256)         0         \n",
            "_________________________________________________________________\n",
            "dropout_9 (Dropout)          (None, 4, 4, 256)         0         \n",
            "_________________________________________________________________\n",
            "conv2d_16 (Conv2D)           (None, 2, 2, 512)         1180160   \n",
            "_________________________________________________________________\n",
            "max_pooling2d_7 (MaxPooling2 (None, 1, 1, 512)         0         \n",
            "_________________________________________________________________\n",
            "dropout_10 (Dropout)         (None, 1, 1, 512)         0         \n",
            "_________________________________________________________________\n",
            "flatten_5 (Flatten)          (None, 512)               0         \n",
            "_________________________________________________________________\n",
            "dense_9 (Dense)              (None, 624)               320112    \n",
            "_________________________________________________________________\n",
            "batch_normalization_11 (Batc (None, 624)               2496      \n",
            "_________________________________________________________________\n",
            "dropout_11 (Dropout)         (None, 624)               0         \n",
            "_________________________________________________________________\n",
            "dense_10 (Dense)             (None, 10)                6250      \n",
            "=================================================================\n",
            "Total params: 1,898,778\n",
            "Trainable params: 1,896,570\n",
            "Non-trainable params: 2,208\n",
            "_________________________________________________________________\n",
            "Train on 60000 samples, validate on 10000 samples\n",
            "Epoch 1/12\n",
            "60000/60000 [==============================] - 18s 303us/step - loss: 0.1609 - acc: 0.9516 - val_loss: 0.0581 - val_acc: 0.9837\n",
            "Epoch 2/12\n",
            "60000/60000 [==============================] - 16s 259us/step - loss: 0.0544 - acc: 0.9835 - val_loss: 0.0317 - val_acc: 0.9909\n",
            "Epoch 3/12\n",
            "60000/60000 [==============================] - 16s 259us/step - loss: 0.0349 - acc: 0.9893 - val_loss: 0.0260 - val_acc: 0.9926\n",
            "Epoch 4/12\n",
            "60000/60000 [==============================] - 16s 260us/step - loss: 0.0242 - acc: 0.9927 - val_loss: 0.0246 - val_acc: 0.9929\n",
            "Epoch 5/12\n",
            "60000/60000 [==============================] - 16s 259us/step - loss: 0.0199 - acc: 0.9939 - val_loss: 0.0193 - val_acc: 0.9940\n",
            "Epoch 6/12\n",
            "60000/60000 [==============================] - 16s 259us/step - loss: 0.0168 - acc: 0.9945 - val_loss: 0.0275 - val_acc: 0.9917\n",
            "Epoch 7/12\n",
            "60000/60000 [==============================] - 15s 258us/step - loss: 0.0128 - acc: 0.9960 - val_loss: 0.0176 - val_acc: 0.9949\n",
            "Epoch 8/12\n",
            "60000/60000 [==============================] - 16s 258us/step - loss: 0.0110 - acc: 0.9967 - val_loss: 0.0209 - val_acc: 0.9944\n",
            "Epoch 9/12\n",
            "60000/60000 [==============================] - 16s 259us/step - loss: 0.0077 - acc: 0.9974 - val_loss: 0.0208 - val_acc: 0.9941\n",
            "Epoch 10/12\n",
            "60000/60000 [==============================] - 16s 259us/step - loss: 0.0064 - acc: 0.9978 - val_loss: 0.0212 - val_acc: 0.9943\n",
            "Epoch 11/12\n",
            "60000/60000 [==============================] - 16s 258us/step - loss: 0.0056 - acc: 0.9984 - val_loss: 0.0230 - val_acc: 0.9945\n",
            "Epoch 12/12\n",
            "60000/60000 [==============================] - 16s 259us/step - loss: 0.0048 - acc: 0.9984 - val_loss: 0.0258 - val_acc: 0.9942\n",
            "Test loss: 0.025782507655242898\n",
            "Test Accuracy: 0.9942\n"
          ],
          "name": "stdout"
        }
      ]
    },
    {
      "cell_type": "markdown",
      "metadata": {
        "id": "So0pcTxgAuB-",
        "colab_type": "text"
      },
      "source": [
        "5 (32-64-128-256-512)Convolution Layers with 3x3 kernel size and added batch normalization (which normalizes the matrix), maxpooling with strides=2 ,padding as valid after flatten the data given dense layer of 624 neurons as shown good accuracy of 99.42%"
      ]
    },
    {
      "cell_type": "code",
      "metadata": {
        "id": "nH2PMUstv356",
        "colab_type": "code",
        "colab": {
          "base_uri": "https://localhost:8080/",
          "height": 317
        },
        "outputId": "8646addf-018b-448a-c8c0-00afba8f71a9"
      },
      "source": [
        "score = model.evaluate(x_test, y_test, verbose=0) \n",
        "print('Test score:', score[0]) \n",
        "print('Test accuracy:', score[1])\n",
        "\n",
        "fig,ax = plt.subplots(1,1)\n",
        "ax.set_xlabel('epoch') ; ax.set_ylabel('Binary Crossentropy Loss')\n",
        "\n",
        "# list of epoch numbers\n",
        "x = list(range(1,epochs+1))\n",
        "\n",
        "# for each key in histrory.histrory we will have a list of length equal to number of epochs\n",
        "\n",
        "vy = history.history['val_loss']\n",
        "ty = history.history['loss']\n",
        "plt_dynamic(x, vy, ty, ax)"
      ],
      "execution_count": 17,
      "outputs": [
        {
          "output_type": "stream",
          "text": [
            "Test score: 0.025782507655242898\n",
            "Test accuracy: 0.9942\n"
          ],
          "name": "stdout"
        },
        {
          "output_type": "display_data",
          "data": {
            "image/png": "[encoded data removed]",
            "text/plain": [
              "<Figure size 432x288 with 1 Axes>"
            ]
          },
          "metadata": {
            "tags": []
          }
        }
      ]
    },
    {
      "cell_type": "markdown",
      "metadata": {
        "id": "Oe37_613-VJd",
        "colab_type": "text"
      },
      "source": [
        "**5 Convolution Layers Architecture(5x5 kernel size)**"
      ]
    },
    {
      "cell_type": "code",
      "metadata": {
        "id": "DQDDUxFr-Yim",
        "colab_type": "code",
        "outputId": "c5f31de1-0038-4f45-c916-c2c0fe7e0063",
        "colab": {
          "base_uri": "https://localhost:8080/",
          "height": 1000
        }
      },
      "source": [
        "model = Sequential()\n",
        "model.add(Conv2D(32, kernel_size=(5,5), activation='relu', input_shape=input_shape))\n",
        "model.add(BatchNormalization(axis=-1))\n",
        "model.add(Conv2D(64, (5,5), activation='relu'))\n",
        "model.add(BatchNormalization(axis=-1))\n",
        "model.add(Conv2D(128, (3,3), activation='relu'))\n",
        "model.add(BatchNormalization(axis=-1))\n",
        "model.add(MaxPooling2D(pool_size=(2,2), strides=1, padding='valid'))\n",
        "model.add(Conv2D(256, (3,3), activation='relu'))\n",
        "model.add(BatchNormalization(axis=-1))\n",
        "model.add(MaxPooling2D(pool_size=(2,2), strides=1, padding='valid'))\n",
        "model.add(Dropout(0.25))\n",
        "model.add(Conv2D(512, (3,3), activation='relu'))\n",
        "model.add(MaxPooling2D(pool_size=(2,2), strides=1, padding='valid'))\n",
        "model.add(Dropout(0.25))\n",
        "model.add(Flatten())\n",
        "model.add(Dense(624, activation='relu'))\n",
        "model.add(BatchNormalization())\n",
        "model.add(Dropout(0.5))\n",
        "model.add(Dense(num_classes, activation='softmax'))\n",
        "model.summary()\n",
        "model.compile(loss=keras.losses.categorical_crossentropy, optimizer=keras.optimizers.Adadelta(), metrics=['accuracy'])\n",
        "\n",
        "history = model.fit(x_train, y_train, batch_size=batch_size, epochs=epochs, verbose=1, validation_data=(x_test, y_test))\n",
        "score = model.evaluate(x_test, y_test, verbose=0)\n",
        "print('Test loss:', score[0])\n",
        "print('Test Accuracy:', score[1])"
      ],
      "execution_count": 18,
      "outputs": [
        {
          "output_type": "stream",
          "text": [
            "_________________________________________________________________\n",
            "Layer (type)                 Output Shape              Param #   \n",
            "=================================================================\n",
            "conv2d_17 (Conv2D)           (None, 24, 24, 32)        832       \n",
            "_________________________________________________________________\n",
            "batch_normalization_12 (Batc (None, 24, 24, 32)        128       \n",
            "_________________________________________________________________\n",
            "conv2d_18 (Conv2D)           (None, 20, 20, 64)        51264     \n",
            "_________________________________________________________________\n",
            "batch_normalization_13 (Batc (None, 20, 20, 64)        256       \n",
            "_________________________________________________________________\n",
            "conv2d_19 (Conv2D)           (None, 18, 18, 128)       73856     \n",
            "_________________________________________________________________\n",
            "batch_normalization_14 (Batc (None, 18, 18, 128)       512       \n",
            "_________________________________________________________________\n",
            "max_pooling2d_8 (MaxPooling2 (None, 17, 17, 128)       0         \n",
            "_________________________________________________________________\n",
            "conv2d_20 (Conv2D)           (None, 15, 15, 256)       295168    \n",
            "_________________________________________________________________\n",
            "batch_normalization_15 (Batc (None, 15, 15, 256)       1024      \n",
            "_________________________________________________________________\n",
            "max_pooling2d_9 (MaxPooling2 (None, 14, 14, 256)       0         \n",
            "_________________________________________________________________\n",
            "dropout_12 (Dropout)         (None, 14, 14, 256)       0         \n",
            "_________________________________________________________________\n",
            "conv2d_21 (Conv2D)           (None, 12, 12, 512)       1180160   \n",
            "_________________________________________________________________\n",
            "max_pooling2d_10 (MaxPooling (None, 11, 11, 512)       0         \n",
            "_________________________________________________________________\n",
            "dropout_13 (Dropout)         (None, 11, 11, 512)       0         \n",
            "_________________________________________________________________\n",
            "flatten_6 (Flatten)          (None, 61952)             0         \n",
            "_________________________________________________________________\n",
            "dense_11 (Dense)             (None, 624)               38658672  \n",
            "_________________________________________________________________\n",
            "batch_normalization_16 (Batc (None, 624)               2496      \n",
            "_________________________________________________________________\n",
            "dropout_14 (Dropout)         (None, 624)               0         \n",
            "_________________________________________________________________\n",
            "dense_12 (Dense)             (None, 10)                6250      \n",
            "=================================================================\n",
            "Total params: 40,270,618\n",
            "Trainable params: 40,268,410\n",
            "Non-trainable params: 2,208\n",
            "_________________________________________________________________\n",
            "Train on 60000 samples, validate on 10000 samples\n",
            "Epoch 1/12\n",
            "60000/60000 [==============================] - 52s 861us/step - loss: 0.1112 - acc: 0.9666 - val_loss: 0.0669 - val_acc: 0.9781\n",
            "Epoch 2/12\n",
            "60000/60000 [==============================] - 47s 787us/step - loss: 0.0401 - acc: 0.9876 - val_loss: 0.0318 - val_acc: 0.9907\n",
            "Epoch 3/12\n",
            "60000/60000 [==============================] - 47s 787us/step - loss: 0.0298 - acc: 0.9905 - val_loss: 0.0254 - val_acc: 0.9921\n",
            "Epoch 4/12\n",
            "60000/60000 [==============================] - 47s 788us/step - loss: 0.0225 - acc: 0.9930 - val_loss: 0.0239 - val_acc: 0.9925\n",
            "Epoch 5/12\n",
            "60000/60000 [==============================] - 47s 787us/step - loss: 0.0183 - acc: 0.9941 - val_loss: 0.0219 - val_acc: 0.9938\n",
            "Epoch 6/12\n",
            "60000/60000 [==============================] - 47s 786us/step - loss: 0.0157 - acc: 0.9952 - val_loss: 0.0327 - val_acc: 0.9896\n",
            "Epoch 7/12\n",
            "60000/60000 [==============================] - 47s 785us/step - loss: 0.0129 - acc: 0.9957 - val_loss: 0.0173 - val_acc: 0.9949\n",
            "Epoch 8/12\n",
            "60000/60000 [==============================] - 47s 786us/step - loss: 0.0113 - acc: 0.9963 - val_loss: 0.0235 - val_acc: 0.9934\n",
            "Epoch 9/12\n",
            "60000/60000 [==============================] - 47s 787us/step - loss: 0.0096 - acc: 0.9968 - val_loss: 0.0327 - val_acc: 0.9912\n",
            "Epoch 10/12\n",
            "60000/60000 [==============================] - 47s 785us/step - loss: 0.0080 - acc: 0.9974 - val_loss: 0.0213 - val_acc: 0.9938\n",
            "Epoch 11/12\n",
            "60000/60000 [==============================] - 47s 787us/step - loss: 0.0075 - acc: 0.9978 - val_loss: 0.0201 - val_acc: 0.9944\n",
            "Epoch 12/12\n",
            "60000/60000 [==============================] - 47s 786us/step - loss: 0.0056 - acc: 0.9983 - val_loss: 0.0237 - val_acc: 0.9933\n",
            "Test loss: 0.023693369235439785\n",
            "Test Accuracy: 0.9933\n"
          ],
          "name": "stdout"
        }
      ]
    },
    {
      "cell_type": "markdown",
      "metadata": {
        "id": "CgJBzcGqByGe",
        "colab_type": "text"
      },
      "source": [
        "5 (32-64-128-256-512)Convolution Layers with 5x5 kernel size and added batch normalization (which normalizes the matrix), maxpooling with strides=1 ,padding as valid after flatten the data given dense layer of 624 neurons as shown good accuracy of 99.33%"
      ]
    },
    {
      "cell_type": "code",
      "metadata": {
        "id": "KJ4cIkeUwiQ6",
        "colab_type": "code",
        "colab": {
          "base_uri": "https://localhost:8080/",
          "height": 317
        },
        "outputId": "fe8d5767-81cb-47be-e901-29eb9da47acf"
      },
      "source": [
        "score = model.evaluate(x_test, y_test, verbose=0) \n",
        "print('Test score:', score[0]) \n",
        "print('Test accuracy:', score[1])\n",
        "\n",
        "fig,ax = plt.subplots(1,1)\n",
        "ax.set_xlabel('epoch') ; ax.set_ylabel('Binary Crossentropy Loss')\n",
        "\n",
        "# list of epoch numbers\n",
        "x = list(range(1,epochs+1))\n",
        "\n",
        "# for each key in histrory.histrory we will have a list of length equal to number of epochs\n",
        "\n",
        "vy = history.history['val_loss']\n",
        "ty = history.history['loss']\n",
        "plt_dynamic(x, vy, ty, ax)"
      ],
      "execution_count": 19,
      "outputs": [
        {
          "output_type": "stream",
          "text": [
            "Test score: 0.023693369235439785\n",
            "Test accuracy: 0.9933\n"
          ],
          "name": "stdout"
        },
        {
          "output_type": "display_data",
          "data": {
            "image/png": "[encoded data removed]",
            "text/plain": [
              "<Figure size 432x288 with 1 Axes>"
            ]
          },
          "metadata": {
            "tags": []
          }
        }
      ]
    },
    {
      "cell_type": "markdown",
      "metadata": {
        "id": "0jjct5oB-ZR-",
        "colab_type": "text"
      },
      "source": [
        "**5 Convolution Layers Architecture(7x7 kernel size)**"
      ]
    },
    {
      "cell_type": "code",
      "metadata": {
        "id": "We2auRAd-b59",
        "colab_type": "code",
        "outputId": "49969bee-7d5e-4ce9-e4d4-b9b8b07a5c22",
        "colab": {
          "base_uri": "https://localhost:8080/",
          "height": 782
        }
      },
      "source": [
        "model = Sequential()\n",
        "model.add(Conv2D(32, kernel_size=(7,7), activation='relu', input_shape=input_shape))\n",
        "model.add(BatchNormalization(axis=-1))\n",
        "model.add(Conv2D(64, (7,7), activation='relu'))\n",
        "model.add(BatchNormalization(axis=-1))\n",
        "model.add(Conv2D(128, (5,5), activation='relu'))\n",
        "model.add(BatchNormalization(axis=-1))\n",
        "model.add(MaxPooling2D(pool_size=(2,2), strides=1, padding='valid'))\n",
        "model.add(Conv2D(256, (3,3), activation='relu'))\n",
        "model.add(BatchNormalization(axis=-1))\n",
        "model.add(MaxPooling2D(pool_size=(2,2), strides=1, padding='valid'))\n",
        "model.add(Dropout(0.25))\n",
        "model.add(Conv2D(512, (3,3), activation='relu'))\n",
        "model.add(MaxPooling2D(pool_size=(2,2), strides=1, padding='valid'))\n",
        "model.add(Dropout(0.25))\n",
        "model.add(Flatten())\n",
        "model.add(Dense(624, activation='relu'))\n",
        "model.add(BatchNormalization())\n",
        "model.add(Dropout(0.5))\n",
        "model.add(Dense(num_classes, activation='softmax'))\n",
        "model.summary()"
      ],
      "execution_count": 20,
      "outputs": [
        {
          "output_type": "stream",
          "text": [
            "_________________________________________________________________\n",
            "Layer (type)                 Output Shape              Param #   \n",
            "=================================================================\n",
            "conv2d_22 (Conv2D)           (None, 22, 22, 32)        1600      \n",
            "_________________________________________________________________\n",
            "batch_normalization_17 (Batc (None, 22, 22, 32)        128       \n",
            "_________________________________________________________________\n",
            "conv2d_23 (Conv2D)           (None, 16, 16, 64)        100416    \n",
            "_________________________________________________________________\n",
            "batch_normalization_18 (Batc (None, 16, 16, 64)        256       \n",
            "_________________________________________________________________\n",
            "conv2d_24 (Conv2D)           (None, 12, 12, 128)       204928    \n",
            "_________________________________________________________________\n",
            "batch_normalization_19 (Batc (None, 12, 12, 128)       512       \n",
            "_________________________________________________________________\n",
            "max_pooling2d_11 (MaxPooling (None, 11, 11, 128)       0         \n",
            "_________________________________________________________________\n",
            "conv2d_25 (Conv2D)           (None, 9, 9, 256)         295168    \n",
            "_________________________________________________________________\n",
            "batch_normalization_20 (Batc (None, 9, 9, 256)         1024      \n",
            "_________________________________________________________________\n",
            "max_pooling2d_12 (MaxPooling (None, 8, 8, 256)         0         \n",
            "_________________________________________________________________\n",
            "dropout_15 (Dropout)         (None, 8, 8, 256)         0         \n",
            "_________________________________________________________________\n",
            "conv2d_26 (Conv2D)           (None, 6, 6, 512)         1180160   \n",
            "_________________________________________________________________\n",
            "max_pooling2d_13 (MaxPooling (None, 5, 5, 512)         0         \n",
            "_________________________________________________________________\n",
            "dropout_16 (Dropout)         (None, 5, 5, 512)         0         \n",
            "_________________________________________________________________\n",
            "flatten_7 (Flatten)          (None, 12800)             0         \n",
            "_________________________________________________________________\n",
            "dense_13 (Dense)             (None, 624)               7987824   \n",
            "_________________________________________________________________\n",
            "batch_normalization_21 (Batc (None, 624)               2496      \n",
            "_________________________________________________________________\n",
            "dropout_17 (Dropout)         (None, 624)               0         \n",
            "_________________________________________________________________\n",
            "dense_14 (Dense)             (None, 10)                6250      \n",
            "=================================================================\n",
            "Total params: 9,780,762\n",
            "Trainable params: 9,778,554\n",
            "Non-trainable params: 2,208\n",
            "_________________________________________________________________\n"
          ],
          "name": "stdout"
        }
      ]
    },
    {
      "cell_type": "code",
      "metadata": {
        "id": "izpRYsdkEgh8",
        "colab_type": "code",
        "outputId": "04f1b947-0495-402b-8f9a-c1c276e0b037",
        "colab": {
          "base_uri": "https://localhost:8080/",
          "height": 476
        }
      },
      "source": [
        "model.compile(loss=keras.losses.categorical_crossentropy, optimizer=keras.optimizers.Adadelta(), metrics=['accuracy'])\n",
        "history = model.fit(x_train, y_train, batch_size=batch_size, epochs=epochs, verbose=1, validation_data=(x_test, y_test))\n",
        "score = model.evaluate(x_test, y_test, verbose=0)\n",
        "print('Test loss:', score[0])\n",
        "print('Test Accuracy:', score[1])"
      ],
      "execution_count": 21,
      "outputs": [
        {
          "output_type": "stream",
          "text": [
            "Train on 60000 samples, validate on 10000 samples\n",
            "Epoch 1/12\n",
            "60000/60000 [==============================] - 22s 366us/step - loss: 0.1625 - acc: 0.9533 - val_loss: 0.0883 - val_acc: 0.9745\n",
            "Epoch 2/12\n",
            "60000/60000 [==============================] - 19s 312us/step - loss: 0.0539 - acc: 0.9831 - val_loss: 0.0360 - val_acc: 0.9892\n",
            "Epoch 3/12\n",
            "60000/60000 [==============================] - 19s 314us/step - loss: 0.0345 - acc: 0.9894 - val_loss: 0.0362 - val_acc: 0.9892\n",
            "Epoch 4/12\n",
            "60000/60000 [==============================] - 19s 314us/step - loss: 0.0264 - acc: 0.9923 - val_loss: 0.0299 - val_acc: 0.9915\n",
            "Epoch 5/12\n",
            "60000/60000 [==============================] - 19s 314us/step - loss: 0.0213 - acc: 0.9934 - val_loss: 0.0236 - val_acc: 0.9934\n",
            "Epoch 6/12\n",
            "60000/60000 [==============================] - 19s 311us/step - loss: 0.0183 - acc: 0.9947 - val_loss: 0.0247 - val_acc: 0.9917\n",
            "Epoch 7/12\n",
            "60000/60000 [==============================] - 19s 312us/step - loss: 0.0150 - acc: 0.9955 - val_loss: 0.0354 - val_acc: 0.9903\n",
            "Epoch 8/12\n",
            "60000/60000 [==============================] - 19s 311us/step - loss: 0.0129 - acc: 0.9961 - val_loss: 0.0275 - val_acc: 0.9918\n",
            "Epoch 9/12\n",
            "60000/60000 [==============================] - 19s 311us/step - loss: 0.0112 - acc: 0.9967 - val_loss: 0.0260 - val_acc: 0.9934\n",
            "Epoch 10/12\n",
            "60000/60000 [==============================] - 19s 311us/step - loss: 0.0095 - acc: 0.9970 - val_loss: 0.0403 - val_acc: 0.9903\n",
            "Epoch 11/12\n",
            "60000/60000 [==============================] - 19s 312us/step - loss: 0.0070 - acc: 0.9978 - val_loss: 0.0249 - val_acc: 0.9938\n",
            "Epoch 12/12\n",
            "60000/60000 [==============================] - 19s 311us/step - loss: 0.0079 - acc: 0.9976 - val_loss: 0.0358 - val_acc: 0.9919\n",
            "Test loss: 0.03584375725575774\n",
            "Test Accuracy: 0.9919\n"
          ],
          "name": "stdout"
        }
      ]
    },
    {
      "cell_type": "markdown",
      "metadata": {
        "id": "_hApMCXwmYMB",
        "colab_type": "text"
      },
      "source": [
        "5 (32-64-128-256-512)Convolution Layers with 7x7 kernel size and added batch normalization (which normalizes the matrix), maxpooling with strides=1 ,padding as valid after flatten the data given dense layer of 624 neurons as shown good accuracy of 99.19%"
      ]
    },
    {
      "cell_type": "code",
      "metadata": {
        "id": "sZdB4CGdwsa7",
        "colab_type": "code",
        "colab": {
          "base_uri": "https://localhost:8080/",
          "height": 317
        },
        "outputId": "db0688a7-f2e6-4bf5-d495-1446637289b3"
      },
      "source": [
        "score = model.evaluate(x_test, y_test, verbose=0) \n",
        "print('Test score:', score[0]) \n",
        "print('Test accuracy:', score[1])\n",
        "\n",
        "fig,ax = plt.subplots(1,1)\n",
        "ax.set_xlabel('epoch') ; ax.set_ylabel('Binary Crossentropy Loss')\n",
        "\n",
        "# list of epoch numbers\n",
        "x = list(range(1,epochs+1))\n",
        "\n",
        "# for each key in histrory.histrory we will have a list of length equal to number of epochs\n",
        "\n",
        "vy = history.history['val_loss']\n",
        "ty = history.history['loss']\n",
        "plt_dynamic(x, vy, ty, ax)"
      ],
      "execution_count": 22,
      "outputs": [
        {
          "output_type": "stream",
          "text": [
            "Test score: 0.03584375725575774\n",
            "Test accuracy: 0.9919\n"
          ],
          "name": "stdout"
        },
        {
          "output_type": "display_data",
          "data": {
            "image/png": "[encoded data removed]",
            "text/plain": [
              "<Figure size 432x288 with 1 Axes>"
            ]
          },
          "metadata": {
            "tags": []
          }
        }
      ]
    },
    {
      "cell_type": "markdown",
      "metadata": {
        "id": "X3nApRXl-ce4",
        "colab_type": "text"
      },
      "source": [
        "**7 Convolution Layers Architecture(3x3 kernel size)**"
      ]
    },
    {
      "cell_type": "code",
      "metadata": {
        "id": "1dyjiGF8-gUR",
        "colab_type": "code",
        "outputId": "6b1097c7-1ba8-4580-fef0-7a8ee5ee8525",
        "colab": {
          "base_uri": "https://localhost:8080/",
          "height": 1000
        }
      },
      "source": [
        "model = Sequential()\n",
        "model.add(Conv2D(512, kernel_size=(3,3), activation='relu', input_shape=input_shape))\n",
        "model.add(BatchNormalization(axis=-1))\n",
        "model.add(Conv2D(456, (3,3), activation='relu'))\n",
        "model.add(BatchNormalization(axis=-1))\n",
        "model.add(Conv2D(326, (3,3), activation='relu'))\n",
        "model.add(BatchNormalization(axis=-1))\n",
        "model.add(Conv2D(224, (3,3), activation='relu'))\n",
        "model.add(BatchNormalization(axis=-1))\n",
        "model.add(Conv2D(128, (3,3), activation='relu'))\n",
        "model.add(BatchNormalization(axis=-1))\n",
        "\n",
        "model.add(Conv2D(64, (3,3), activation='relu'))\n",
        "model.add(BatchNormalization(axis=-1))\n",
        "\n",
        "model.add(Dropout(0.25))\n",
        "model.add(Conv2D(32, (3,3), activation='relu'))\n",
        "\n",
        "model.add(Dropout(0.25))\n",
        "model.add(Flatten())\n",
        "model.add(Dense(1024, activation='relu'))\n",
        "model.add(BatchNormalization())\n",
        "model.add(Dropout(0.5))\n",
        "model.add(Dense(num_classes, activation='softmax'))\n",
        "model.summary()\n",
        "model.compile(loss=keras.losses.categorical_crossentropy, optimizer=keras.optimizers.Adadelta(), metrics=['accuracy'])\n",
        "\n",
        "history = model.fit(x_train, y_train, batch_size=batch_size, epochs=epochs, verbose=1, validation_data=(x_test, y_test))\n",
        "score = model.evaluate(x_test, y_test, verbose=0)\n",
        "print('Test loss:', score[0])\n",
        "print('Test Accuracy:', score[1])"
      ],
      "execution_count": 29,
      "outputs": [
        {
          "output_type": "stream",
          "text": [
            "_________________________________________________________________\n",
            "Layer (type)                 Output Shape              Param #   \n",
            "=================================================================\n",
            "conv2d_41 (Conv2D)           (None, 26, 26, 512)       5120      \n",
            "_________________________________________________________________\n",
            "batch_normalization_36 (Batc (None, 26, 26, 512)       2048      \n",
            "_________________________________________________________________\n",
            "conv2d_42 (Conv2D)           (None, 24, 24, 456)       2101704   \n",
            "_________________________________________________________________\n",
            "batch_normalization_37 (Batc (None, 24, 24, 456)       1824      \n",
            "_________________________________________________________________\n",
            "conv2d_43 (Conv2D)           (None, 22, 22, 326)       1338230   \n",
            "_________________________________________________________________\n",
            "batch_normalization_38 (Batc (None, 22, 22, 326)       1304      \n",
            "_________________________________________________________________\n",
            "conv2d_44 (Conv2D)           (None, 20, 20, 224)       657440    \n",
            "_________________________________________________________________\n",
            "batch_normalization_39 (Batc (None, 20, 20, 224)       896       \n",
            "_________________________________________________________________\n",
            "conv2d_45 (Conv2D)           (None, 18, 18, 128)       258176    \n",
            "_________________________________________________________________\n",
            "batch_normalization_40 (Batc (None, 18, 18, 128)       512       \n",
            "_________________________________________________________________\n",
            "conv2d_46 (Conv2D)           (None, 16, 16, 64)        73792     \n",
            "_________________________________________________________________\n",
            "batch_normalization_41 (Batc (None, 16, 16, 64)        256       \n",
            "_________________________________________________________________\n",
            "dropout_24 (Dropout)         (None, 16, 16, 64)        0         \n",
            "_________________________________________________________________\n",
            "conv2d_47 (Conv2D)           (None, 14, 14, 32)        18464     \n",
            "_________________________________________________________________\n",
            "dropout_25 (Dropout)         (None, 14, 14, 32)        0         \n",
            "_________________________________________________________________\n",
            "flatten_10 (Flatten)         (None, 6272)              0         \n",
            "_________________________________________________________________\n",
            "dense_19 (Dense)             (None, 1024)              6423552   \n",
            "_________________________________________________________________\n",
            "batch_normalization_42 (Batc (None, 1024)              4096      \n",
            "_________________________________________________________________\n",
            "dropout_26 (Dropout)         (None, 1024)              0         \n",
            "_________________________________________________________________\n",
            "dense_20 (Dense)             (None, 10)                10250     \n",
            "=================================================================\n",
            "Total params: 10,897,664\n",
            "Trainable params: 10,892,196\n",
            "Non-trainable params: 5,468\n",
            "_________________________________________________________________\n",
            "Train on 60000 samples, validate on 10000 samples\n",
            "Epoch 1/12\n",
            "60000/60000 [==============================] - 140s 2ms/step - loss: 0.1544 - acc: 0.9569 - val_loss: 0.1022 - val_acc: 0.9723\n",
            "Epoch 2/12\n",
            "60000/60000 [==============================] - 126s 2ms/step - loss: 0.0519 - acc: 0.9842 - val_loss: 0.0442 - val_acc: 0.9866\n",
            "Epoch 3/12\n",
            "60000/60000 [==============================] - 125s 2ms/step - loss: 0.0349 - acc: 0.9895 - val_loss: 0.0276 - val_acc: 0.9907\n",
            "Epoch 4/12\n",
            "60000/60000 [==============================] - 126s 2ms/step - loss: 0.0293 - acc: 0.9910 - val_loss: 0.0417 - val_acc: 0.9864\n",
            "Epoch 5/12\n",
            "60000/60000 [==============================] - 126s 2ms/step - loss: 0.0232 - acc: 0.9926 - val_loss: 0.0260 - val_acc: 0.9917\n",
            "Epoch 6/12\n",
            "60000/60000 [==============================] - 126s 2ms/step - loss: 0.0213 - acc: 0.9934 - val_loss: 0.0214 - val_acc: 0.9918\n",
            "Epoch 7/12\n",
            "60000/60000 [==============================] - 126s 2ms/step - loss: 0.0176 - acc: 0.9945 - val_loss: 0.0255 - val_acc: 0.9923\n",
            "Epoch 8/12\n",
            "60000/60000 [==============================] - 126s 2ms/step - loss: 0.0166 - acc: 0.9948 - val_loss: 0.0228 - val_acc: 0.9932\n",
            "Epoch 9/12\n",
            "60000/60000 [==============================] - 126s 2ms/step - loss: 0.0145 - acc: 0.9956 - val_loss: 0.0181 - val_acc: 0.9943\n",
            "Epoch 10/12\n",
            "60000/60000 [==============================] - 126s 2ms/step - loss: 0.0134 - acc: 0.9956 - val_loss: 0.0188 - val_acc: 0.9943\n",
            "Epoch 11/12\n",
            "60000/60000 [==============================] - 126s 2ms/step - loss: 0.0125 - acc: 0.9961 - val_loss: 0.0185 - val_acc: 0.9945\n",
            "Epoch 12/12\n",
            "60000/60000 [==============================] - 126s 2ms/step - loss: 0.0107 - acc: 0.9967 - val_loss: 0.0177 - val_acc: 0.9948\n",
            "Test loss: 0.017714790364309237\n",
            "Test Accuracy: 0.9948\n"
          ],
          "name": "stdout"
        }
      ]
    },
    {
      "cell_type": "markdown",
      "metadata": {
        "id": "dErgf08zmxNJ",
        "colab_type": "text"
      },
      "source": [
        "7 (512-456-326-224-128-64-32)Convolution Layers with 3x3 kernel size and added batch normalization (which normalizes the matrix),  after flatten the data given dense layer of 1024 neurons as shown good accuracy of 99.48%"
      ]
    },
    {
      "cell_type": "code",
      "metadata": {
        "id": "K3gC-dTTwzBa",
        "colab_type": "code",
        "colab": {
          "base_uri": "https://localhost:8080/",
          "height": 317
        },
        "outputId": "1a0ec263-3c68-40c4-8f8d-ccac913c53a8"
      },
      "source": [
        "score = model.evaluate(x_test, y_test, verbose=0) \n",
        "print('Test score:', score[0]) \n",
        "print('Test accuracy:', score[1])\n",
        "\n",
        "fig,ax = plt.subplots(1,1)\n",
        "ax.set_xlabel('epoch') ; ax.set_ylabel('Binary Crossentropy Loss')\n",
        "\n",
        "# list of epoch numbers\n",
        "x = list(range(1,epochs+1))\n",
        "\n",
        "# for each key in histrory.histrory we will have a list of length equal to number of epochs\n",
        "\n",
        "vy = history.history['val_loss']\n",
        "ty = history.history['loss']\n",
        "plt_dynamic(x, vy, ty, ax)"
      ],
      "execution_count": 30,
      "outputs": [
        {
          "output_type": "stream",
          "text": [
            "Test score: 0.017714790364309237\n",
            "Test accuracy: 0.9948\n"
          ],
          "name": "stdout"
        },
        {
          "output_type": "display_data",
          "data": {
            "image/png": "[encoded data removed]",
            "text/plain": [
              "<Figure size 432x288 with 1 Axes>"
            ]
          },
          "metadata": {
            "tags": []
          }
        }
      ]
    },
    {
      "cell_type": "markdown",
      "metadata": {
        "id": "8ieYZ-ow-iIF",
        "colab_type": "text"
      },
      "source": [
        "**7 Convolution Layers Architecture(5x5 kernel size)**"
      ]
    },
    {
      "cell_type": "code",
      "metadata": {
        "id": "xZnTcIY6-l0I",
        "colab_type": "code",
        "outputId": "1477fcc6-3b66-46e0-d39c-ab88ac6ab54d",
        "colab": {
          "base_uri": "https://localhost:8080/",
          "height": 1000
        }
      },
      "source": [
        "model = Sequential()\n",
        "model.add(Conv2D(512, kernel_size=(5,5), activation='relu', input_shape=input_shape))\n",
        "model.add(BatchNormalization(axis=-1))\n",
        "model.add(Conv2D(456, (5,5), activation='relu'))\n",
        "model.add(BatchNormalization(axis=-1))\n",
        "model.add(Conv2D(326, (3,3), activation='relu'))\n",
        "model.add(BatchNormalization(axis=-1))\n",
        "model.add(Conv2D(224, (3,3), activation='relu'))\n",
        "model.add(BatchNormalization(axis=-1))\n",
        "model.add(Conv2D(128, (3,3), activation='relu'))\n",
        "model.add(BatchNormalization(axis=-1))\n",
        "\n",
        "model.add(Conv2D(64, (3,3), activation='relu'))\n",
        "model.add(BatchNormalization(axis=-1))\n",
        "\n",
        "model.add(Dropout(0.25))\n",
        "model.add(Conv2D(32, (3,3), activation='relu'))\n",
        "\n",
        "model.add(Dropout(0.25))\n",
        "model.add(Flatten())\n",
        "model.add(Dense(1024, activation='relu'))\n",
        "model.add(BatchNormalization())\n",
        "model.add(Dropout(0.5))\n",
        "model.add(Dense(num_classes, activation='softmax'))\n",
        "model.summary()\n",
        "model.compile(loss=keras.losses.categorical_crossentropy, optimizer=keras.optimizers.Adadelta(), metrics=['accuracy'])\n",
        "\n",
        "history = model.fit(x_train, y_train, batch_size=batch_size, epochs=epochs, verbose=1, validation_data=(x_test, y_test))\n",
        "score = model.evaluate(x_test, y_test, verbose=0)\n",
        "print('Test loss:', score[0])\n",
        "print('Test Accuracy:', score[1])"
      ],
      "execution_count": 24,
      "outputs": [
        {
          "output_type": "stream",
          "text": [
            "_________________________________________________________________\n",
            "Layer (type)                 Output Shape              Param #   \n",
            "=================================================================\n",
            "conv2d_27 (Conv2D)           (None, 24, 24, 512)       13312     \n",
            "_________________________________________________________________\n",
            "batch_normalization_22 (Batc (None, 24, 24, 512)       2048      \n",
            "_________________________________________________________________\n",
            "conv2d_28 (Conv2D)           (None, 20, 20, 456)       5837256   \n",
            "_________________________________________________________________\n",
            "batch_normalization_23 (Batc (None, 20, 20, 456)       1824      \n",
            "_________________________________________________________________\n",
            "conv2d_29 (Conv2D)           (None, 18, 18, 326)       1338230   \n",
            "_________________________________________________________________\n",
            "batch_normalization_24 (Batc (None, 18, 18, 326)       1304      \n",
            "_________________________________________________________________\n",
            "conv2d_30 (Conv2D)           (None, 16, 16, 224)       657440    \n",
            "_________________________________________________________________\n",
            "batch_normalization_25 (Batc (None, 16, 16, 224)       896       \n",
            "_________________________________________________________________\n",
            "conv2d_31 (Conv2D)           (None, 14, 14, 128)       258176    \n",
            "_________________________________________________________________\n",
            "batch_normalization_26 (Batc (None, 14, 14, 128)       512       \n",
            "_________________________________________________________________\n",
            "conv2d_32 (Conv2D)           (None, 12, 12, 64)        73792     \n",
            "_________________________________________________________________\n",
            "batch_normalization_27 (Batc (None, 12, 12, 64)        256       \n",
            "_________________________________________________________________\n",
            "dropout_18 (Dropout)         (None, 12, 12, 64)        0         \n",
            "_________________________________________________________________\n",
            "conv2d_33 (Conv2D)           (None, 10, 10, 32)        18464     \n",
            "_________________________________________________________________\n",
            "dropout_19 (Dropout)         (None, 10, 10, 32)        0         \n",
            "_________________________________________________________________\n",
            "flatten_8 (Flatten)          (None, 3200)              0         \n",
            "_________________________________________________________________\n",
            "dense_15 (Dense)             (None, 1024)              3277824   \n",
            "_________________________________________________________________\n",
            "batch_normalization_28 (Batc (None, 1024)              4096      \n",
            "_________________________________________________________________\n",
            "dropout_20 (Dropout)         (None, 1024)              0         \n",
            "_________________________________________________________________\n",
            "dense_16 (Dense)             (None, 10)                10250     \n",
            "=================================================================\n",
            "Total params: 11,495,680\n",
            "Trainable params: 11,490,212\n",
            "Non-trainable params: 5,468\n",
            "_________________________________________________________________\n",
            "Train on 60000 samples, validate on 10000 samples\n",
            "Epoch 1/12\n",
            "60000/60000 [==============================] - 127s 2ms/step - loss: 0.1866 - acc: 0.9469 - val_loss: 0.0822 - val_acc: 0.9808\n",
            "Epoch 2/12\n",
            "60000/60000 [==============================] - 114s 2ms/step - loss: 0.0606 - acc: 0.9818 - val_loss: 0.0317 - val_acc: 0.9901\n",
            "Epoch 3/12\n",
            "60000/60000 [==============================] - 114s 2ms/step - loss: 0.0424 - acc: 0.9872 - val_loss: 0.0332 - val_acc: 0.9893\n",
            "Epoch 4/12\n",
            "60000/60000 [==============================] - 114s 2ms/step - loss: 0.0334 - acc: 0.9903 - val_loss: 0.0307 - val_acc: 0.9910\n",
            "Epoch 5/12\n",
            "60000/60000 [==============================] - 114s 2ms/step - loss: 0.0295 - acc: 0.9910 - val_loss: 0.0292 - val_acc: 0.9917\n",
            "Epoch 6/12\n",
            "60000/60000 [==============================] - 113s 2ms/step - loss: 0.0239 - acc: 0.9928 - val_loss: 0.0259 - val_acc: 0.9918\n",
            "Epoch 7/12\n",
            "60000/60000 [==============================] - 113s 2ms/step - loss: 0.0218 - acc: 0.9931 - val_loss: 0.0306 - val_acc: 0.9900\n",
            "Epoch 8/12\n",
            "60000/60000 [==============================] - 114s 2ms/step - loss: 0.0186 - acc: 0.9940 - val_loss: 0.0214 - val_acc: 0.9943\n",
            "Epoch 9/12\n",
            "60000/60000 [==============================] - 113s 2ms/step - loss: 0.0181 - acc: 0.9945 - val_loss: 0.0215 - val_acc: 0.9940\n",
            "Epoch 10/12\n",
            "60000/60000 [==============================] - 114s 2ms/step - loss: 0.0159 - acc: 0.9951 - val_loss: 0.0255 - val_acc: 0.9932\n",
            "Epoch 11/12\n",
            "60000/60000 [==============================] - 114s 2ms/step - loss: 0.0152 - acc: 0.9955 - val_loss: 0.0205 - val_acc: 0.9938\n",
            "Epoch 12/12\n",
            "60000/60000 [==============================] - 113s 2ms/step - loss: 0.0148 - acc: 0.9957 - val_loss: 0.0191 - val_acc: 0.9947\n",
            "Test loss: 0.019112644408796314\n",
            "Test Accuracy: 0.9947\n"
          ],
          "name": "stdout"
        }
      ]
    },
    {
      "cell_type": "markdown",
      "metadata": {
        "id": "GnTtkeH7nY_Q",
        "colab_type": "text"
      },
      "source": [
        "7 (512-456-326-224-128-64-32)Convolution Layers with 5x5 kernel size and added batch normalization (which normalizes the matrix), after flatten the data given dense layer of 1024 neurons as shown good accuracy of 99.47%"
      ]
    },
    {
      "cell_type": "code",
      "metadata": {
        "id": "NJuqRQesw7b_",
        "colab_type": "code",
        "colab": {
          "base_uri": "https://localhost:8080/",
          "height": 317
        },
        "outputId": "c135eee7-9121-4320-c1df-df7ae10a5e4f"
      },
      "source": [
        "score = model.evaluate(x_test, y_test, verbose=0) \n",
        "print('Test score:', score[0]) \n",
        "print('Test accuracy:', score[1])\n",
        "\n",
        "fig,ax = plt.subplots(1,1)\n",
        "ax.set_xlabel('epoch') ; ax.set_ylabel('Binary Crossentropy Loss')\n",
        "\n",
        "# list of epoch numbers\n",
        "x = list(range(1,epochs+1))\n",
        "\n",
        "# for each key in histrory.histrory we will have a list of length equal to number of epochs\n",
        "\n",
        "vy = history.history['val_loss']\n",
        "ty = history.history['loss']\n",
        "plt_dynamic(x, vy, ty, ax)"
      ],
      "execution_count": 25,
      "outputs": [
        {
          "output_type": "stream",
          "text": [
            "Test score: 0.019112644408796314\n",
            "Test accuracy: 0.9947\n"
          ],
          "name": "stdout"
        },
        {
          "output_type": "display_data",
          "data": {
            "image/png": "[encoded data removed]",
            "text/plain": [
              "<Figure size 432x288 with 1 Axes>"
            ]
          },
          "metadata": {
            "tags": []
          }
        }
      ]
    },
    {
      "cell_type": "markdown",
      "metadata": {
        "id": "wPzRGvXV-mXt",
        "colab_type": "text"
      },
      "source": [
        "**7 Convolution Layers Architecture(7x7 kernel size)**"
      ]
    },
    {
      "cell_type": "code",
      "metadata": {
        "id": "eezlodLV-qLO",
        "colab_type": "code",
        "outputId": "f061736b-a683-4565-cccd-867214511cdd",
        "colab": {
          "base_uri": "https://localhost:8080/",
          "height": 1000
        }
      },
      "source": [
        "model = Sequential()\n",
        "model.add(Conv2D(512, kernel_size=(7,7), activation='relu', input_shape=input_shape))\n",
        "model.add(BatchNormalization(axis=-1))\n",
        "model.add(Conv2D(456, (7,7), activation='relu'))\n",
        "model.add(BatchNormalization(axis=-1))\n",
        "model.add(Conv2D(326, (5,5), activation='relu'))\n",
        "model.add(BatchNormalization(axis=-1))\n",
        "model.add(Conv2D(224, (5,5), activation='relu'))\n",
        "model.add(BatchNormalization(axis=-1))\n",
        "model.add(Conv2D(128, (3,3), activation='relu'))\n",
        "model.add(BatchNormalization(axis=-1))\n",
        "\n",
        "model.add(Conv2D(64, (3,3), activation='relu'))\n",
        "model.add(BatchNormalization(axis=-1))\n",
        "\n",
        "model.add(Dropout(0.25))\n",
        "model.add(Conv2D(32, (3,3), activation='relu'))\n",
        "\n",
        "model.add(Dropout(0.25))\n",
        "model.add(Flatten())\n",
        "model.add(Dense(1024, activation='relu'))\n",
        "model.add(BatchNormalization())\n",
        "model.add(Dropout(0.5))\n",
        "model.add(Dense(num_classes, activation='softmax'))\n",
        "model.summary()\n",
        "\n",
        "model.compile(loss=keras.losses.categorical_crossentropy, optimizer=keras.optimizers.Adadelta(), metrics=['accuracy'])\n",
        "\n",
        "history = model.fit(x_train, y_train, batch_size=batch_size, epochs=epochs, verbose=1, validation_data=(x_test, y_test))\n",
        "score = model.evaluate(x_test, y_test, verbose=0)\n",
        "print('Test loss:', score[0])\n",
        "print('Test Accuracy:', score[1])"
      ],
      "execution_count": 27,
      "outputs": [
        {
          "output_type": "stream",
          "text": [
            "_________________________________________________________________\n",
            "Layer (type)                 Output Shape              Param #   \n",
            "=================================================================\n",
            "conv2d_34 (Conv2D)           (None, 22, 22, 512)       25600     \n",
            "_________________________________________________________________\n",
            "batch_normalization_29 (Batc (None, 22, 22, 512)       2048      \n",
            "_________________________________________________________________\n",
            "conv2d_35 (Conv2D)           (None, 16, 16, 456)       11440584  \n",
            "_________________________________________________________________\n",
            "batch_normalization_30 (Batc (None, 16, 16, 456)       1824      \n",
            "_________________________________________________________________\n",
            "conv2d_36 (Conv2D)           (None, 12, 12, 326)       3716726   \n",
            "_________________________________________________________________\n",
            "batch_normalization_31 (Batc (None, 12, 12, 326)       1304      \n",
            "_________________________________________________________________\n",
            "conv2d_37 (Conv2D)           (None, 8, 8, 224)         1825824   \n",
            "_________________________________________________________________\n",
            "batch_normalization_32 (Batc (None, 8, 8, 224)         896       \n",
            "_________________________________________________________________\n",
            "conv2d_38 (Conv2D)           (None, 6, 6, 128)         258176    \n",
            "_________________________________________________________________\n",
            "batch_normalization_33 (Batc (None, 6, 6, 128)         512       \n",
            "_________________________________________________________________\n",
            "conv2d_39 (Conv2D)           (None, 4, 4, 64)          73792     \n",
            "_________________________________________________________________\n",
            "batch_normalization_34 (Batc (None, 4, 4, 64)          256       \n",
            "_________________________________________________________________\n",
            "dropout_21 (Dropout)         (None, 4, 4, 64)          0         \n",
            "_________________________________________________________________\n",
            "conv2d_40 (Conv2D)           (None, 2, 2, 32)          18464     \n",
            "_________________________________________________________________\n",
            "dropout_22 (Dropout)         (None, 2, 2, 32)          0         \n",
            "_________________________________________________________________\n",
            "flatten_9 (Flatten)          (None, 128)               0         \n",
            "_________________________________________________________________\n",
            "dense_17 (Dense)             (None, 1024)              132096    \n",
            "_________________________________________________________________\n",
            "batch_normalization_35 (Batc (None, 1024)              4096      \n",
            "_________________________________________________________________\n",
            "dropout_23 (Dropout)         (None, 1024)              0         \n",
            "_________________________________________________________________\n",
            "dense_18 (Dense)             (None, 10)                10250     \n",
            "=================================================================\n",
            "Total params: 17,512,448\n",
            "Trainable params: 17,506,980\n",
            "Non-trainable params: 5,468\n",
            "_________________________________________________________________\n",
            "Train on 60000 samples, validate on 10000 samples\n",
            "Epoch 1/12\n",
            "60000/60000 [==============================] - 152s 3ms/step - loss: 0.2815 - acc: 0.9213 - val_loss: 0.2116 - val_acc: 0.9650\n",
            "Epoch 2/12\n",
            "60000/60000 [==============================] - 137s 2ms/step - loss: 0.0812 - acc: 0.9784 - val_loss: 0.0948 - val_acc: 0.9768\n",
            "Epoch 3/12\n",
            "60000/60000 [==============================] - 137s 2ms/step - loss: 0.0564 - acc: 0.9851 - val_loss: 0.0324 - val_acc: 0.9917\n",
            "Epoch 4/12\n",
            "60000/60000 [==============================] - 137s 2ms/step - loss: 0.0441 - acc: 0.9887 - val_loss: 0.0509 - val_acc: 0.9860\n",
            "Epoch 5/12\n",
            "60000/60000 [==============================] - 137s 2ms/step - loss: 0.0371 - acc: 0.9901 - val_loss: 0.0315 - val_acc: 0.9913\n",
            "Epoch 6/12\n",
            "60000/60000 [==============================] - 137s 2ms/step - loss: 0.0313 - acc: 0.9916 - val_loss: 0.0376 - val_acc: 0.9913\n",
            "Epoch 7/12\n",
            "60000/60000 [==============================] - 137s 2ms/step - loss: 0.0271 - acc: 0.9930 - val_loss: 0.0298 - val_acc: 0.9926\n",
            "Epoch 8/12\n",
            "60000/60000 [==============================] - 137s 2ms/step - loss: 0.0244 - acc: 0.9940 - val_loss: 0.0372 - val_acc: 0.9910\n",
            "Epoch 9/12\n",
            "60000/60000 [==============================] - 137s 2ms/step - loss: 0.0235 - acc: 0.9935 - val_loss: 0.0332 - val_acc: 0.9921\n",
            "Epoch 10/12\n",
            "60000/60000 [==============================] - 137s 2ms/step - loss: 0.0193 - acc: 0.9947 - val_loss: 0.0369 - val_acc: 0.9921\n",
            "Epoch 11/12\n",
            "60000/60000 [==============================] - 137s 2ms/step - loss: 0.0180 - acc: 0.9954 - val_loss: 0.0329 - val_acc: 0.9930\n",
            "Epoch 12/12\n",
            "60000/60000 [==============================] - 137s 2ms/step - loss: 0.0163 - acc: 0.9957 - val_loss: 0.0356 - val_acc: 0.9921\n",
            "Test loss: 0.03561010558943635\n",
            "Test Accuracy: 0.9921\n"
          ],
          "name": "stdout"
        }
      ]
    },
    {
      "cell_type": "markdown",
      "metadata": {
        "id": "4el2WYhNn7Zv",
        "colab_type": "text"
      },
      "source": [
        "7 (512-456-326-224-128-64-32)Convolution Layers with 5x5 kernel size and added batch normalization (which normalizes the matrix), after flatten the data given dense layer of 1024 neurons as shown good accuracy of 99.21%"
      ]
    },
    {
      "cell_type": "code",
      "metadata": {
        "id": "6rcMMXDOxaeC",
        "colab_type": "code",
        "colab": {
          "base_uri": "https://localhost:8080/",
          "height": 317
        },
        "outputId": "3521fb65-9828-4fa3-e19d-f8fe9b8aa371"
      },
      "source": [
        "score = model.evaluate(x_test, y_test, verbose=0) \n",
        "print('Test score:', score[0]) \n",
        "print('Test accuracy:', score[1])\n",
        "\n",
        "fig,ax = plt.subplots(1,1)\n",
        "ax.set_xlabel('epoch') ; ax.set_ylabel('Binary Crossentropy Loss')\n",
        "\n",
        "# list of epoch numbers\n",
        "x = list(range(1,epochs+1))\n",
        "\n",
        "# for each key in histrory.histrory we will have a list of length equal to number of epochs\n",
        "\n",
        "vy = history.history['val_loss']\n",
        "ty = history.history['loss']\n",
        "plt_dynamic(x, vy, ty, ax)"
      ],
      "execution_count": 28,
      "outputs": [
        {
          "output_type": "stream",
          "text": [
            "Test score: 0.03561010558943635\n",
            "Test accuracy: 0.9921\n"
          ],
          "name": "stdout"
        },
        {
          "output_type": "display_data",
          "data": {
            "image/png": "[encoded data removed]",
            "text/plain": [
              "<Figure size 432x288 with 1 Axes>"
            ]
          },
          "metadata": {
            "tags": []
          }
        }
      ]
    }
  ]
}