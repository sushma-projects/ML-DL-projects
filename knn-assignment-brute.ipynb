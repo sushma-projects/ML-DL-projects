{
 "cells": [
  {
   "cell_type": "markdown",
   "metadata": {},
   "source": [
    "# Amazon Fine Food Review Analysis-Applying KNN with Brute-force algorithm\n",
    "Objective: Given a review,determine whether the given review is positive or negative by applying KNN algorithm and deciding the best Feature generation technique for given problem. In order to load the data we have used SQLite dataset as it easier to query the data and visualise the data efficiently. Feature generation techniques to convert text to vector are Bow,Tfidf,Average Tfidf-Word2vec and Weighted Tfidf-Word2vec"
   ]
  },
  {
   "cell_type": "code",
   "execution_count": 1,
   "metadata": {},
   "outputs": [
    {
     "data": {
      "text/html": [
       "<div>\n",
       "<style scoped>\n",
       "    .dataframe tbody tr th:only-of-type {\n",
       "        vertical-align: middle;\n",
       "    }\n",
       "\n",
       "    .dataframe tbody tr th {\n",
       "        vertical-align: top;\n",
       "    }\n",
       "\n",
       "    .dataframe thead th {\n",
       "        text-align: right;\n",
       "    }\n",
       "</style>\n",
       "<table border=\"1\" class=\"dataframe\">\n",
       "  <thead>\n",
       "    <tr style=\"text-align: right;\">\n",
       "      <th></th>\n",
       "      <th>Id</th>\n",
       "      <th>ProductId</th>\n",
       "      <th>UserId</th>\n",
       "      <th>ProfileName</th>\n",
       "      <th>HelpfulnessNumerator</th>\n",
       "      <th>HelpfulnessDenominator</th>\n",
       "      <th>Score</th>\n",
       "      <th>Time</th>\n",
       "      <th>Summary</th>\n",
       "      <th>Text</th>\n",
       "    </tr>\n",
       "  </thead>\n",
       "  <tbody>\n",
       "    <tr>\n",
       "      <th>0</th>\n",
       "      <td>1</td>\n",
       "      <td>B001E4KFG0</td>\n",
       "      <td>A3SGXH7AUHU8GW</td>\n",
       "      <td>delmartian</td>\n",
       "      <td>1</td>\n",
       "      <td>1</td>\n",
       "      <td>1</td>\n",
       "      <td>1303862400</td>\n",
       "      <td>Good Quality Dog Food</td>\n",
       "      <td>I have bought several of the Vitality canned d...</td>\n",
       "    </tr>\n",
       "    <tr>\n",
       "      <th>1</th>\n",
       "      <td>2</td>\n",
       "      <td>B00813GRG4</td>\n",
       "      <td>A1D87F6ZCVE5NK</td>\n",
       "      <td>dll pa</td>\n",
       "      <td>0</td>\n",
       "      <td>0</td>\n",
       "      <td>0</td>\n",
       "      <td>1346976000</td>\n",
       "      <td>Not as Advertised</td>\n",
       "      <td>Product arrived labeled as Jumbo Salted Peanut...</td>\n",
       "    </tr>\n",
       "    <tr>\n",
       "      <th>2</th>\n",
       "      <td>3</td>\n",
       "      <td>B000LQOCH0</td>\n",
       "      <td>ABXLMWJIXXAIN</td>\n",
       "      <td>Natalia Corres \"Natalia Corres\"</td>\n",
       "      <td>1</td>\n",
       "      <td>1</td>\n",
       "      <td>1</td>\n",
       "      <td>1219017600</td>\n",
       "      <td>\"Delight\" says it all</td>\n",
       "      <td>This is a confection that has been around a fe...</td>\n",
       "    </tr>\n",
       "  </tbody>\n",
       "</table>\n",
       "</div>"
      ],
      "text/plain": [
       "   Id   ProductId          UserId                      ProfileName  \\\n",
       "0   1  B001E4KFG0  A3SGXH7AUHU8GW                       delmartian   \n",
       "1   2  B00813GRG4  A1D87F6ZCVE5NK                           dll pa   \n",
       "2   3  B000LQOCH0   ABXLMWJIXXAIN  Natalia Corres \"Natalia Corres\"   \n",
       "\n",
       "   HelpfulnessNumerator  HelpfulnessDenominator  Score        Time  \\\n",
       "0                     1                       1      1  1303862400   \n",
       "1                     0                       0      0  1346976000   \n",
       "2                     1                       1      1  1219017600   \n",
       "\n",
       "                 Summary                                               Text  \n",
       "0  Good Quality Dog Food  I have bought several of the Vitality canned d...  \n",
       "1      Not as Advertised  Product arrived labeled as Jumbo Salted Peanut...  \n",
       "2  \"Delight\" says it all  This is a confection that has been around a fe...  "
      ]
     },
     "execution_count": 1,
     "metadata": {},
     "output_type": "execute_result"
    }
   ],
   "source": [
    "%matplotlib inline\n",
    "import sqlite3\n",
    "import pandas as pd\n",
    "import numpy as np\n",
    "import nltk\n",
    "import string\n",
    "import matplotlib.pyplot as plt\n",
    "import seaborn as sns\n",
    "\n",
    "import warnings\n",
    "warnings.filterwarnings(\"ignore\")\n",
    "\n",
    "from sklearn.feature_extraction.text import TfidfTransformer\n",
    "from sklearn.feature_extraction.text import TfidfVectorizer\n",
    "from sklearn.feature_extraction.text import CountVectorizer\n",
    "from sklearn.metrics import confusion_matrix,classification_report,accuracy_score\n",
    "from sklearn import metrics\n",
    "from sklearn.metrics import roc_curve,auc\n",
    "from nltk.stem.porter import PorterStemmer\n",
    "\n",
    "from tqdm import tqdm\n",
    "import os\n",
    "\n",
    "#Using SQLite table to read data\n",
    "con = sqlite3.connect('database.sqlite')\n",
    "\n",
    "#filtering only positive and negative reviews and not taking reviews with score=3\n",
    "filtered_data=pd.read_sql_query(\"\"\" Select * from Reviews Where Score!=3\"\"\",con)\n",
    "\n",
    "#give reviews with score>3 as positive rating and score<3 as negative rating\n",
    "def partition(x):\n",
    "    if x<3:\n",
    "        return 0\n",
    "    return 1\n",
    "actualScore = filtered_data['Score']\n",
    "\n",
    "#changing reviews with score as positve and negative ratings \n",
    "positiveNegative= actualScore.map(partition)\n",
    "filtered_data['Score']= positiveNegative\n",
    "filtered_data.head(3)"
   ]
  },
  {
   "cell_type": "code",
   "execution_count": 2,
   "metadata": {},
   "outputs": [
    {
     "data": {
      "text/plain": [
       "(525814, 10)"
      ]
     },
     "execution_count": 2,
     "metadata": {},
     "output_type": "execute_result"
    }
   ],
   "source": [
    "filtered_data.shape #looking at the number of attributes and size of the data"
   ]
  },
  {
   "cell_type": "markdown",
   "metadata": {},
   "source": [
    "# Exploratory Data Analysis\n",
    "Data Cleaning:Deduplication It is observed that the reviews data had many duplicate entries.Hence it is necessary to remove duplicate entries inorder to unbaised results for the analysis of data."
   ]
  },
  {
   "cell_type": "code",
   "execution_count": 3,
   "metadata": {},
   "outputs": [
    {
     "data": {
      "text/html": [
       "<div>\n",
       "<style scoped>\n",
       "    .dataframe tbody tr th:only-of-type {\n",
       "        vertical-align: middle;\n",
       "    }\n",
       "\n",
       "    .dataframe tbody tr th {\n",
       "        vertical-align: top;\n",
       "    }\n",
       "\n",
       "    .dataframe thead th {\n",
       "        text-align: right;\n",
       "    }\n",
       "</style>\n",
       "<table border=\"1\" class=\"dataframe\">\n",
       "  <thead>\n",
       "    <tr style=\"text-align: right;\">\n",
       "      <th></th>\n",
       "      <th>Id</th>\n",
       "      <th>ProductId</th>\n",
       "      <th>UserId</th>\n",
       "      <th>ProfileName</th>\n",
       "      <th>HelpfulnessNumerator</th>\n",
       "      <th>HelpfulnessDenominator</th>\n",
       "      <th>Score</th>\n",
       "      <th>Time</th>\n",
       "      <th>Summary</th>\n",
       "      <th>Text</th>\n",
       "    </tr>\n",
       "  </thead>\n",
       "  <tbody>\n",
       "    <tr>\n",
       "      <th>0</th>\n",
       "      <td>78445</td>\n",
       "      <td>B000HDL1RQ</td>\n",
       "      <td>AR5J8UI46CURR</td>\n",
       "      <td>Geetha Krishnan</td>\n",
       "      <td>2</td>\n",
       "      <td>2</td>\n",
       "      <td>5</td>\n",
       "      <td>1199577600</td>\n",
       "      <td>LOACKER QUADRATINI VANILLA WAFERS</td>\n",
       "      <td>DELICIOUS WAFERS. I FIND THAT EUROPEAN WAFERS ...</td>\n",
       "    </tr>\n",
       "    <tr>\n",
       "      <th>1</th>\n",
       "      <td>138317</td>\n",
       "      <td>B000HDOPYC</td>\n",
       "      <td>AR5J8UI46CURR</td>\n",
       "      <td>Geetha Krishnan</td>\n",
       "      <td>2</td>\n",
       "      <td>2</td>\n",
       "      <td>5</td>\n",
       "      <td>1199577600</td>\n",
       "      <td>LOACKER QUADRATINI VANILLA WAFERS</td>\n",
       "      <td>DELICIOUS WAFERS. I FIND THAT EUROPEAN WAFERS ...</td>\n",
       "    </tr>\n",
       "    <tr>\n",
       "      <th>2</th>\n",
       "      <td>138277</td>\n",
       "      <td>B000HDOPYM</td>\n",
       "      <td>AR5J8UI46CURR</td>\n",
       "      <td>Geetha Krishnan</td>\n",
       "      <td>2</td>\n",
       "      <td>2</td>\n",
       "      <td>5</td>\n",
       "      <td>1199577600</td>\n",
       "      <td>LOACKER QUADRATINI VANILLA WAFERS</td>\n",
       "      <td>DELICIOUS WAFERS. I FIND THAT EUROPEAN WAFERS ...</td>\n",
       "    </tr>\n",
       "    <tr>\n",
       "      <th>3</th>\n",
       "      <td>73791</td>\n",
       "      <td>B000HDOPZG</td>\n",
       "      <td>AR5J8UI46CURR</td>\n",
       "      <td>Geetha Krishnan</td>\n",
       "      <td>2</td>\n",
       "      <td>2</td>\n",
       "      <td>5</td>\n",
       "      <td>1199577600</td>\n",
       "      <td>LOACKER QUADRATINI VANILLA WAFERS</td>\n",
       "      <td>DELICIOUS WAFERS. I FIND THAT EUROPEAN WAFERS ...</td>\n",
       "    </tr>\n",
       "    <tr>\n",
       "      <th>4</th>\n",
       "      <td>155049</td>\n",
       "      <td>B000PAQ75C</td>\n",
       "      <td>AR5J8UI46CURR</td>\n",
       "      <td>Geetha Krishnan</td>\n",
       "      <td>2</td>\n",
       "      <td>2</td>\n",
       "      <td>5</td>\n",
       "      <td>1199577600</td>\n",
       "      <td>LOACKER QUADRATINI VANILLA WAFERS</td>\n",
       "      <td>DELICIOUS WAFERS. I FIND THAT EUROPEAN WAFERS ...</td>\n",
       "    </tr>\n",
       "  </tbody>\n",
       "</table>\n",
       "</div>"
      ],
      "text/plain": [
       "       Id   ProductId         UserId      ProfileName  HelpfulnessNumerator  \\\n",
       "0   78445  B000HDL1RQ  AR5J8UI46CURR  Geetha Krishnan                     2   \n",
       "1  138317  B000HDOPYC  AR5J8UI46CURR  Geetha Krishnan                     2   \n",
       "2  138277  B000HDOPYM  AR5J8UI46CURR  Geetha Krishnan                     2   \n",
       "3   73791  B000HDOPZG  AR5J8UI46CURR  Geetha Krishnan                     2   \n",
       "4  155049  B000PAQ75C  AR5J8UI46CURR  Geetha Krishnan                     2   \n",
       "\n",
       "   HelpfulnessDenominator  Score        Time  \\\n",
       "0                       2      5  1199577600   \n",
       "1                       2      5  1199577600   \n",
       "2                       2      5  1199577600   \n",
       "3                       2      5  1199577600   \n",
       "4                       2      5  1199577600   \n",
       "\n",
       "                             Summary  \\\n",
       "0  LOACKER QUADRATINI VANILLA WAFERS   \n",
       "1  LOACKER QUADRATINI VANILLA WAFERS   \n",
       "2  LOACKER QUADRATINI VANILLA WAFERS   \n",
       "3  LOACKER QUADRATINI VANILLA WAFERS   \n",
       "4  LOACKER QUADRATINI VANILLA WAFERS   \n",
       "\n",
       "                                                Text  \n",
       "0  DELICIOUS WAFERS. I FIND THAT EUROPEAN WAFERS ...  \n",
       "1  DELICIOUS WAFERS. I FIND THAT EUROPEAN WAFERS ...  \n",
       "2  DELICIOUS WAFERS. I FIND THAT EUROPEAN WAFERS ...  \n",
       "3  DELICIOUS WAFERS. I FIND THAT EUROPEAN WAFERS ...  \n",
       "4  DELICIOUS WAFERS. I FIND THAT EUROPEAN WAFERS ...  "
      ]
     },
     "execution_count": 3,
     "metadata": {},
     "output_type": "execute_result"
    }
   ],
   "source": [
    "display = pd.read_sql_query(\"\"\"select * from Reviews where Score!=3 and Userid=\"AR5J8UI46CURR\" ORDER BY ProductId\"\"\",con)\n",
    "display"
   ]
  },
  {
   "cell_type": "markdown",
   "metadata": {},
   "source": [
    "As observed that same user has multiple reviews with same values for HelpfulnessNumerator, HelpfulnessDenominator, Score, Time, Summary and Text on doing the analysis."
   ]
  },
  {
   "cell_type": "code",
   "execution_count": 4,
   "metadata": {},
   "outputs": [],
   "source": [
    "#Sorting data according to ProductId in ascending order\n",
    "sortedData=filtered_data.sort_values('ProductId',axis=0,kind=\"quicksort\",ascending=True,inplace=False,na_position='last')"
   ]
  },
  {
   "cell_type": "code",
   "execution_count": 5,
   "metadata": {},
   "outputs": [
    {
     "data": {
      "text/plain": [
       "(364173, 10)"
      ]
     },
     "execution_count": 5,
     "metadata": {},
     "output_type": "execute_result"
    }
   ],
   "source": [
    "#Deduplication of entries\n",
    "final=sortedData.drop_duplicates(subset={\"UserId\",\"ProfileName\",\"Time\",\"Text\"},keep='first',inplace=False)\n",
    "final.shape"
   ]
  },
  {
   "cell_type": "code",
   "execution_count": 6,
   "metadata": {},
   "outputs": [
    {
     "data": {
      "text/plain": [
       "1    307063\n",
       "0     57110\n",
       "Name: Score, dtype: int64"
      ]
     },
     "execution_count": 6,
     "metadata": {},
     "output_type": "execute_result"
    }
   ],
   "source": [
    "final['Score'].value_counts()"
   ]
  },
  {
   "cell_type": "code",
   "execution_count": 8,
   "metadata": {},
   "outputs": [],
   "source": [
    "final=final[final.HelpfulnessNumerator <= final.HelpfulnessDenominator]"
   ]
  },
  {
   "cell_type": "markdown",
   "metadata": {},
   "source": [
    "Randomly selecting 100k data points."
   ]
  },
  {
   "cell_type": "code",
   "execution_count": 14,
   "metadata": {},
   "outputs": [
    {
     "data": {
      "text/html": [
       "<div>\n",
       "<style scoped>\n",
       "    .dataframe tbody tr th:only-of-type {\n",
       "        vertical-align: middle;\n",
       "    }\n",
       "\n",
       "    .dataframe tbody tr th {\n",
       "        vertical-align: top;\n",
       "    }\n",
       "\n",
       "    .dataframe thead th {\n",
       "        text-align: right;\n",
       "    }\n",
       "</style>\n",
       "<table border=\"1\" class=\"dataframe\">\n",
       "  <thead>\n",
       "    <tr style=\"text-align: right;\">\n",
       "      <th></th>\n",
       "      <th>Id</th>\n",
       "      <th>ProductId</th>\n",
       "      <th>UserId</th>\n",
       "      <th>ProfileName</th>\n",
       "      <th>HelpfulnessNumerator</th>\n",
       "      <th>HelpfulnessDenominator</th>\n",
       "      <th>Score</th>\n",
       "      <th>Time</th>\n",
       "      <th>Summary</th>\n",
       "      <th>Text</th>\n",
       "    </tr>\n",
       "  </thead>\n",
       "  <tbody>\n",
       "    <tr>\n",
       "      <th>161635</th>\n",
       "      <td>175228</td>\n",
       "      <td>B002EDGYN8</td>\n",
       "      <td>AVICQVASIHDHE</td>\n",
       "      <td>S. Vicente</td>\n",
       "      <td>0</td>\n",
       "      <td>0</td>\n",
       "      <td>1</td>\n",
       "      <td>1301011200</td>\n",
       "      <td>Yum!</td>\n",
       "      <td>Who'd a thunk it?  This type of coconut cookie...</td>\n",
       "    </tr>\n",
       "    <tr>\n",
       "      <th>163537</th>\n",
       "      <td>177309</td>\n",
       "      <td>B002ZQ7B0O</td>\n",
       "      <td>A19LJC0CMXNLE4</td>\n",
       "      <td>Andrew S. Green</td>\n",
       "      <td>0</td>\n",
       "      <td>1</td>\n",
       "      <td>1</td>\n",
       "      <td>1271376000</td>\n",
       "      <td>Tasty Om nom</td>\n",
       "      <td>I had this candy after a dinner at a Thai rest...</td>\n",
       "    </tr>\n",
       "    <tr>\n",
       "      <th>99895</th>\n",
       "      <td>108508</td>\n",
       "      <td>B0030VBQGS</td>\n",
       "      <td>AUD46AGPGEPT9</td>\n",
       "      <td>careful shopper</td>\n",
       "      <td>0</td>\n",
       "      <td>0</td>\n",
       "      <td>1</td>\n",
       "      <td>1332720000</td>\n",
       "      <td>not just baby food -great for quick use in kit...</td>\n",
       "      <td>Too expensive for us to purchase at full price...</td>\n",
       "    </tr>\n",
       "  </tbody>\n",
       "</table>\n",
       "</div>"
      ],
      "text/plain": [
       "            Id   ProductId          UserId      ProfileName  \\\n",
       "161635  175228  B002EDGYN8   AVICQVASIHDHE       S. Vicente   \n",
       "163537  177309  B002ZQ7B0O  A19LJC0CMXNLE4  Andrew S. Green   \n",
       "99895   108508  B0030VBQGS   AUD46AGPGEPT9  careful shopper   \n",
       "\n",
       "        HelpfulnessNumerator  HelpfulnessDenominator  Score        Time  \\\n",
       "161635                     0                       0      1  1301011200   \n",
       "163537                     0                       1      1  1271376000   \n",
       "99895                      0                       0      1  1332720000   \n",
       "\n",
       "                                                  Summary  \\\n",
       "161635                                               Yum!   \n",
       "163537                                       Tasty Om nom   \n",
       "99895   not just baby food -great for quick use in kit...   \n",
       "\n",
       "                                                     Text  \n",
       "161635  Who'd a thunk it?  This type of coconut cookie...  \n",
       "163537  I had this candy after a dinner at a Thai rest...  \n",
       "99895   Too expensive for us to purchase at full price...  "
      ]
     },
     "execution_count": 14,
     "metadata": {},
     "output_type": "execute_result"
    }
   ],
   "source": [
    "#As data is huge,randomly selecting data from positive and negative reviews.\n",
    "#final_pos = final[final.Score == 'positive'].sample(n=30000)\n",
    "#final_neg = final[final.Score == 'negative'].sample(n=30000)\n",
    "#concating both positive and negative review data\n",
    "#final_60k = pd.concat([final_pos,final_neg],axis=0)\n",
    "#randomly selecting 100000 data points\n",
    "final_100k = final.sample(100000)\n",
    "final_100k.shape\n",
    "final_100k.head(3)"
   ]
  },
  {
   "cell_type": "code",
   "execution_count": 16,
   "metadata": {},
   "outputs": [
    {
     "data": {
      "text/html": [
       "<div>\n",
       "<style scoped>\n",
       "    .dataframe tbody tr th:only-of-type {\n",
       "        vertical-align: middle;\n",
       "    }\n",
       "\n",
       "    .dataframe tbody tr th {\n",
       "        vertical-align: top;\n",
       "    }\n",
       "\n",
       "    .dataframe thead th {\n",
       "        text-align: right;\n",
       "    }\n",
       "</style>\n",
       "<table border=\"1\" class=\"dataframe\">\n",
       "  <thead>\n",
       "    <tr style=\"text-align: right;\">\n",
       "      <th></th>\n",
       "      <th>Id</th>\n",
       "      <th>ProductId</th>\n",
       "      <th>UserId</th>\n",
       "      <th>ProfileName</th>\n",
       "      <th>HelpfulnessNumerator</th>\n",
       "      <th>HelpfulnessDenominator</th>\n",
       "      <th>Score</th>\n",
       "      <th>Time</th>\n",
       "      <th>Summary</th>\n",
       "      <th>Text</th>\n",
       "    </tr>\n",
       "  </thead>\n",
       "  <tbody>\n",
       "    <tr>\n",
       "      <th>138683</th>\n",
       "      <td>150501</td>\n",
       "      <td>0006641040</td>\n",
       "      <td>AJ46FKXOVC7NR</td>\n",
       "      <td>Nicholas A Mesiano</td>\n",
       "      <td>2</td>\n",
       "      <td>2</td>\n",
       "      <td>1</td>\n",
       "      <td>940809600</td>\n",
       "      <td>This whole series is great way to spend time w...</td>\n",
       "      <td>I can remember seeing the show when it aired o...</td>\n",
       "    </tr>\n",
       "    <tr>\n",
       "      <th>346055</th>\n",
       "      <td>374359</td>\n",
       "      <td>B00004CI84</td>\n",
       "      <td>A344SMIA5JECGM</td>\n",
       "      <td>Vincent P. Ross</td>\n",
       "      <td>1</td>\n",
       "      <td>2</td>\n",
       "      <td>1</td>\n",
       "      <td>944438400</td>\n",
       "      <td>A modern day fairy tale</td>\n",
       "      <td>A twist of rumplestiskin captured on film, sta...</td>\n",
       "    </tr>\n",
       "    <tr>\n",
       "      <th>70688</th>\n",
       "      <td>76882</td>\n",
       "      <td>B00002N8SM</td>\n",
       "      <td>A32DW342WBJ6BX</td>\n",
       "      <td>Buttersugar</td>\n",
       "      <td>0</td>\n",
       "      <td>0</td>\n",
       "      <td>1</td>\n",
       "      <td>948672000</td>\n",
       "      <td>A sure death for flies</td>\n",
       "      <td>I bought a few of these after my apartment was...</td>\n",
       "    </tr>\n",
       "  </tbody>\n",
       "</table>\n",
       "</div>"
      ],
      "text/plain": [
       "            Id   ProductId          UserId         ProfileName  \\\n",
       "138683  150501  0006641040   AJ46FKXOVC7NR  Nicholas A Mesiano   \n",
       "346055  374359  B00004CI84  A344SMIA5JECGM     Vincent P. Ross   \n",
       "70688    76882  B00002N8SM  A32DW342WBJ6BX         Buttersugar   \n",
       "\n",
       "        HelpfulnessNumerator  HelpfulnessDenominator  Score       Time  \\\n",
       "138683                     2                       2      1  940809600   \n",
       "346055                     1                       2      1  944438400   \n",
       "70688                      0                       0      1  948672000   \n",
       "\n",
       "                                                  Summary  \\\n",
       "138683  This whole series is great way to spend time w...   \n",
       "346055                            A modern day fairy tale   \n",
       "70688                              A sure death for flies   \n",
       "\n",
       "                                                     Text  \n",
       "138683  I can remember seeing the show when it aired o...  \n",
       "346055  A twist of rumplestiskin captured on film, sta...  \n",
       "70688   I bought a few of these after my apartment was...  "
      ]
     },
     "execution_count": 16,
     "metadata": {},
     "output_type": "execute_result"
    }
   ],
   "source": [
    "#sorting data by timestamp for time based slicing.\n",
    "final_100k = final_100k.sort_values('Time',kind=\"quicksort\")\n",
    "final_100k.head(3)"
   ]
  },
  {
   "cell_type": "code",
   "execution_count": 17,
   "metadata": {},
   "outputs": [
    {
     "data": {
      "text/plain": [
       "1    84270\n",
       "0    15730\n",
       "Name: Score, dtype: int64"
      ]
     },
     "execution_count": 17,
     "metadata": {},
     "output_type": "execute_result"
    }
   ],
   "source": [
    "final_100k['Score'].value_counts()"
   ]
  },
  {
   "cell_type": "markdown",
   "metadata": {},
   "source": [
    "Observation:It is an imbalanced dataset contains 84270 positive reviews and 15730 negative reviews"
   ]
  },
  {
   "cell_type": "markdown",
   "metadata": {},
   "source": [
    "# Text Preprocessing:Stemming,Stop-words removal and Lemmatization\n",
    "\n",
    " 1.Begin by removing html tags\n",
    " 2.Remove any punctuations or set of any special characters\n",
    " 3.Check if the word is made up of english letters and is not alpha-numeric\n",
    " 4.Convert the word to lowercase\n",
    " 5.Remove Stopwords\n",
    " 6.Finally snowball stemming the word   "
   ]
  },
  {
   "cell_type": "code",
   "execution_count": 18,
   "metadata": {},
   "outputs": [
    {
     "name": "stdout",
     "output_type": "stream",
     "text": [
      "8\n",
      "What happens when you say his name three times? Michael Keaten stars in this comedy about two couples that live in an old two story house.  While coming back from a supply store, the couple suddenly get caught inside of a  &quot;broken-up&quot; bridge and then just before they start to tumble down  into the lake, a board catches them.  But just when they've got their hopes  up, and small dog steps on the board and the car starts to slide off the  bridge and into the lake waters.  A few minutes later...<p>They find  themselves back into their home, they find that somehow somehad light the  fireplace, as if done by magic.  From then on, they find a weird-looking  dead guy known as Bettlejuice.  The only way they can get him for help is  to call him by his name three times and he will appear at their survice.  But they soon wish that they have never called his name, because  Bettlejuice was once a troublemaker but he is the only one who can save  them, on the account that they said his name three times.  They can't leave  their houses or else they will find theirselves in another world with giant  sandworms.  This is a stellar comedy that you should see! Michael Keaton is  awesome as he plays the leading role of Bettlejuice.\n"
     ]
    }
   ],
   "source": [
    "#find sentences containing HTML tags\n",
    "import re\n",
    "i=0;\n",
    "for sent in final['Text'].values:\n",
    "    if(len(re.findall('<.*?>',sent))):\n",
    "        print(i)\n",
    "        print(sent)\n",
    "        break\n",
    "    i += 1"
   ]
  },
  {
   "cell_type": "code",
   "execution_count": 19,
   "metadata": {},
   "outputs": [
    {
     "name": "stdout",
     "output_type": "stream",
     "text": [
      "{'off', 'own', 'or', 'is', 'i', 'how', 'other', 'too', 'yours', 'd', 'he', \"mustn't\", 'from', 'while', 'ma', 'doing', 'over', 'ain', 'of', \"couldn't\", 'nor', 'what', \"hadn't\", \"you'd\", 'itself', 'do', 'during', 'below', 're', \"doesn't\", \"you're\", 'shouldn', 'once', 'it', 'then', 'having', 'when', 'same', 'not', 'out', 'will', 't', 'wouldn', 'again', 'into', 'yourselves', 'with', 'any', \"hasn't\", 'few', 'her', 'down', \"mightn't\", 'them', 'weren', 'don', 'these', 'than', 'themselves', 'been', 'now', 'so', 'm', 'has', 'theirs', 'o', 'but', 'each', 'a', \"wouldn't\", 'between', 'my', 'further', 'doesn', 'whom', 've', 'couldn', 'being', \"don't\", 'which', 'your', 'mustn', 'him', 'both', 'should', 'hadn', \"you'll\", 'the', 'am', 'all', \"she's\", 'be', 'why', 'that', 'are', 'up', 'very', 'by', \"that'll\", 'shan', 'have', 'y', 'ourselves', 'was', \"it's\", 'those', 'here', 'before', 'there', 'more', 'where', 'only', 's', 'can', 'their', 'ours', 'had', 'myself', 'isn', \"shan't\", 'in', 'were', \"wasn't\", \"didn't\", 'through', 'haven', 'won', 'mightn', 'because', \"isn't\", 'hasn', \"won't\", 'after', 'yourself', 'an', 'if', 'some', \"haven't\", 'this', 'hers', 'they', \"aren't\", 'against', 'about', 'herself', 'who', 'wasn', 'does', 'as', 'at', 'his', 'just', 'no', 'its', 'most', 'to', \"should've\", \"weren't\", 'did', 'll', 'our', \"you've\", 'aren', 'such', 'needn', 'himself', 'until', 'above', 'and', 'for', 'under', 'you', 'she', 'didn', \"shouldn't\", \"needn't\", 'on', 'we', 'me'}\n",
      "*******************************************\n",
      "tasti\n"
     ]
    }
   ],
   "source": [
    "from nltk.corpus import stopwords\n",
    "from nltk.stem import PorterStemmer\n",
    "from nltk.stem.wordnet import WordNetLemmatizer\n",
    "stop= set(stopwords.words('english'))#set of stopwords\n",
    "sno=nltk.stem.SnowballStemmer('english')#initializing the snowball stemmer\n",
    "def cleanhtml(sentence):#function to clean the word of any html tag\n",
    "    cleanr=re.compile('<.*?>')\n",
    "    cleantext=re.sub(cleanr,' ',sentence)\n",
    "    return cleantext\n",
    "def cleanpunc(sentence):#function to clean any punctuation or special characters\n",
    "    cleaned=re.sub(r'[?|!|\\'|\"|#]',r'',sentence)\n",
    "    cleaned=re.sub(r'[.|,|)|(|\\|/]',r' ',cleaned)\n",
    "    return cleaned\n",
    "print(stop)\n",
    "print('*******************************************')\n",
    "print(sno.stem('tasty'))"
   ]
  },
  {
   "cell_type": "code",
   "execution_count": 20,
   "metadata": {},
   "outputs": [
    {
     "name": "stderr",
     "output_type": "stream",
     "text": [
      "100%|█████████████████████████████████| 100000/100000 [07:45<00:00, 215.01it/s]\n"
     ]
    }
   ],
   "source": [
    "#code for implementing step-by-step the checks mentioned the pre-processing phase    \n",
    "str1=' '\n",
    "final_string=[]\n",
    "s=''\n",
    "for i,sent in enumerate(tqdm(final_100k['Text'].values)):\n",
    "    filtered_sentence=[]\n",
    "    #print(sent);\\n\",\n",
    "    sent=cleanhtml(sent) # remove HTMl tags\\n\",\n",
    "    for w in sent.split():\n",
    "          for cleaned_words in cleanpunc(w).split():\n",
    "                if((cleaned_words.isalpha()) & (len(cleaned_words)>2)):    \n",
    "                    if(cleaned_words.lower() not in stop):\n",
    "                        s=(sno.stem(cleaned_words.lower())).encode('utf8')\n",
    "                        filtered_sentence.append(s)\n",
    "                    else:\n",
    "                        continue\n",
    "                else:\n",
    "                    continue \n",
    "    #print(filtered_sentence)\\n\",\n",
    "    str1 = b\" \".join(filtered_sentence) #final string of cleaned words\n",
    "    #print(\\\"***********************************************************************\\\")\\n\",\n",
    "    final_string.append(str1)\n",
    "    i+=1\n",
    "final_100k['CleanedText']=final_string #final string of cleaned words storing in a column of cleanedtext\n",
    "final_100k['CleanedText']=final_100k['CleanedText'].str.decode(\"utf-8\")"
   ]
  },
  {
   "cell_type": "code",
   "execution_count": 22,
   "metadata": {},
   "outputs": [
    {
     "data": {
      "text/plain": [
       "(100000, 11)"
      ]
     },
     "execution_count": 22,
     "metadata": {},
     "output_type": "execute_result"
    }
   ],
   "source": [
    "final_100k.shape"
   ]
  },
  {
   "cell_type": "markdown",
   "metadata": {},
   "source": [
    "# Feature generation techniques to convert text to vector\n",
    "Applying KNN with BOW"
   ]
  },
  {
   "cell_type": "code",
   "execution_count": 23,
   "metadata": {},
   "outputs": [
    {
     "name": "stdout",
     "output_type": "stream",
     "text": [
      "shape of X: (100000,)\n",
      "shape of y: (100000,)\n",
      "(70000,) (70000,) (30000,)\n"
     ]
    }
   ],
   "source": [
    "from sklearn.cross_validation import train_test_split\n",
    "from sklearn.neighbors import KNeighborsClassifier\n",
    "from sklearn.metrics import accuracy_score\n",
    "from sklearn.cross_validation import cross_val_score\n",
    "from collections import Counter\n",
    "from sklearn import cross_validation\n",
    "from sklearn.model_selection import train_test_split\n",
    "#splitting data into train and test where 70% data used for train model and 30% for test model\n",
    "X = final_100k['CleanedText']\n",
    "print(\"shape of X:\",X.shape)\n",
    "y = final_100k['Score']\n",
    "print(\"shape of y:\",y.shape)\n",
    "X_train_bow, X_test_bow, y_train_bow, y_test_bow = train_test_split(X,y,test_size=0.3,random_state=42)\n",
    "print(X_train_bow.shape, y_train_bow.shape, X_test_bow.shape)"
   ]
  },
  {
   "cell_type": "code",
   "execution_count": 24,
   "metadata": {},
   "outputs": [
    {
     "name": "stdout",
     "output_type": "stream",
     "text": [
      "the type of count vectorizer <class 'scipy.sparse.csr.csr_matrix'>\n",
      "the shape of BOW vectorizer (70000, 31990)\n",
      "the number of unique words 31990\n"
     ]
    }
   ],
   "source": [
    "#generating BOW vector matrix for X_train text reviews\n",
    "count_vect_bow=CountVectorizer()\n",
    "X_train_bow = count_vect_bow.fit_transform(X_train_bow)\n",
    "print(\"the type of count vectorizer\",type(X_train_bow))\n",
    "print(\"the shape of BOW vectorizer\",X_train_bow.get_shape())\n",
    "print(\"the number of unique words\",X_train_bow.get_shape()[1])"
   ]
  },
  {
   "cell_type": "code",
   "execution_count": 25,
   "metadata": {},
   "outputs": [
    {
     "name": "stdout",
     "output_type": "stream",
     "text": [
      "the type of count vectorizer <class 'scipy.sparse.csr.csr_matrix'>\n",
      "the shape of BOW vectorizer (30000, 31990)\n",
      "the number of unique words 31990\n"
     ]
    }
   ],
   "source": [
    "#generating BOW vector matrix for X_test text reviews\n",
    "#count_vect_bow=CountVectorizer()\n",
    "X_test_bow = count_vect_bow.transform(X_test_bow)\n",
    "print(\"the type of count vectorizer\",type(X_test_bow))\n",
    "print(\"the shape of BOW vectorizer\",X_test_bow.get_shape())\n",
    "print(\"the number of unique words\",X_test_bow.get_shape()[1])"
   ]
  },
  {
   "cell_type": "code",
   "execution_count": 26,
   "metadata": {},
   "outputs": [
    {
     "name": "stdout",
     "output_type": "stream",
     "text": [
      "0.6269677183457221\n",
      "0.6446726797095791\n"
     ]
    }
   ],
   "source": [
    "from sklearn.decomposition import TruncatedSVD\n",
    "\n",
    "svd_model=TruncatedSVD(algorithm='randomized', n_components=300, n_iter=5, random_state=0, tol=0.0)\n",
    "X_train_bow_trun = svd_model.fit_transform(X_train_bow)\n",
    "print(svd_model.explained_variance_ratio_.sum())\n",
    "X_test_bow_trun = svd_model.fit_transform(X_test_bow)\n",
    "print(svd_model.explained_variance_ratio_.sum())"
   ]
  },
  {
   "cell_type": "markdown",
   "metadata": {},
   "source": [
    "# KNN with Brute-force algorithm"
   ]
  },
  {
   "cell_type": "code",
   "execution_count": 27,
   "metadata": {},
   "outputs": [],
   "source": [
    "#performing 10 fold cross validation method\n",
    "#creating odd list of K for NN\n",
    "#defining function to compute best optimal_k\n",
    "def optimal_k_brute(X_train, y_train, myList):\n",
    "    \n",
    "    neighbors = list(filter(lambda x: x%2 != 0, myList))\n",
    "    #empty list that will hold cv scores\n",
    "    cv_scores = []\n",
    "\n",
    "    #perform 10-fold cross validation\n",
    "    for k in neighbors: \n",
    "        knn = KNeighborsClassifier(n_neighbors=k, algorithm = \"brute\")\n",
    "        scores = cross_val_score(knn, X_train, y_train, cv=10, scoring='accuracy')\n",
    "        cv_scores.append(scores.mean())\n",
    "    \n",
    "    #changing to misclassification error\n",
    "    MSE = [1 - x for x in cv_scores]\n",
    "\n",
    "    #determining best k\n",
    "    optimal_k = neighbors[MSE.index(min(MSE))]\n",
    "    print(\"\\nThe optimal number of neighbors is %d\" %optimal_k)\n",
    "\n",
    "    #plot misclassification error vs k\n",
    "    plt.plot(neighbors, MSE)\n",
    "    for xy in zip(neighbors, np.round(MSE,3)):\n",
    "        plt.annotate(\"(%s,%s)\" %xy, xy=xy, textcoords='data')\n",
    "    plt.title(\"K vs Misclassification\")\n",
    "    plt.xlabel('Number of neighbors K')\n",
    "    plt.ylabel('Misclassification Error')\n",
    "    plt.show()\n",
    "    print(\"the misclassification error for each k value is:\",np.round(MSE,3))\n",
    "    return optimal_k\n"
   ]
  },
  {
   "cell_type": "markdown",
   "metadata": {},
   "source": [
    "As observed that for 10 fold cross validation splitting data into train and test as 70% and 30%.Applying KNN with Brute-force algorithm(for finding best k from 1 to 40) for train data and tested it using test data, evaluating accuracy with test data. "
   ]
  },
  {
   "cell_type": "code",
   "execution_count": 28,
   "metadata": {},
   "outputs": [
    {
     "name": "stdout",
     "output_type": "stream",
     "text": [
      "\n",
      "The optimal number of neighbors is 15\n"
     ]
    },
    {
     "data": {
      "image/png": "[encoded data removed]",
      "text/plain": [
       "<Figure size 432x288 with 1 Axes>"
      ]
     },
     "metadata": {},
     "output_type": "display_data"
    },
    {
     "name": "stdout",
     "output_type": "stream",
     "text": [
      "the misclassification error for each k value is: [0.215 0.171 0.158 0.152 0.149 0.147 0.147 0.146 0.146 0.146 0.146 0.147\n",
      " 0.147 0.147 0.147 0.147 0.148 0.148 0.148 0.148]\n"
     ]
    }
   ],
   "source": [
    "#finding the optimal k by 10 fold cross validation\n",
    "myList = list(range(0,40))\n",
    "optimal_k_bow = optimal_k_brute(X_train_bow_trun, y_train_bow, myList)"
   ]
  },
  {
   "cell_type": "markdown",
   "metadata": {},
   "source": [
    "Misclassification error is decreasing for each k value increasing and the optimal k value = 15"
   ]
  },
  {
   "cell_type": "code",
   "execution_count": 29,
   "metadata": {},
   "outputs": [],
   "source": [
    "#instantiate learning model k = optimal_k\n",
    "knn=KNeighborsClassifier(n_neighbors=optimal_k_bow)\n",
    "knn.fit(X_train_bow_trun, y_train_bow) #fitting the model\n",
    "pred = knn.predict(X_test_bow_trun) #predicting the response"
   ]
  },
  {
   "cell_type": "code",
   "execution_count": 30,
   "metadata": {},
   "outputs": [
    {
     "name": "stdout",
     "output_type": "stream",
     "text": [
      "Train accuracy 0.8659714285714286\n",
      "Train error  0.13402857142857139\n"
     ]
    }
   ],
   "source": [
    "#Accuracy on train data\n",
    "train_acc_score = knn.score(X_train_bow_trun,y_train_bow)\n",
    "print(\"Train accuracy\",train_acc_score)\n",
    "\n",
    "#Error on Train data\n",
    "train_error = 1-(train_acc_score)\n",
    "print(\"Train error \",train_error)"
   ]
  },
  {
   "cell_type": "code",
   "execution_count": 31,
   "metadata": {},
   "outputs": [
    {
     "name": "stdout",
     "output_type": "stream",
     "text": [
      "Accuracy for KNN model with bag of words is 0.83\n"
     ]
    }
   ],
   "source": [
    "#Evaluate accuracy on test data\n",
    "print(\"Accuracy for KNN model with bag of words is\", round(accuracy_score(y_test_bow, pred),3))"
   ]
  },
  {
   "cell_type": "code",
   "execution_count": 32,
   "metadata": {},
   "outputs": [
    {
     "data": {
      "image/png": "[encoded data removed]",
      "text/plain": [
       "<Figure size 432x288 with 2 Axes>"
      ]
     },
     "metadata": {},
     "output_type": "display_data"
    }
   ],
   "source": [
    "#Confusion Matrix\n",
    "cm = confusion_matrix(y_test_bow, pred)\n",
    "\n",
    "#Plotting confusion matrix\n",
    "class_label = [\"negative\",\"positive\"]\n",
    "dataframe_cm = pd.DataFrame(cm, index=class_label, columns=class_label)\n",
    "sns.heatmap(dataframe_cm, annot=True, fmt=\"d\")\n",
    "plt.title(\"Confusion Matrix\")\n",
    "plt.xlabel(\"Predicted values\")\n",
    "plt.ylabel(\"Actual values\")\n",
    "plt.show()"
   ]
  },
  {
   "cell_type": "markdown",
   "metadata": {},
   "source": [
    "In above confusion matrix tn(true negative)=114,tp(true positive)=24783,fn(false negative)=4665,fp(false positive)=438.As it is shown in classification report overall occuracy(correctly classified points)=(tp+tn)/total=(24783+114)/30000 = ~83%\n",
    "overall error rate/misclassification rate=(fn+fp)/total=(4665+438)/30000 = ~17%.\n"
   ]
  },
  {
   "cell_type": "code",
   "execution_count": 33,
   "metadata": {},
   "outputs": [
    {
     "name": "stdout",
     "output_type": "stream",
     "text": [
      "classification report:\n",
      "**********************\n",
      "             precision    recall  f1-score   support\n",
      "\n",
      "          0       0.21      0.02      0.04      4779\n",
      "          1       0.84      0.98      0.91     25221\n",
      "\n",
      "avg / total       0.74      0.83      0.77     30000\n",
      "\n"
     ]
    }
   ],
   "source": [
    "#Classification report\n",
    "print(\"classification report:\")\n",
    "print(\"**********************\")\n",
    "print(classification_report(y_test_bow,pred))"
   ]
  },
  {
   "cell_type": "markdown",
   "metadata": {},
   "source": [
    "Observed that the accuracy for KNN model with bag of words is 82.9%"
   ]
  },
  {
   "cell_type": "markdown",
   "metadata": {},
   "source": [
    "# Feature generation techniques to convert text to vector\n",
    "Applying KNN with TF-IDF "
   ]
  },
  {
   "cell_type": "code",
   "execution_count": 34,
   "metadata": {},
   "outputs": [
    {
     "name": "stdout",
     "output_type": "stream",
     "text": [
      "shape of X: (100000,)\n",
      "shape of y: (100000,)\n",
      "(70000,) (70000,) (30000,)\n"
     ]
    }
   ],
   "source": [
    "#splitting data into train and test where 70% data used for train model and 30% for test model\n",
    "X = final_100k['CleanedText']\n",
    "print(\"shape of X:\",X.shape)\n",
    "y = final_100k['Score']\n",
    "print(\"shape of y:\",y.shape)\n",
    "X_train_tfidf, X_test_tfidf, y_train_tfidf, y_test_tfidf = train_test_split(X,y,test_size=0.3,random_state=0)\n",
    "print(X_train_tfidf.shape, y_train_tfidf.shape, X_test_tfidf.shape)"
   ]
  },
  {
   "cell_type": "code",
   "execution_count": 35,
   "metadata": {},
   "outputs": [
    {
     "name": "stdout",
     "output_type": "stream",
     "text": [
      "the type of tfidf vectorier <class 'scipy.sparse.csr.csr_matrix'>\n",
      "the shape of tfidf vetorizer (70000, 32022)\n"
     ]
    }
   ],
   "source": [
    "#TF-IDF train data\n",
    "tfidf_vect = TfidfVectorizer()\n",
    "X_train_tfidf=tfidf_vect.fit_transform(X_train_tfidf)\n",
    "print(\"the type of tfidf vectorier\",type(X_train_tfidf))\n",
    "print(\"the shape of tfidf vetorizer\",X_train_tfidf.get_shape()) "
   ]
  },
  {
   "cell_type": "code",
   "execution_count": 36,
   "metadata": {},
   "outputs": [
    {
     "name": "stdout",
     "output_type": "stream",
     "text": [
      "the type of tfidf vectorier <class 'scipy.sparse.csr.csr_matrix'>\n",
      "the shape of tfidf vetorizer (30000, 21910)\n"
     ]
    }
   ],
   "source": [
    "#TF-IDF test data \n",
    "tfidf_vect = TfidfVectorizer()\n",
    "X_test_tfidf=tfidf_vect.fit_transform(X_test_tfidf)\n",
    "print(\"the type of tfidf vectorier\",type(X_test_tfidf))\n",
    "print(\"the shape of tfidf vetorizer\",X_test_tfidf.get_shape()) "
   ]
  },
  {
   "cell_type": "code",
   "execution_count": 37,
   "metadata": {
    "scrolled": true
   },
   "outputs": [
    {
     "name": "stdout",
     "output_type": "stream",
     "text": [
      "0.3815103809163295\n",
      "0.3873022353182216\n"
     ]
    }
   ],
   "source": [
    "from sklearn.decomposition import TruncatedSVD\n",
    "\n",
    "svd_model=TruncatedSVD(algorithm='randomized', n_components=300, n_iter=5, random_state=0, tol=0.0)\n",
    "X_train_tfidf_trun = svd_model.fit_transform(X_train_tfidf)\n",
    "print(svd_model.explained_variance_ratio_.sum())\n",
    "X_test_tfidf_trun = svd_model.fit_transform(X_test_tfidf)\n",
    "print(svd_model.explained_variance_ratio_.sum())"
   ]
  },
  {
   "cell_type": "code",
   "execution_count": 38,
   "metadata": {},
   "outputs": [
    {
     "name": "stdout",
     "output_type": "stream",
     "text": [
      "\n",
      "The optimal number of neighbors is 27\n"
     ]
    },
    {
     "data": {
      "image/png": "[encoded data removed]",
      "text/plain": [
       "<Figure size 432x288 with 1 Axes>"
      ]
     },
     "metadata": {},
     "output_type": "display_data"
    },
    {
     "name": "stdout",
     "output_type": "stream",
     "text": [
      "the misclassification error for each k value is: [0.25  0.202 0.179 0.167 0.16  0.157 0.152 0.15  0.148 0.146 0.146 0.145\n",
      " 0.145 0.145 0.145 0.145 0.145 0.145 0.145 0.145]\n"
     ]
    }
   ],
   "source": [
    "#finding the optimal k by 10 fold cross validation\n",
    "myList = list(range(0,40))\n",
    "optimal_k_tfidf = optimal_k_brute(X_train_tfidf_trun, y_train_tfidf, myList)"
   ]
  },
  {
   "cell_type": "markdown",
   "metadata": {},
   "source": [
    "Misclassification error is decreasing for each k value increasing and the optimal k value = 27"
   ]
  },
  {
   "cell_type": "code",
   "execution_count": 39,
   "metadata": {},
   "outputs": [],
   "source": [
    "#instantiate learning model k = optimal_k\n",
    "knn=KNeighborsClassifier(n_neighbors=optimal_k_tfidf)\n",
    "knn.fit(X_train_tfidf_trun, y_train_tfidf) #fitting the model\n",
    "pred = knn.predict(X_test_tfidf_trun) #predicting the response"
   ]
  },
  {
   "cell_type": "code",
   "execution_count": 40,
   "metadata": {},
   "outputs": [
    {
     "name": "stdout",
     "output_type": "stream",
     "text": [
      "Train accuracy 0.8635857142857143\n",
      "Train error  0.1364142857142857\n",
      "Wall time: 3h 2min 53s\n"
     ]
    }
   ],
   "source": [
    "%%time\n",
    "#Accuracy on train data\n",
    "train_acc_score = knn.score(X_train_tfidf_trun,y_train_tfidf)\n",
    "print(\"Train accuracy\",train_acc_score)\n",
    "\n",
    "#Error on Train data\n",
    "train_error = 1-(train_acc_score)\n",
    "print(\"Train error \",train_error)"
   ]
  },
  {
   "cell_type": "code",
   "execution_count": 41,
   "metadata": {},
   "outputs": [
    {
     "name": "stdout",
     "output_type": "stream",
     "text": [
      "Accuracy for KNN model with tfidf is 0.836\n"
     ]
    }
   ],
   "source": [
    "#Evaluate accuracy on test data\n",
    "print(\"Accuracy for KNN model with tfidf is\", round(accuracy_score(y_test_tfidf, pred),3))"
   ]
  },
  {
   "cell_type": "code",
   "execution_count": 42,
   "metadata": {},
   "outputs": [
    {
     "data": {
      "image/png": "[encoded data removed]",
      "text/plain": [
       "<Figure size 432x288 with 2 Axes>"
      ]
     },
     "metadata": {},
     "output_type": "display_data"
    }
   ],
   "source": [
    "#Confusion Matrix\n",
    "cm = confusion_matrix(y_test_tfidf, pred)\n",
    "\n",
    "#Plotting confusion matrix\n",
    "class_label = [\"negative\",\"positive\"]\n",
    "dataframe_cm = pd.DataFrame(cm, index=class_label, columns=class_label)\n",
    "sns.heatmap(dataframe_cm, annot = True, fmt = \"d\")\n",
    "plt.title(\"Confusion Matrix\")\n",
    "plt.xlabel(\"Predicted values\")\n",
    "plt.ylabel(\"Actual values\")\n",
    "plt.show()"
   ]
  },
  {
   "cell_type": "markdown",
   "metadata": {},
   "source": [
    "In above confusion matrix tn(true negative)=19,tp(true positive)=25071,fn(false negative)=4736,fp(false positive)=174.As it is shown in classification report overall occuracy(correctly classified points)=(tp+tn)/total=(25071+19)/30000 = ~83% overall error rate/misclassification rate=(fn+fp)/total=(4736+174)/30000 = ~16%."
   ]
  },
  {
   "cell_type": "code",
   "execution_count": 43,
   "metadata": {},
   "outputs": [
    {
     "name": "stdout",
     "output_type": "stream",
     "text": [
      "classification report:\n",
      "**********************\n",
      "             precision    recall  f1-score   support\n",
      "\n",
      "          0       0.10      0.00      0.01      4755\n",
      "          1       0.84      0.99      0.91     25245\n",
      "\n",
      "avg / total       0.72      0.84      0.77     30000\n",
      "\n"
     ]
    }
   ],
   "source": [
    "#Classification report\n",
    "print(\"classification report:\")\n",
    "print(\"**********************\")\n",
    "print(classification_report(y_test_tfidf,pred))"
   ]
  },
  {
   "cell_type": "markdown",
   "metadata": {},
   "source": [
    "Observed that the accuracy for KNN model with TF-IDF is 83.6%"
   ]
  },
  {
   "cell_type": "markdown",
   "metadata": {},
   "source": [
    "# Feature generation techniques to convert text to vector\n",
    "Applying KNN with TF-IDF Average Word2vec"
   ]
  },
  {
   "cell_type": "code",
   "execution_count": 42,
   "metadata": {},
   "outputs": [
    {
     "name": "stdout",
     "output_type": "stream",
     "text": [
      "shape of X: (100000,)\n",
      "shape of y: (100000,)\n",
      "(70000,) (70000,) (30000,)\n"
     ]
    }
   ],
   "source": [
    "#splitting data into train and test where 70% data used for train model and 30% for test model\n",
    "X = final_100k['CleanedText']\n",
    "print(\"shape of X:\",X.shape)\n",
    "y = final_100k['Score']\n",
    "print(\"shape of y:\",y.shape)\n",
    "X_train_avgw2v, X_test_avgw2v, y_train_avgw2v, y_test_avgw2v = train_test_split(X,y,test_size=0.3,random_state=0)\n",
    "print(X_train_avgw2v.shape, y_train_avgw2v.shape, X_test_avgw2v.shape)"
   ]
  },
  {
   "cell_type": "code",
   "execution_count": 43,
   "metadata": {},
   "outputs": [
    {
     "name": "stdout",
     "output_type": "stream",
     "text": [
      "['youv', 'cracker', 'alreadi', 'know', 'wonder', 'ive', 'gotten', 'cracker', 'packag', 'first', 'time', 'perfect', 'size', 'dont', 'use', 'often', 'keep', 'fresh', 'longer', 'open', 'full', 'size', 'box', 'receiv', 'aug', 'expir', 'date', 'april', 'next', 'year']\n",
      "**********************************\n",
      "['pretti', 'avid', 'whole', 'food', 'shopper', 'felt', 'pretti', 'good', 'purchas', 'organ', 'babi', 'food', 'month', 'old', 'son', 'earth', 'best', 'brand', 'popular', 'bought', 'teeth', 'biscuit', 'recent', 'today', 'could', 'die', 'eat', 'one', 'although', 'anesthesiologist', 'half', 'job', 'protect', 'peopl', 'airway', 'one', 'neednt', 'medic', 'profession', 'realiz', 'biscuit', 'danger', 'babi', 'get', 'front', 'teeth', 'upper', 'lower', 'incisor', 'first', 'long', 'molar', 'arriv', 'theyr', 'limit', 'bite', 'front', 'teeth', 'mash', 'gum', 'molar', 'someday', 'erupt', 'biscuit', 'great', 'first', 'minut', 'babi', 'happili', 'chomp', 'away', 'hard', 'surfac', 'soften', 'pretti', 'soon', 'babi', 'bite', 'clean', 'biscuit', 'front', 'teeth', 'size', 'chunk', 'depend', 'far', 'insert', 'mouth', 'time', 'chunk', 'remain', 'mouth', 'way', 'hard', 'mash', 'gum', 'babi', 'noth', 'tri', 'spit', 'difficult', 'age', 'swallow', 'whole', 'lucki', 'enough', 'small', 'piec', 'complet', 'occlud', 'airway', 'abl', 'quick', 'fish', 'one', 'larg', 'chunk', 'finger', 'poor', 'soon', 'start', 'gag', 'tear', 'wretch', 'someth', 'resolv', 'still', 'dont', 'know', 'swallow', 'larg', 'piec', 'end', 'ground', 'scoop', 'tri', 'knock', 'loos', 'back', 'blow', 'case', 'although', 'kid', 'may', 'love', 'would', 'take', 'would', 'one', 'infant', 'death', 'choke', 'prompt', 'recal', 'someth', 'risk', 'kid']\n"
     ]
    }
   ],
   "source": [
    "from gensim.models import Word2Vec\n",
    "from gensim.models import KeyedVectors\n",
    "\n",
    "#Train your own word2vec model using your own text corpus of train data\n",
    "import gensim\n",
    "i=0\n",
    "list_of_sent_train=[]\n",
    "for sent in X_train_avgw2v:\n",
    "    list_of_sent_train.append(sent.split())\n",
    "print(list_of_sent_train[0])\n",
    "print('**********************************')\n",
    "print(list_of_sent_train[1])"
   ]
  },
  {
   "cell_type": "code",
   "execution_count": 44,
   "metadata": {},
   "outputs": [
    {
     "name": "stdout",
     "output_type": "stream",
     "text": [
      "number of words that occured 5 times 10892\n"
     ]
    }
   ],
   "source": [
    "#min_count=5 considers only the words occur atleast 5 times\n",
    "w2v_model=Word2Vec(list_of_sent_train,min_count=5,size=50,workers=4)\n",
    "words=list(w2v_model.wv.vocab)\n",
    "print(\"number of words that occured 5 times\",len(words))"
   ]
  },
  {
   "cell_type": "code",
   "execution_count": 45,
   "metadata": {},
   "outputs": [
    {
     "name": "stdout",
     "output_type": "stream",
     "text": [
      "number of words that occured minimum 5 times 10892\n",
      "sample words ['youv', 'cracker', 'alreadi', 'know', 'wonder', 'ive', 'gotten', 'packag', 'first', 'time', 'perfect', 'size', 'dont', 'use', 'often', 'keep', 'fresh', 'longer', 'open', 'full', 'box', 'receiv', 'aug', 'expir', 'date', 'april', 'next', 'year', 'pretti', 'avid', 'whole', 'food', 'shopper', 'felt', 'good', 'purchas', 'organ', 'babi', 'month', 'old', 'son', 'earth', 'best', 'brand', 'popular', 'bought', 'teeth', 'biscuit', 'recent', 'today']\n"
     ]
    }
   ],
   "source": [
    "w2v_words = list(w2v_model.wv.vocab)\n",
    "print(\"number of words that occured minimum 5 times\",len(w2v_words))\n",
    "print(\"sample words\",w2v_words[0:50])"
   ]
  },
  {
   "cell_type": "code",
   "execution_count": 46,
   "metadata": {},
   "outputs": [
    {
     "name": "stderr",
     "output_type": "stream",
     "text": [
      "100%|███████████████████████████████████| 70000/70000 [03:24<00:00, 342.62it/s]\n"
     ]
    },
    {
     "name": "stdout",
     "output_type": "stream",
     "text": [
      "70000\n",
      "50\n"
     ]
    }
   ],
   "source": [
    "#average word2vec\n",
    "#compute average word2vec for each review\n",
    "sent_vectors_train=[];# the avg-w2v for each sentence/review is stored\n",
    "for sent in tqdm(list_of_sent_train): #for each review/sentence\n",
    "    sent_vec=np.zeros(50) #as word vectors are of zero length\n",
    "    cnt_words=0  #number of words with a valid vector in the review/sentence\n",
    "    for word in sent: #for each word in a review/sentence\n",
    "        if word in w2v_words:\n",
    "            vec=w2v_model.wv[word]\n",
    "            sent_vec += vec\n",
    "            cnt_words += 1\n",
    "        if cnt_words != 0:\n",
    "            sent_vec /= cnt_words\n",
    "    sent_vectors_train.append(sent_vec)\n",
    "print(len(sent_vectors_train))\n",
    "print(len(sent_vectors_train[0]))"
   ]
  },
  {
   "cell_type": "code",
   "execution_count": 47,
   "metadata": {},
   "outputs": [
    {
     "name": "stdout",
     "output_type": "stream",
     "text": [
      "['love', 'noodl', 'look', 'forward', 'deliveri', 'hungri', 'need', 'someth', 'calm', 'crave', 'noodl', 'hit', 'spot', 'continu', 'order', 'long', 'time', 'come']\n",
      "**********************************\n",
      "['mapl', 'bake', 'bean', 'disappoint', 'mapl', 'flavor', 'besid', 'wateri', 'product', 'cook', 'long', 'enough', 'bean', 'still', 'hard', 'would', 'buy', 'could', 'recommend', 'anyon']\n"
     ]
    }
   ],
   "source": [
    "from gensim.models import Word2Vec\n",
    "from gensim.models import KeyedVectors\n",
    "\n",
    "#Train your own word2vec model using your own text corpus of train data\n",
    "import gensim\n",
    "i=0\n",
    "list_of_sent_test=[]\n",
    "for sent in X_test_avgw2v:\n",
    "    list_of_sent_test.append(sent.split())\n",
    "print(list_of_sent_test[0])\n",
    "print('**********************************')\n",
    "print(list_of_sent_test[1])"
   ]
  },
  {
   "cell_type": "code",
   "execution_count": 48,
   "metadata": {},
   "outputs": [
    {
     "name": "stdout",
     "output_type": "stream",
     "text": [
      "number of words that occured 5 times 7459\n"
     ]
    }
   ],
   "source": [
    "#min_count=5 considers only the words occur atleast 5 times\n",
    "w2v_model=Word2Vec(list_of_sent_test,min_count=5,size=50,workers=4)\n",
    "words=list(w2v_model.wv.vocab)\n",
    "print(\"number of words that occured 5 times\",len(words))"
   ]
  },
  {
   "cell_type": "code",
   "execution_count": 49,
   "metadata": {},
   "outputs": [
    {
     "name": "stdout",
     "output_type": "stream",
     "text": [
      "number of words that occured minimum 5 times 7459\n",
      "sample words ['love', 'noodl', 'look', 'forward', 'deliveri', 'hungri', 'need', 'someth', 'calm', 'crave', 'hit', 'spot', 'continu', 'order', 'long', 'time', 'come', 'mapl', 'bake', 'bean', 'disappoint', 'flavor', 'besid', 'wateri', 'product', 'cook', 'enough', 'still', 'hard', 'would', 'buy', 'could', 'recommend', 'anyon', 'toy', 'save', 'furnitur', 'instead', 'puppi', 'chew', 'usual', 'tire', 'day', 'one', 'month', 'first', 'goe', 'morn', 'last', 'play']\n"
     ]
    }
   ],
   "source": [
    "w2v_words = list(w2v_model.wv.vocab)\n",
    "print(\"number of words that occured minimum 5 times\",len(w2v_words))\n",
    "print(\"sample words\",w2v_words[0:50])"
   ]
  },
  {
   "cell_type": "code",
   "execution_count": 50,
   "metadata": {},
   "outputs": [
    {
     "name": "stderr",
     "output_type": "stream",
     "text": [
      "100%|███████████████████████████████████| 30000/30000 [01:46<00:00, 282.28it/s]\n"
     ]
    },
    {
     "name": "stdout",
     "output_type": "stream",
     "text": [
      "30000\n",
      "50\n"
     ]
    }
   ],
   "source": [
    "#average word2vec\n",
    "#compute average word2vec for each review\n",
    "sent_vectors_test=[];# the avg-w2v for each sentence/review is stored\n",
    "for sent in tqdm(list_of_sent_test): #for each review/sentence\n",
    "    sent_vec=np.zeros(50) #as word vectors are of zero length\n",
    "    cnt_words=0  #number of words with a valid vector in the review/sentence\n",
    "    for word in sent: #for each word in a review/sentence\n",
    "        if word in w2v_words:\n",
    "            vec=w2v_model.wv[word]\n",
    "            sent_vec += vec\n",
    "            cnt_words += 1\n",
    "        if cnt_words != 0:\n",
    "            sent_vec /= cnt_words\n",
    "    sent_vectors_test.append(sent_vec)\n",
    "print(len(sent_vectors_test))\n",
    "print(len(sent_vectors_test[0]))"
   ]
  },
  {
   "cell_type": "code",
   "execution_count": 51,
   "metadata": {},
   "outputs": [
    {
     "data": {
      "text/plain": [
       "70000"
      ]
     },
     "execution_count": 51,
     "metadata": {},
     "output_type": "execute_result"
    }
   ],
   "source": [
    "len(sent_vectors_train)"
   ]
  },
  {
   "cell_type": "code",
   "execution_count": 52,
   "metadata": {},
   "outputs": [
    {
     "data": {
      "text/plain": [
       "30000"
      ]
     },
     "execution_count": 52,
     "metadata": {},
     "output_type": "execute_result"
    }
   ],
   "source": [
    "len(sent_vectors_test)"
   ]
  },
  {
   "cell_type": "code",
   "execution_count": 53,
   "metadata": {},
   "outputs": [
    {
     "name": "stdout",
     "output_type": "stream",
     "text": [
      "\n",
      "The optimal number of neighbors is 25\n"
     ]
    },
    {
     "data": {
      "image/png": "[encoded data removed]",
      "text/plain": [
       "<Figure size 432x288 with 1 Axes>"
      ]
     },
     "metadata": {},
     "output_type": "display_data"
    },
    {
     "name": "stdout",
     "output_type": "stream",
     "text": [
      "the misclassification error for each k value is: [0.223 0.181 0.166 0.16  0.157 0.153 0.153 0.152 0.152 0.151 0.151 0.151\n",
      " 0.151 0.151 0.151 0.151 0.151 0.151 0.151 0.151]\n"
     ]
    }
   ],
   "source": [
    "X_train_avgw2v=sent_vectors_train\n",
    "X_test_avgw2v=sent_vectors_test\n",
    "\n",
    "#finding the optimal k by 10 fold cross validation\n",
    "myList = list(range(0,40))\n",
    "optimal_k_avgw2v = optimal_k_brute(X_train_avgw2v, y_train_avgw2v, myList)"
   ]
  },
  {
   "cell_type": "markdown",
   "metadata": {},
   "source": [
    "Misclassification error is decreasing for each k value increasing and the optimal k value = 25"
   ]
  },
  {
   "cell_type": "code",
   "execution_count": 56,
   "metadata": {},
   "outputs": [],
   "source": [
    "#instantiate learning model k = optimal_k\n",
    "knn=KNeighborsClassifier(n_neighbors=optimal_k_avgw2v)\n",
    "knn.fit(X_train_avgw2v, y_train_avgw2v) #fitting the model\n",
    "pred = knn.predict(X_test_avgw2v) #predicting the response"
   ]
  },
  {
   "cell_type": "code",
   "execution_count": 57,
   "metadata": {},
   "outputs": [
    {
     "name": "stdout",
     "output_type": "stream",
     "text": [
      "Train accuracy 0.8524571428571428\n",
      "Train error  0.1475428571428572\n"
     ]
    }
   ],
   "source": [
    "#Accuracy on train data\n",
    "train_acc_score = knn.score(X_train_avgw2v,y_train_avgw2v)\n",
    "print(\"Train accuracy\",train_acc_score)\n",
    "\n",
    "#Error on Train data\n",
    "train_error = 1-(train_acc_score)\n",
    "print(\"Train error \",train_error)"
   ]
  },
  {
   "cell_type": "code",
   "execution_count": 58,
   "metadata": {},
   "outputs": [
    {
     "name": "stdout",
     "output_type": "stream",
     "text": [
      "Accuracy for KNN model with Tfidf Average Word2vector is 0.844\n"
     ]
    }
   ],
   "source": [
    "#Evaluate accuracy on test data\n",
    "print(\"Accuracy for KNN model with Tfidf Average Word2vector is\", round(accuracy_score(y_test_avgw2v, pred),3))"
   ]
  },
  {
   "cell_type": "code",
   "execution_count": 60,
   "metadata": {},
   "outputs": [
    {
     "data": {
      "image/png": "[encoded data removed]",
      "text/plain": [
       "<Figure size 432x288 with 2 Axes>"
      ]
     },
     "metadata": {},
     "output_type": "display_data"
    }
   ],
   "source": [
    "#Confusion Matrix\n",
    "cm = confusion_matrix(y_test_avgw2v, pred)\n",
    "\n",
    "#Plotting confusion matrix\n",
    "class_label = [\"negative\",\"positive\"]\n",
    "dataframe_cm = pd.DataFrame(cm, index=class_label, columns=class_label)\n",
    "sns.heatmap(dataframe_cm, annot = True, fmt = \"d\")\n",
    "plt.title(\"Confusion Matrix\")\n",
    "plt.xlabel(\"Predicted values\")\n",
    "plt.ylabel(\"Actual values\")\n",
    "plt.show()"
   ]
  },
  {
   "cell_type": "markdown",
   "metadata": {},
   "source": [
    "In above confusion matrix tn(true negative)=298,tp(true positive)=25026,fn(false negative)=4397,fp(false positive)=279.As it is shown in classification report overall occuracy(correctly classified points)=(tp+tn)/total=(25026+298)/30000 = ~84% overall error rate/misclassification rate=(fn+fp)/total=(4397+279)/30000 = ~15%"
   ]
  },
  {
   "cell_type": "code",
   "execution_count": 61,
   "metadata": {},
   "outputs": [
    {
     "name": "stdout",
     "output_type": "stream",
     "text": [
      "classification report\n",
      "*********************\n",
      "             precision    recall  f1-score   support\n",
      "\n",
      "          0       0.52      0.06      0.11      4695\n",
      "          1       0.85      0.99      0.91     25305\n",
      "\n",
      "avg / total       0.80      0.84      0.79     30000\n",
      "\n"
     ]
    }
   ],
   "source": [
    "#Classification report\n",
    "print(\"classification report\")\n",
    "print(\"*********************\")\n",
    "print(classification_report(y_test_avgw2v,pred))"
   ]
  },
  {
   "cell_type": "markdown",
   "metadata": {},
   "source": [
    "Observed that the accuracy for KNN model with TF-IDF Average Word2Vec is 84.4%"
   ]
  },
  {
   "cell_type": "markdown",
   "metadata": {},
   "source": [
    "# Feature generation techniques to convert text to vector\n",
    "Applying KNN with TF-IDF Weighted Word2vec"
   ]
  },
  {
   "cell_type": "code",
   "execution_count": 68,
   "metadata": {},
   "outputs": [
    {
     "name": "stdout",
     "output_type": "stream",
     "text": [
      "shape of X: (100000,)\n",
      "shape of y: (100000,)\n",
      "(70000,) (70000,) (30000,)\n"
     ]
    }
   ],
   "source": [
    "#splitting data into train and test where 70% data used for train model and 30% for test model\n",
    "X = final_100k['CleanedText']\n",
    "print(\"shape of X:\",X.shape)\n",
    "y = final_100k['Score']\n",
    "print(\"shape of y:\",y.shape)\n",
    "X_train_wtdw2v, X_test_wtdw2v, y_train_wtdw2v, y_test_wtdw2v = train_test_split(X,y,test_size=0.3,random_state=0)\n",
    "print(X_train_wtdw2v.shape, y_train_wtdw2v.shape, X_test_wtdw2v.shape)"
   ]
  },
  {
   "cell_type": "code",
   "execution_count": 69,
   "metadata": {},
   "outputs": [],
   "source": [
    "model = TfidfVectorizer()\n",
    "X_train_wtdw2v = model.fit_transform(X_train_wtdw2v)\n",
    "#we are converting a dictionary with word as a key, and the idf as a value\n",
    "dictionary = dict(zip(model.get_feature_names(), list(model.idf_)))"
   ]
  },
  {
   "cell_type": "code",
   "execution_count": 70,
   "metadata": {},
   "outputs": [],
   "source": [
    "model = TfidfVectorizer()\n",
    "X_test_wtdw2v = model.fit_transform(X_test_wtdw2v)\n",
    "#we are converting a dictionary with word as a key, and the idf as a value\n",
    "dictionary = dict(zip(model.get_feature_names(), list(model.idf_)))"
   ]
  },
  {
   "cell_type": "code",
   "execution_count": 72,
   "metadata": {},
   "outputs": [
    {
     "name": "stderr",
     "output_type": "stream",
     "text": [
      "100%|███████████████████████████████████| 70000/70000 [03:49<00:00, 304.65it/s]\n"
     ]
    },
    {
     "name": "stdout",
     "output_type": "stream",
     "text": [
      "70000\n",
      "50\n"
     ]
    }
   ],
   "source": [
    "#TF-IDF weighted word2vec\n",
    "tfidf_feat=model.get_feature_names()\n",
    "#tfidf words/col-names\n",
    "#final_tf_idf is the sparse matrix with row=sentence,col=word and cell_val=tfidf\n",
    "tfidf_sent_vectors_train=[]\n",
    "row=0\n",
    "for sent in tqdm(list_of_sent_train): #for each review/sentence\n",
    "    sent_vec=np.zeros(50) #as word vectors are of zero length\n",
    "    weight_sum=0  #num of words with a valid vector in the sentence/review\n",
    "    for word in sent:   #for each word in a review/sentence\n",
    "        if word in w2v_words:  \n",
    "            vec=w2v_model.wv[word]#to reduce the computation we are\n",
    "            tf_idf=dictionary[word]*(sent.count(word)/len(sent))#dictionary[word] = idf value of word in whole corpus\n",
    "            sent_vec += (vec*tf_idf) #sent.count(word)= tf values of word in this review\n",
    "            weight_sum += tf_idf\n",
    "    if weight_sum !=0:\n",
    "        sent_vec /= weight_sum\n",
    "    tfidf_sent_vectors_train.append(sent_vec)\n",
    "    row +=1\n",
    "print(len(tfidf_sent_vectors_train))\n",
    "print(len(tfidf_sent_vectors_train[0]))"
   ]
  },
  {
   "cell_type": "code",
   "execution_count": 73,
   "metadata": {},
   "outputs": [
    {
     "name": "stderr",
     "output_type": "stream",
     "text": [
      "100%|███████████████████████████████████| 30000/30000 [01:44<00:00, 287.46it/s]\n"
     ]
    },
    {
     "name": "stdout",
     "output_type": "stream",
     "text": [
      "30000\n",
      "50\n"
     ]
    }
   ],
   "source": [
    "#TF-IDF weighted word2vec\n",
    "tfidf_feat=model.get_feature_names()\n",
    "#tfidf words/col-names\n",
    "#final_tf_idf is the sparse matrix with row=sentence,col=word and cell_val=tfidf\n",
    "tfidf_sent_vectors_test=[]\n",
    "row=0\n",
    "for sent in tqdm(list_of_sent_test): #for each review/sentence\n",
    "    sent_vec=np.zeros(50) #as word vectors are of zero length\n",
    "    weight_sum=0  #num of words with a valid vector in the sentence/review\n",
    "    for word in sent:   #for each word in a review/sentence\n",
    "        if word in w2v_words:  \n",
    "            vec=w2v_model.wv[word]#to reduce the computation we are\n",
    "            tf_idf=dictionary[word]*(sent.count(word)/len(sent))#dictionary[word] = idf value of word in whole corpus\n",
    "            sent_vec += (vec*tf_idf) #sent.count(word)= tf values of word in this review\n",
    "            weight_sum += tf_idf\n",
    "    if weight_sum !=0:\n",
    "        sent_vec /= weight_sum\n",
    "    tfidf_sent_vectors_test.append(sent_vec)\n",
    "    row +=1\n",
    "print(len(tfidf_sent_vectors_test))\n",
    "print(len(tfidf_sent_vectors_test[0]))"
   ]
  },
  {
   "cell_type": "code",
   "execution_count": 74,
   "metadata": {},
   "outputs": [
    {
     "name": "stdout",
     "output_type": "stream",
     "text": [
      "\n",
      "The optimal number of neighbors is 15\n"
     ]
    },
    {
     "data": {
      "image/png": "[encoded data removed]",
      "text/plain": [
       "<Figure size 432x288 with 1 Axes>"
      ]
     },
     "metadata": {},
     "output_type": "display_data"
    },
    {
     "name": "stdout",
     "output_type": "stream",
     "text": [
      "the misclassification error for each k value is: [0.189 0.156 0.145 0.141 0.138 0.137 0.137 0.136 0.136 0.136 0.136 0.137\n",
      " 0.137 0.138 0.138 0.138 0.138 0.138 0.138 0.139]\n"
     ]
    }
   ],
   "source": [
    "X_train_wtdw2v=tfidf_sent_vectors_train\n",
    "X_test_wtdw2v=tfidf_sent_vectors_test\n",
    "\n",
    "#finding the optimal k by 10 fold cross validation\n",
    "myList = list(range(0,40))\n",
    "optimal_k_wtdw2v = optimal_k_brute(X_train_wtdw2v, y_train_wtdw2v, myList)"
   ]
  },
  {
   "cell_type": "markdown",
   "metadata": {},
   "source": [
    "Misclassification error is decreasing for each k value increasing and the optimal k value = 15"
   ]
  },
  {
   "cell_type": "code",
   "execution_count": 75,
   "metadata": {},
   "outputs": [],
   "source": [
    "#instantiate learning model k = optimal_k\n",
    "knn=KNeighborsClassifier(n_neighbors=optimal_k_wtdw2v)\n",
    "knn.fit(X_train_wtdw2v, y_train_wtdw2v) #fitting the model\n",
    "pred = knn.predict(X_test_wtdw2v) #predicting the response"
   ]
  },
  {
   "cell_type": "code",
   "execution_count": 76,
   "metadata": {},
   "outputs": [
    {
     "name": "stdout",
     "output_type": "stream",
     "text": [
      "Train accuracy 0.8754142857142857\n",
      "Train error  0.1245857142857143\n"
     ]
    }
   ],
   "source": [
    "#Accuracy on train data\n",
    "train_acc_score = knn.score(X_train_wtdw2v,y_train_wtdw2v)\n",
    "print(\"Train accuracy\",train_acc_score)\n",
    "\n",
    "#Error on Train data\n",
    "train_error = 1-(train_acc_score)\n",
    "print(\"Train error \",train_error)"
   ]
  },
  {
   "cell_type": "code",
   "execution_count": 77,
   "metadata": {},
   "outputs": [
    {
     "name": "stdout",
     "output_type": "stream",
     "text": [
      "Accuracy for KNN model with Tfidf Weighted Word2vector is 0.866\n"
     ]
    }
   ],
   "source": [
    "#Evaluate accuracy on test data\n",
    "print(\"Accuracy for KNN model with Tfidf Weighted Word2vector is\", round(accuracy_score(y_test_wtdw2v, pred),3))"
   ]
  },
  {
   "cell_type": "code",
   "execution_count": 79,
   "metadata": {},
   "outputs": [
    {
     "data": {
      "image/png": "[encoded data removed]",
      "text/plain": [
       "<Figure size 432x288 with 2 Axes>"
      ]
     },
     "metadata": {},
     "output_type": "display_data"
    }
   ],
   "source": [
    "#Confusion Matrix\n",
    "cm = confusion_matrix(y_test_wtdw2v, pred)\n",
    "\n",
    "#Plotting confusion matrix\n",
    "class_label = [\"negative\",\"positive\"]\n",
    "dataframe_cm = pd.DataFrame(cm, index=class_label, columns=class_label)\n",
    "sns.heatmap(dataframe_cm, annot = True, fmt = \"d\")\n",
    "plt.title(\"Confusion Matrix\")\n",
    "plt.xlabel(\"Predicted values\")\n",
    "plt.ylabel(\"Actual values\")\n",
    "plt.show()"
   ]
  },
  {
   "cell_type": "markdown",
   "metadata": {},
   "source": [
    "In above confusion matrix tn(true negative)=1166,tp(true positive)=24799,fn(false negative)=3529,fp(false positive)=506.As it is shown in classification report overall occuracy(correctly classified points)=(tp+tn)/total=(24799+1166)/30000 = ~86.5% overall error rate/misclassification rate=(fn+fp)/total=(3529+506)/30000 = ~13.4%"
   ]
  },
  {
   "cell_type": "code",
   "execution_count": 80,
   "metadata": {},
   "outputs": [
    {
     "name": "stdout",
     "output_type": "stream",
     "text": [
      "classification report\n",
      "*********************\n",
      "             precision    recall  f1-score   support\n",
      "\n",
      "          0       0.70      0.25      0.37      4695\n",
      "          1       0.88      0.98      0.92     25305\n",
      "\n",
      "avg / total       0.85      0.87      0.84     30000\n",
      "\n"
     ]
    }
   ],
   "source": [
    "#Classification report\n",
    "print(\"classification report\")\n",
    "print(\"*********************\")\n",
    "print(classification_report(y_test_wtdw2v,pred))"
   ]
  },
  {
   "cell_type": "markdown",
   "metadata": {},
   "source": [
    "Observed that the accuracy for KNN model with TF-IDF Weighted Word2vec is 86.5%"
   ]
  },
  {
   "cell_type": "code",
   "execution_count": 44,
   "metadata": {},
   "outputs": [
    {
     "name": "stdout",
     "output_type": "stream",
     "text": [
      "+--------------------------+-------+-----------+-----------------------+\n",
      "|        Vectorizer        | Model | Optimal K | Accuracy on Test Data |\n",
      "+--------------------------+-------+-----------+-----------------------+\n",
      "|       Bag Of Words       | Brute |     15    |          83%          |\n",
      "|          TF-IDF          | Brute |     27    |          83%          |\n",
      "|     Average Word2vec     | Brute |     25    |          84%          |\n",
      "| TF-IDF Weighted Word2vec | Brute |     15    |          86%          |\n",
      "+--------------------------+-------+-----------+-----------------------+\n"
     ]
    }
   ],
   "source": [
    "from prettytable import PrettyTable\n",
    "x = PrettyTable()\n",
    "x.add_column(\"Vectorizer\",[\"Bag Of Words\",\"TF-IDF\",\"Average Word2vec\",\"TF-IDF Weighted Word2vec\"])\n",
    "x.add_column(\"Model\",['Brute','Brute','Brute','Brute'])\n",
    "#x.add_column(\"Train Accuracy\",['86%','86%','85%','87%'])\n",
    "#x.add_column(\"Train Error\",['13%','13%','14%','12%'])\n",
    "x.add_column(\"Optimal K\",[15,27,25,15])\n",
    "x.add_column(\"Accuracy on Test Data\",['83%','83%','84%','86%'])\n",
    "print(x)"
   ]
  },
  {
   "cell_type": "markdown",
   "metadata": {},
   "source": [
    "Table shows for all four models Optimal value of k and test accuracy."
   ]
  },
  {
   "cell_type": "markdown",
   "metadata": {},
   "source": [
    "Observation:\n",
    "    By comparing the accuracy of all the four feature generation techniques KNN model with TF-IDF Weighted Word2vec gives 86% of accuracy, which is the best accuracy to predict the polarity of reviews among all the models."
   ]
  }
 ],
 "metadata": {
  "kernelspec": {
   "display_name": "Python 3",
   "language": "python",
   "name": "python3"
  },
  "language_info": {
   "codemirror_mode": {
    "name": "ipython",
    "version": 3
   },
   "file_extension": ".py",
   "mimetype": "text/x-python",
   "name": "python",
   "nbconvert_exporter": "python",
   "pygments_lexer": "ipython3",
   "version": "3.6.5"
  }
 },
 "nbformat": 4,
 "nbformat_minor": 2
}
